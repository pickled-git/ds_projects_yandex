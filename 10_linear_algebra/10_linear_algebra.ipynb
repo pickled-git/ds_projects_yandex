{
 "cells": [
  {
   "cell_type": "markdown",
   "metadata": {
    "toc": true
   },
   "source": [
    "<h1>Содержание<span class=\"tocSkip\"></span></h1>\n",
    "<div class=\"toc\"><ul class=\"toc-item\"><li><span><a href=\"#Загрузка-данных\" data-toc-modified-id=\"Загрузка-данных-1\"><span class=\"toc-item-num\">1&nbsp;&nbsp;</span>Загрузка данных</a></span></li><li><span><a href=\"#Умножение-матриц\" data-toc-modified-id=\"Умножение-матриц-2\"><span class=\"toc-item-num\">2&nbsp;&nbsp;</span>Умножение матриц</a></span></li><li><span><a href=\"#Алгоритм-преобразования\" data-toc-modified-id=\"Алгоритм-преобразования-3\"><span class=\"toc-item-num\">3&nbsp;&nbsp;</span>Алгоритм преобразования</a></span></li><li><span><a href=\"#Проверка-алгоритма\" data-toc-modified-id=\"Проверка-алгоритма-4\"><span class=\"toc-item-num\">4&nbsp;&nbsp;</span>Проверка алгоритма</a></span></li><li><span><a href=\"#Чек-лист-проверки\" data-toc-modified-id=\"Чек-лист-проверки-5\"><span class=\"toc-item-num\">5&nbsp;&nbsp;</span>Чек-лист проверки</a></span></li></ul></div>"
   ]
  },
  {
   "cell_type": "markdown",
   "metadata": {},
   "source": [
    "# Защита персональных данных клиентов"
   ]
  },
  {
   "cell_type": "markdown",
   "metadata": {},
   "source": [
    "Вам нужно защитить данные клиентов страховой компании «Хоть потоп». Разработайте такой метод преобразования данных, чтобы по ним было сложно восстановить персональную информацию. Обоснуйте корректность его работы.\n",
    "\n",
    "Нужно защитить данные, чтобы при преобразовании качество моделей машинного обучения не ухудшилось. Подбирать наилучшую модель не требуется."
   ]
  },
  {
   "cell_type": "markdown",
   "metadata": {},
   "source": [
    "<div class=\"alert alert-block alert-success\">\n",
    "<b>Комментарий ревьюера №1</b> ✅\n",
    "    \n",
    "Хорошее начало! С содержанием ориентироваться в проекте намного проще👍 Можно добавить описание данных\n",
    "</div>"
   ]
  },
  {
   "cell_type": "markdown",
   "metadata": {},
   "source": [
    "## Загрузка данных"
   ]
  },
  {
   "cell_type": "markdown",
   "metadata": {},
   "source": [
    "Импортируем необходимые библиотеки и загрузим данные из CSV-файла:"
   ]
  },
  {
   "cell_type": "code",
   "execution_count": 1,
   "metadata": {},
   "outputs": [],
   "source": [
    "import pandas as pd\n",
    "import matplotlib.pyplot as plt\n",
    "import seaborn as sns\n",
    "import numpy as np\n",
    "from sklearn.linear_model import LinearRegression\n",
    "from sklearn.metrics import r2_score\n",
    "from sklearn.model_selection import train_test_split"
   ]
  },
  {
   "cell_type": "code",
   "execution_count": 2,
   "metadata": {},
   "outputs": [],
   "source": [
    "try:\n",
    "    df = pd.read_csv('/datasets/insurance.csv')\n",
    "except:\n",
    "    df = pd.read_csv('insurance.csv')"
   ]
  },
  {
   "cell_type": "markdown",
   "metadata": {},
   "source": [
    "Теперь изучим датасет, используя методы .head() и .info(). Это позволит получить общее представление о данных, проверить типы данных и выявить возможные пропущенные значения."
   ]
  },
  {
   "cell_type": "code",
   "execution_count": 3,
   "metadata": {},
   "outputs": [
    {
     "data": {
      "text/html": [
       "<div>\n",
       "<style scoped>\n",
       "    .dataframe tbody tr th:only-of-type {\n",
       "        vertical-align: middle;\n",
       "    }\n",
       "\n",
       "    .dataframe tbody tr th {\n",
       "        vertical-align: top;\n",
       "    }\n",
       "\n",
       "    .dataframe thead th {\n",
       "        text-align: right;\n",
       "    }\n",
       "</style>\n",
       "<table border=\"1\" class=\"dataframe\">\n",
       "  <thead>\n",
       "    <tr style=\"text-align: right;\">\n",
       "      <th></th>\n",
       "      <th>Пол</th>\n",
       "      <th>Возраст</th>\n",
       "      <th>Зарплата</th>\n",
       "      <th>Члены семьи</th>\n",
       "      <th>Страховые выплаты</th>\n",
       "    </tr>\n",
       "  </thead>\n",
       "  <tbody>\n",
       "    <tr>\n",
       "      <th>0</th>\n",
       "      <td>1</td>\n",
       "      <td>41.0</td>\n",
       "      <td>49600.0</td>\n",
       "      <td>1</td>\n",
       "      <td>0</td>\n",
       "    </tr>\n",
       "    <tr>\n",
       "      <th>1</th>\n",
       "      <td>0</td>\n",
       "      <td>46.0</td>\n",
       "      <td>38000.0</td>\n",
       "      <td>1</td>\n",
       "      <td>1</td>\n",
       "    </tr>\n",
       "    <tr>\n",
       "      <th>2</th>\n",
       "      <td>0</td>\n",
       "      <td>29.0</td>\n",
       "      <td>21000.0</td>\n",
       "      <td>0</td>\n",
       "      <td>0</td>\n",
       "    </tr>\n",
       "    <tr>\n",
       "      <th>3</th>\n",
       "      <td>0</td>\n",
       "      <td>21.0</td>\n",
       "      <td>41700.0</td>\n",
       "      <td>2</td>\n",
       "      <td>0</td>\n",
       "    </tr>\n",
       "    <tr>\n",
       "      <th>4</th>\n",
       "      <td>1</td>\n",
       "      <td>28.0</td>\n",
       "      <td>26100.0</td>\n",
       "      <td>0</td>\n",
       "      <td>0</td>\n",
       "    </tr>\n",
       "  </tbody>\n",
       "</table>\n",
       "</div>"
      ],
      "text/plain": [
       "   Пол  Возраст  Зарплата  Члены семьи  Страховые выплаты\n",
       "0    1     41.0   49600.0            1                  0\n",
       "1    0     46.0   38000.0            1                  1\n",
       "2    0     29.0   21000.0            0                  0\n",
       "3    0     21.0   41700.0            2                  0\n",
       "4    1     28.0   26100.0            0                  0"
      ]
     },
     "metadata": {},
     "output_type": "display_data"
    },
    {
     "name": "stdout",
     "output_type": "stream",
     "text": [
      "<class 'pandas.core.frame.DataFrame'>\n",
      "RangeIndex: 5000 entries, 0 to 4999\n",
      "Data columns (total 5 columns):\n",
      " #   Column             Non-Null Count  Dtype  \n",
      "---  ------             --------------  -----  \n",
      " 0   Пол                5000 non-null   int64  \n",
      " 1   Возраст            5000 non-null   float64\n",
      " 2   Зарплата           5000 non-null   float64\n",
      " 3   Члены семьи        5000 non-null   int64  \n",
      " 4   Страховые выплаты  5000 non-null   int64  \n",
      "dtypes: float64(2), int64(3)\n",
      "memory usage: 195.4 KB\n"
     ]
    }
   ],
   "source": [
    "display(df.head())\n",
    "df.info()"
   ]
  },
  {
   "cell_type": "markdown",
   "metadata": {},
   "source": [
    "Пропущенных значений в датасете нет.\n",
    "\n",
    "Набор данных содержит:\n",
    "- Признаки: пол, возраст и зарплата застрахованного, количество членов его семьи.\n",
    "- Целевой признак: количество страховых выплат клиенту за последние 5 лет.\n",
    "\n",
    "Приведем столбцы `Возраст` и `Зарплата` к типу данных `int`."
   ]
  },
  {
   "cell_type": "code",
   "execution_count": 4,
   "metadata": {},
   "outputs": [],
   "source": [
    "df['Возраст'] = df['Возраст'].astype('int')\n",
    "df['Зарплата'] = df['Зарплата'].astype('int')"
   ]
  },
  {
   "cell_type": "markdown",
   "metadata": {},
   "source": [
    "Проверим наличие дубликатов:"
   ]
  },
  {
   "cell_type": "code",
   "execution_count": 5,
   "metadata": {},
   "outputs": [
    {
     "name": "stdout",
     "output_type": "stream",
     "text": [
      "Количество дубликатов: 153\n"
     ]
    }
   ],
   "source": [
    "print(\"Количество дубликатов:\", df.duplicated().sum())\n",
    "df = df.drop_duplicates().reset_index(drop=True)"
   ]
  },
  {
   "cell_type": "markdown",
   "metadata": {
    "id": "G7FtPJoCs5vr"
   },
   "source": [
    "<div class=\"alert alert-success\">\n",
    "<b>Комментарий ревьюера №1</b> ✅\n",
    "    \n",
    "Так как у нас нет id клиента и у нас мало столбцов и они достаточно общие, поэтому вполне возможно, что это не дубликаты, а просто совпадающие данные.\n",
    "</div>"
   ]
  },
  {
   "cell_type": "markdown",
   "metadata": {},
   "source": [
    "Статистический анализ данных:"
   ]
  },
  {
   "cell_type": "code",
   "execution_count": 6,
   "metadata": {},
   "outputs": [
    {
     "data": {
      "text/html": [
       "<div>\n",
       "<style scoped>\n",
       "    .dataframe tbody tr th:only-of-type {\n",
       "        vertical-align: middle;\n",
       "    }\n",
       "\n",
       "    .dataframe tbody tr th {\n",
       "        vertical-align: top;\n",
       "    }\n",
       "\n",
       "    .dataframe thead th {\n",
       "        text-align: right;\n",
       "    }\n",
       "</style>\n",
       "<table border=\"1\" class=\"dataframe\">\n",
       "  <thead>\n",
       "    <tr style=\"text-align: right;\">\n",
       "      <th></th>\n",
       "      <th>Пол</th>\n",
       "      <th>Возраст</th>\n",
       "      <th>Зарплата</th>\n",
       "      <th>Члены семьи</th>\n",
       "      <th>Страховые выплаты</th>\n",
       "    </tr>\n",
       "  </thead>\n",
       "  <tbody>\n",
       "    <tr>\n",
       "      <th>count</th>\n",
       "      <td>4847.000000</td>\n",
       "      <td>4847.000000</td>\n",
       "      <td>4847.000000</td>\n",
       "      <td>4847.000000</td>\n",
       "      <td>4847.000000</td>\n",
       "    </tr>\n",
       "    <tr>\n",
       "      <th>mean</th>\n",
       "      <td>0.498453</td>\n",
       "      <td>31.023932</td>\n",
       "      <td>39895.811223</td>\n",
       "      <td>1.203425</td>\n",
       "      <td>0.152259</td>\n",
       "    </tr>\n",
       "    <tr>\n",
       "      <th>std</th>\n",
       "      <td>0.500049</td>\n",
       "      <td>8.487995</td>\n",
       "      <td>9972.952441</td>\n",
       "      <td>1.098664</td>\n",
       "      <td>0.468934</td>\n",
       "    </tr>\n",
       "    <tr>\n",
       "      <th>min</th>\n",
       "      <td>0.000000</td>\n",
       "      <td>18.000000</td>\n",
       "      <td>5300.000000</td>\n",
       "      <td>0.000000</td>\n",
       "      <td>0.000000</td>\n",
       "    </tr>\n",
       "    <tr>\n",
       "      <th>25%</th>\n",
       "      <td>0.000000</td>\n",
       "      <td>24.000000</td>\n",
       "      <td>33200.000000</td>\n",
       "      <td>0.000000</td>\n",
       "      <td>0.000000</td>\n",
       "    </tr>\n",
       "    <tr>\n",
       "      <th>50%</th>\n",
       "      <td>0.000000</td>\n",
       "      <td>30.000000</td>\n",
       "      <td>40200.000000</td>\n",
       "      <td>1.000000</td>\n",
       "      <td>0.000000</td>\n",
       "    </tr>\n",
       "    <tr>\n",
       "      <th>75%</th>\n",
       "      <td>1.000000</td>\n",
       "      <td>37.000000</td>\n",
       "      <td>46600.000000</td>\n",
       "      <td>2.000000</td>\n",
       "      <td>0.000000</td>\n",
       "    </tr>\n",
       "    <tr>\n",
       "      <th>max</th>\n",
       "      <td>1.000000</td>\n",
       "      <td>65.000000</td>\n",
       "      <td>79000.000000</td>\n",
       "      <td>6.000000</td>\n",
       "      <td>5.000000</td>\n",
       "    </tr>\n",
       "  </tbody>\n",
       "</table>\n",
       "</div>"
      ],
      "text/plain": [
       "               Пол      Возраст      Зарплата  Члены семьи  Страховые выплаты\n",
       "count  4847.000000  4847.000000   4847.000000  4847.000000        4847.000000\n",
       "mean      0.498453    31.023932  39895.811223     1.203425           0.152259\n",
       "std       0.500049     8.487995   9972.952441     1.098664           0.468934\n",
       "min       0.000000    18.000000   5300.000000     0.000000           0.000000\n",
       "25%       0.000000    24.000000  33200.000000     0.000000           0.000000\n",
       "50%       0.000000    30.000000  40200.000000     1.000000           0.000000\n",
       "75%       1.000000    37.000000  46600.000000     2.000000           0.000000\n",
       "max       1.000000    65.000000  79000.000000     6.000000           5.000000"
      ]
     },
     "execution_count": 6,
     "metadata": {},
     "output_type": "execute_result"
    }
   ],
   "source": [
    "df.describe()"
   ]
  },
  {
   "cell_type": "markdown",
   "metadata": {},
   "source": [
    "На основе статистического анализа данных, можно сделать следующие выводы:\n",
    "\n",
    "1. Признак \"Пол\" - это бинарный признак с двумя значениями (0 и 1), где среднее значение составляет примерно 0.5, что указывает на равномерное распределение между двумя категориями.\n",
    "\n",
    "2. Признак \"Возраст\" имеет среднее значение 31 год, со стандартным отклонением 8.49 лет. Минимальный возраст клиентов составляет 18 лет, а максимальный - 65 лет. Вероятно, распределение возраста клиентов имеет нормальное или скошенное вправо распределение.\n",
    "\n",
    "3. Признак \"Зарплата\" имеет среднее значение 39,896 с стандартным отклонением 9,973. Зарплаты варьируются от 5,300 до 79,000. Распределение зарплат может быть скошено влево или вправо, и это можно проверить с помощью гистограммы.\n",
    "\n",
    "4. Признак \"Члены семьи\" имеет среднее значение 1.2 с стандартным отклонением 1.1. Количество членов семьи варьируется от 0 до 6. Это может указывать на неравномерное распределение членов семьи среди клиентов.\n",
    "\n",
    "5. Целевой признак \"Страховые выплаты\" имеет среднее значение 0.152 с стандартным отклонением 0.469. Количество страховых выплат варьируется от 0 до 5. Это указывает на сильное смещение данных в сторону нулевых выплат, что может говорить о неравномерности распределения выплат среди клиентов."
   ]
  },
  {
   "cell_type": "markdown",
   "metadata": {},
   "source": [
    "Построим графики для визуализации данных и выявления возможных закономерностей или зависимостей:\n",
    "- Гистограммы распределения признаков"
   ]
  },
  {
   "cell_type": "code",
   "execution_count": 7,
   "metadata": {},
   "outputs": [
    {
     "data": {
      "image/png": "[encoded data removed]",
      "text/plain": [
       "<Figure size 576x288 with 1 Axes>"
      ]
     },
     "metadata": {
      "needs_background": "light"
     },
     "output_type": "display_data"
    },
    {
     "data": {
      "image/png": "[encoded data removed]",
      "text/plain": [
       "<Figure size 576x288 with 1 Axes>"
      ]
     },
     "metadata": {
      "needs_background": "light"
     },
     "output_type": "display_data"
    },
    {
     "data": {
      "image/png": "[encoded data removed]",
      "text/plain": [
       "<Figure size 576x288 with 1 Axes>"
      ]
     },
     "metadata": {
      "needs_background": "light"
     },
     "output_type": "display_data"
    },
    {
     "data": {
      "image/png": "[encoded data removed]",
      "text/plain": [
       "<Figure size 576x288 with 1 Axes>"
      ]
     },
     "metadata": {
      "needs_background": "light"
     },
     "output_type": "display_data"
    },
    {
     "data": {
      "image/png": "[encoded data removed]",
      "text/plain": [
       "<Figure size 576x288 with 1 Axes>"
      ]
     },
     "metadata": {
      "needs_background": "light"
     },
     "output_type": "display_data"
    }
   ],
   "source": [
    "features = ['Пол', 'Возраст', 'Зарплата', 'Члены семьи', 'Страховые выплаты']\n",
    "\n",
    "for feature in features:\n",
    "    plt.figure(figsize=(8, 4))\n",
    "    sns.histplot(data=df, x=feature, kde=True, bins=30)\n",
    "    plt.title(f'Гистограмма распределения для признака {feature}')\n",
    "    plt.show()"
   ]
  },
  {
   "cell_type": "markdown",
   "metadata": {},
   "source": [
    "- Матрица корреляции"
   ]
  },
  {
   "cell_type": "code",
   "execution_count": 8,
   "metadata": {},
   "outputs": [
    {
     "data": {
      "image/png": "[encoded data removed]",
      "text/plain": [
       "<Figure size 576x432 with 2 Axes>"
      ]
     },
     "metadata": {
      "needs_background": "light"
     },
     "output_type": "display_data"
    }
   ],
   "source": [
    "plt.figure(figsize=(8, 6))\n",
    "sns.heatmap(df.corr(method='spearman'), annot=True, cmap='coolwarm', fmt='.2f')\n",
    "plt.title(\"Матрица корреляции\")\n",
    "plt.show()"
   ]
  },
  {
   "cell_type": "markdown",
   "metadata": {},
   "source": [
    "<div class=\"alert alert-warning\">\n",
    "<b>Комментарий ревьюера №1</b> ⚠️\n",
    "    \n",
    "Часть признаков содержат количественные значения, а часть качественные + есть ненормальное распределение, поэтому матрица корреляции Пирсона здесь не подойдет\n",
    "</div>"
   ]
  },
  {
   "cell_type": "markdown",
   "metadata": {},
   "source": [
    "<div class=\"alert alert-info\">\n",
    "<b>Комментарий студента</b>\n",
    "    \n",
    "Матрица  корреляции Пирсона заменена на корреляцию Спирмена, которая больше подходит для анализа качественных и количественных переменных, а также переменных с ненормальным распределением.\n",
    "</div>"
   ]
  },
  {
   "cell_type": "markdown",
   "metadata": {},
   "source": [
    "Матрица корреляции показывает следующее:\n",
    "\n",
    "1. Самая сильная положительная корреляция наблюдается между возрастом и страховыми выплатами (0.56). Это может указывать на то, что с возрастом клиентов количество страховых выплат увеличивается.\n",
    "\n",
    "2. Корреляции между другими парами признаков очень слабые и близки к нулю, что говорит об отсутствии линейной связи между ними."
   ]
  },
  {
   "cell_type": "markdown",
   "metadata": {},
   "source": [
    "<div class=\"alert alert-warning\">\n",
    "<b>Комментарий ревьюера №1</b> ⚠️\n",
    "    \n",
    "-0.04 нельзя назвать слабой связью. При оценке силы связи коэффициентов корреляции используется шкала Чеддока. До -0.3 связь очень слабая, ее не следует принимать в расчет\n",
    "</div>"
   ]
  },
  {
   "cell_type": "markdown",
   "metadata": {},
   "source": [
    "<div class=\"alert alert-info\">\n",
    "<b>Комментарий студента</b>\n",
    "    \n",
    "Вывод исправлен в соответствии со шкалой Чеддока.\n",
    "</div>"
   ]
  },
  {
   "cell_type": "markdown",
   "metadata": {},
   "source": [
    "**Выводы:**\n",
    "- Данные содержат информацию о поле, возрасте, зарплате и количестве членов семьи застрахованных клиентов, а также количество страховых выплат за последние 5 лет;\n",
    "- Пропущенных значений и выбросов в данных не обнаружено;\n",
    "- Явные дубликаты удалены из датасета;\n",
    "- Среди признаков сильная положительная корреляция наблюдается между возрастом и страховыми выплатами, что указывает на увеличение страховых выплат с увеличением возраста клиентов;\n",
    "- Распределение возраста скошено вправо, что означает, что большинство клиентов находятся в более молодом возрасте, а количество клиентов старше среднего возраста уменьшается;\n",
    "- Зарплата имеет нормальное распределение, что является типичным для большинства реальных данных о зарплатах."
   ]
  },
  {
   "cell_type": "markdown",
   "metadata": {},
   "source": [
    "<div class=\"alert alert-success\">\n",
    "<b>Комментарий ревьюера №1</b> ✅\n",
    "    \n",
    "Отлично, данные загружены и изучены!\n",
    "</div>"
   ]
  },
  {
   "cell_type": "markdown",
   "metadata": {},
   "source": [
    "## Умножение матриц"
   ]
  },
  {
   "cell_type": "markdown",
   "metadata": {},
   "source": [
    "В этом задании вы можете записывать формулы в *Jupyter Notebook.*\n",
    "\n",
    "Чтобы записать формулу внутри текста, окружите её символами доллара \\\\$; если снаружи —  двойными символами \\\\$\\\\$. Эти формулы записываются на языке вёрстки *LaTeX.* \n",
    "\n",
    "Для примера мы записали формулы линейной регрессии. Можете их скопировать и отредактировать, чтобы решить задачу.\n",
    "\n",
    "Работать в *LaTeX* необязательно."
   ]
  },
  {
   "cell_type": "markdown",
   "metadata": {},
   "source": [
    "Обозначения:\n",
    "\n",
    "- $X$ — матрица признаков (нулевой столбец состоит из единиц)\n",
    "\n",
    "- $y$ — вектор целевого признака\n",
    "\n",
    "- $P$ — матрица, на которую умножаются признаки\n",
    "\n",
    "- $w$ — вектор весов линейной регрессии (нулевой элемент равен сдвигу)"
   ]
  },
  {
   "cell_type": "markdown",
   "metadata": {},
   "source": [
    "Предсказания:\n",
    "\n",
    "$$\n",
    "a = Xw\n",
    "$$\n",
    "\n",
    "Задача обучения:\n",
    "\n",
    "$$\n",
    "w = \\arg\\min_w MSE(Xw, y)\n",
    "$$\n",
    "\n",
    "Формула обучения:\n",
    "\n",
    "$$\n",
    "w = (X^T X)^{-1} X^T y\n",
    "$$"
   ]
  },
  {
   "cell_type": "markdown",
   "metadata": {},
   "source": [
    "**Ответ:** б. Не изменится.\n",
    "\n",
    "**Обоснование:** Рассмотрим линейную регрессию, где исходные признаки умножаются на обратимую матрицу P. Пусть A — матрица исходных признаков размера (m, n), Y — вектор целевых признаков размера (m, 1), и P — обратимая матрица размера (n, n).\n",
    "\n",
    "Обозначим новую матрицу признаков как A_new, полученную умножением A на P:\n",
    "\n",
    "$$\n",
    "A_{new} = A \\cdot P\n",
    "$$\n",
    "\n",
    "Теперь найдем параметры линейной регрессии для новой матрицы признаков A_new:\n",
    "\n",
    "$$\n",
    "w_{new} = (A_{new}^T A_{new})^{-1} A_{new}^T Y\n",
    "$$\n",
    "\n",
    "Подставим выражение для A_new:\n",
    "\n",
    "$$\n",
    "w_{new} = ((A \\cdot P)^T (A \\cdot P))^{-1} (A \\cdot P)^T Y\n",
    "$$\n",
    "\n",
    "Воспользуемся свойствами транспонирования и обратных матриц:\n",
    "\n",
    "$$\n",
    "w_{new} = (P^T A^T A P)^{-1} P^T A^T Y\n",
    "$$\n",
    "\n",
    "Далее используем свойство $(AB)^{-1} = B^{-1}A^{-1}$:\n",
    "\n",
    "$$\n",
    "w_{new} = P^{-1} (A^T A)^{-1} (P^T)^{-1} P^T A^T Y\n",
    "$$\n",
    "\n",
    "Теперь заметим, что $(P^T)^{-1} P^T$ сокращаются до единичной матрицы:\n",
    "\n",
    "$$\n",
    "w_{new} = P^{-1} (A^T A)^{-1} A^T Y\n",
    "$$\n",
    "\n",
    "Теперь мы видим, что $w_{new}$ и $w$ не совпадают, поскольку $w_{new} = P^{-1}w$. Однако, даже если $w_{new}$ и $w$ не совпадают, это не означает, что качество линейной регрессии изменится. Давайте рассмотрим предсказания для исходных и преобразованных данных:\n",
    "\n",
    "$$\n",
    "a = Aw\n",
    "$$\n",
    "\n",
    "и\n",
    "\n",
    "$$\n",
    "a_{new} = A_{new} w_{new} = A \\cdot P \\cdot (P^{-1}w) = A \\cdot (P \\cdot P^{-1})w = A \\cdot w = a\n",
    "$$\n",
    "\n",
    "где a — вектор предсказаний для исходных признаков.\n",
    "\n",
    "Таким образом, предсказания модели не изменятся, несмотря на то, что параметры $w_{new}$ и $w$ не совпадают. Это означает, что качество линейной регрессии также не изменится после умножения исходных признаков на обратимую матрицу."
   ]
  },
  {
   "cell_type": "markdown",
   "metadata": {},
   "source": [
    "**Вывод:**\n",
    "\n",
    "В данной части проекта мы рассмотрели влияние умножения признаков на обратимую матрицу на качество линейной регрессии. Мы выяснили, что после такого преобразования параметры линейной регрессии изменятся, но предсказания модели останутся неизменными. Это гарантирует сохранение качества линейной регрессии при использовании данного метода преобразования данных.\n",
    "\n",
    "Таким образом, мы можем применить этот метод преобразования для сокрытия данных клиентов, не опасаясь потерять качество модели линейной регрессии."
   ]
  },
  {
   "cell_type": "markdown",
   "metadata": {},
   "source": [
    "<div class=\"alert alert-danger\">\n",
    "<b>Комментарий ревьюера №1</b> ❌\n",
    "    \n",
    "$P^{-1}$ не сокращается, а значит, $w_{new}$ не совпадает с $w$. \n",
    "</div>"
   ]
  },
  {
   "cell_type": "markdown",
   "metadata": {},
   "source": [
    "<div class=\"alert alert-info\">\n",
    "<b>Комментарий студента</b>\n",
    "    \n",
    "Ошибка в предыдущем выводе исправлена.\n",
    "</div>"
   ]
  },
  {
   "cell_type": "markdown",
   "metadata": {},
   "source": [
    "<div class=\"alert alert-success\">\n",
    "<b>Комментарий ревьюера №2</b> ✅\n",
    "    \n",
    "Теперь верно👍\n",
    "</div>"
   ]
  },
  {
   "cell_type": "markdown",
   "metadata": {},
   "source": [
    "## Алгоритм преобразования"
   ]
  },
  {
   "cell_type": "markdown",
   "metadata": {},
   "source": [
    "**Алгоритм**\n",
    "\n",
    "1. Разделим данные на признаки и целевой признак.\n",
    "2. Создадим квадратную обратимую матрицу A размера n x n, где n - количество признаков (не включая целевой признак).\n",
    "2. Умножим матрицу признаков X на матрицу A. Получим новую матрицу признаков X'.\n",
    "3. Обучим линейную регрессию на исходных данных X и на преобразованных данных X'.\n",
    "4. Вычислим и сравним метрику R2 для моделей, обученных на исходных и преобразованных данных."
   ]
  },
  {
   "cell_type": "markdown",
   "metadata": {},
   "source": [
    "<div class=\"alert alert-success\">\n",
    "<b>Комментарий ревьюера №1</b> ✅\n",
    "    \n",
    "👍\n",
    "</div>"
   ]
  },
  {
   "cell_type": "markdown",
   "metadata": {},
   "source": [
    "**Обоснование**\n",
    "\n",
    "Как мы уже выяснили ранее, умножение матрицы признаков на обратимую матрицу влияет на параметры линейной регрессии, но не влияет на предсказания модели. Таким образом, качество линейной регрессии сохраняется после такого преобразования. Это означает, что метрика R2, которая измеряет долю объясненной дисперсии отклика, также будет сохраняться."
   ]
  },
  {
   "cell_type": "markdown",
   "metadata": {},
   "source": [
    "<div class=\"alert alert-danger\">\n",
    "<b>Комментарий ревьюера №1</b> ❌\n",
    "    \n",
    "Параметры линейной регрессии не совпадают\n",
    "</div>"
   ]
  },
  {
   "cell_type": "markdown",
   "metadata": {},
   "source": [
    "<div class=\"alert alert-info\">\n",
    "<b>Комментарий студента</b>\n",
    "    \n",
    "Обоснование исправлено.\n",
    "</div>"
   ]
  },
  {
   "cell_type": "markdown",
   "metadata": {},
   "source": [
    "<div class=\"alert alert-success\">\n",
    "<b>Комментарий ревьюера №2</b> ✅\n",
    "    \n",
    "Ок\n",
    "</div>"
   ]
  },
  {
   "cell_type": "markdown",
   "metadata": {},
   "source": [
    "## Проверка алгоритма"
   ]
  },
  {
   "cell_type": "code",
   "execution_count": 9,
   "metadata": {},
   "outputs": [],
   "source": [
    "# Разделение датасета на матрицу признаков и вектор целевого признака\n",
    "X = df.drop('Страховые выплаты', axis=1)\n",
    "y = df['Страховые выплаты']\n",
    "\n",
    "# Разделение данных на обучающую и тестовую выборки\n",
    "X_train, X_test, y_train, y_test = train_test_split(X, y, test_size=0.2, random_state=42)"
   ]
  },
  {
   "cell_type": "code",
   "execution_count": 10,
   "metadata": {},
   "outputs": [
    {
     "name": "stdout",
     "output_type": "stream",
     "text": [
      "R2 score для исходных данных: 0.4393\n",
      "R2 score для преобразованных данных: 0.4393\n"
     ]
    }
   ],
   "source": [
    "# Создание обратимой матрицы A\n",
    "n = X.shape[1]\n",
    "A = np.random.rand(n, n)\n",
    "while np.linalg.det(A) == 0:\n",
    "    A = np.random.rand(n, n)\n",
    "    \n",
    "# Умножение матрицы признаков на матрицу A\n",
    "X_train_transformed = X_train.dot(A)\n",
    "X_test_transformed = X_test.dot(A)\n",
    "\n",
    "# Обучение моделей на исходных и преобразованных данных\n",
    "model_original = LinearRegression()\n",
    "model_transformed = LinearRegression()\n",
    "\n",
    "model_original.fit(X_train, y_train)\n",
    "model_transformed.fit(X_train_transformed, y_train)\n",
    "\n",
    "# Предсказания моделей\n",
    "y_pred_original = model_original.predict(X_test)\n",
    "y_pred_transformed = model_transformed.predict(X_test_transformed)\n",
    "\n",
    "# Вычисление метрики R2\n",
    "r2_original = r2_score(y_test, y_pred_original)\n",
    "r2_transformed = r2_score(y_test, y_pred_transformed)\n",
    "\n",
    "# Сравнение метрики R2 для исходных и преобразованных данных\n",
    "print(f\"R2 score для исходных данных: {r2_original:.4f}\")\n",
    "print(f\"R2 score для преобразованных данных: {r2_transformed:.4f}\")"
   ]
  },
  {
   "cell_type": "markdown",
   "metadata": {},
   "source": [
    "<div class=\"alert alert-success\">\n",
    "<b>Комментарий ревьюера №1</b> ✅\n",
    "    \n",
    "Хорошо, что проверяешь матрицу на обратимость\n",
    "</div>"
   ]
  },
  {
   "cell_type": "markdown",
   "metadata": {},
   "source": [
    "**Вывод:**\n",
    "\n",
    "Результаты показывают, что метрики R2 для исходных и преобразованных равны. Это подтверждает наше обоснование, что качество линейной регрессии не меняется после умножения матрицы признаков на обратимую матрицу.\n",
    "\n",
    "Итак, на основе проведенных экспериментов и анализа, мы можем сделать вывод, что предложенный алгоритм преобразования данных успешно сохраняет качество линейной регрессии после умножения матрицы признаков на обратимую матрицу. Таким образом, это может быть использовано для шифрования данных без потери информации, необходимой для обучения модели линейной регрессии."
   ]
  },
  {
   "cell_type": "markdown",
   "metadata": {
    "id": "Jjmfk0gWxnuC"
   },
   "source": [
    "<div class=\"alert alert-block alert-success\">\n",
    "    \n",
    "**Комментарий ревьюера №1** ✅\n",
    "\n",
    "Верно, качество предсказания действительно не изменяется. Незначительное различие вызвано особенностями преобразования матриц и чисел с плавающей точкой. В случае домножения матрицы признаков на случайную обратимую матрицу можно обеспечить защиту данных. Можно также попробовать декодировать данные обратно.\n",
    "</div>"
   ]
  },
  {
   "cell_type": "markdown",
   "metadata": {},
   "source": [
    "## Чек-лист проверки"
   ]
  },
  {
   "cell_type": "markdown",
   "metadata": {},
   "source": [
    "Поставьте 'x' в выполненных пунктах. Далее нажмите Shift+Enter."
   ]
  },
  {
   "cell_type": "markdown",
   "metadata": {},
   "source": [
    "- [x]  Jupyter Notebook открыт\n",
    "- [x]  Весь код выполняется без ошибок\n",
    "- [x]  Ячейки с кодом расположены в порядке исполнения\n",
    "- [x]  Выполнен шаг 1: данные загружены\n",
    "- [x]  Выполнен шаг 2: получен ответ на вопрос об умножении матриц\n",
    "    - [x]  Указан правильный вариант ответа\n",
    "    - [x]  Вариант обоснован\n",
    "- [x]  Выполнен шаг 3: предложен алгоритм преобразования\n",
    "    - [x]  Алгоритм описан\n",
    "    - [x]  Алгоритм обоснован\n",
    "- [x]  Выполнен шаг 4: алгоритм проверен\n",
    "    - [x]  Алгоритм реализован\n",
    "    - [x]  Проведено сравнение качества моделей до и после преобразования"
   ]
  },
  {
   "cell_type": "markdown",
   "metadata": {},
   "source": [
    "<div style=\"border:solid purple 2px; padding: 20px\"> \n",
    "<b> <font color='purple' >   \n",
    "В целом, работа хорошая. Ты молодец! Остались небольшие доработки. Нужно поправить теоретическое доказательство. Доделывай и присылай на повторную проверку.\n",
    "\n",
    "Жду твоих исправлений 😊\n",
    "</font></b>\n",
    "</div>"
   ]
  },
  {
   "cell_type": "markdown",
   "metadata": {},
   "source": [
    "<div style=\"border:solid purple 2px; padding: 20px\"> \n",
    "<b> <font color='purple' >   \n",
    "    \n",
    "Отлично! Проект принят! 👏 Поздравляю и желаю удачи!\n",
    "    \n",
    "    \n",
    "Оставлю несколько дополнительных материалов. Теория по обратным матрицам: https://www.berdov.com/works/matrix/obratnaya-matrica/. Обзоры по применению криптографии в машинном обучении: https://arxiv.org/pdf/1902.04109.pdf, https://www.researchgate.net/publication/342746786_Some_Applications_of_Machine_Learning_in_Cryptography\n",
    "Подробнее про аналогичный алгоритм: https://www.cs.cmu.edu/~rjhall/JOS_revised_May_31a.pdf\n",
    "</font></b>\n",
    "</div>"
   ]
  }
 ],
 "metadata": {
  "ExecuteTimeLog": [
   {
    "duration": 2807,
    "start_time": "2023-04-14T20:33:48.891Z"
   },
   {
    "duration": 101,
    "start_time": "2023-04-14T20:33:51.701Z"
   },
   {
    "duration": 25,
    "start_time": "2023-04-14T20:33:51.803Z"
   },
   {
    "duration": 5,
    "start_time": "2023-04-14T20:33:51.830Z"
   },
   {
    "duration": 20,
    "start_time": "2023-04-14T20:33:51.837Z"
   },
   {
    "duration": 36,
    "start_time": "2023-04-14T20:33:51.862Z"
   },
   {
    "duration": 1397,
    "start_time": "2023-04-14T20:33:51.901Z"
   },
   {
    "duration": 528,
    "start_time": "2023-04-14T20:33:53.300Z"
   },
   {
    "duration": 8,
    "start_time": "2023-04-14T20:33:53.830Z"
   },
   {
    "duration": 29,
    "start_time": "2023-04-14T20:33:53.839Z"
   },
   {
    "duration": 2286,
    "start_time": "2023-04-14T20:47:13.332Z"
   },
   {
    "duration": 25,
    "start_time": "2023-04-14T20:47:15.620Z"
   },
   {
    "duration": 23,
    "start_time": "2023-04-14T20:47:15.647Z"
   },
   {
    "duration": 5,
    "start_time": "2023-04-14T20:47:15.673Z"
   },
   {
    "duration": 9,
    "start_time": "2023-04-14T20:47:15.680Z"
   },
   {
    "duration": 22,
    "start_time": "2023-04-14T20:47:15.691Z"
   },
   {
    "duration": 1084,
    "start_time": "2023-04-14T20:47:15.715Z"
   },
   {
    "duration": 369,
    "start_time": "2023-04-14T20:47:16.801Z"
   },
   {
    "duration": 7,
    "start_time": "2023-04-14T20:47:17.172Z"
   },
   {
    "duration": 14,
    "start_time": "2023-04-14T20:47:17.181Z"
   },
   {
    "duration": 4,
    "start_time": "2023-04-14T21:58:31.111Z"
   },
   {
    "duration": 2205,
    "start_time": "2023-04-15T10:08:26.450Z"
   },
   {
    "duration": 83,
    "start_time": "2023-04-15T10:08:28.657Z"
   },
   {
    "duration": 20,
    "start_time": "2023-04-15T10:08:28.742Z"
   },
   {
    "duration": 4,
    "start_time": "2023-04-15T10:08:28.764Z"
   },
   {
    "duration": 21,
    "start_time": "2023-04-15T10:08:28.770Z"
   },
   {
    "duration": 22,
    "start_time": "2023-04-15T10:08:28.793Z"
   },
   {
    "duration": 1056,
    "start_time": "2023-04-15T10:08:28.817Z"
   },
   {
    "duration": 438,
    "start_time": "2023-04-15T10:08:29.875Z"
   },
   {
    "duration": 8,
    "start_time": "2023-04-15T10:08:30.315Z"
   },
   {
    "duration": 42,
    "start_time": "2023-04-15T10:08:30.337Z"
   }
  ],
  "kernelspec": {
   "display_name": "Python 3 (ipykernel)",
   "language": "python",
   "name": "python3"
  },
  "language_info": {
   "codemirror_mode": {
    "name": "ipython",
    "version": 3
   },
   "file_extension": ".py",
   "mimetype": "text/x-python",
   "name": "python",
   "nbconvert_exporter": "python",
   "pygments_lexer": "ipython3",
   "version": "3.9.5"
  },
  "toc": {
   "base_numbering": 1,
   "nav_menu": {},
   "number_sections": true,
   "sideBar": true,
   "skip_h1_title": true,
   "title_cell": "Содержание",
   "title_sidebar": "Contents",
   "toc_cell": true,
   "toc_position": {
    "height": "calc(100% - 180px)",
    "left": "10px",
    "top": "150px",
    "width": "165px"
   },
   "toc_section_display": true,
   "toc_window_display": true
  }
 },
 "nbformat": 4,
 "nbformat_minor": 2
}
