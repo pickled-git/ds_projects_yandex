{
 "cells": [
  {
   "cell_type": "markdown",
   "metadata": {},
   "source": [
    "# Результат ревью:\n",
    "\n",
    "Я отмечаю адекватный уровень твоей программистской подготовки. Ты используешь продвинутые концепции языка Python, библиотеки pandas и одной из основных библиотек машинного обучения sckit-learn. Всё это в целом упрощает твой код и одновременно показывает твой уровень владения инструментами анализа данных и machine learning.\n",
    "\n",
    "С комментированием никаких проблем нет. Твоих объяснений достаточно для понимания твоими коллегами хода мыслей. Ссылки из брифа проекта в нужных местах также помогают следовать за развитием событий и дают полную информацию касаемо того, что будет происходить в том или ином разделе проекта.\n",
    "\n",
    "Мне было просто проверять твой проект, потому что он чётко структурирован, с использованием оглавления. \n",
    "\n",
    "Зелёным цветом я отметил и прокомментировал удачные и элегантные решения, на которые ты можешь опираться в будущих проектах.\n",
    "\n",
    "Жёлтым цветом я выделил то, что в следующий раз можно сделать по-другому. Ты можешь учесть эти комментарии при выполнении будущих заданий или доработать проект сейчас.\n",
    "\n",
    "Красных комментариев, которые бы не позволяли мне принять твой проект в его нынешнем состоянии - нет. \n",
    "\n",
    "ПРОЕКТ ПРИНЯТ!\n",
    "\n",
    "Подводя итог: отличная работа, молодец! Желаю тебе успехов в учёбе, желаю, чтобы проекты сдавались или сразу, или после первой итерации! Удачи!\n",
    "\n",
    "p.s. я тебе на твой адрес эл/почты сейчас вышлю некоторые материалы из своей электронной библиотеки - надеюсь они будут тебе полезными в учёбе.</div>\n"
   ]
  },
  {
   "cell_type": "code",
   "execution_count": null,
   "metadata": {},
   "outputs": [],
   "source": []
  },
  {
   "cell_type": "markdown",
   "metadata": {},
   "source": [
    "Приветствую Ольга! \n",
    "\n",
    "Меня зовут Александр Непомнящий и я буду проверять твой проект. Предлагаю общаться на «ты» :))) Но, если это не удобно - мы вполне можем перейти на вы\".\n",
    "\n",
    "Вкратце обо мне: я работаю в сфере информационных технологий, аналитика (анализ) данных - это и мой рабочий функционал и личная, интересная мне область для саморазвития. Используемый стек: python, pandas, графические библиотеки matplotlib/seaborn/plotly. Сфера применения: маркетинговая аналитика в медицинской клинике (Клиника «Кивач», www.kivach.ru, республика Карелия). Если вдруг есть вопрос – что делает аналитик в коммерческой медицине – то вот короткий ответ. Самый главный вопрос, на который мы хотим получить ответ (и который в дальнейшем приведёт к перераспределению рекламного бюджета, плюс напрямую повлияет на разработку и предложению рынку новых лечебных программ) - это КТО ОН, НАШ КЛИЕНТ? Фактически это задача (на нашем внутреннем языке формулируется как построение и анализ «ПОРТРЕТА КЛИЕНТА»). Визуализируем и пытаемся придать смысл половозрастным данным наших клиентов, кто из какого региона и в какие времена года к нам приезжает. Учитываем количество приездов. Учитываем на какую программу этот конкретный клиент приехал в первый раз и как в дальнейшем меняются его предпочтения. Пытаемся построить модель оттока и спрогнозировать, когда клиент уйдёт в отток. Смотрим цифры (суммы трат клиентов на отдельных группах медицинских программ). Анализируем медицинские услуги, которые входят в путёвку, а также что, в каких количествах и на какую сумму клиент покупает дополнительно. Очень вкратце как-то так.\n",
    "\n",
    "Теперь к сути: основная цель моей проверки - пройти по шагам, по логике твоего решения и обсудить те моменты, которые можно изменить, улучшить, довести до идеала. Такой формат работы двух программистов (аналитиков) ты или уже встречал(а), или встретишь на своей новой работе. Кто-то такой процесс называет \"код-ревью\", ну а как по мне, так это обмен опытом двух коллег, когда каждый из нас становиться лучше в процессе дискуссии.\n",
    "\n",
    "Свои мысли, советы, комментарии и вопросы я буду оставлять в текстовых ячейках (markdown) ПОД твоим кодом. \n",
    "Для твоего удобства все эти заметки будут \"цветными\", как на примерах ниже:\n",
    "\n",
    "\"Зелеными\" комментариями я буду отмечать твой элегантный (\"красивый\") код и/или удачные решения, на которые ты можешь смело опираться в будущих проектах.\n",
    "<div class=\"alert alert-success\">\n",
    "<b>Отлично! 👍</b>\n",
    "\n",
    "Отличная находка, элегантный код ...</div>\n",
    "\n",
    "\"Жёлтые\" комментарии - это мои размышления, предложения, что-то, что на следующей итерации можно сделать по-другому. Твоя реакция на \"жёлтые\" комментарий необходима и подразумевает или правки, или реакцию или аргументированное согласие/не согласие. Я искренне верю, что наш двусторонний диалог под \"желтым\" комментарием - это то, от чего твой проект только выиграет. <div class=\"alert alert-warning\">\n",
    "<b>Комментарий 👉</b>\n",
    "\n",
    "Здесь я бы предложил использовать .... Мои аргументы в пользу этого ...</div>\n",
    "\n",
    "\"Красные\" комментарий будут появляться, когда что-то пойдёт не так: например, код будет выдавать ошибку. Или, когда в проекте не будет ответов на основные вопросы, ради которых весь анализ и выполнялся. \"Красные\" комментарии необходимо будет исправить, прежде чем я смогу принять проект.\n",
    "<div class=\"alert alert-danger\">\n",
    "<b>Необходимо исправить ❌</b>\n",
    "\n",
    "В этой ячейке код работает не так как задумано ...</div>\n",
    "\n",
    "Пожалуйста, не перемещай, не изменяй и не удаляй мои комментарии. Это поможет мне оперативно выполнить повторную проверку твоего проекта.\n",
    "\n",
    "Давай работать над проектом в диалоге: если ты что-то меняешь в проекте по моим рекомендациям — пиши об этом, лучше всего в новой ячейке, сразу под моим комментарием. Если для своих комментариев ты будешь использовать какой-то заметный цвет, то мне будет легче отследить твои изменения, например так:\n",
    "\n",
    "<div style=\"background: #B0E0E6; padding: 5px; border: 1px solid SteelBlue; border-radius: 5px;\">\n",
    "    <font color='4682B4'><u><b>КОММЕНТАРИЙ СТУДЕНТА</b></u></font>\n",
    "    <br />\n",
    "    <font color='4682B4'>Текст твоего комментария ...</font>\n",
    "</div>\n",
    "\n",
    "Ну и наконец информируй меня в том случае, если по твоему проекту подходит дедлайн! В таком случае я приложу усилия, чтобы ты сдал(а) его вовремя; буду оперативно, в приоритете проверять итерации ревью, а также отвечать на твои вопросы, если этого будет требовать ситуация.\n",
    "\n",
    "**Распространенные типичные недочёты в проектах студентов:**\n",
    "\n",
    "<div class=\"alert alert-danger\" ❌>\n",
    "Неработоспособный код. Проверь проект на работоспособность перед отправкой на проверку. Это важный навык, который тебе пригодится как на собеседовании, при выполнении тестового задания, так и перед совещанием у руководства компании.</div>\n",
    "\n",
    "<div class=\"alert alert-danger\" ❌>\n",
    "Проект не структурирован. В проекте должна быть структура, т.е. названия разделов и подразделов должны быть записаны в ячейках Markdown.</div>\n",
    "\n",
    "<div class=\"alert alert-warning\" 👉 >\n",
    "Отсутствие описания, целей проекта, его задач, выводов. В описании должны быть озвучены поставленные задачи, содержание датасета, промежуточные и финальные выводы. Как правило, заказчик читает только финальный вывод, поэтому важно добавить информацию о проведенном исследовании, применить форматирование текста, в общем, сделать красиво, чтобы было понятно, что проведено настоящее исследование и выводу можно верить.</div>  \n",
    "\n",
    "<div class=\"alert alert-warning\" 👉 >\n",
    "\"Длинный код\". Код и и комментарии, которые прячутся за правым концом ячейки нужно переносить на новую строку. Твои будущие коллеги не оценят необходимость постоянного скроллинга. Согласно PEP8: https://www.python.org/dev/peps/pep-0008/ длина строки не должна превышать 79 символов.</div>\n",
    "\n",
    "<div class=\"alert alert-warning\" 👉 >\n",
    "Твои коллеги ценят и твое и своё время, поэтому \"подсвечивай\" свои комментарии в ячейках Markdown. Подробнее про синтаксис Markdown, с примерами, можно почитать здесь: https://paulradzkov.com/2014/markdown_cheatsheet/?</div>\n"
   ]
  },
  {
   "cell_type": "code",
   "execution_count": 1,
   "metadata": {},
   "outputs": [],
   "source": [
    "import pandas as pd\n",
    "from sklearn.model_selection import train_test_split\n",
    "from sklearn.tree import DecisionTreeClassifier\n",
    "from sklearn.ensemble import RandomForestClassifier\n",
    "from sklearn.linear_model import LogisticRegression\n",
    "from sklearn.metrics import accuracy_score\n",
    "from sklearn.dummy import DummyClassifier"
   ]
  },
  {
   "cell_type": "markdown",
   "metadata": {},
   "source": [
    "# Рекомендация тарифов"
   ]
  },
  {
   "cell_type": "markdown",
   "metadata": {},
   "source": [
    "В вашем распоряжении данные о поведении клиентов, которые уже перешли на эти тарифы (из проекта курса «Статистический анализ данных»). Нужно построить модель для задачи классификации, которая выберет подходящий тариф. Предобработка данных не понадобится — вы её уже сделали.\n",
    "\n",
    "Постройте модель с максимально большим значением *accuracy*. Чтобы сдать проект успешно, нужно довести долю правильных ответов по крайней мере до 0.75. Проверьте *accuracy* на тестовой выборке самостоятельно."
   ]
  },
  {
   "cell_type": "markdown",
   "metadata": {},
   "source": [
    "## Откройте и изучите файл"
   ]
  },
  {
   "cell_type": "code",
   "execution_count": 2,
   "metadata": {},
   "outputs": [
    {
     "data": {
      "text/html": [
       "<div>\n",
       "<style scoped>\n",
       "    .dataframe tbody tr th:only-of-type {\n",
       "        vertical-align: middle;\n",
       "    }\n",
       "\n",
       "    .dataframe tbody tr th {\n",
       "        vertical-align: top;\n",
       "    }\n",
       "\n",
       "    .dataframe thead th {\n",
       "        text-align: right;\n",
       "    }\n",
       "</style>\n",
       "<table border=\"1\" class=\"dataframe\">\n",
       "  <thead>\n",
       "    <tr style=\"text-align: right;\">\n",
       "      <th></th>\n",
       "      <th>calls</th>\n",
       "      <th>minutes</th>\n",
       "      <th>messages</th>\n",
       "      <th>mb_used</th>\n",
       "      <th>is_ultra</th>\n",
       "    </tr>\n",
       "  </thead>\n",
       "  <tbody>\n",
       "    <tr>\n",
       "      <th>0</th>\n",
       "      <td>40.0</td>\n",
       "      <td>311.90</td>\n",
       "      <td>83.0</td>\n",
       "      <td>19915.42</td>\n",
       "      <td>0</td>\n",
       "    </tr>\n",
       "    <tr>\n",
       "      <th>1</th>\n",
       "      <td>85.0</td>\n",
       "      <td>516.75</td>\n",
       "      <td>56.0</td>\n",
       "      <td>22696.96</td>\n",
       "      <td>0</td>\n",
       "    </tr>\n",
       "    <tr>\n",
       "      <th>2</th>\n",
       "      <td>77.0</td>\n",
       "      <td>467.66</td>\n",
       "      <td>86.0</td>\n",
       "      <td>21060.45</td>\n",
       "      <td>0</td>\n",
       "    </tr>\n",
       "    <tr>\n",
       "      <th>3</th>\n",
       "      <td>106.0</td>\n",
       "      <td>745.53</td>\n",
       "      <td>81.0</td>\n",
       "      <td>8437.39</td>\n",
       "      <td>1</td>\n",
       "    </tr>\n",
       "    <tr>\n",
       "      <th>4</th>\n",
       "      <td>66.0</td>\n",
       "      <td>418.74</td>\n",
       "      <td>1.0</td>\n",
       "      <td>14502.75</td>\n",
       "      <td>0</td>\n",
       "    </tr>\n",
       "    <tr>\n",
       "      <th>5</th>\n",
       "      <td>58.0</td>\n",
       "      <td>344.56</td>\n",
       "      <td>21.0</td>\n",
       "      <td>15823.37</td>\n",
       "      <td>0</td>\n",
       "    </tr>\n",
       "    <tr>\n",
       "      <th>6</th>\n",
       "      <td>57.0</td>\n",
       "      <td>431.64</td>\n",
       "      <td>20.0</td>\n",
       "      <td>3738.90</td>\n",
       "      <td>1</td>\n",
       "    </tr>\n",
       "    <tr>\n",
       "      <th>7</th>\n",
       "      <td>15.0</td>\n",
       "      <td>132.40</td>\n",
       "      <td>6.0</td>\n",
       "      <td>21911.60</td>\n",
       "      <td>0</td>\n",
       "    </tr>\n",
       "    <tr>\n",
       "      <th>8</th>\n",
       "      <td>7.0</td>\n",
       "      <td>43.39</td>\n",
       "      <td>3.0</td>\n",
       "      <td>2538.67</td>\n",
       "      <td>1</td>\n",
       "    </tr>\n",
       "    <tr>\n",
       "      <th>9</th>\n",
       "      <td>90.0</td>\n",
       "      <td>665.41</td>\n",
       "      <td>38.0</td>\n",
       "      <td>17358.61</td>\n",
       "      <td>0</td>\n",
       "    </tr>\n",
       "    <tr>\n",
       "      <th>10</th>\n",
       "      <td>82.0</td>\n",
       "      <td>560.51</td>\n",
       "      <td>20.0</td>\n",
       "      <td>9619.53</td>\n",
       "      <td>1</td>\n",
       "    </tr>\n",
       "    <tr>\n",
       "      <th>11</th>\n",
       "      <td>45.0</td>\n",
       "      <td>344.32</td>\n",
       "      <td>13.0</td>\n",
       "      <td>19898.81</td>\n",
       "      <td>0</td>\n",
       "    </tr>\n",
       "    <tr>\n",
       "      <th>12</th>\n",
       "      <td>51.0</td>\n",
       "      <td>437.13</td>\n",
       "      <td>61.0</td>\n",
       "      <td>21523.58</td>\n",
       "      <td>0</td>\n",
       "    </tr>\n",
       "    <tr>\n",
       "      <th>13</th>\n",
       "      <td>56.0</td>\n",
       "      <td>433.07</td>\n",
       "      <td>16.0</td>\n",
       "      <td>16702.36</td>\n",
       "      <td>0</td>\n",
       "    </tr>\n",
       "    <tr>\n",
       "      <th>14</th>\n",
       "      <td>108.0</td>\n",
       "      <td>587.90</td>\n",
       "      <td>0.0</td>\n",
       "      <td>14406.50</td>\n",
       "      <td>1</td>\n",
       "    </tr>\n",
       "  </tbody>\n",
       "</table>\n",
       "</div>"
      ],
      "text/plain": [
       "    calls  minutes  messages   mb_used  is_ultra\n",
       "0    40.0   311.90      83.0  19915.42         0\n",
       "1    85.0   516.75      56.0  22696.96         0\n",
       "2    77.0   467.66      86.0  21060.45         0\n",
       "3   106.0   745.53      81.0   8437.39         1\n",
       "4    66.0   418.74       1.0  14502.75         0\n",
       "5    58.0   344.56      21.0  15823.37         0\n",
       "6    57.0   431.64      20.0   3738.90         1\n",
       "7    15.0   132.40       6.0  21911.60         0\n",
       "8     7.0    43.39       3.0   2538.67         1\n",
       "9    90.0   665.41      38.0  17358.61         0\n",
       "10   82.0   560.51      20.0   9619.53         1\n",
       "11   45.0   344.32      13.0  19898.81         0\n",
       "12   51.0   437.13      61.0  21523.58         0\n",
       "13   56.0   433.07      16.0  16702.36         0\n",
       "14  108.0   587.90       0.0  14406.50         1"
      ]
     },
     "execution_count": 2,
     "metadata": {},
     "output_type": "execute_result"
    }
   ],
   "source": [
    "data = pd.read_csv('/datasets/users_behavior.csv')\n",
    "\n",
    "data.head(15)"
   ]
  },
  {
   "cell_type": "markdown",
   "metadata": {},
   "source": [
    "<div class=\"alert alert-success\">\n",
    "<b>ОТЛИЧНО! 👍</b>\n",
    "\n",
    "Отлично. Импортировали требуемые для анализа библиотеки и загрузили данные. Сейчас посмотрим на их состояние и если всё ОК, сможем приступать к построению моделей....\n",
    "</div>"
   ]
  },
  {
   "cell_type": "code",
   "execution_count": 3,
   "metadata": {},
   "outputs": [
    {
     "name": "stdout",
     "output_type": "stream",
     "text": [
      "<class 'pandas.core.frame.DataFrame'>\n",
      "RangeIndex: 3214 entries, 0 to 3213\n",
      "Data columns (total 5 columns):\n",
      " #   Column    Non-Null Count  Dtype  \n",
      "---  ------    --------------  -----  \n",
      " 0   calls     3214 non-null   float64\n",
      " 1   minutes   3214 non-null   float64\n",
      " 2   messages  3214 non-null   float64\n",
      " 3   mb_used   3214 non-null   float64\n",
      " 4   is_ultra  3214 non-null   int64  \n",
      "dtypes: float64(4), int64(1)\n",
      "memory usage: 125.7 KB\n"
     ]
    }
   ],
   "source": [
    "data.info()"
   ]
  },
  {
   "cell_type": "code",
   "execution_count": 4,
   "metadata": {},
   "outputs": [
    {
     "data": {
      "text/plain": [
       "array([[<AxesSubplot:title={'center':'calls'}>,\n",
       "        <AxesSubplot:title={'center':'minutes'}>],\n",
       "       [<AxesSubplot:title={'center':'messages'}>,\n",
       "        <AxesSubplot:title={'center':'mb_used'}>],\n",
       "       [<AxesSubplot:title={'center':'is_ultra'}>, <AxesSubplot:>]],\n",
       "      dtype=object)"
      ]
     },
     "execution_count": 4,
     "metadata": {},
     "output_type": "execute_result"
    },
    {
     "data": {
      "image/png": "[encoded data removed]",
      "text/plain": [
       "<Figure size 720x720 with 6 Axes>"
      ]
     },
     "metadata": {
      "needs_background": "light"
     },
     "output_type": "display_data"
    }
   ],
   "source": [
    "data.hist(figsize=(10, 10))"
   ]
  },
  {
   "cell_type": "markdown",
   "metadata": {},
   "source": [
    "Файл содержит информацию о поведении пользователей за месяц на определенном тарифе. Данные в датасете уже прошли предобработку, дополнительных действий по их очистке и обогащению не требуется. Столбец `is_ultra` содержит информацию о тарифе пользователя («Ультра» — 1, «Смарт» — 0)."
   ]
  },
  {
   "cell_type": "markdown",
   "metadata": {},
   "source": [
    "<div class=\"alert alert-success\">\n",
    "<b>ОТЛИЧНО! 👍</b>\n",
    "\n",
    "Данные загружены, отлично.\n",
    "\n",
    "Хорошо, что применяешь метод .head()/.sample() таким образом в память не будет загружен весь датасет, объем которого может быть огромным.\n",
    "\n",
    "Методы .info, .describe, .value_counts(), .unique() как правило часто встречаются и обязательны к применению в задачах по исследованию данных, ведь с их помощью можно получить первые инсайты. \n",
    "\n",
    "Итак, мы провели предварительный анализ данных, проверили данные на наличие пропусков (*из применяемых тобой методов видно что пропусков нет*) и затем обработали их (аргументированно заполнили / удалили / оставили как есть). Теперь можно приступать собственно к построению моделей и ответам на вопросы проекта.\n",
    "</div>"
   ]
  },
  {
   "cell_type": "markdown",
   "metadata": {},
   "source": [
    "<div class=\"alert alert-warning\">\n",
    "<b>Комментарий 👉</b>\n",
    "\n",
    "Несколько моментов \"на будущее\" (сейчас забегаю чуть вперед, но будущем это будет важно) которые я хотел озвучить перед переходом к собственно исследованию:\n",
    "    \n",
    "- имеет смысл критично посмотреть на данные с точки зрения наличия пропусков в признаках (вопрос: все ли ml-модели \"любят\" пропуски?). Из результата info / describe / .duplicated() видно что пропусков нет, но я бы ещё явно это сказал.\n",
    "    \n",
    "- имеет смысл явно обозначить какую задачу мы будем решать: с учителем / без учителя, классификации / регрессии ...\n",
    "    \n",
    "- в моделях бинарной классификации имеет смысл смотреть на баланс классов. Два взгляда (с разных сторон) на эту проблему тут: https://alexanderdyakonov.wordpress.com/2021/05/27/imbalance/ и https://habr.com/ru/post/349078/\n",
    "    \n",
    "- имеет смысл смотреть на корреляцию признаков. При высокой их степени коррелированности возникает проблема  мультиколлиниарность признаков. Проблема \"мультиколлинеарности\" это и про переобучение модели и про её интерпретируемость и про сложность модели (содержание в модели избыточного количества переменных). В чем негативный эффект сложной модели? Вот в чем: усложняется интерпретация параметров, оценки параметров ненадежны – получаются большие стандартные ошибки, которые меняются с изменением объема наблюдений, что делает модель регрессии непригодной для прогнозирования.\n",
    "    \n",
    "А теперь давай про интерпретируемость. Согласись - это важно, чтобы результат, который выдает модель можно было бы понять и объяснить с точки зрения предметной области. В случае включения в модель коллинеарных признаков может случиться так, что коэффициенты (да, проблема присуща моделям линейным ... регрессия среди них!) могут менять знаки и попытка объяснения предметной области с помощью этих коэффициентов будет противоречить здравому смыслу.\n",
    "    \n",
    "Вот классная статья. Простым языком, на примере показана проблема. А также, что важно - разобраны варианты как её (проблему) победить. Статья: https://habr.com/ru/company/akbarsdigital/blog/592493/ \n",
    "</div>"
   ]
  },
  {
   "cell_type": "markdown",
   "metadata": {},
   "source": [
    "<div style=\"background: #B0E0E6; padding: 5px; border: 1px solid SteelBlue; border-radius: 5px;\">\n",
    "    <font color='4682B4'><u><b>КОММЕНТАРИЙ СТУДЕНТА</b></u></font>\n",
    "    <br />\n",
    "    <font color='4682B4'>Спасибо за статьи про баланс классов и мультиколлинеарность. Жаль, что в теории спринта эти особенности не были освещены.</font>\n",
    "</div>"
   ]
  },
  {
   "cell_type": "markdown",
   "metadata": {},
   "source": [
    "<div class=\"alert alert-success\">\n",
    "<b>КОММЕНТАРИЙ V2</b>\n",
    "\n",
    "Ну всю всю возможную теорию в курс не \"впихнуть\". Основы для старта специалиста даются, а далее - вперёд: нарабатывать опыт и саморазвитие включать.\n",
    "</div>"
   ]
  },
  {
   "cell_type": "markdown",
   "metadata": {},
   "source": [
    "## Разбейте данные на выборки"
   ]
  },
  {
   "cell_type": "markdown",
   "metadata": {},
   "source": [
    "Для того, чтобы построить модель для классификации пользователей и подбора подходящего тарифа, разделим исходные данные на обучающую, валидационную и тестовую выборки.\n",
    "\n",
    "Обычно данные делят на три выборки следующим образом:\n",
    "\n",
    "- обучающая выборка (60-70% от исходных данных) — на этой выборке модель будет обучаться;\n",
    "- валидационная выборка (15-20% от исходных данных) — на этой выборке будут подбираться наилучшие параметры модели и проводится её настройка;\n",
    "- тестовая выборка (15-20% от исходных данных) — на этой выборке модель будет проверяться после её окончательной настройки.\n",
    "\n",
    "Для разделения выборки можно воспользоваться методом train_test_split из библиотеки sklearn. Разделим данные на обучающую, валидационную и тестовую выборки в пропорции 60/20/20."
   ]
  },
  {
   "cell_type": "code",
   "execution_count": 5,
   "metadata": {},
   "outputs": [
    {
     "name": "stdout",
     "output_type": "stream",
     "text": [
      "Train set size: (1928, 4)\n",
      "Valid set size: (643, 4)\n",
      "Test set size: (643, 4)\n"
     ]
    }
   ],
   "source": [
    "# определяем признаки\n",
    "features = data.drop('is_ultra', axis=1)\n",
    "\n",
    "# определяем целевую переменную\n",
    "target = data['is_ultra']\n",
    "\n",
    "# разделение на обучающую и валидационную выборку в пропорции 60/40\n",
    "features_train, features_valid, target_train, target_valid = train_test_split(features, target, \\\n",
    "                                                                              test_size=0.4, random_state=12345)\n",
    "\n",
    "# разделение валидационной выборки на валидационную и тестовую в пропорции 50/50\n",
    "features_valid, features_test, target_valid, target_test = train_test_split(features_valid, target_valid, \\\n",
    "                                                                            test_size=0.5, random_state=12345)\n",
    "\n",
    "# выведем на экран размеры получившихся выборок\n",
    "print('Train set size:', features_train.shape)\n",
    "print('Valid set size:', features_valid.shape)\n",
    "print('Test set size:', features_test.shape)"
   ]
  },
  {
   "cell_type": "markdown",
   "metadata": {},
   "source": [
    "<div class=\"alert alert-success\">\n",
    "<b>ОТЛИЧНО! 👍</b>\n",
    "\n",
    "1. Здесь хорошо, происходит фиксация random_state. Воспроизводимость результатов разбиения выборки на обучающую (тренировочную) / тестовую / валидационную мы обеспечили, значит при всех последующих запусках нашего кода подвыборки будут идентичными.\n",
    "    \n",
    "2. Доли размеров train/test/valid 3:1:1 - хорошо.\n",
    "</div>"
   ]
  },
  {
   "cell_type": "markdown",
   "metadata": {},
   "source": [
    "<div class=\"alert alert-warning\">\n",
    "<b>Комментарий 👉</b>\n",
    "\n",
    "Я бы рекомендовал после разбиения данных на выборки посмотреть на их размеры и размерности. Метод shape для этого - идеальный помощник. \"Цифры\" по выборкам покажут верно ли мы произвели \"разделение\" данных.\n",
    "\n",
    "p.s. так (**псевдокод**): X_train.shape[0] – «покажет» количество строк в тренировочной выборке, а X_train.shape[1] - количество столбцов в ней же. Ну а X_train.shape – выведет размерность train'а в виде кортежа с 2мя значениями (первое число – количество строк, второе – столбцов).</div>"
   ]
  },
  {
   "cell_type": "markdown",
   "metadata": {},
   "source": [
    "<div style=\"background: #B0E0E6; padding: 5px; border: 1px solid SteelBlue; border-radius: 5px;\">\n",
    "    <font color='4682B4'><u><b>КОММЕНТАРИЙ СТУДЕНТА</b></u></font>\n",
    "    <br />\n",
    "    <font color='4682B4'>Добавила вывод размеров получившихся выборок.</font>\n",
    "</div>"
   ]
  },
  {
   "cell_type": "markdown",
   "metadata": {},
   "source": [
    "<div class=\"alert alert-warning\">\n",
    "<b>Комментарий 👉</b>\n",
    "\n",
    "Код очень длинный (а PEP8 определяет длину строки в 79 символов) - попробуй длинные - переносить, а между строками использовать пустые строки. Ну и желательно код комментировать, хотя бы коротко (что делаешь и каков будет результат - так твоим коллегам будет проще за твоей мыслью следить). Этот комментарий может относиться к нескольким ячейкам этой «тетрадки».\n",
    "\n",
    "Хороший разработчик форматирует и комментирует свой код, тогда другие разработчики быстрее разберутся в программе. Это важно, ведь код чаще читают, чем пишут: напишет один, а прочтут — сотни или тысячи (если код хороший). \n",
    "«Пишите код так, как будто сопровождать его будет склонный к насилию психопат, который знает, где вы живете.» ©1991, John F. Woods, разработчик\n",
    "\n",
    "---\n",
    "Давай обсудим стиль кодирования (программирования)? Смотри что сейчас происходит в этой ячейке (**не всё применимо к твоему коду здесь, но я попытался собрать и представить здесь самые ценные советы из PEP8 по организации кода**) и что можно сделать по-другому, чуть лучше:\n",
    "\n",
    "1. Комментарии к строке кода: они должны располагаться выше соответствующей строки кода (выше строки к которой относятся) и должны быть от этой строки отделены пустой строкой. Если же они расположены справа, то для того чтобы увидеть, что там написано приходится пользоваться скроллиногом. Надо добиться того, чтобы ячейку не приходилось прокручивать, т.к. это не добавляет удобства ни при отладке кода, ни для понимания что в этой ячейке \"происходит\". Как альтернатива – комментарий может размещаться выше, в Markdown-ячейке.\n",
    "    \n",
    "2. Бывает, что встречаются очень длинные строки кода, которые также уходят за правый край ячейки. Такие строки должны разбиваться разделителем (вот таким: \\\\). Это best practice, требование PEP8, а именно: PEP8 определяет длину строки в 79 символов.\n",
    "    \n",
    "3. **В идеале**: одна ячейка - одна строка кода. Почему так? Да как минимум из соображения понятности: будучи выполненной, под этой ячейкой должен отображаться результат трансформации данных. Ты или твой коллега должны видеть, как поменялись данные после выполнения ячейки с кодом. Следующая ячейка - ещё строка кода и соответствующим output'ом. Будешь делать так - коллеги будут тебе благодарны за то, что легко будут следовать за твоей мыслью. И отладку это упрощает. Ну и как противоположность - можно в одну ячейку \"положить\" результат 3-х последовательных groupby + ещё чего-нибудь. Разобраться с ходу \"что происходит\" будет очень трудно, придётся всё равно код разносить по ячейкам и смотреть последовательно что происходит. Но ведь логично это делать удобным способом сразу, ведь так?\n",
    "    \n",
    "4. Неиспользуемые, закомментированные строки выше вынеси в другую ячейку, отдельную, выше. Можешь для удобства своего прокомментировать (на память). И оставь там это код, так, чтобы он не смешивался с рабочим кодом.\n",
    "</div>\n"
   ]
  },
  {
   "cell_type": "markdown",
   "metadata": {},
   "source": [
    "<div style=\"background: #B0E0E6; padding: 5px; border: 1px solid SteelBlue; border-radius: 5px;\">\n",
    "    <font color='4682B4'><u><b>КОММЕНТАРИЙ СТУДЕНТА</b></u></font>\n",
    "    <br />\n",
    "    <font color='4682B4'>Делала проект локально в VS Code, там почему-то шире страница. Теперь буду обращать внимание на версию в Jupiter тоже. Исправила.</font>\n",
    "</div>"
   ]
  },
  {
   "cell_type": "markdown",
   "metadata": {},
   "source": [
    "<div class=\"alert alert-success\">\n",
    "<b>КОММЕНТАРИЙ V2</b>\n",
    "\n",
    "Да, мне кто-то писал, что в Вижуал Студио всё по другому выглядит ...\n",
    "</div>"
   ]
  },
  {
   "cell_type": "markdown",
   "metadata": {},
   "source": [
    "## Исследуйте модели"
   ]
  },
  {
   "cell_type": "markdown",
   "metadata": {},
   "source": [
    "Определим наилучшую `accuracy` для каждой модели: решающего дерева, случайного леса и логистической регрессии. `Accuracy` показывает долю правильных ответов модели относительно общего числа примеров."
   ]
  },
  {
   "cell_type": "code",
   "execution_count": 6,
   "metadata": {},
   "outputs": [
    {
     "name": "stdout",
     "output_type": "stream",
     "text": [
      "max_depth = 1 : 0.7542768273716952\n",
      "max_depth = 2 : 0.7822706065318819\n",
      "max_depth = 3 : 0.7853810264385692\n",
      "max_depth = 4 : 0.7791601866251944\n",
      "max_depth = 5 : 0.7791601866251944\n",
      "\n",
      "Best Accuracy: 0.7853810264385692, Best max_depth: 3\n"
     ]
    }
   ],
   "source": [
    "# создание и обучение модели решающего дерева\n",
    "# определение гиперпараметра наилучшей глубины дерева\n",
    "\n",
    "accuracy_list = []\n",
    "\n",
    "for depth in range(1, 6):\n",
    "    tree_model = DecisionTreeClassifier(random_state=12345, max_depth=depth)\n",
    "    tree_model.fit(features_train, target_train)\n",
    "    tree_predictions = tree_model.predict(features_valid)\n",
    "    accuracy = accuracy_score(target_valid, tree_predictions)\n",
    "    accuracy_list.append(accuracy)\n",
    "    print(f\"max_depth = {depth} : {accuracy}\")\n",
    "    \n",
    "tree_best_accuracy = max(accuracy_list)\n",
    "best_max_depth = accuracy_list.index(tree_best_accuracy) + 1\n",
    "        \n",
    "print(f\"\\nBest Accuracy: {tree_best_accuracy}, Best max_depth: {best_max_depth}\") "
   ]
  },
  {
   "cell_type": "markdown",
   "metadata": {},
   "source": [
    "Результаты для решающего дерева с различными значениями гиперпараметра `max_depth` показывают, что лучшая точность достигается при значении глубины равном 3."
   ]
  },
  {
   "cell_type": "markdown",
   "metadata": {},
   "source": [
    "Для определения лучшего значения количества деревьев для случайного леса можно использовать цикл for и обучить модель `RandomForestClassifier` с разным количеством деревьев, затем оценить качество модели на валидационной выборке при помощи метрики `accuracy` и сохранить результаты в список."
   ]
  },
  {
   "cell_type": "code",
   "execution_count": 7,
   "metadata": {},
   "outputs": [
    {
     "name": "stdout",
     "output_type": "stream",
     "text": [
      "n_estimators = 1 : 0.7107309486780715\n",
      "n_estimators = 2 : 0.7636080870917574\n",
      "n_estimators = 3 : 0.7387247278382582\n",
      "n_estimators = 4 : 0.7713841368584758\n",
      "n_estimators = 5 : 0.749611197511664\n",
      "n_estimators = 6 : 0.7807153965785381\n",
      "n_estimators = 7 : 0.7682737169517885\n",
      "n_estimators = 8 : 0.7822706065318819\n",
      "n_estimators = 9 : 0.7729393468118196\n",
      "n_estimators = 10 : 0.7853810264385692\n",
      "\n",
      "Best accuracy: 0.7853810264385692, Best number of estimators: 10\n"
     ]
    }
   ],
   "source": [
    "# создание и обучение модели случайного леса\n",
    "# определение гиперпараметра наилучшего кол-ва деревьев\n",
    "\n",
    "accuracy_list = []\n",
    "\n",
    "for n_estimators in range(1, 11):\n",
    "    forest_model = RandomForestClassifier(random_state=12345, n_estimators=n_estimators)\n",
    "    forest_model.fit(features_train, target_train)\n",
    "    forest_predictions = forest_model.predict(features_valid)\n",
    "    accuracy = accuracy_score(target_valid, forest_predictions)\n",
    "    accuracy_list.append(accuracy)\n",
    "    print(f\"n_estimators = {n_estimators} : {accuracy}\")\n",
    "    \n",
    "forest_best_accuracy = max(accuracy_list)\n",
    "best_n_estimators = accuracy_list.index(forest_best_accuracy) + 1\n",
    "\n",
    "print(f\"\\nBest accuracy: {forest_best_accuracy}, Best number of estimators: {best_n_estimators}\")"
   ]
  },
  {
   "cell_type": "markdown",
   "metadata": {},
   "source": [
    "На основе полученных значений, можно сделать вывод, что наиболее высокое значение метрики `accuracy` достигается при `n_estimators` = 10."
   ]
  },
  {
   "cell_type": "markdown",
   "metadata": {},
   "source": [
    "Определим наилучшую модель логистической регрессии, меняя параметр `solver`. Данный параметр определяет метод, используемый для оптимизации функции потерь. Используем 'newton-cg', 'lbfgs', 'liblinear', 'sag' и 'saga'."
   ]
  },
  {
   "cell_type": "code",
   "execution_count": 8,
   "metadata": {},
   "outputs": [
    {
     "name": "stdout",
     "output_type": "stream",
     "text": [
      "solver = newton-cg : 0.7558320373250389\n",
      "solver = lbfgs : 0.7107309486780715\n"
     ]
    },
    {
     "name": "stderr",
     "output_type": "stream",
     "text": [
      "/opt/conda/lib/python3.9/site-packages/scipy/optimize/_linesearch.py:456: LineSearchWarning: The line search algorithm did not converge\n",
      "  warn('The line search algorithm did not converge', LineSearchWarning)\n",
      "/opt/conda/lib/python3.9/site-packages/scipy/optimize/_linesearch.py:305: LineSearchWarning: The line search algorithm did not converge\n",
      "  warn('The line search algorithm did not converge', LineSearchWarning)\n",
      "/opt/conda/lib/python3.9/site-packages/scipy/optimize/_linesearch.py:456: LineSearchWarning: The line search algorithm did not converge\n",
      "  warn('The line search algorithm did not converge', LineSearchWarning)\n",
      "/opt/conda/lib/python3.9/site-packages/scipy/optimize/_linesearch.py:305: LineSearchWarning: The line search algorithm did not converge\n",
      "  warn('The line search algorithm did not converge', LineSearchWarning)\n",
      "/opt/conda/lib/python3.9/site-packages/scipy/optimize/_linesearch.py:456: LineSearchWarning: The line search algorithm did not converge\n",
      "  warn('The line search algorithm did not converge', LineSearchWarning)\n",
      "/opt/conda/lib/python3.9/site-packages/scipy/optimize/_linesearch.py:305: LineSearchWarning: The line search algorithm did not converge\n",
      "  warn('The line search algorithm did not converge', LineSearchWarning)\n",
      "/opt/conda/lib/python3.9/site-packages/scipy/optimize/_linesearch.py:305: LineSearchWarning: The line search algorithm did not converge\n",
      "  warn('The line search algorithm did not converge', LineSearchWarning)\n",
      "/opt/conda/lib/python3.9/site-packages/sklearn/utils/optimize.py:195: UserWarning: Line Search failed\n",
      "  warnings.warn('Line Search failed')\n"
     ]
    },
    {
     "name": "stdout",
     "output_type": "stream",
     "text": [
      "solver = liblinear : 0.7091757387247278\n",
      "solver = sag : 0.7076205287713841\n",
      "solver = saga : 0.7076205287713841\n",
      "Best solver: newton-cg, Accuracy: 0.7558320373250389\n"
     ]
    },
    {
     "name": "stderr",
     "output_type": "stream",
     "text": [
      "/opt/conda/lib/python3.9/site-packages/sklearn/linear_model/_sag.py:328: ConvergenceWarning: The max_iter was reached which means the coef_ did not converge\n",
      "  warnings.warn(\"The max_iter was reached which means \"\n"
     ]
    }
   ],
   "source": [
    "# создание и обучение модели логистической регрессии\n",
    "# определение гиперпараметра наилучшего метода оптимизации\n",
    "\n",
    "solvers = ['newton-cg', 'lbfgs', 'liblinear', 'sag', 'saga']\n",
    "lr_best_accuracy = 0\n",
    "lr_best_solver = None\n",
    "\n",
    "for solver in solvers:\n",
    "    lr_model = LogisticRegression(random_state=12345, solver=solver, max_iter=3000)\n",
    "    lr_model.fit(features_train, target_train)\n",
    "    lr_predictions = lr_model.predict(features_valid)\n",
    "    accuracy = accuracy_score(target_valid, lr_predictions)\n",
    "    if accuracy > lr_best_accuracy:\n",
    "        lr_best_accuracy = accuracy\n",
    "        lr_best_solver = solver\n",
    "    print(f\"solver = {solver} : {accuracy}\")\n",
    "    \n",
    "print(f\"Best solver: {lr_best_solver}, Accuracy: {lr_best_accuracy}\")\n"
   ]
  },
  {
   "cell_type": "markdown",
   "metadata": {},
   "source": [
    "Из результатов видно, что наилучшее качество достигается при использовании `solver` \"newton-cg\" с точностью 0.7558 на валидационной выборке. Остальные `solver` дают более низкое качество модели."
   ]
  },
  {
   "cell_type": "code",
   "execution_count": 9,
   "metadata": {},
   "outputs": [
    {
     "data": {
      "text/plain": [
       "True"
      ]
     },
     "execution_count": 9,
     "metadata": {},
     "output_type": "execute_result"
    }
   ],
   "source": [
    "forest_best_accuracy == tree_best_accuracy"
   ]
  },
  {
   "cell_type": "markdown",
   "metadata": {},
   "source": [
    "Точность моделей решающего дерева и случайно леса равны, но так как решающее дерево работает быстрее, то выберем эту модель для проверки на тестовой выборке. "
   ]
  },
  {
   "cell_type": "markdown",
   "metadata": {},
   "source": [
    "<div class=\"alert alert-success\">\n",
    "<b>ОТЛИЧНО! 👍</b>\n",
    "\n",
    "Здесь отлично: определили лучшую модель. На валидации ею оказалась модель \"решающего дерева\". \n",
    "\n",
    "После того, как лучшая модель найдена – тестируем её (можно - только её) на тестовых данных. Все прочие модели нас уже больше не интересуют. \n",
    "</div>"
   ]
  },
  {
   "cell_type": "markdown",
   "metadata": {},
   "source": [
    "## Проверьте модель на тестовой выборке"
   ]
  },
  {
   "cell_type": "markdown",
   "metadata": {},
   "source": [
    "Проверим выбранную модель решающего дерева с глубиной = 3 на тестовой выборке."
   ]
  },
  {
   "cell_type": "code",
   "execution_count": 10,
   "metadata": {},
   "outputs": [
    {
     "name": "stdout",
     "output_type": "stream",
     "text": [
      "Accuracy: 0.7791601866251944\n"
     ]
    }
   ],
   "source": [
    "tree_model = DecisionTreeClassifier(random_state=12345, max_depth=3)\n",
    "tree_model.fit(features_train, target_train)\n",
    "tree_predictions = tree_model.predict(features_test)\n",
    "accuracy = accuracy_score(target_test, tree_predictions)\n",
    "print(f\"Accuracy: {accuracy}\")"
   ]
  },
  {
   "cell_type": "markdown",
   "metadata": {},
   "source": [
    "Отлично, получилось добиться хорошего качества на тестовой выборке!"
   ]
  },
  {
   "cell_type": "markdown",
   "metadata": {},
   "source": [
    "<div class=\"alert alert-success\">\n",
    "<b>ОТЛИЧНО! 👍</b>\n",
    "\n",
    "Здесь отлично: проверили \"качество\" нашей лучшей модели на тестовых данных.\n",
    "</div>"
   ]
  },
  {
   "cell_type": "markdown",
   "metadata": {},
   "source": [
    "## (бонус) Проверьте модели на адекватность"
   ]
  },
  {
   "cell_type": "markdown",
   "metadata": {},
   "source": [
    "При разработке модели машинного обучения одной из ключевых задач является проверка ее на вменяемость, то есть на адекватность и разумность ее результатов. Необходимо убедиться в том, что наша модель способна давать логичные и рациональные предсказания и не переобучена.\n",
    "\n",
    "Существует несколько методов проверки модели на вменяемость, одним из которых является сравнение результатов работы модели с результатами случайного угадывания. Если модель не превосходит случайного угадывания, то можно сделать вывод, что она не обладает способностью предсказывать данные лучше, чем случайным образом.\n",
    "\n",
    "Для проведения такого сравнения мы можем использовать класс DummyClassifier из библиотеки scikit-learn. DummyClassifier со стратегией \"uniform\" будет выдавать случайные предсказания с одинаковой вероятностью для каждого класса, то есть вероятность попадания в каждый класс будет равна 1/n, где n - количество классов."
   ]
  },
  {
   "cell_type": "code",
   "execution_count": 11,
   "metadata": {},
   "outputs": [
    {
     "name": "stdout",
     "output_type": "stream",
     "text": [
      "Dummy accuracy: 0.4867807153965785\n",
      "Model is better than dummy\n"
     ]
    }
   ],
   "source": [
    "# создание объекта классификатора со стратегией \"uniform\"\n",
    "dummy_clf = DummyClassifier(strategy=\"uniform\", random_state=123)\n",
    "\n",
    "# обучение классификатора на тренировочных данных\n",
    "dummy_clf.fit(features_train, target_train)\n",
    "\n",
    "# получение предсказаний классификатора на валидационных данных\n",
    "dummy_predictions = dummy_clf.predict(features_valid)\n",
    "\n",
    "# вычисление метрики accuracy для DummyClassifier\n",
    "dummy_accuracy = accuracy_score(target_valid, dummy_predictions)\n",
    "\n",
    "print(f\"Dummy accuracy: {dummy_accuracy}\")\n",
    "\n",
    "# сравнение accuracy выбранной модели и DummyClassifier\n",
    "if accuracy < dummy_accuracy:\n",
    "    print(\"Model is not better than dummy\")\n",
    "else:\n",
    "    print(\"Model is better than dummy\")\n"
   ]
  },
  {
   "cell_type": "markdown",
   "metadata": {},
   "source": [
    "<div class=\"alert alert-success\">\n",
    "<b>ОТЛИЧНО! 👍</b>\n",
    "\n",
    "Верно, здесь мы используем простейшую (dummy) модель: DummyClassifier (для нашей задачи бинарной классификации). DummyClassifier \"предсказывает\" наиболее часто встречающийся класс. Здесь мы получаем контрольную accuracy, чтобы сравнить её с результатом работы нашей самой лучшей модели. Ну и конечно, из общих соображений понятно, что наша лучшая модель должна \"побить\" DummyClassifier.\n",
    "    \n",
    "p.s. (на перспективу!): можно было бы построить Confusion Matrix, чтобы детально посмотреть где ошибается модель. Подробнее о Confusion Matrix: https://neptune.ai/blog/evaluation-metrics-binary-classification     \n",
    "</div>"
   ]
  },
  {
   "cell_type": "markdown",
   "metadata": {},
   "source": [
    "Результаты модели решающего дерева с глубиной = 3 лучше, чем результат при случайном угадывании. Значит можно сделать вывод о том, что наша модель является адекватной."
   ]
  },
  {
   "cell_type": "markdown",
   "metadata": {},
   "source": [
    "## Вывод"
   ]
  },
  {
   "cell_type": "markdown",
   "metadata": {},
   "source": [
    "Итак, мы провели исследование для построения модели, которая бы помогала предложить пользователям новый тариф на основании их поведения. Мы использовали различные методы машинного обучения, такие как логистическую регрессию, случайный лес и решающее дерево, с различными гиперпараметрами.\n",
    "\n",
    "Мы сравнили результаты моделей, используя метрику `accuracy`, и выбрали лучшую модель, которой оказалось решающее дерево с глубиной 3.\n",
    "\n",
    "Для проверки вменяемости модели мы использовали DummyClassifier, который выдает случайные предсказания. Результаты показали, что выбранная модель превосходит случайное угадывание, что подтверждает адекватность модели.\n",
    "\n",
    "Итоговая модель показала точность предсказания на тестовой выборке 77.9%, что говорит о том, что модель способна предсказывать подходящий тариф с достаточной точностью."
   ]
  },
  {
   "cell_type": "markdown",
   "metadata": {},
   "source": [
    "<div class=\"alert alert-success\">\n",
    "<b>ОТЛИЧНО! 👍</b>\n",
    "\n",
    "Всё отлично, результат достигнут.\n",
    "    \n",
    "Один совет (также, на будущее): как попытаться улучшить полученный результат, с минимум усилий? Ответ: мы использовали train для обучения модели, а valid - для поиска лучших значений гиперпараметров. Лучшие параметры нашли. Так почему бы теперь наши модели с выбранными гиперпараметрами не обучить на *общей* (тренировочной + валидационной) выборке (pd.concat() можно использовать для объединения). Чем больше данных, тем *лучше* модели смогут обучиться (надо проверять!). И вот теперь эту дообученную модель мы уже финально проверим на тестовой выборке (test).\n",
    "\n",
    "Но следует учесть вот какой момент: нужно быть аккуратным с подобным «улучшением», если мы кодируем или масштабируем наши выборки. Например, в следующем проекте мы обучаемся на train’е, а затем делаем transform на валидации и тесте. Если после этого объединить трейн и валид, то это будет не совсем верно.\n",
    "\n",
    "p.s. а вообще, достижение высокого скора не такая простая задача. Много моментов может влиять (подбор гиперпараметров - всего лишь один из них). В этой конкретно задаче мне кажется, что данных маловато, а также, возможно и фичей (столбцов в наших данных). Из-за этого модели не могут точно \"настроиться на данные\".\n",
    "</div>"
   ]
  },
  {
   "cell_type": "markdown",
   "metadata": {},
   "source": [
    "## Чек-лист готовности проекта"
   ]
  },
  {
   "cell_type": "markdown",
   "metadata": {},
   "source": [
    "Поставьте 'x' в выполненных пунктах. Далее нажмите Shift+Enter."
   ]
  },
  {
   "cell_type": "markdown",
   "metadata": {},
   "source": [
    "- [x] Jupyter Notebook открыт\n",
    "- [x] Весь код исполняется без ошибок\n",
    "- [x] Ячейки с кодом расположены в порядке исполнения\n",
    "- [x] Выполнено задание 1: данные загружены и изучены\n",
    "- [x] Выполнено задание 2: данные разбиты на три выборки\n",
    "- [x] Выполнено задание 3: проведено исследование моделей\n",
    "    - [x] Рассмотрено больше одной модели\n",
    "    - [x] Рассмотрено хотя бы 3 значения гипепараметров для какой-нибудь модели\n",
    "    - [x] Написаны выводы по результатам исследования\n",
    "- [x] Выполнено задание 3: Проведено тестирование\n",
    "- [x] Удалось достичь accuracy не меньше 0.75\n"
   ]
  },
  {
   "cell_type": "markdown",
   "metadata": {},
   "source": [
    "<div class=\"alert alert-success\">\n",
    "<b>ОТЛИЧНО! 👍</b>\n",
    "\n",
    "Ольга, у тебя хорошая работа, все четко, осмысленно. Выводы присутствуют, с комментированием кода тоже никаких проблем нет.\n",
    "\n",
    "Я оставил ряд советов на будущее (на результат этого проекта они не влияют). \n",
    "\n",
    "Я отправляю тебе проект ещё раз лишь для того, чтобы удостовериться что у тебя нет вопросов ко мне. Если их нет - пошли мне тетрадку ещё раз, и я тут же, без слов приму твою работу! \n",
    "</div>\n"
   ]
  },
  {
   "cell_type": "markdown",
   "metadata": {},
   "source": [
    "<div style=\"background: #B0E0E6; padding: 5px; border: 1px solid SteelBlue; border-radius: 5px;\">\n",
    "    <font color='4682B4'><u><b>КОММЕНТАРИЙ СТУДЕНТА</b></u></font>\n",
    "    <br />\n",
    "    <font color='4682B4'>Вопросов нет) Ушла читать статьи по твоим ссылкам. И спасибо за развернутые комментарии, которые мне помогут в будущих проектах, Александр.</font>\n",
    "</div>"
   ]
  },
  {
   "cell_type": "markdown",
   "metadata": {},
   "source": [
    "<div class=\"alert alert-success\">\n",
    "<b>КОММЕНТАРИЙ V2</b>\n",
    "\n",
    "Не за что, Ольга! Был рад помочь! Сейчас, по факту приёма проекта я тебе ещё материалов в почту пришлю!\n",
    "</div>"
   ]
  }
 ],
 "metadata": {
  "ExecuteTimeLog": [
   {
    "duration": 1126,
    "start_time": "2023-02-20T23:11:46.541Z"
   },
   {
    "duration": 170,
    "start_time": "2023-02-20T23:11:47.669Z"
   },
   {
    "duration": 0,
    "start_time": "2023-02-20T23:11:47.841Z"
   },
   {
    "duration": 0,
    "start_time": "2023-02-20T23:11:47.842Z"
   },
   {
    "duration": 0,
    "start_time": "2023-02-20T23:11:47.843Z"
   },
   {
    "duration": 0,
    "start_time": "2023-02-20T23:11:47.844Z"
   },
   {
    "duration": 0,
    "start_time": "2023-02-20T23:11:47.845Z"
   },
   {
    "duration": 0,
    "start_time": "2023-02-20T23:11:47.846Z"
   },
   {
    "duration": 0,
    "start_time": "2023-02-20T23:11:47.847Z"
   },
   {
    "duration": 0,
    "start_time": "2023-02-20T23:11:47.849Z"
   },
   {
    "duration": 0,
    "start_time": "2023-02-20T23:11:47.850Z"
   },
   {
    "duration": 4,
    "start_time": "2023-02-20T23:13:08.621Z"
   },
   {
    "duration": 218,
    "start_time": "2023-02-20T23:13:08.628Z"
   },
   {
    "duration": 11,
    "start_time": "2023-02-20T23:13:08.848Z"
   },
   {
    "duration": 1095,
    "start_time": "2023-02-20T23:13:08.861Z"
   },
   {
    "duration": 8,
    "start_time": "2023-02-20T23:13:09.959Z"
   },
   {
    "duration": 183,
    "start_time": "2023-02-20T23:13:09.969Z"
   },
   {
    "duration": 307,
    "start_time": "2023-02-20T23:13:10.154Z"
   },
   {
    "duration": 1295,
    "start_time": "2023-02-20T23:13:10.462Z"
   },
   {
    "duration": 5,
    "start_time": "2023-02-20T23:13:11.758Z"
   },
   {
    "duration": 19,
    "start_time": "2023-02-20T23:13:11.764Z"
   },
   {
    "duration": 19,
    "start_time": "2023-02-20T23:13:11.792Z"
   },
   {
    "duration": 1991,
    "start_time": "2023-02-21T03:05:18.962Z"
   },
   {
    "duration": 45,
    "start_time": "2023-02-21T03:05:20.955Z"
   },
   {
    "duration": 12,
    "start_time": "2023-02-21T03:05:21.002Z"
   },
   {
    "duration": 1047,
    "start_time": "2023-02-21T03:05:21.016Z"
   },
   {
    "duration": 9,
    "start_time": "2023-02-21T03:05:22.067Z"
   },
   {
    "duration": 40,
    "start_time": "2023-02-21T03:05:22.078Z"
   },
   {
    "duration": 304,
    "start_time": "2023-02-21T03:05:22.120Z"
   },
   {
    "duration": 1237,
    "start_time": "2023-02-21T03:05:22.425Z"
   },
   {
    "duration": 4,
    "start_time": "2023-02-21T03:05:23.664Z"
   },
   {
    "duration": 22,
    "start_time": "2023-02-21T03:05:23.670Z"
   },
   {
    "duration": 7,
    "start_time": "2023-02-21T03:05:23.694Z"
   },
   {
    "duration": 54,
    "start_time": "2023-02-21T09:17:45.283Z"
   },
   {
    "duration": 1153,
    "start_time": "2023-02-21T09:17:59.774Z"
   },
   {
    "duration": 96,
    "start_time": "2023-02-21T09:18:00.928Z"
   },
   {
    "duration": 11,
    "start_time": "2023-02-21T09:18:01.026Z"
   },
   {
    "duration": 1040,
    "start_time": "2023-02-21T09:18:01.039Z"
   },
   {
    "duration": 11,
    "start_time": "2023-02-21T09:18:13.953Z"
   },
   {
    "duration": 16,
    "start_time": "2023-02-21T09:18:25.676Z"
   },
   {
    "duration": 9,
    "start_time": "2023-02-21T09:21:12.451Z"
   },
   {
    "duration": 32,
    "start_time": "2023-02-21T09:23:29.552Z"
   },
   {
    "duration": 254,
    "start_time": "2023-02-21T09:23:40.147Z"
   },
   {
    "duration": 1273,
    "start_time": "2023-02-21T09:24:08.153Z"
   },
   {
    "duration": 1058,
    "start_time": "2023-02-21T09:32:05.606Z"
   },
   {
    "duration": 52,
    "start_time": "2023-02-21T09:32:06.666Z"
   },
   {
    "duration": 15,
    "start_time": "2023-02-21T09:32:06.720Z"
   },
   {
    "duration": 786,
    "start_time": "2023-02-21T09:32:06.737Z"
   },
   {
    "duration": 9,
    "start_time": "2023-02-21T09:32:07.525Z"
   },
   {
    "duration": 36,
    "start_time": "2023-02-21T09:32:07.536Z"
   },
   {
    "duration": 263,
    "start_time": "2023-02-21T09:32:07.574Z"
   },
   {
    "duration": 1109,
    "start_time": "2023-02-21T09:32:07.839Z"
   },
   {
    "duration": 5,
    "start_time": "2023-02-21T09:32:08.949Z"
   },
   {
    "duration": 22,
    "start_time": "2023-02-21T09:32:08.955Z"
   },
   {
    "duration": 6,
    "start_time": "2023-02-21T09:32:08.978Z"
   }
  ],
  "kernelspec": {
   "display_name": "Python 3 (ipykernel)",
   "language": "python",
   "name": "python3"
  },
  "language_info": {
   "codemirror_mode": {
    "name": "ipython",
    "version": 3
   },
   "file_extension": ".py",
   "mimetype": "text/x-python",
   "name": "python",
   "nbconvert_exporter": "python",
   "pygments_lexer": "ipython3",
   "version": "3.9.5"
  },
  "toc": {
   "base_numbering": 1,
   "nav_menu": {},
   "number_sections": true,
   "sideBar": true,
   "skip_h1_title": true,
   "title_cell": "Table of Contents",
   "title_sidebar": "Contents",
   "toc_cell": false,
   "toc_position": {
    "height": "calc(100% - 180px)",
    "left": "10px",
    "top": "150px",
    "width": "165px"
   },
   "toc_section_display": true,
   "toc_window_display": true
  },
  "vscode": {
   "interpreter": {
    "hash": "2dc1fe15eef91893215877acb15f39f04dd70a4d9d79c5f6fa65f488f99a97bd"
   }
  }
 },
 "nbformat": 4,
 "nbformat_minor": 2
}
