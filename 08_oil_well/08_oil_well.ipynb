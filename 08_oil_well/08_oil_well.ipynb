{
 "cells": [
  {
   "cell_type": "markdown",
   "metadata": {},
   "source": [
    "# Выбор локации для скважины"
   ]
  },
  {
   "cell_type": "markdown",
   "metadata": {},
   "source": [
    "Допустим, вы работаете в добывающей компании «ГлавРосГосНефть». Нужно решить, где бурить новую скважину.\n",
    "\n",
    "Вам предоставлены пробы нефти в трёх регионах: в каждом 10 000 месторождений, где измерили качество нефти и объём её запасов. Постройте модель машинного обучения, которая поможет определить регион, где добыча принесёт наибольшую прибыль. Проанализируйте возможную прибыль и риски техникой *Bootstrap.*\n",
    "\n",
    "Шаги для выбора локации:\n",
    "\n",
    "- В избранном регионе ищут месторождения, для каждого определяют значения признаков;\n",
    "- Строят модель и оценивают объём запасов;\n",
    "- Выбирают месторождения с самым высокими оценками значений. Количество месторождений зависит от бюджета компании и стоимости разработки одной скважины;\n",
    "- Прибыль равна суммарной прибыли отобранных месторождений.\n",
    "\n",
    "Описание данных:\n",
    "\n",
    "- id — уникальный идентификатор скважины;\n",
    "- f0, f1, f2 — три признака точек (неважно, что они означают, но сами признаки значимы);\n",
    "- product — объём запасов в скважине (тыс. баррелей).\n",
    "\n",
    "Условия задачи:\n",
    "\n",
    "- Для обучения модели подходит только линейная регрессия (остальные — недостаточно предсказуемые).\n",
    "- При разведке региона исследуют 500 точек, из которых с помощью машинного обучения выбирают 200 лучших для разработки.\n",
    "- Бюджет на разработку скважин в регионе — 10 млрд рублей.\n",
    "- При нынешних ценах один баррель сырья приносит 450 рублей дохода. Доход с каждой единицы продукта составляет 450 тыс. рублей, поскольку объём указан в тысячах баррелей.\n",
    "- После оценки рисков нужно оставить лишь те регионы, в которых вероятность убытков меньше 2.5%. Среди них выбирают регион с наибольшей средней прибылью.\n",
    "\n",
    "Данные синтетические: детали контрактов и характеристики месторождений не разглашаются."
   ]
  },
  {
   "cell_type": "markdown",
   "metadata": {},
   "source": [
    "<div class='alert alert-success'> ✔️Хорошо, что есть описание, по прошествии времени оно поможет сориентироваться в работе и восстановить схему своих действий.\n",
    "\n",
    "\n",
    "\n",
    "</div>"
   ]
  },
  {
   "cell_type": "markdown",
   "metadata": {},
   "source": [
    "## Загрузка и подготовка данных"
   ]
  },
  {
   "cell_type": "code",
   "execution_count": 12,
   "metadata": {},
   "outputs": [],
   "source": [
    "import pandas as pd\n",
    "import numpy as np\n",
    "from scipy import stats\n",
    "from IPython.display import display\n",
    "from sklearn.preprocessing import StandardScaler\n",
    "from sklearn.model_selection import train_test_split\n",
    "from sklearn.linear_model import LinearRegression\n",
    "from sklearn.metrics import mean_squared_error"
   ]
  },
  {
   "cell_type": "code",
   "execution_count": 13,
   "metadata": {},
   "outputs": [],
   "source": [
    "data_0 = pd.read_csv('/datasets/geo_data_0.csv')\n",
    "data_1 = pd.read_csv('/datasets/geo_data_1.csv')\n",
    "data_2 = pd.read_csv('/datasets/geo_data_2.csv')"
   ]
  },
  {
   "cell_type": "markdown",
   "metadata": {},
   "source": [
    "Посмотрим на первые строки и общую информацию о данных:"
   ]
  },
  {
   "cell_type": "code",
   "execution_count": 14,
   "metadata": {},
   "outputs": [
    {
     "data": {
      "text/html": [
       "<div>\n",
       "<style scoped>\n",
       "    .dataframe tbody tr th:only-of-type {\n",
       "        vertical-align: middle;\n",
       "    }\n",
       "\n",
       "    .dataframe tbody tr th {\n",
       "        vertical-align: top;\n",
       "    }\n",
       "\n",
       "    .dataframe thead th {\n",
       "        text-align: right;\n",
       "    }\n",
       "</style>\n",
       "<table border=\"1\" class=\"dataframe\">\n",
       "  <thead>\n",
       "    <tr style=\"text-align: right;\">\n",
       "      <th></th>\n",
       "      <th>id</th>\n",
       "      <th>f0</th>\n",
       "      <th>f1</th>\n",
       "      <th>f2</th>\n",
       "      <th>product</th>\n",
       "    </tr>\n",
       "  </thead>\n",
       "  <tbody>\n",
       "    <tr>\n",
       "      <th>0</th>\n",
       "      <td>txEyH</td>\n",
       "      <td>0.705745</td>\n",
       "      <td>-0.497823</td>\n",
       "      <td>1.221170</td>\n",
       "      <td>105.280062</td>\n",
       "    </tr>\n",
       "    <tr>\n",
       "      <th>1</th>\n",
       "      <td>2acmU</td>\n",
       "      <td>1.334711</td>\n",
       "      <td>-0.340164</td>\n",
       "      <td>4.365080</td>\n",
       "      <td>73.037750</td>\n",
       "    </tr>\n",
       "    <tr>\n",
       "      <th>2</th>\n",
       "      <td>409Wp</td>\n",
       "      <td>1.022732</td>\n",
       "      <td>0.151990</td>\n",
       "      <td>1.419926</td>\n",
       "      <td>85.265647</td>\n",
       "    </tr>\n",
       "    <tr>\n",
       "      <th>3</th>\n",
       "      <td>iJLyR</td>\n",
       "      <td>-0.032172</td>\n",
       "      <td>0.139033</td>\n",
       "      <td>2.978566</td>\n",
       "      <td>168.620776</td>\n",
       "    </tr>\n",
       "    <tr>\n",
       "      <th>4</th>\n",
       "      <td>Xdl7t</td>\n",
       "      <td>1.988431</td>\n",
       "      <td>0.155413</td>\n",
       "      <td>4.751769</td>\n",
       "      <td>154.036647</td>\n",
       "    </tr>\n",
       "  </tbody>\n",
       "</table>\n",
       "</div>"
      ],
      "text/plain": [
       "      id        f0        f1        f2     product\n",
       "0  txEyH  0.705745 -0.497823  1.221170  105.280062\n",
       "1  2acmU  1.334711 -0.340164  4.365080   73.037750\n",
       "2  409Wp  1.022732  0.151990  1.419926   85.265647\n",
       "3  iJLyR -0.032172  0.139033  2.978566  168.620776\n",
       "4  Xdl7t  1.988431  0.155413  4.751769  154.036647"
      ]
     },
     "metadata": {},
     "output_type": "display_data"
    },
    {
     "name": "stdout",
     "output_type": "stream",
     "text": [
      "<class 'pandas.core.frame.DataFrame'>\n",
      "RangeIndex: 100000 entries, 0 to 99999\n",
      "Data columns (total 5 columns):\n",
      " #   Column   Non-Null Count   Dtype  \n",
      "---  ------   --------------   -----  \n",
      " 0   id       100000 non-null  object \n",
      " 1   f0       100000 non-null  float64\n",
      " 2   f1       100000 non-null  float64\n",
      " 3   f2       100000 non-null  float64\n",
      " 4   product  100000 non-null  float64\n",
      "dtypes: float64(4), object(1)\n",
      "memory usage: 3.8+ MB\n"
     ]
    }
   ],
   "source": [
    "display(data_0.head())\n",
    "data_0.info()"
   ]
  },
  {
   "cell_type": "code",
   "execution_count": 15,
   "metadata": {},
   "outputs": [
    {
     "data": {
      "text/html": [
       "<div>\n",
       "<style scoped>\n",
       "    .dataframe tbody tr th:only-of-type {\n",
       "        vertical-align: middle;\n",
       "    }\n",
       "\n",
       "    .dataframe tbody tr th {\n",
       "        vertical-align: top;\n",
       "    }\n",
       "\n",
       "    .dataframe thead th {\n",
       "        text-align: right;\n",
       "    }\n",
       "</style>\n",
       "<table border=\"1\" class=\"dataframe\">\n",
       "  <thead>\n",
       "    <tr style=\"text-align: right;\">\n",
       "      <th></th>\n",
       "      <th>id</th>\n",
       "      <th>f0</th>\n",
       "      <th>f1</th>\n",
       "      <th>f2</th>\n",
       "      <th>product</th>\n",
       "    </tr>\n",
       "  </thead>\n",
       "  <tbody>\n",
       "    <tr>\n",
       "      <th>0</th>\n",
       "      <td>kBEdx</td>\n",
       "      <td>-15.001348</td>\n",
       "      <td>-8.276000</td>\n",
       "      <td>-0.005876</td>\n",
       "      <td>3.179103</td>\n",
       "    </tr>\n",
       "    <tr>\n",
       "      <th>1</th>\n",
       "      <td>62mP7</td>\n",
       "      <td>14.272088</td>\n",
       "      <td>-3.475083</td>\n",
       "      <td>0.999183</td>\n",
       "      <td>26.953261</td>\n",
       "    </tr>\n",
       "    <tr>\n",
       "      <th>2</th>\n",
       "      <td>vyE1P</td>\n",
       "      <td>6.263187</td>\n",
       "      <td>-5.948386</td>\n",
       "      <td>5.001160</td>\n",
       "      <td>134.766305</td>\n",
       "    </tr>\n",
       "    <tr>\n",
       "      <th>3</th>\n",
       "      <td>KcrkZ</td>\n",
       "      <td>-13.081196</td>\n",
       "      <td>-11.506057</td>\n",
       "      <td>4.999415</td>\n",
       "      <td>137.945408</td>\n",
       "    </tr>\n",
       "    <tr>\n",
       "      <th>4</th>\n",
       "      <td>AHL4O</td>\n",
       "      <td>12.702195</td>\n",
       "      <td>-8.147433</td>\n",
       "      <td>5.004363</td>\n",
       "      <td>134.766305</td>\n",
       "    </tr>\n",
       "  </tbody>\n",
       "</table>\n",
       "</div>"
      ],
      "text/plain": [
       "      id         f0         f1        f2     product\n",
       "0  kBEdx -15.001348  -8.276000 -0.005876    3.179103\n",
       "1  62mP7  14.272088  -3.475083  0.999183   26.953261\n",
       "2  vyE1P   6.263187  -5.948386  5.001160  134.766305\n",
       "3  KcrkZ -13.081196 -11.506057  4.999415  137.945408\n",
       "4  AHL4O  12.702195  -8.147433  5.004363  134.766305"
      ]
     },
     "metadata": {},
     "output_type": "display_data"
    },
    {
     "name": "stdout",
     "output_type": "stream",
     "text": [
      "<class 'pandas.core.frame.DataFrame'>\n",
      "RangeIndex: 100000 entries, 0 to 99999\n",
      "Data columns (total 5 columns):\n",
      " #   Column   Non-Null Count   Dtype  \n",
      "---  ------   --------------   -----  \n",
      " 0   id       100000 non-null  object \n",
      " 1   f0       100000 non-null  float64\n",
      " 2   f1       100000 non-null  float64\n",
      " 3   f2       100000 non-null  float64\n",
      " 4   product  100000 non-null  float64\n",
      "dtypes: float64(4), object(1)\n",
      "memory usage: 3.8+ MB\n"
     ]
    }
   ],
   "source": [
    "display(data_1.head())\n",
    "data_1.info()"
   ]
  },
  {
   "cell_type": "code",
   "execution_count": 16,
   "metadata": {},
   "outputs": [
    {
     "data": {
      "text/html": [
       "<div>\n",
       "<style scoped>\n",
       "    .dataframe tbody tr th:only-of-type {\n",
       "        vertical-align: middle;\n",
       "    }\n",
       "\n",
       "    .dataframe tbody tr th {\n",
       "        vertical-align: top;\n",
       "    }\n",
       "\n",
       "    .dataframe thead th {\n",
       "        text-align: right;\n",
       "    }\n",
       "</style>\n",
       "<table border=\"1\" class=\"dataframe\">\n",
       "  <thead>\n",
       "    <tr style=\"text-align: right;\">\n",
       "      <th></th>\n",
       "      <th>id</th>\n",
       "      <th>f0</th>\n",
       "      <th>f1</th>\n",
       "      <th>f2</th>\n",
       "      <th>product</th>\n",
       "    </tr>\n",
       "  </thead>\n",
       "  <tbody>\n",
       "    <tr>\n",
       "      <th>0</th>\n",
       "      <td>fwXo0</td>\n",
       "      <td>-1.146987</td>\n",
       "      <td>0.963328</td>\n",
       "      <td>-0.828965</td>\n",
       "      <td>27.758673</td>\n",
       "    </tr>\n",
       "    <tr>\n",
       "      <th>1</th>\n",
       "      <td>WJtFt</td>\n",
       "      <td>0.262778</td>\n",
       "      <td>0.269839</td>\n",
       "      <td>-2.530187</td>\n",
       "      <td>56.069697</td>\n",
       "    </tr>\n",
       "    <tr>\n",
       "      <th>2</th>\n",
       "      <td>ovLUW</td>\n",
       "      <td>0.194587</td>\n",
       "      <td>0.289035</td>\n",
       "      <td>-5.586433</td>\n",
       "      <td>62.871910</td>\n",
       "    </tr>\n",
       "    <tr>\n",
       "      <th>3</th>\n",
       "      <td>q6cA6</td>\n",
       "      <td>2.236060</td>\n",
       "      <td>-0.553760</td>\n",
       "      <td>0.930038</td>\n",
       "      <td>114.572842</td>\n",
       "    </tr>\n",
       "    <tr>\n",
       "      <th>4</th>\n",
       "      <td>WPMUX</td>\n",
       "      <td>-0.515993</td>\n",
       "      <td>1.716266</td>\n",
       "      <td>5.899011</td>\n",
       "      <td>149.600746</td>\n",
       "    </tr>\n",
       "  </tbody>\n",
       "</table>\n",
       "</div>"
      ],
      "text/plain": [
       "      id        f0        f1        f2     product\n",
       "0  fwXo0 -1.146987  0.963328 -0.828965   27.758673\n",
       "1  WJtFt  0.262778  0.269839 -2.530187   56.069697\n",
       "2  ovLUW  0.194587  0.289035 -5.586433   62.871910\n",
       "3  q6cA6  2.236060 -0.553760  0.930038  114.572842\n",
       "4  WPMUX -0.515993  1.716266  5.899011  149.600746"
      ]
     },
     "metadata": {},
     "output_type": "display_data"
    },
    {
     "name": "stdout",
     "output_type": "stream",
     "text": [
      "<class 'pandas.core.frame.DataFrame'>\n",
      "RangeIndex: 100000 entries, 0 to 99999\n",
      "Data columns (total 5 columns):\n",
      " #   Column   Non-Null Count   Dtype  \n",
      "---  ------   --------------   -----  \n",
      " 0   id       100000 non-null  object \n",
      " 1   f0       100000 non-null  float64\n",
      " 2   f1       100000 non-null  float64\n",
      " 3   f2       100000 non-null  float64\n",
      " 4   product  100000 non-null  float64\n",
      "dtypes: float64(4), object(1)\n",
      "memory usage: 3.8+ MB\n"
     ]
    }
   ],
   "source": [
    "display(data_2.head())\n",
    "data_2.info()"
   ]
  },
  {
   "cell_type": "markdown",
   "metadata": {},
   "source": [
    "Удалим столбец 'id', так как он не является информативным для обучения модели."
   ]
  },
  {
   "cell_type": "code",
   "execution_count": 17,
   "metadata": {},
   "outputs": [],
   "source": [
    "data_0.drop('id', axis=1, inplace=True)\n",
    "data_1.drop('id', axis=1, inplace=True)\n",
    "data_2.drop('id', axis=1, inplace=True)"
   ]
  },
  {
   "cell_type": "markdown",
   "metadata": {},
   "source": [
    "<div class='alert alert-success'> ✔️ Отмечу, что колонка id, с одной стороны, как ты пишешь, является неинформативным для модели идентификатором, с другой содержит дубли, что в других задачах могло стать проблемой. \n",
    "</div>"
   ]
  },
  {
   "cell_type": "markdown",
   "metadata": {},
   "source": [
    "Проверим данные на наличие дубликатов."
   ]
  },
  {
   "cell_type": "code",
   "execution_count": 18,
   "metadata": {},
   "outputs": [
    {
     "name": "stdout",
     "output_type": "stream",
     "text": [
      "Количество дубликатов в data_0: 0\n",
      "Количество дубликатов в data_1: 0\n",
      "Количество дубликатов в data_2: 0\n"
     ]
    }
   ],
   "source": [
    "print(\"Количество дубликатов в data_0:\", data_0.duplicated().sum())\n",
    "print(\"Количество дубликатов в data_1:\", data_1.duplicated().sum())\n",
    "print(\"Количество дубликатов в data_2:\", data_2.duplicated().sum())"
   ]
  },
  {
   "cell_type": "markdown",
   "metadata": {},
   "source": [
    "Дубликаты отсутствуют."
   ]
  },
  {
   "cell_type": "markdown",
   "metadata": {},
   "source": [
    "Разделим данные на признаки и целевой признак:"
   ]
  },
  {
   "cell_type": "code",
   "execution_count": 19,
   "metadata": {},
   "outputs": [],
   "source": [
    "features_0 = data_0.drop('product', axis=1)\n",
    "target_0 = data_0['product']\n",
    "\n",
    "features_1 = data_1.drop('product', axis=1)\n",
    "target_1 = data_1['product']\n",
    "\n",
    "features_2 = data_2.drop('product', axis=1)\n",
    "target_2 = data_2['product']"
   ]
  },
  {
   "cell_type": "markdown",
   "metadata": {},
   "source": [
    "<div class='alert alert-warning'>⚠️\n",
    "Хорошо, но правильнее fit scaler-а делать на train выборке(<a href='https://dzen.ru/media/id/5ee6f73b7cadb75a66e4c7e3/kak-sdelat-preprocessing-nadejnee-i-sokratit-kod-v-tri-raza-640dbee70a7c6b686e54bf27'>как здесь</a>), так как модель о распределении параметров точек из других выборок на этапе обучения может не знать. Я бы в функцию ниже его советовал занести\n",
    "\n",
    "\n",
    "</div>"
   ]
  },
  {
   "cell_type": "markdown",
   "metadata": {},
   "source": [
    "<div class=\"alert alert-info\">\n",
    "Согласна с замечанием, масштабирование признаков должно происходить на обучающей выборке.\n",
    "</div>"
   ]
  },
  {
   "cell_type": "markdown",
   "metadata": {},
   "source": [
    "<div class='alert alert-success'> ✔️(2)👍\n",
    "</div>"
   ]
  },
  {
   "cell_type": "markdown",
   "metadata": {},
   "source": [
    "Теперь у нас подготовлены данные для каждого региона, которые можно использовать для обучения и валидации модели линейной регрессии."
   ]
  },
  {
   "cell_type": "markdown",
   "metadata": {},
   "source": [
    "## Обучение и проверка модели"
   ]
  },
  {
   "cell_type": "markdown",
   "metadata": {},
   "source": [
    "Обучим и проверим модель для каждого региона:\n",
    "\n",
    "1. Разобьём данные на обучающую и валидационную выборки в соотношении 75:25.\n",
    "2. Обучим модель и сделаем предсказания на валидационной выборке.\n",
    "3. Сохраним предсказания и правильные ответы на валидационной выборке.\n",
    "4. Выведем на экран средний запас предсказанного сырья и RMSE модели.\n",
    "\n",
    "Напишем функцию, объединяющую обучение модели и вывод результатов:"
   ]
  },
  {
   "cell_type": "code",
   "execution_count": 20,
   "metadata": {},
   "outputs": [],
   "source": [
    "def train_and_evaluate_model(features, target):\n",
    "    # Разбиваем данные на обучающую и валидационную выборки (75:25)\n",
    "    X_train, X_valid, y_train, y_valid = train_test_split(features, target, test_size=0.25, random_state=42)\n",
    "    \n",
    "    # Масштабируем признаки\n",
    "    scaler = StandardScaler()\n",
    "    X_train_scaled = scaler.fit_transform(X_train)\n",
    "    X_valid_scaled = scaler.transform(X_valid)\n",
    "\n",
    "    # Обучаем модель линейной регрессии\n",
    "    model = LinearRegression()\n",
    "    model.fit(X_train_scaled, y_train)\n",
    "\n",
    "    # Делаем предсказания на валидационной выборке\n",
    "    y_pred = model.predict(X_valid_scaled)\n",
    "\n",
    "    # Считаем метрики: средний запас предсказанного сырья и RMSE модели\n",
    "    mean_product = y_pred.mean()\n",
    "    rmse = np.sqrt(mean_squared_error(y_valid, y_pred))\n",
    "\n",
    "    # Возвращаем результаты\n",
    "    return y_pred, y_valid, mean_product, rmse, y_valid.reset_index(drop=True), pd.Series(y_pred)\n"
   ]
  },
  {
   "cell_type": "markdown",
   "metadata": {},
   "source": [
    "<div class='alert alert-success'> ✔️Молодец, что однотипные действия (разбиение на выборки, построение регрессии, подсчет ошибки) объединяешь в функции, чтобы избежать описок и сделать код компактнее.\n",
    "</div>"
   ]
  },
  {
   "cell_type": "markdown",
   "metadata": {},
   "source": [
    "<div class=\"alert alert-info\">\n",
    "Теперь масштабирование признаков происходит на обучающей выборке, и затем преобразование применяется к валидационной выборке. Это предотвратит утечку информации между выборками и позволит нам получить более корректные результаты.\n",
    "</div>"
   ]
  },
  {
   "cell_type": "markdown",
   "metadata": {},
   "source": [
    "Обучаем и оцениваем модель для каждого региона."
   ]
  },
  {
   "cell_type": "code",
   "execution_count": 21,
   "metadata": {},
   "outputs": [
    {
     "name": "stdout",
     "output_type": "stream",
     "text": [
      "Регион 0:\n",
      "Средний запас предсказанного сырья: 92.40\n",
      "RMSE модели: 37.76\n",
      "\n",
      "Регион 1:\n",
      "Средний запас предсказанного сырья: 68.71\n",
      "RMSE модели: 0.89\n",
      "\n",
      "Регион 2:\n",
      "Средний запас предсказанного сырья: 94.77\n",
      "RMSE модели: 40.15\n",
      "\n"
     ]
    }
   ],
   "source": [
    "# Создаем список с наборами масштабированных признаков и целевых признаков для каждого региона\n",
    "features_list = [features_0, features_1, features_2]\n",
    "target_list = [target_0, target_1, target_2]\n",
    "\n",
    "true_values_list = []\n",
    "predictions_list = []\n",
    "\n",
    "for i, (features, target) in enumerate(zip(features_list, target_list)):\n",
    "    y_pred, y_valid, mean_product, rmse, true_values, predictions = train_and_evaluate_model(features, target)\n",
    "    print(f\"Регион {i}:\")\n",
    "    print(f\"Средний запас предсказанного сырья: {mean_product:.2f}\")\n",
    "    print(f\"RMSE модели: {rmse:.2f}\")\n",
    "    print()\n",
    "    # Сохраняем истинные значения и предсказания для каждого региона\n",
    "    true_values_list.append(true_values)\n",
    "    predictions_list.append(predictions)"
   ]
  },
  {
   "cell_type": "markdown",
   "metadata": {},
   "source": [
    "На основе полученных результатов можно сделать следующие выводы:\n",
    "\n",
    "- Регион 0: этот регион имеет средний запас сырья ниже, чем регион 2, но выше, чем регион 1. Однако, RMSE модели в этом регионе высокий, что указывает на большую ошибку в предсказаниях.\n",
    "- Регион 1: в этом регионе средний запас сырья ниже, чем в остальных регионах. Однако, RMSE модели очень низкий, что говорит о высокой точности предсказаний.\n",
    "- Регион 2: имеет наибольший средний запас сырья среди всех регионов, но также имеет самую высокую ошибку в предсказаниях (RMSE)."
   ]
  },
  {
   "cell_type": "markdown",
   "metadata": {},
   "source": [
    "<div class='alert alert-success'> ✔️Отлично, построила регрессию, посчитала метрики, правильно отметила в выводах, что в одном регионе меньше запасов, чем в двух других, зато ошибка тоже меньше. Тут бы я задачи максимизации среднего запаса не разделял от ошибки, поэтому пока конкретный регион лучше не рекомендовать\n",
    "</div>"
   ]
  },
  {
   "cell_type": "markdown",
   "metadata": {},
   "source": [
    "<div class=\"alert alert-info\">\n",
    "Вывод скорректирован.\n",
    "</div>"
   ]
  },
  {
   "cell_type": "markdown",
   "metadata": {},
   "source": [
    "<div class='alert alert-success'> ✔️(2)ОК\n",
    "</div>"
   ]
  },
  {
   "cell_type": "markdown",
   "metadata": {},
   "source": [
    "## Подготовка к расчёту прибыли"
   ]
  },
  {
   "cell_type": "markdown",
   "metadata": {},
   "source": [
    "1. Все ключевые значения для расчётов сохраним в отдельных переменных.\n",
    "2. Рассчитаем достаточный объём сырья для безубыточной разработки новой скважины.  \n",
    "3. Сравним полученный объём сырья со средним запасом в каждом регионе."
   ]
  },
  {
   "cell_type": "markdown",
   "metadata": {},
   "source": [
    "Начнем с сохранения ключевых значений для расчетов в отдельных переменных:"
   ]
  },
  {
   "cell_type": "code",
   "execution_count": 22,
   "metadata": {},
   "outputs": [],
   "source": [
    "# Количество исследуемых скважин\n",
    "NUM_WELLS = 500\n",
    "\n",
    "# Количество лучших скважин для разработки\n",
    "NUM_BEST_WELLS = 200\n",
    "\n",
    "# Бюджет на разработку скважин в регионе (в млн. рублей)\n",
    "BUDGET = 10000000\n",
    "\n",
    "# Доход с каждой единицы продукта (тыс. рублей)\n",
    "INCOME_PER_UNIT = 450\n",
    "\n",
    "# Бюджет на одну скважину (млн. рублей)\n",
    "BUDGET_PER_WELL = BUDGET / NUM_BEST_WELLS"
   ]
  },
  {
   "cell_type": "markdown",
   "metadata": {},
   "source": [
    "<div class='alert alert-success'> ✔️Хорошо. Рекомендовал бы задавать имена констант большими буквами, чтобы удобно было отличать их от переменных, это является соглашением по <a href='https://pythonworld.ru/osnovy/pep-8-rukovodstvo-po-napisaniyu-koda-na-python.html'>PEP 8</a>.\n",
    "</div>"
   ]
  },
  {
   "cell_type": "markdown",
   "metadata": {},
   "source": [
    "<div class=\"alert alert-info\">\n",
    "Имена констант исправлены согласно руководству по стилю кода PEP 8.\n",
    "</div>"
   ]
  },
  {
   "cell_type": "markdown",
   "metadata": {},
   "source": [
    "<div class='alert alert-success'> ✔️(2)Точно.\n",
    "</div>"
   ]
  },
  {
   "cell_type": "markdown",
   "metadata": {},
   "source": [
    "Теперь рассчитаем достаточный объем сырья для безубыточной разработки новой скважины:"
   ]
  },
  {
   "cell_type": "code",
   "execution_count": 23,
   "metadata": {},
   "outputs": [],
   "source": [
    "# Расчет объема сырья для безубыточной разработки (тыс. баррелей)\n",
    "break_even_volume = BUDGET_PER_WELL / INCOME_PER_UNIT"
   ]
  },
  {
   "cell_type": "markdown",
   "metadata": {},
   "source": [
    "<div class='alert alert-success'> ✔️Средний запас скважины для безубыточного бизнеса определен верно.\n",
    "</div>"
   ]
  },
  {
   "cell_type": "markdown",
   "metadata": {},
   "source": [
    "Сравним полученный объем сырья со средним запасом в каждом регионе:"
   ]
  },
  {
   "cell_type": "code",
   "execution_count": 24,
   "metadata": {},
   "outputs": [
    {
     "name": "stdout",
     "output_type": "stream",
     "text": [
      "Регион 0:\n",
      "Средний запас сырья: 92.40 тыс. баррелей\n",
      "Достаточный объем сырья для безубыточной разработки: 111.11 тыс. баррелей\n",
      "Разница между средним запасом и безубыточным объемом сырья: -18.71 тыс. баррелей\n",
      "\n",
      "Регион 1:\n",
      "Средний запас сырья: 68.71 тыс. баррелей\n",
      "Достаточный объем сырья для безубыточной разработки: 111.11 тыс. баррелей\n",
      "Разница между средним запасом и безубыточным объемом сырья: -42.40 тыс. баррелей\n",
      "\n",
      "Регион 2:\n",
      "Средний запас сырья: 94.77 тыс. баррелей\n",
      "Достаточный объем сырья для безубыточной разработки: 111.11 тыс. баррелей\n",
      "Разница между средним запасом и безубыточным объемом сырья: -16.34 тыс. баррелей\n",
      "\n"
     ]
    }
   ],
   "source": [
    "# Средние запасы сырья по регионам (тыс.баррелей)\n",
    "average_volumes = [predictions.mean() for predictions in predictions_list]\n",
    "\n",
    "for i, avg_volume in enumerate(average_volumes):\n",
    "    print(f\"Регион {i}:\")\n",
    "    print(f\"Средний запас сырья: {avg_volume:.2f} тыс. баррелей\")\n",
    "    print(f\"Достаточный объем сырья для безубыточной разработки: {break_even_volume:.2f} тыс. баррелей\")\n",
    "    print(f\"Разница между средним запасом и безубыточным объемом сырья: {avg_volume - break_even_volume:.2f} тыс. баррелей\")\n",
    "    print()"
   ]
  },
  {
   "cell_type": "markdown",
   "metadata": {},
   "source": [
    "<div class='alert alert-success'> ✔️Молодец, что провела сравнение с безубыточной границей, лучше вместо констант средних запасов использовать переменные, чтобы код был гибче\n",
    "</div>"
   ]
  },
  {
   "cell_type": "markdown",
   "metadata": {},
   "source": [
    "<div class=\"alert alert-info\">\n",
    "Код исправлен, используются значения средних запасов, полученные после обучения модели.\n",
    "</div>"
   ]
  },
  {
   "cell_type": "markdown",
   "metadata": {},
   "source": [
    "<div class='alert alert-success'> ✔️(2)Отлично!\n",
    "</div>"
   ]
  },
  {
   "cell_type": "markdown",
   "metadata": {},
   "source": [
    "Исходя из полученных результатов, можем сделать следующие выводы:\n",
    "\n",
    "1. Во всех трех регионах средний запас сырья в скважине меньше объема, необходимого для безубыточной разработки. Это означает, что простое среднее значение запасов сырья в скважинах каждого региона не обеспечивает безубыточность проекта.\n",
    "\n",
    "2. Самый большой разрыв между средним запасом сырья и безубыточным объемом сырья наблюдается в регионе 1 (-42.40 тыс. баррелей). В регионе 0 и регионе 2 разница меньше: -18.71 тыс. баррелей и -16.34 тыс. баррелей соответственно.\n",
    "\n",
    "Однако, стоит учесть, что эти результаты основаны на средних показателях и не учитывают потенциально более прибыльные отдельные скважины. Для выбора наиболее перспективных скважин и определения региона с наибольшей ожидаемой прибылью следует провести дополнительный анализ, применяя технику Bootstrap и оценивая риски."
   ]
  },
  {
   "cell_type": "markdown",
   "metadata": {},
   "source": [
    "<div class='alert alert-success'> ✔️Отличный вывод, значит случайный выбор точек приведет к убыткам, соответственно, важно подойти аккуратно к выбору скважин. \n",
    "</div>"
   ]
  },
  {
   "cell_type": "markdown",
   "metadata": {},
   "source": [
    "## Расчёт прибыли и рисков "
   ]
  },
  {
   "cell_type": "markdown",
   "metadata": {},
   "source": [
    "1. Напишем функцию для расчёта прибыли по выбранным скважинам и предсказаниям модели\n",
    "2. Посчитаем риски и прибыль для каждого региона, применяя технику Bootstrap с 1000 выборок\n",
    "\n",
    "Функция для расчета прибыли:"
   ]
  },
  {
   "cell_type": "code",
   "execution_count": 25,
   "metadata": {},
   "outputs": [],
   "source": [
    "def profit(y_true, y_pred, top_n, price_per_barrel, budget):\n",
    "    # Находим индексы скважин с максимальными предсказанными значениями\n",
    "    top_indices = y_pred.argsort()[-top_n:]\n",
    "    \n",
    "    # Выбираем реальные значения объема сырья для этих скважин\n",
    "    top_true_values = y_true.iloc[top_indices]\n",
    "    \n",
    "    # Рассчитываем доход от выбранных скважин\n",
    "    revenue = top_true_values.sum() * price_per_barrel\n",
    "    \n",
    "    # Возвращаем прибыль, вычитая бюджет\n",
    "    return revenue - budget"
   ]
  },
  {
   "cell_type": "markdown",
   "metadata": {},
   "source": [
    "<div class='alert alert-success'> ✔️Функция profit корректная\n",
    "\n",
    "</div>"
   ]
  },
  {
   "cell_type": "markdown",
   "metadata": {},
   "source": [
    "Эта функция принимает на входе следующие аргументы:\n",
    "\n",
    "- y_true: реальные значения запасов сырья в скважинах\n",
    "- y_pred: предсказанные значения запасов сырья в скважинах\n",
    "- top_n: количество лучших скважин для разработки\n",
    "- price_per_barrel: доход с каждой единицы продукта\n",
    "- budget: общий бюджет на разработку скважин\n",
    "\n",
    "Функция возвращает значение прибыли, рассчитанное на основе выбранных лучших скважин для разработки.\n",
    "\n",
    "Посчитаем риски и прибыль для каждого региона:\n",
    "\n",
    "1. Применим технику Bootstrap с 1000 выборок, чтобы найти распределение прибыли.\n",
    "2. Найдём среднюю прибыль, 95%-й доверительный интервал и риск убытков. Убыток — это отрицательная прибыль.\n",
    "3. Напишем выводы: предложим регион для разработки скважин и обоснуем выбор.\n",
    "\n",
    "Функция для подсчета результатов:"
   ]
  },
  {
   "cell_type": "code",
   "execution_count": 26,
   "metadata": {},
   "outputs": [
    {
     "name": "stdout",
     "output_type": "stream",
     "text": [
      "Регион 0: Средняя прибыль = 401775.415757689 95% доверительный интервал = (-113351.39608599216, 916902.2276013701) Риск убытков = 0.058\n",
      "Регион 1: Средняя прибыль = 439744.9553116153 95% доверительный интервал = (37949.02465052891, 841540.8859727017) Риск убытков = 0.018\n",
      "Регион 2: Средняя прибыль = 370964.69894932676 95% доверительный интервал = (-143543.45232071448, 885472.850219368) Риск убытков = 0.073\n"
     ]
    }
   ],
   "source": [
    "def bootstrap_analysis(y_true, y_pred, n_samples=1000, alpha=0.95, top_n=200, price_per_barrel=450, budget=10000000):\n",
    "    profits = []\n",
    "\n",
    "    for _ in range(n_samples):\n",
    "        subsample = np.random.choice(y_true.index, size=500, replace=True)\n",
    "        y_true_subsample = y_true.loc[subsample]\n",
    "        y_pred_subsample = y_pred[subsample]\n",
    "        profits.append(profit(y_true_subsample, y_pred_subsample, top_n, price_per_barrel, budget))\n",
    "\n",
    "    profits = np.array(profits)\n",
    "    mean_profit = profits.mean()\n",
    "    confidence_interval = stats.t.interval(alpha, len(profits) - 1, loc=mean_profit, scale=profits.std())\n",
    "    loss_risk = (profits < 0).mean()\n",
    "\n",
    "    return mean_profit, confidence_interval, loss_risk\n",
    "\n",
    "mean_profit_0, ci_0, risk_0 = bootstrap_analysis(true_values_list[0], predictions_list[0])\n",
    "mean_profit_1, ci_1, risk_1 = bootstrap_analysis(true_values_list[1], predictions_list[1])\n",
    "mean_profit_2, ci_2, risk_2 = bootstrap_analysis(true_values_list[2], predictions_list[2])\n",
    "\n",
    "print(\"Регион 0: Средняя прибыль =\", mean_profit_0, \"95% доверительный интервал =\", ci_0, \"Риск убытков =\", risk_0)\n",
    "print(\"Регион 1: Средняя прибыль =\", mean_profit_1, \"95% доверительный интервал =\", ci_1, \"Риск убытков =\", risk_1)\n",
    "print(\"Регион 2: Средняя прибыль =\", mean_profit_2, \"95% доверительный интервал =\", ci_2, \"Риск убытков =\", risk_2)"
   ]
  },
  {
   "cell_type": "markdown",
   "metadata": {},
   "source": [
    "Исходя из проведенного анализа, рекомендуется выбрать регион 1 для разработки скважин. Обоснование этого выбора основано на следующих факторах:\n",
    "\n",
    "1. Риск убытков в регионе 1 составляет всего 1.8%, что является наименьшим среди всех регионов и соответствует требованию риска убытков менее 2,5%.\n",
    "2. Средняя прибыль в регионе 1 составляет 439 744 тыс. руб., что является наибольшим значением среди регионов, удовлетворяющих условию по риску убытков.\n",
    "\n",
    "Таким образом, регион 1 является наиболее выгодным и безопасным вариантом для разработки скважин с точки зрения получения прибыли и минимизации риска убытков."
   ]
  },
  {
   "cell_type": "markdown",
   "metadata": {},
   "source": [
    "<div class='alert alert-success'> ✔️Отлично, провела бутстреп, вычислила целевые метрики\n",
    "</div>"
   ]
  },
  {
   "cell_type": "markdown",
   "metadata": {},
   "source": [
    "### Вывод:\n",
    "\n",
    "При выборе региона для разработки нефтяных скважин важно учитывать не только потенциальную прибыль, но и риски, связанные с возможными убытками. В данном случае, проведя анализ данных и использовав технику бутстрэп, мы смогли оценить среднюю прибыль и риски для трех регионов.\n",
    "\n",
    "Регион 1 оказался наиболее выгодным выбором, так как обеспечивает наименьший риск убытков и высокую среднюю прибыль. Инвестирование в этот регион позволит компании максимизировать свою прибыль при минимальных рисках."
   ]
  },
  {
   "cell_type": "markdown",
   "metadata": {},
   "source": [
    "<div class='alert alert-success'> \n",
    "\n",
    "✔️ Отличный выбор региона, трудоустроив тебя аналитиком, организация обязательно получила бы большую прибыль)\n",
    "</div>"
   ]
  },
  {
   "cell_type": "markdown",
   "metadata": {},
   "source": [
    "<div class='alert alert-info'>🏁 Отличная работа!  Подготовила признаки, корректно выполнила разделение на выборки и построила регрессию, посчитала целевые метрики и определила оптимальный регион с точки зрения прибыли и рисков убытков. Осталось скорректировать дать обратную связь по выделенным ячейкам.\n",
    "\n",
    "</div>"
   ]
  },
  {
   "cell_type": "markdown",
   "metadata": {},
   "source": [
    "<div class=\"alert alert-info\">\n",
    "Спасибо за комментарии, ты помог мне сделать мне проект еще лучше)\n",
    "</div>"
   ]
  },
  {
   "cell_type": "markdown",
   "metadata": {},
   "source": [
    "<div class='alert alert-info'> <strong>Ревьюер(2)</strong> <br>\n",
    "\n",
    "Пожалуйста, спасибо за сильную работу! Удачи и интересных проектов впереди, покорения новых вершин в машинном обучении!👌\n",
    "\n",
    "\n",
    "</div>"
   ]
  },
  {
   "cell_type": "markdown",
   "metadata": {},
   "source": [
    "## Чек-лист готовности проекта"
   ]
  },
  {
   "cell_type": "markdown",
   "metadata": {},
   "source": [
    "Поставьте 'x' в выполненных пунктах. Далее нажмите Shift+Enter."
   ]
  },
  {
   "cell_type": "markdown",
   "metadata": {},
   "source": [
    "- [x]  Jupyter Notebook открыт\n",
    "- [x]  Весь код выполняется без ошибок\n",
    "- [x]  Ячейки с кодом расположены в порядке исполнения\n",
    "- [x]  Выполнен шаг 1: данные подготовлены\n",
    "- [x]  Выполнен шаг 2: модели обучены и проверены\n",
    "    - [x]  Данные корректно разбиты на обучающую и валидационную выборки\n",
    "    - [x]  Модели обучены, предсказания сделаны\n",
    "    - [x]  Предсказания и правильные ответы на валидационной выборке сохранены\n",
    "    - [x]  На экране напечатаны результаты\n",
    "    - [x]  Сделаны выводы\n",
    "- [x]  Выполнен шаг 3: проведена подготовка к расчёту прибыли\n",
    "    - [x]  Для всех ключевых значений созданы константы Python\n",
    "    - [x]  Посчитано минимальное среднее количество продукта в месторождениях региона, достаточное для разработки\n",
    "    - [x]  По предыдущему пункту сделаны выводы\n",
    "    - [x]  Написана функция расчёта прибыли\n",
    "- [x]  Выполнен шаг 4: посчитаны риски и прибыль\n",
    "    - [x]  Проведена процедура *Bootstrap*\n",
    "    - [x]  Все параметры бутстрепа соответствуют условию\n",
    "    - [x]  Найдены все нужные величины\n",
    "    - [x]  Предложен регион для разработки месторождения\n",
    "    - [x]  Выбор региона обоснован"
   ]
  }
 ],
 "metadata": {
  "ExecuteTimeLog": [
   {
    "duration": 1330,
    "start_time": "2023-03-31T22:08:10.414Z"
   },
   {
    "duration": 1591,
    "start_time": "2023-03-31T22:08:11.746Z"
   },
   {
    "duration": 31,
    "start_time": "2023-03-31T22:08:13.338Z"
   },
   {
    "duration": 35,
    "start_time": "2023-03-31T22:08:13.370Z"
   },
   {
    "duration": 26,
    "start_time": "2023-03-31T22:08:13.407Z"
   },
   {
    "duration": 16,
    "start_time": "2023-03-31T22:08:13.435Z"
   },
   {
    "duration": 116,
    "start_time": "2023-03-31T22:08:13.452Z"
   },
   {
    "duration": 22,
    "start_time": "2023-03-31T22:08:13.569Z"
   },
   {
    "duration": 41,
    "start_time": "2023-03-31T22:08:13.592Z"
   },
   {
    "duration": 4,
    "start_time": "2023-03-31T22:08:13.635Z"
   },
   {
    "duration": 359,
    "start_time": "2023-03-31T22:08:13.641Z"
   },
   {
    "duration": 8,
    "start_time": "2023-03-31T22:08:14.002Z"
   },
   {
    "duration": 177,
    "start_time": "2023-03-31T22:08:14.012Z"
   },
   {
    "duration": 17,
    "start_time": "2023-03-31T22:08:14.194Z"
   },
   {
    "duration": 5,
    "start_time": "2023-03-31T22:08:14.213Z"
   },
   {
    "duration": 3380,
    "start_time": "2023-03-31T22:08:14.220Z"
   },
   {
    "duration": 1270,
    "start_time": "2023-04-01T01:15:31.381Z"
   },
   {
    "duration": 1514,
    "start_time": "2023-04-01T01:15:32.653Z"
   },
   {
    "duration": 27,
    "start_time": "2023-04-01T01:15:34.208Z"
   },
   {
    "duration": 26,
    "start_time": "2023-04-01T01:15:34.941Z"
   },
   {
    "duration": 21,
    "start_time": "2023-04-01T01:15:35.641Z"
   },
   {
    "duration": 17,
    "start_time": "2023-04-01T01:15:42.660Z"
   },
   {
    "duration": 71,
    "start_time": "2023-04-01T01:16:27.125Z"
   },
   {
    "duration": 8,
    "start_time": "2023-04-01T01:16:36.263Z"
   },
   {
    "duration": 32,
    "start_time": "2023-04-01T01:16:51.478Z"
   },
   {
    "duration": 14,
    "start_time": "2023-04-01T01:16:55.763Z"
   },
   {
    "duration": 10,
    "start_time": "2023-04-01T01:18:06.132Z"
   },
   {
    "duration": 3,
    "start_time": "2023-04-01T01:22:22.555Z"
   },
   {
    "duration": 2,
    "start_time": "2023-04-01T01:22:46.583Z"
   },
   {
    "duration": 5,
    "start_time": "2023-04-01T01:23:02.615Z"
   },
   {
    "duration": 7,
    "start_time": "2023-04-01T01:26:41.531Z"
   },
   {
    "duration": 393,
    "start_time": "2023-04-01T01:26:41.540Z"
   },
   {
    "duration": 29,
    "start_time": "2023-04-01T01:26:41.934Z"
   },
   {
    "duration": 17,
    "start_time": "2023-04-01T01:26:41.964Z"
   },
   {
    "duration": 31,
    "start_time": "2023-04-01T01:26:41.982Z"
   },
   {
    "duration": 27,
    "start_time": "2023-04-01T01:26:42.015Z"
   },
   {
    "duration": 63,
    "start_time": "2023-04-01T01:26:42.046Z"
   },
   {
    "duration": 6,
    "start_time": "2023-04-01T01:26:42.111Z"
   },
   {
    "duration": 39,
    "start_time": "2023-04-01T01:26:42.119Z"
   },
   {
    "duration": 4,
    "start_time": "2023-04-01T01:26:42.159Z"
   },
   {
    "duration": 286,
    "start_time": "2023-04-01T01:26:42.164Z"
   },
   {
    "duration": 5,
    "start_time": "2023-04-01T01:26:42.452Z"
   },
   {
    "duration": 10,
    "start_time": "2023-04-01T01:26:42.535Z"
   },
   {
    "duration": 105,
    "start_time": "2023-04-01T01:26:42.548Z"
   },
   {
    "duration": 28,
    "start_time": "2023-04-01T01:26:42.655Z"
   },
   {
    "duration": 22,
    "start_time": "2023-04-01T01:26:56.729Z"
   },
   {
    "duration": 1009,
    "start_time": "2023-04-01T07:21:09.306Z"
   },
   {
    "duration": 844,
    "start_time": "2023-04-01T07:21:10.317Z"
   },
   {
    "duration": 26,
    "start_time": "2023-04-01T07:21:11.163Z"
   },
   {
    "duration": 19,
    "start_time": "2023-04-01T07:21:11.190Z"
   },
   {
    "duration": 20,
    "start_time": "2023-04-01T07:21:11.211Z"
   },
   {
    "duration": 15,
    "start_time": "2023-04-01T07:21:11.232Z"
   },
   {
    "duration": 70,
    "start_time": "2023-04-01T07:21:11.270Z"
   },
   {
    "duration": 7,
    "start_time": "2023-04-01T07:21:11.342Z"
   },
   {
    "duration": 4,
    "start_time": "2023-04-01T07:21:11.369Z"
   },
   {
    "duration": 107,
    "start_time": "2023-04-01T07:21:11.374Z"
   },
   {
    "duration": 0,
    "start_time": "2023-04-01T07:21:11.483Z"
   },
   {
    "duration": 0,
    "start_time": "2023-04-01T07:21:11.484Z"
   },
   {
    "duration": 0,
    "start_time": "2023-04-01T07:21:11.485Z"
   },
   {
    "duration": 0,
    "start_time": "2023-04-01T07:21:11.486Z"
   },
   {
    "duration": 0,
    "start_time": "2023-04-01T07:21:11.487Z"
   },
   {
    "duration": 373,
    "start_time": "2023-04-01T07:26:45.996Z"
   },
   {
    "duration": 3,
    "start_time": "2023-04-01T07:27:15.110Z"
   },
   {
    "duration": 330,
    "start_time": "2023-04-01T07:27:15.173Z"
   },
   {
    "duration": 18,
    "start_time": "2023-04-01T07:27:17.932Z"
   },
   {
    "duration": 18,
    "start_time": "2023-04-01T07:27:17.951Z"
   },
   {
    "duration": 15,
    "start_time": "2023-04-01T07:27:17.971Z"
   },
   {
    "duration": 12,
    "start_time": "2023-04-01T07:27:17.997Z"
   },
   {
    "duration": 68,
    "start_time": "2023-04-01T07:27:18.010Z"
   },
   {
    "duration": 6,
    "start_time": "2023-04-01T07:27:18.080Z"
   },
   {
    "duration": 7,
    "start_time": "2023-04-01T07:27:18.087Z"
   },
   {
    "duration": 373,
    "start_time": "2023-04-01T07:27:18.096Z"
   },
   {
    "duration": 2,
    "start_time": "2023-04-01T07:27:18.471Z"
   },
   {
    "duration": 10,
    "start_time": "2023-04-01T07:27:18.567Z"
   },
   {
    "duration": 11,
    "start_time": "2023-04-01T07:27:18.579Z"
   },
   {
    "duration": 10,
    "start_time": "2023-04-01T07:27:18.591Z"
   },
   {
    "duration": 2627,
    "start_time": "2023-04-01T07:27:18.602Z"
   }
  ],
  "kernelspec": {
   "display_name": "Python 3 (ipykernel)",
   "language": "python",
   "name": "python3"
  },
  "language_info": {
   "codemirror_mode": {
    "name": "ipython",
    "version": 3
   },
   "file_extension": ".py",
   "mimetype": "text/x-python",
   "name": "python",
   "nbconvert_exporter": "python",
   "pygments_lexer": "ipython3",
   "version": "3.9.5"
  },
  "toc": {
   "base_numbering": 1,
   "nav_menu": {},
   "number_sections": true,
   "sideBar": true,
   "skip_h1_title": true,
   "title_cell": "Table of Contents",
   "title_sidebar": "Contents",
   "toc_cell": false,
   "toc_position": {},
   "toc_section_display": true,
   "toc_window_display": false
  }
 },
 "nbformat": 4,
 "nbformat_minor": 2
}
