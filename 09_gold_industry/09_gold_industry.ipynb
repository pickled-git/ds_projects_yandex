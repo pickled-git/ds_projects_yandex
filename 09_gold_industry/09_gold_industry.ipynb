{
 "cells": [
  {
   "cell_type": "markdown",
   "metadata": {
    "toc": true
   },
   "source": [
    "<h1>Содержание<span class=\"tocSkip\"></span></h1>\n",
    "<div class=\"toc\"><ul class=\"toc-item\"><li><span><a href=\"#Подготовка-данных\" data-toc-modified-id=\"Подготовка-данных-1\"><span class=\"toc-item-num\">1&nbsp;&nbsp;</span>Подготовка данных</a></span><ul class=\"toc-item\"><li><span><a href=\"#Загрузка-и-изучение-данных\" data-toc-modified-id=\"Загрузка-и-изучение-данных-1.1\"><span class=\"toc-item-num\">1.1&nbsp;&nbsp;</span>Загрузка и изучение данных</a></span></li><li><span><a href=\"#Проверка-расчета-эффективности-обогащения\" data-toc-modified-id=\"Проверка-расчета-эффективности-обогащения-1.2\"><span class=\"toc-item-num\">1.2&nbsp;&nbsp;</span>Проверка расчета эффективности обогащения</a></span></li><li><span><a href=\"#Анализ-признаков,-недоступных-в-тестовой-выборке\" data-toc-modified-id=\"Анализ-признаков,-недоступных-в-тестовой-выборке-1.3\"><span class=\"toc-item-num\">1.3&nbsp;&nbsp;</span>Анализ признаков, недоступных в тестовой выборке</a></span></li><li><span><a href=\"#Предобработка-данных\" data-toc-modified-id=\"Предобработка-данных-1.4\"><span class=\"toc-item-num\">1.4&nbsp;&nbsp;</span>Предобработка данных</a></span></li><li><span><a href=\"#Вывод\" data-toc-modified-id=\"Вывод-1.5\"><span class=\"toc-item-num\">1.5&nbsp;&nbsp;</span>Вывод</a></span></li></ul></li><li><span><a href=\"#Анализ-данных\" data-toc-modified-id=\"Анализ-данных-2\"><span class=\"toc-item-num\">2&nbsp;&nbsp;</span>Анализ данных</a></span><ul class=\"toc-item\"><li><span><a href=\"#Изменение-концентрации-металлов-(Au,-Ag,-Pb)-на-различных-этапах-очистки\" data-toc-modified-id=\"Изменение-концентрации-металлов-(Au,-Ag,-Pb)-на-различных-этапах-очистки-2.1\"><span class=\"toc-item-num\">2.1&nbsp;&nbsp;</span>Изменение концентрации металлов (Au, Ag, Pb) на различных этапах очистки</a></span></li><li><span><a href=\"#Сравнение-распределения-размеров-гранул-сырья-на-обучающей-и-тестовой-выборках\" data-toc-modified-id=\"Сравнение-распределения-размеров-гранул-сырья-на-обучающей-и-тестовой-выборках-2.2\"><span class=\"toc-item-num\">2.2&nbsp;&nbsp;</span>Сравнение распределения размеров гранул сырья на обучающей и тестовой выборках</a></span></li><li><span><a href=\"#Исследование-суммарной-концентрации-всех-веществ-на-разных-стадиях:-в-сырье,-в-черновом-и-финальном-концентратах\" data-toc-modified-id=\"Исследование-суммарной-концентрации-всех-веществ-на-разных-стадиях:-в-сырье,-в-черновом-и-финальном-концентратах-2.3\"><span class=\"toc-item-num\">2.3&nbsp;&nbsp;</span>Исследование суммарной концентрации всех веществ на разных стадиях: в сырье, в черновом и финальном концентратах</a></span></li><li><span><a href=\"#Вывод\" data-toc-modified-id=\"Вывод-2.4\"><span class=\"toc-item-num\">2.4&nbsp;&nbsp;</span>Вывод</a></span></li></ul></li><li><span><a href=\"#Модель\" data-toc-modified-id=\"Модель-3\"><span class=\"toc-item-num\">3&nbsp;&nbsp;</span>Модель</a></span><ul class=\"toc-item\"><li><span><a href=\"#Функция-для-вычисления-итоговой-sMAPE\" data-toc-modified-id=\"Функция-для-вычисления-итоговой-sMAPE-3.1\"><span class=\"toc-item-num\">3.1&nbsp;&nbsp;</span>Функция для вычисления итоговой sMAPE</a></span></li><li><span><a href=\"#Обучение-и-оценка-качества-модели\" data-toc-modified-id=\"Обучение-и-оценка-качества-модели-3.2\"><span class=\"toc-item-num\">3.2&nbsp;&nbsp;</span>Обучение и оценка качества модели</a></span></li><li><span><a href=\"#Проверка-на-тестовой-выборке\" data-toc-modified-id=\"Проверка-на-тестовой-выборке-3.3\"><span class=\"toc-item-num\">3.3&nbsp;&nbsp;</span>Проверка на тестовой выборке</a></span></li><li><span><a href=\"#Вывод\" data-toc-modified-id=\"Вывод-3.4\"><span class=\"toc-item-num\">3.4&nbsp;&nbsp;</span>Вывод</a></span></li></ul></li></ul></div>"
   ]
  },
  {
   "cell_type": "markdown",
   "metadata": {},
   "source": [
    "# Восстановление золота из руды"
   ]
  },
  {
   "cell_type": "markdown",
   "metadata": {},
   "source": [
    "Подготовьте прототип модели машинного обучения для «Цифры». Компания разрабатывает решения для эффективной работы промышленных предприятий.\n",
    "\n",
    "Модель должна предсказать коэффициент восстановления золота из золотосодержащей руды. Используйте данные с параметрами добычи и очистки. \n",
    "\n",
    "Модель поможет оптимизировать производство, чтобы не запускать предприятие с убыточными характеристиками.\n",
    "\n",
    "Вам нужно:\n",
    "\n",
    "1. Подготовить данные;\n",
    "2. Провести исследовательский анализ данных;\n",
    "3. Построить и обучить модель.\n",
    "\n",
    "Чтобы выполнить проект, обращайтесь к библиотекам *pandas*, *matplotlib* и *sklearn.* Вам поможет их документация."
   ]
  },
  {
   "cell_type": "markdown",
   "metadata": {},
   "source": [
    "<div class=\"alert alert-success\">\n",
    "<h2> Комментарий ревьюера <a class=\"tocSkip\"> </h2>\n",
    "\n",
    "<b>Все отлично!👍:</b> Хорошее вступление!\n",
    "    \n",
    "В нём есть всё, что необходимо, чтобы понять суть проекта с первых строк отчёта!"
   ]
  },
  {
   "cell_type": "markdown",
   "metadata": {},
   "source": [
    "## Подготовка данных"
   ]
  },
  {
   "cell_type": "markdown",
   "metadata": {},
   "source": [
    "### Загрузка и изучение данных"
   ]
  },
  {
   "cell_type": "markdown",
   "metadata": {},
   "source": [
    "Импортируем необходимые библиотеки и загрузим данные из CSV-файлов:"
   ]
  },
  {
   "cell_type": "code",
   "execution_count": 1,
   "metadata": {},
   "outputs": [],
   "source": [
    "import pandas as pd\n",
    "import numpy as np\n",
    "import seaborn as sns\n",
    "import matplotlib.pyplot as plt\n",
    "from sklearn.metrics import mean_absolute_error, make_scorer\n",
    "from sklearn.linear_model import LinearRegression\n",
    "from sklearn.ensemble import RandomForestRegressor\n",
    "from sklearn.tree import DecisionTreeRegressor\n",
    "from sklearn.model_selection import GridSearchCV, cross_val_score\n",
    "from sklearn.preprocessing import StandardScaler\n",
    "from sklearn.pipeline import Pipeline\n",
    "from sklearn.dummy import DummyRegressor"
   ]
  },
  {
   "cell_type": "markdown",
   "metadata": {},
   "source": [
    "<div class=\"alert alert-success\">\n",
    "<h2> Комментарий ревьюера <a class=\"tocSkip\"> </h2>\n",
    "\n",
    "<b>Все отлично!👍:</b> Библиотеки импортировали - отлично! Спасибо, что перезапускаешь проект перед отправкой на ревью - это важный шаг, который поможет избежать простых и досадных ошибок при воспроизведении решнеия:)\n",
    "</div>"
   ]
  },
  {
   "cell_type": "code",
   "execution_count": 2,
   "metadata": {},
   "outputs": [],
   "source": [
    "train = pd.read_csv('/datasets/gold_recovery_train_new.csv')\n",
    "test = pd.read_csv('/datasets/gold_recovery_test_new.csv')\n",
    "full = pd.read_csv('/datasets/gold_recovery_full_new.csv')"
   ]
  },
  {
   "cell_type": "markdown",
   "metadata": {},
   "source": [
    "<div class=\"alert alert-success\">\n",
    "<h2> Комментарий ревьюера <a class=\"tocSkip\"> </h2>\n",
    "\n",
    "<b>Все отлично!👍</b> \n",
    "    \n",
    "Данные загрузили.\n",
    "    \n",
    "При считывании данных из файла здорово перестраховывать себя от ошибок, связанных, например, с неверным указанием пути к файлу. А иногда бывает, что работаешь с файлом локально, выгружаешь его на сервер, ожидая, что он будет принимать данные, которые лежат на том же сервере, а код падает с ошибкой, потому что путь к файлу не поменялся с локального на серверный.\n",
    "    \n",
    "Для этого, например, можно использовать конструкцию `try-except`: сначала пробуешь локальный путь, при возникновении ошибки используется серверный путь (подробнее можешь почитать тут: https://pythonworld.ru/tipy-dannyx-v-python/isklyucheniya-v-python-konstrukciya-try-except-dlya-obrabotki-isklyuchenij.html).\n",
    "    \n",
    "Но еще лучше использовать библиотеку `os` - её использование позволит тебе проверять существование указанных директорий (что может быть актуально при одновременной работа на локальном и сетевом окружении) и загружать данные из существующей директории, избегая ошибок. Как пример:\n",
    "    \n",
    "    import os\n",
    "\n",
    "    pth1 = '/folder_1/data.csv'\n",
    "    pth2 = '/folder_2/data.csv'\n",
    "    \n",
    "    if os.path.exists(pth1):\n",
    "        query_1 = pd.read_csv(pth1)\n",
    "    elif os.path.exists(pth2):\n",
    "        query_1 = pd.read_csv(pth2)\n",
    "    else:\n",
    "        print('Something is wrong')\n",
    "\n",
    "Ещё на этапе считывания данных можно спарсить дату: за это действие отвечает параметр `parse_dates` метода `read_csv()`, в него нужно передать список с названием полей-дат, и в большинстве случаев дата будет корректно преобразована в нужный формат сразу:)\n",
    "Также на этапе считывания данных задать индекс-столбец- за это действие отвечает параметр `index_col`."
   ]
  },
  {
   "cell_type": "markdown",
   "metadata": {},
   "source": [
    "Теперь изучим каждый датасет, используя методы .head() и .info(). Это позволит получить общее представление о данных, проверить типы данных и выявить возможные пропущенные значения."
   ]
  },
  {
   "cell_type": "code",
   "execution_count": 3,
   "metadata": {},
   "outputs": [
    {
     "data": {
      "text/html": [
       "<div>\n",
       "<style scoped>\n",
       "    .dataframe tbody tr th:only-of-type {\n",
       "        vertical-align: middle;\n",
       "    }\n",
       "\n",
       "    .dataframe tbody tr th {\n",
       "        vertical-align: top;\n",
       "    }\n",
       "\n",
       "    .dataframe thead th {\n",
       "        text-align: right;\n",
       "    }\n",
       "</style>\n",
       "<table border=\"1\" class=\"dataframe\">\n",
       "  <thead>\n",
       "    <tr style=\"text-align: right;\">\n",
       "      <th></th>\n",
       "      <th>date</th>\n",
       "      <th>final.output.concentrate_ag</th>\n",
       "      <th>final.output.concentrate_pb</th>\n",
       "      <th>final.output.concentrate_sol</th>\n",
       "      <th>final.output.concentrate_au</th>\n",
       "      <th>final.output.recovery</th>\n",
       "      <th>final.output.tail_ag</th>\n",
       "      <th>final.output.tail_pb</th>\n",
       "      <th>final.output.tail_sol</th>\n",
       "      <th>final.output.tail_au</th>\n",
       "      <th>...</th>\n",
       "      <th>secondary_cleaner.state.floatbank4_a_air</th>\n",
       "      <th>secondary_cleaner.state.floatbank4_a_level</th>\n",
       "      <th>secondary_cleaner.state.floatbank4_b_air</th>\n",
       "      <th>secondary_cleaner.state.floatbank4_b_level</th>\n",
       "      <th>secondary_cleaner.state.floatbank5_a_air</th>\n",
       "      <th>secondary_cleaner.state.floatbank5_a_level</th>\n",
       "      <th>secondary_cleaner.state.floatbank5_b_air</th>\n",
       "      <th>secondary_cleaner.state.floatbank5_b_level</th>\n",
       "      <th>secondary_cleaner.state.floatbank6_a_air</th>\n",
       "      <th>secondary_cleaner.state.floatbank6_a_level</th>\n",
       "    </tr>\n",
       "  </thead>\n",
       "  <tbody>\n",
       "    <tr>\n",
       "      <th>0</th>\n",
       "      <td>2016-01-15 00:00:00</td>\n",
       "      <td>6.055403</td>\n",
       "      <td>9.889648</td>\n",
       "      <td>5.507324</td>\n",
       "      <td>42.192020</td>\n",
       "      <td>70.541216</td>\n",
       "      <td>10.411962</td>\n",
       "      <td>0.895447</td>\n",
       "      <td>16.904297</td>\n",
       "      <td>2.143149</td>\n",
       "      <td>...</td>\n",
       "      <td>14.016835</td>\n",
       "      <td>-502.488007</td>\n",
       "      <td>12.099931</td>\n",
       "      <td>-504.715942</td>\n",
       "      <td>9.925633</td>\n",
       "      <td>-498.310211</td>\n",
       "      <td>8.079666</td>\n",
       "      <td>-500.470978</td>\n",
       "      <td>14.151341</td>\n",
       "      <td>-605.841980</td>\n",
       "    </tr>\n",
       "    <tr>\n",
       "      <th>1</th>\n",
       "      <td>2016-01-15 01:00:00</td>\n",
       "      <td>6.029369</td>\n",
       "      <td>9.968944</td>\n",
       "      <td>5.257781</td>\n",
       "      <td>42.701629</td>\n",
       "      <td>69.266198</td>\n",
       "      <td>10.462676</td>\n",
       "      <td>0.927452</td>\n",
       "      <td>16.634514</td>\n",
       "      <td>2.224930</td>\n",
       "      <td>...</td>\n",
       "      <td>13.992281</td>\n",
       "      <td>-505.503262</td>\n",
       "      <td>11.950531</td>\n",
       "      <td>-501.331529</td>\n",
       "      <td>10.039245</td>\n",
       "      <td>-500.169983</td>\n",
       "      <td>7.984757</td>\n",
       "      <td>-500.582168</td>\n",
       "      <td>13.998353</td>\n",
       "      <td>-599.787184</td>\n",
       "    </tr>\n",
       "    <tr>\n",
       "      <th>2</th>\n",
       "      <td>2016-01-15 02:00:00</td>\n",
       "      <td>6.055926</td>\n",
       "      <td>10.213995</td>\n",
       "      <td>5.383759</td>\n",
       "      <td>42.657501</td>\n",
       "      <td>68.116445</td>\n",
       "      <td>10.507046</td>\n",
       "      <td>0.953716</td>\n",
       "      <td>16.208849</td>\n",
       "      <td>2.257889</td>\n",
       "      <td>...</td>\n",
       "      <td>14.015015</td>\n",
       "      <td>-502.520901</td>\n",
       "      <td>11.912783</td>\n",
       "      <td>-501.133383</td>\n",
       "      <td>10.070913</td>\n",
       "      <td>-500.129135</td>\n",
       "      <td>8.013877</td>\n",
       "      <td>-500.517572</td>\n",
       "      <td>14.028663</td>\n",
       "      <td>-601.427363</td>\n",
       "    </tr>\n",
       "    <tr>\n",
       "      <th>3</th>\n",
       "      <td>2016-01-15 03:00:00</td>\n",
       "      <td>6.047977</td>\n",
       "      <td>9.977019</td>\n",
       "      <td>4.858634</td>\n",
       "      <td>42.689819</td>\n",
       "      <td>68.347543</td>\n",
       "      <td>10.422762</td>\n",
       "      <td>0.883763</td>\n",
       "      <td>16.532835</td>\n",
       "      <td>2.146849</td>\n",
       "      <td>...</td>\n",
       "      <td>14.036510</td>\n",
       "      <td>-500.857308</td>\n",
       "      <td>11.999550</td>\n",
       "      <td>-501.193686</td>\n",
       "      <td>9.970366</td>\n",
       "      <td>-499.201640</td>\n",
       "      <td>7.977324</td>\n",
       "      <td>-500.255908</td>\n",
       "      <td>14.005551</td>\n",
       "      <td>-599.996129</td>\n",
       "    </tr>\n",
       "    <tr>\n",
       "      <th>4</th>\n",
       "      <td>2016-01-15 04:00:00</td>\n",
       "      <td>6.148599</td>\n",
       "      <td>10.142511</td>\n",
       "      <td>4.939416</td>\n",
       "      <td>42.774141</td>\n",
       "      <td>66.927016</td>\n",
       "      <td>10.360302</td>\n",
       "      <td>0.792826</td>\n",
       "      <td>16.525686</td>\n",
       "      <td>2.055292</td>\n",
       "      <td>...</td>\n",
       "      <td>14.027298</td>\n",
       "      <td>-499.838632</td>\n",
       "      <td>11.953070</td>\n",
       "      <td>-501.053894</td>\n",
       "      <td>9.925709</td>\n",
       "      <td>-501.686727</td>\n",
       "      <td>7.894242</td>\n",
       "      <td>-500.356035</td>\n",
       "      <td>13.996647</td>\n",
       "      <td>-601.496691</td>\n",
       "    </tr>\n",
       "  </tbody>\n",
       "</table>\n",
       "<p>5 rows × 87 columns</p>\n",
       "</div>"
      ],
      "text/plain": [
       "                  date  final.output.concentrate_ag  \\\n",
       "0  2016-01-15 00:00:00                     6.055403   \n",
       "1  2016-01-15 01:00:00                     6.029369   \n",
       "2  2016-01-15 02:00:00                     6.055926   \n",
       "3  2016-01-15 03:00:00                     6.047977   \n",
       "4  2016-01-15 04:00:00                     6.148599   \n",
       "\n",
       "   final.output.concentrate_pb  final.output.concentrate_sol  \\\n",
       "0                     9.889648                      5.507324   \n",
       "1                     9.968944                      5.257781   \n",
       "2                    10.213995                      5.383759   \n",
       "3                     9.977019                      4.858634   \n",
       "4                    10.142511                      4.939416   \n",
       "\n",
       "   final.output.concentrate_au  final.output.recovery  final.output.tail_ag  \\\n",
       "0                    42.192020              70.541216             10.411962   \n",
       "1                    42.701629              69.266198             10.462676   \n",
       "2                    42.657501              68.116445             10.507046   \n",
       "3                    42.689819              68.347543             10.422762   \n",
       "4                    42.774141              66.927016             10.360302   \n",
       "\n",
       "   final.output.tail_pb  final.output.tail_sol  final.output.tail_au  ...  \\\n",
       "0              0.895447              16.904297              2.143149  ...   \n",
       "1              0.927452              16.634514              2.224930  ...   \n",
       "2              0.953716              16.208849              2.257889  ...   \n",
       "3              0.883763              16.532835              2.146849  ...   \n",
       "4              0.792826              16.525686              2.055292  ...   \n",
       "\n",
       "   secondary_cleaner.state.floatbank4_a_air  \\\n",
       "0                                 14.016835   \n",
       "1                                 13.992281   \n",
       "2                                 14.015015   \n",
       "3                                 14.036510   \n",
       "4                                 14.027298   \n",
       "\n",
       "   secondary_cleaner.state.floatbank4_a_level  \\\n",
       "0                                 -502.488007   \n",
       "1                                 -505.503262   \n",
       "2                                 -502.520901   \n",
       "3                                 -500.857308   \n",
       "4                                 -499.838632   \n",
       "\n",
       "   secondary_cleaner.state.floatbank4_b_air  \\\n",
       "0                                 12.099931   \n",
       "1                                 11.950531   \n",
       "2                                 11.912783   \n",
       "3                                 11.999550   \n",
       "4                                 11.953070   \n",
       "\n",
       "   secondary_cleaner.state.floatbank4_b_level  \\\n",
       "0                                 -504.715942   \n",
       "1                                 -501.331529   \n",
       "2                                 -501.133383   \n",
       "3                                 -501.193686   \n",
       "4                                 -501.053894   \n",
       "\n",
       "   secondary_cleaner.state.floatbank5_a_air  \\\n",
       "0                                  9.925633   \n",
       "1                                 10.039245   \n",
       "2                                 10.070913   \n",
       "3                                  9.970366   \n",
       "4                                  9.925709   \n",
       "\n",
       "   secondary_cleaner.state.floatbank5_a_level  \\\n",
       "0                                 -498.310211   \n",
       "1                                 -500.169983   \n",
       "2                                 -500.129135   \n",
       "3                                 -499.201640   \n",
       "4                                 -501.686727   \n",
       "\n",
       "   secondary_cleaner.state.floatbank5_b_air  \\\n",
       "0                                  8.079666   \n",
       "1                                  7.984757   \n",
       "2                                  8.013877   \n",
       "3                                  7.977324   \n",
       "4                                  7.894242   \n",
       "\n",
       "   secondary_cleaner.state.floatbank5_b_level  \\\n",
       "0                                 -500.470978   \n",
       "1                                 -500.582168   \n",
       "2                                 -500.517572   \n",
       "3                                 -500.255908   \n",
       "4                                 -500.356035   \n",
       "\n",
       "   secondary_cleaner.state.floatbank6_a_air  \\\n",
       "0                                 14.151341   \n",
       "1                                 13.998353   \n",
       "2                                 14.028663   \n",
       "3                                 14.005551   \n",
       "4                                 13.996647   \n",
       "\n",
       "   secondary_cleaner.state.floatbank6_a_level  \n",
       "0                                 -605.841980  \n",
       "1                                 -599.787184  \n",
       "2                                 -601.427363  \n",
       "3                                 -599.996129  \n",
       "4                                 -601.496691  \n",
       "\n",
       "[5 rows x 87 columns]"
      ]
     },
     "metadata": {},
     "output_type": "display_data"
    },
    {
     "name": "stdout",
     "output_type": "stream",
     "text": [
      "<class 'pandas.core.frame.DataFrame'>\n",
      "RangeIndex: 14149 entries, 0 to 14148\n",
      "Data columns (total 87 columns):\n",
      " #   Column                                              Non-Null Count  Dtype  \n",
      "---  ------                                              --------------  -----  \n",
      " 0   date                                                14149 non-null  object \n",
      " 1   final.output.concentrate_ag                         14148 non-null  float64\n",
      " 2   final.output.concentrate_pb                         14148 non-null  float64\n",
      " 3   final.output.concentrate_sol                        13938 non-null  float64\n",
      " 4   final.output.concentrate_au                         14149 non-null  float64\n",
      " 5   final.output.recovery                               14149 non-null  float64\n",
      " 6   final.output.tail_ag                                14149 non-null  float64\n",
      " 7   final.output.tail_pb                                14049 non-null  float64\n",
      " 8   final.output.tail_sol                               14144 non-null  float64\n",
      " 9   final.output.tail_au                                14149 non-null  float64\n",
      " 10  primary_cleaner.input.sulfate                       14129 non-null  float64\n",
      " 11  primary_cleaner.input.depressant                    14117 non-null  float64\n",
      " 12  primary_cleaner.input.feed_size                     14149 non-null  float64\n",
      " 13  primary_cleaner.input.xanthate                      14049 non-null  float64\n",
      " 14  primary_cleaner.output.concentrate_ag               14149 non-null  float64\n",
      " 15  primary_cleaner.output.concentrate_pb               14063 non-null  float64\n",
      " 16  primary_cleaner.output.concentrate_sol              13863 non-null  float64\n",
      " 17  primary_cleaner.output.concentrate_au               14149 non-null  float64\n",
      " 18  primary_cleaner.output.tail_ag                      14148 non-null  float64\n",
      " 19  primary_cleaner.output.tail_pb                      14134 non-null  float64\n",
      " 20  primary_cleaner.output.tail_sol                     14103 non-null  float64\n",
      " 21  primary_cleaner.output.tail_au                      14149 non-null  float64\n",
      " 22  primary_cleaner.state.floatbank8_a_air              14145 non-null  float64\n",
      " 23  primary_cleaner.state.floatbank8_a_level            14148 non-null  float64\n",
      " 24  primary_cleaner.state.floatbank8_b_air              14145 non-null  float64\n",
      " 25  primary_cleaner.state.floatbank8_b_level            14148 non-null  float64\n",
      " 26  primary_cleaner.state.floatbank8_c_air              14147 non-null  float64\n",
      " 27  primary_cleaner.state.floatbank8_c_level            14148 non-null  float64\n",
      " 28  primary_cleaner.state.floatbank8_d_air              14146 non-null  float64\n",
      " 29  primary_cleaner.state.floatbank8_d_level            14148 non-null  float64\n",
      " 30  rougher.calculation.sulfate_to_au_concentrate       14148 non-null  float64\n",
      " 31  rougher.calculation.floatbank10_sulfate_to_au_feed  14148 non-null  float64\n",
      " 32  rougher.calculation.floatbank11_sulfate_to_au_feed  14148 non-null  float64\n",
      " 33  rougher.calculation.au_pb_ratio                     14149 non-null  float64\n",
      " 34  rougher.input.feed_ag                               14149 non-null  float64\n",
      " 35  rougher.input.feed_pb                               14049 non-null  float64\n",
      " 36  rougher.input.feed_rate                             14141 non-null  float64\n",
      " 37  rougher.input.feed_size                             14005 non-null  float64\n",
      " 38  rougher.input.feed_sol                              14071 non-null  float64\n",
      " 39  rougher.input.feed_au                               14149 non-null  float64\n",
      " 40  rougher.input.floatbank10_sulfate                   14120 non-null  float64\n",
      " 41  rougher.input.floatbank10_xanthate                  14141 non-null  float64\n",
      " 42  rougher.input.floatbank11_sulfate                   14113 non-null  float64\n",
      " 43  rougher.input.floatbank11_xanthate                  13721 non-null  float64\n",
      " 44  rougher.output.concentrate_ag                       14149 non-null  float64\n",
      " 45  rougher.output.concentrate_pb                       14149 non-null  float64\n",
      " 46  rougher.output.concentrate_sol                      14127 non-null  float64\n",
      " 47  rougher.output.concentrate_au                       14149 non-null  float64\n",
      " 48  rougher.output.recovery                             14149 non-null  float64\n",
      " 49  rougher.output.tail_ag                              14148 non-null  float64\n",
      " 50  rougher.output.tail_pb                              14149 non-null  float64\n",
      " 51  rougher.output.tail_sol                             14149 non-null  float64\n",
      " 52  rougher.output.tail_au                              14149 non-null  float64\n",
      " 53  rougher.state.floatbank10_a_air                     14148 non-null  float64\n",
      " 54  rougher.state.floatbank10_a_level                   14148 non-null  float64\n",
      " 55  rougher.state.floatbank10_b_air                     14148 non-null  float64\n",
      " 56  rougher.state.floatbank10_b_level                   14148 non-null  float64\n",
      " 57  rougher.state.floatbank10_c_air                     14148 non-null  float64\n",
      " 58  rougher.state.floatbank10_c_level                   14148 non-null  float64\n",
      " 59  rougher.state.floatbank10_d_air                     14149 non-null  float64\n",
      " 60  rougher.state.floatbank10_d_level                   14149 non-null  float64\n",
      " 61  rougher.state.floatbank10_e_air                     13713 non-null  float64\n",
      " 62  rougher.state.floatbank10_e_level                   14149 non-null  float64\n",
      " 63  rougher.state.floatbank10_f_air                     14149 non-null  float64\n",
      " 64  rougher.state.floatbank10_f_level                   14149 non-null  float64\n",
      " 65  secondary_cleaner.output.tail_ag                    14147 non-null  float64\n",
      " 66  secondary_cleaner.output.tail_pb                    14139 non-null  float64\n",
      " 67  secondary_cleaner.output.tail_sol                   12544 non-null  float64\n",
      " 68  secondary_cleaner.output.tail_au                    14149 non-null  float64\n",
      " 69  secondary_cleaner.state.floatbank2_a_air            13932 non-null  float64\n",
      " 70  secondary_cleaner.state.floatbank2_a_level          14148 non-null  float64\n",
      " 71  secondary_cleaner.state.floatbank2_b_air            14128 non-null  float64\n",
      " 72  secondary_cleaner.state.floatbank2_b_level          14148 non-null  float64\n",
      " 73  secondary_cleaner.state.floatbank3_a_air            14145 non-null  float64\n",
      " 74  secondary_cleaner.state.floatbank3_a_level          14148 non-null  float64\n",
      " 75  secondary_cleaner.state.floatbank3_b_air            14148 non-null  float64\n",
      " 76  secondary_cleaner.state.floatbank3_b_level          14148 non-null  float64\n",
      " 77  secondary_cleaner.state.floatbank4_a_air            14143 non-null  float64\n",
      " 78  secondary_cleaner.state.floatbank4_a_level          14148 non-null  float64\n",
      " 79  secondary_cleaner.state.floatbank4_b_air            14148 non-null  float64\n",
      " 80  secondary_cleaner.state.floatbank4_b_level          14148 non-null  float64\n",
      " 81  secondary_cleaner.state.floatbank5_a_air            14148 non-null  float64\n",
      " 82  secondary_cleaner.state.floatbank5_a_level          14148 non-null  float64\n",
      " 83  secondary_cleaner.state.floatbank5_b_air            14148 non-null  float64\n",
      " 84  secondary_cleaner.state.floatbank5_b_level          14148 non-null  float64\n",
      " 85  secondary_cleaner.state.floatbank6_a_air            14147 non-null  float64\n",
      " 86  secondary_cleaner.state.floatbank6_a_level          14148 non-null  float64\n",
      "dtypes: float64(86), object(1)\n",
      "memory usage: 9.4+ MB\n"
     ]
    }
   ],
   "source": [
    "# Обучающая выборка\n",
    "display(train.head())\n",
    "train.info()"
   ]
  },
  {
   "cell_type": "code",
   "execution_count": 4,
   "metadata": {
    "scrolled": true
   },
   "outputs": [
    {
     "data": {
      "text/html": [
       "<div>\n",
       "<style scoped>\n",
       "    .dataframe tbody tr th:only-of-type {\n",
       "        vertical-align: middle;\n",
       "    }\n",
       "\n",
       "    .dataframe tbody tr th {\n",
       "        vertical-align: top;\n",
       "    }\n",
       "\n",
       "    .dataframe thead th {\n",
       "        text-align: right;\n",
       "    }\n",
       "</style>\n",
       "<table border=\"1\" class=\"dataframe\">\n",
       "  <thead>\n",
       "    <tr style=\"text-align: right;\">\n",
       "      <th></th>\n",
       "      <th>date</th>\n",
       "      <th>primary_cleaner.input.sulfate</th>\n",
       "      <th>primary_cleaner.input.depressant</th>\n",
       "      <th>primary_cleaner.input.feed_size</th>\n",
       "      <th>primary_cleaner.input.xanthate</th>\n",
       "      <th>primary_cleaner.state.floatbank8_a_air</th>\n",
       "      <th>primary_cleaner.state.floatbank8_a_level</th>\n",
       "      <th>primary_cleaner.state.floatbank8_b_air</th>\n",
       "      <th>primary_cleaner.state.floatbank8_b_level</th>\n",
       "      <th>primary_cleaner.state.floatbank8_c_air</th>\n",
       "      <th>...</th>\n",
       "      <th>secondary_cleaner.state.floatbank4_a_air</th>\n",
       "      <th>secondary_cleaner.state.floatbank4_a_level</th>\n",
       "      <th>secondary_cleaner.state.floatbank4_b_air</th>\n",
       "      <th>secondary_cleaner.state.floatbank4_b_level</th>\n",
       "      <th>secondary_cleaner.state.floatbank5_a_air</th>\n",
       "      <th>secondary_cleaner.state.floatbank5_a_level</th>\n",
       "      <th>secondary_cleaner.state.floatbank5_b_air</th>\n",
       "      <th>secondary_cleaner.state.floatbank5_b_level</th>\n",
       "      <th>secondary_cleaner.state.floatbank6_a_air</th>\n",
       "      <th>secondary_cleaner.state.floatbank6_a_level</th>\n",
       "    </tr>\n",
       "  </thead>\n",
       "  <tbody>\n",
       "    <tr>\n",
       "      <th>0</th>\n",
       "      <td>2016-09-01 00:59:59</td>\n",
       "      <td>210.800909</td>\n",
       "      <td>14.993118</td>\n",
       "      <td>8.080000</td>\n",
       "      <td>1.005021</td>\n",
       "      <td>1398.981301</td>\n",
       "      <td>-500.225577</td>\n",
       "      <td>1399.144926</td>\n",
       "      <td>-499.919735</td>\n",
       "      <td>1400.102998</td>\n",
       "      <td>...</td>\n",
       "      <td>12.023554</td>\n",
       "      <td>-497.795834</td>\n",
       "      <td>8.016656</td>\n",
       "      <td>-501.289139</td>\n",
       "      <td>7.946562</td>\n",
       "      <td>-432.317850</td>\n",
       "      <td>4.872511</td>\n",
       "      <td>-500.037437</td>\n",
       "      <td>26.705889</td>\n",
       "      <td>-499.709414</td>\n",
       "    </tr>\n",
       "    <tr>\n",
       "      <th>1</th>\n",
       "      <td>2016-09-01 01:59:59</td>\n",
       "      <td>215.392455</td>\n",
       "      <td>14.987471</td>\n",
       "      <td>8.080000</td>\n",
       "      <td>0.990469</td>\n",
       "      <td>1398.777912</td>\n",
       "      <td>-500.057435</td>\n",
       "      <td>1398.055362</td>\n",
       "      <td>-499.778182</td>\n",
       "      <td>1396.151033</td>\n",
       "      <td>...</td>\n",
       "      <td>12.058140</td>\n",
       "      <td>-498.695773</td>\n",
       "      <td>8.130979</td>\n",
       "      <td>-499.634209</td>\n",
       "      <td>7.958270</td>\n",
       "      <td>-525.839648</td>\n",
       "      <td>4.878850</td>\n",
       "      <td>-500.162375</td>\n",
       "      <td>25.019940</td>\n",
       "      <td>-499.819438</td>\n",
       "    </tr>\n",
       "    <tr>\n",
       "      <th>2</th>\n",
       "      <td>2016-09-01 02:59:59</td>\n",
       "      <td>215.259946</td>\n",
       "      <td>12.884934</td>\n",
       "      <td>7.786667</td>\n",
       "      <td>0.996043</td>\n",
       "      <td>1398.493666</td>\n",
       "      <td>-500.868360</td>\n",
       "      <td>1398.860436</td>\n",
       "      <td>-499.764529</td>\n",
       "      <td>1398.075709</td>\n",
       "      <td>...</td>\n",
       "      <td>11.962366</td>\n",
       "      <td>-498.767484</td>\n",
       "      <td>8.096893</td>\n",
       "      <td>-500.827423</td>\n",
       "      <td>8.071056</td>\n",
       "      <td>-500.801673</td>\n",
       "      <td>4.905125</td>\n",
       "      <td>-499.828510</td>\n",
       "      <td>24.994862</td>\n",
       "      <td>-500.622559</td>\n",
       "    </tr>\n",
       "    <tr>\n",
       "      <th>3</th>\n",
       "      <td>2016-09-01 03:59:59</td>\n",
       "      <td>215.336236</td>\n",
       "      <td>12.006805</td>\n",
       "      <td>7.640000</td>\n",
       "      <td>0.863514</td>\n",
       "      <td>1399.618111</td>\n",
       "      <td>-498.863574</td>\n",
       "      <td>1397.440120</td>\n",
       "      <td>-499.211024</td>\n",
       "      <td>1400.129303</td>\n",
       "      <td>...</td>\n",
       "      <td>12.033091</td>\n",
       "      <td>-498.350935</td>\n",
       "      <td>8.074946</td>\n",
       "      <td>-499.474407</td>\n",
       "      <td>7.897085</td>\n",
       "      <td>-500.868509</td>\n",
       "      <td>4.931400</td>\n",
       "      <td>-499.963623</td>\n",
       "      <td>24.948919</td>\n",
       "      <td>-498.709987</td>\n",
       "    </tr>\n",
       "    <tr>\n",
       "      <th>4</th>\n",
       "      <td>2016-09-01 04:59:59</td>\n",
       "      <td>199.099327</td>\n",
       "      <td>10.682530</td>\n",
       "      <td>7.530000</td>\n",
       "      <td>0.805575</td>\n",
       "      <td>1401.268123</td>\n",
       "      <td>-500.808305</td>\n",
       "      <td>1398.128818</td>\n",
       "      <td>-499.504543</td>\n",
       "      <td>1402.172226</td>\n",
       "      <td>...</td>\n",
       "      <td>12.025367</td>\n",
       "      <td>-500.786497</td>\n",
       "      <td>8.054678</td>\n",
       "      <td>-500.397500</td>\n",
       "      <td>8.107890</td>\n",
       "      <td>-509.526725</td>\n",
       "      <td>4.957674</td>\n",
       "      <td>-500.360026</td>\n",
       "      <td>25.003331</td>\n",
       "      <td>-500.856333</td>\n",
       "    </tr>\n",
       "  </tbody>\n",
       "</table>\n",
       "<p>5 rows × 53 columns</p>\n",
       "</div>"
      ],
      "text/plain": [
       "                  date  primary_cleaner.input.sulfate  \\\n",
       "0  2016-09-01 00:59:59                     210.800909   \n",
       "1  2016-09-01 01:59:59                     215.392455   \n",
       "2  2016-09-01 02:59:59                     215.259946   \n",
       "3  2016-09-01 03:59:59                     215.336236   \n",
       "4  2016-09-01 04:59:59                     199.099327   \n",
       "\n",
       "   primary_cleaner.input.depressant  primary_cleaner.input.feed_size  \\\n",
       "0                         14.993118                         8.080000   \n",
       "1                         14.987471                         8.080000   \n",
       "2                         12.884934                         7.786667   \n",
       "3                         12.006805                         7.640000   \n",
       "4                         10.682530                         7.530000   \n",
       "\n",
       "   primary_cleaner.input.xanthate  primary_cleaner.state.floatbank8_a_air  \\\n",
       "0                        1.005021                             1398.981301   \n",
       "1                        0.990469                             1398.777912   \n",
       "2                        0.996043                             1398.493666   \n",
       "3                        0.863514                             1399.618111   \n",
       "4                        0.805575                             1401.268123   \n",
       "\n",
       "   primary_cleaner.state.floatbank8_a_level  \\\n",
       "0                               -500.225577   \n",
       "1                               -500.057435   \n",
       "2                               -500.868360   \n",
       "3                               -498.863574   \n",
       "4                               -500.808305   \n",
       "\n",
       "   primary_cleaner.state.floatbank8_b_air  \\\n",
       "0                             1399.144926   \n",
       "1                             1398.055362   \n",
       "2                             1398.860436   \n",
       "3                             1397.440120   \n",
       "4                             1398.128818   \n",
       "\n",
       "   primary_cleaner.state.floatbank8_b_level  \\\n",
       "0                               -499.919735   \n",
       "1                               -499.778182   \n",
       "2                               -499.764529   \n",
       "3                               -499.211024   \n",
       "4                               -499.504543   \n",
       "\n",
       "   primary_cleaner.state.floatbank8_c_air  ...  \\\n",
       "0                             1400.102998  ...   \n",
       "1                             1396.151033  ...   \n",
       "2                             1398.075709  ...   \n",
       "3                             1400.129303  ...   \n",
       "4                             1402.172226  ...   \n",
       "\n",
       "   secondary_cleaner.state.floatbank4_a_air  \\\n",
       "0                                 12.023554   \n",
       "1                                 12.058140   \n",
       "2                                 11.962366   \n",
       "3                                 12.033091   \n",
       "4                                 12.025367   \n",
       "\n",
       "   secondary_cleaner.state.floatbank4_a_level  \\\n",
       "0                                 -497.795834   \n",
       "1                                 -498.695773   \n",
       "2                                 -498.767484   \n",
       "3                                 -498.350935   \n",
       "4                                 -500.786497   \n",
       "\n",
       "   secondary_cleaner.state.floatbank4_b_air  \\\n",
       "0                                  8.016656   \n",
       "1                                  8.130979   \n",
       "2                                  8.096893   \n",
       "3                                  8.074946   \n",
       "4                                  8.054678   \n",
       "\n",
       "   secondary_cleaner.state.floatbank4_b_level  \\\n",
       "0                                 -501.289139   \n",
       "1                                 -499.634209   \n",
       "2                                 -500.827423   \n",
       "3                                 -499.474407   \n",
       "4                                 -500.397500   \n",
       "\n",
       "   secondary_cleaner.state.floatbank5_a_air  \\\n",
       "0                                  7.946562   \n",
       "1                                  7.958270   \n",
       "2                                  8.071056   \n",
       "3                                  7.897085   \n",
       "4                                  8.107890   \n",
       "\n",
       "   secondary_cleaner.state.floatbank5_a_level  \\\n",
       "0                                 -432.317850   \n",
       "1                                 -525.839648   \n",
       "2                                 -500.801673   \n",
       "3                                 -500.868509   \n",
       "4                                 -509.526725   \n",
       "\n",
       "   secondary_cleaner.state.floatbank5_b_air  \\\n",
       "0                                  4.872511   \n",
       "1                                  4.878850   \n",
       "2                                  4.905125   \n",
       "3                                  4.931400   \n",
       "4                                  4.957674   \n",
       "\n",
       "   secondary_cleaner.state.floatbank5_b_level  \\\n",
       "0                                 -500.037437   \n",
       "1                                 -500.162375   \n",
       "2                                 -499.828510   \n",
       "3                                 -499.963623   \n",
       "4                                 -500.360026   \n",
       "\n",
       "   secondary_cleaner.state.floatbank6_a_air  \\\n",
       "0                                 26.705889   \n",
       "1                                 25.019940   \n",
       "2                                 24.994862   \n",
       "3                                 24.948919   \n",
       "4                                 25.003331   \n",
       "\n",
       "   secondary_cleaner.state.floatbank6_a_level  \n",
       "0                                 -499.709414  \n",
       "1                                 -499.819438  \n",
       "2                                 -500.622559  \n",
       "3                                 -498.709987  \n",
       "4                                 -500.856333  \n",
       "\n",
       "[5 rows x 53 columns]"
      ]
     },
     "metadata": {},
     "output_type": "display_data"
    },
    {
     "name": "stdout",
     "output_type": "stream",
     "text": [
      "<class 'pandas.core.frame.DataFrame'>\n",
      "RangeIndex: 5290 entries, 0 to 5289\n",
      "Data columns (total 53 columns):\n",
      " #   Column                                      Non-Null Count  Dtype  \n",
      "---  ------                                      --------------  -----  \n",
      " 0   date                                        5290 non-null   object \n",
      " 1   primary_cleaner.input.sulfate               5286 non-null   float64\n",
      " 2   primary_cleaner.input.depressant            5285 non-null   float64\n",
      " 3   primary_cleaner.input.feed_size             5290 non-null   float64\n",
      " 4   primary_cleaner.input.xanthate              5286 non-null   float64\n",
      " 5   primary_cleaner.state.floatbank8_a_air      5290 non-null   float64\n",
      " 6   primary_cleaner.state.floatbank8_a_level    5290 non-null   float64\n",
      " 7   primary_cleaner.state.floatbank8_b_air      5290 non-null   float64\n",
      " 8   primary_cleaner.state.floatbank8_b_level    5290 non-null   float64\n",
      " 9   primary_cleaner.state.floatbank8_c_air      5290 non-null   float64\n",
      " 10  primary_cleaner.state.floatbank8_c_level    5290 non-null   float64\n",
      " 11  primary_cleaner.state.floatbank8_d_air      5290 non-null   float64\n",
      " 12  primary_cleaner.state.floatbank8_d_level    5290 non-null   float64\n",
      " 13  rougher.input.feed_ag                       5290 non-null   float64\n",
      " 14  rougher.input.feed_pb                       5290 non-null   float64\n",
      " 15  rougher.input.feed_rate                     5287 non-null   float64\n",
      " 16  rougher.input.feed_size                     5289 non-null   float64\n",
      " 17  rougher.input.feed_sol                      5269 non-null   float64\n",
      " 18  rougher.input.feed_au                       5290 non-null   float64\n",
      " 19  rougher.input.floatbank10_sulfate           5285 non-null   float64\n",
      " 20  rougher.input.floatbank10_xanthate          5290 non-null   float64\n",
      " 21  rougher.input.floatbank11_sulfate           5282 non-null   float64\n",
      " 22  rougher.input.floatbank11_xanthate          5265 non-null   float64\n",
      " 23  rougher.state.floatbank10_a_air             5290 non-null   float64\n",
      " 24  rougher.state.floatbank10_a_level           5290 non-null   float64\n",
      " 25  rougher.state.floatbank10_b_air             5290 non-null   float64\n",
      " 26  rougher.state.floatbank10_b_level           5290 non-null   float64\n",
      " 27  rougher.state.floatbank10_c_air             5290 non-null   float64\n",
      " 28  rougher.state.floatbank10_c_level           5290 non-null   float64\n",
      " 29  rougher.state.floatbank10_d_air             5290 non-null   float64\n",
      " 30  rougher.state.floatbank10_d_level           5290 non-null   float64\n",
      " 31  rougher.state.floatbank10_e_air             5290 non-null   float64\n",
      " 32  rougher.state.floatbank10_e_level           5290 non-null   float64\n",
      " 33  rougher.state.floatbank10_f_air             5290 non-null   float64\n",
      " 34  rougher.state.floatbank10_f_level           5290 non-null   float64\n",
      " 35  secondary_cleaner.state.floatbank2_a_air    5287 non-null   float64\n",
      " 36  secondary_cleaner.state.floatbank2_a_level  5290 non-null   float64\n",
      " 37  secondary_cleaner.state.floatbank2_b_air    5288 non-null   float64\n",
      " 38  secondary_cleaner.state.floatbank2_b_level  5290 non-null   float64\n",
      " 39  secondary_cleaner.state.floatbank3_a_air    5281 non-null   float64\n",
      " 40  secondary_cleaner.state.floatbank3_a_level  5290 non-null   float64\n",
      " 41  secondary_cleaner.state.floatbank3_b_air    5290 non-null   float64\n",
      " 42  secondary_cleaner.state.floatbank3_b_level  5290 non-null   float64\n",
      " 43  secondary_cleaner.state.floatbank4_a_air    5290 non-null   float64\n",
      " 44  secondary_cleaner.state.floatbank4_a_level  5290 non-null   float64\n",
      " 45  secondary_cleaner.state.floatbank4_b_air    5290 non-null   float64\n",
      " 46  secondary_cleaner.state.floatbank4_b_level  5290 non-null   float64\n",
      " 47  secondary_cleaner.state.floatbank5_a_air    5290 non-null   float64\n",
      " 48  secondary_cleaner.state.floatbank5_a_level  5290 non-null   float64\n",
      " 49  secondary_cleaner.state.floatbank5_b_air    5290 non-null   float64\n",
      " 50  secondary_cleaner.state.floatbank5_b_level  5290 non-null   float64\n",
      " 51  secondary_cleaner.state.floatbank6_a_air    5290 non-null   float64\n",
      " 52  secondary_cleaner.state.floatbank6_a_level  5290 non-null   float64\n",
      "dtypes: float64(52), object(1)\n",
      "memory usage: 2.1+ MB\n"
     ]
    }
   ],
   "source": [
    "# Тестовая выборка\n",
    "display(test.head())\n",
    "test.info()"
   ]
  },
  {
   "cell_type": "code",
   "execution_count": 5,
   "metadata": {},
   "outputs": [
    {
     "data": {
      "text/html": [
       "<div>\n",
       "<style scoped>\n",
       "    .dataframe tbody tr th:only-of-type {\n",
       "        vertical-align: middle;\n",
       "    }\n",
       "\n",
       "    .dataframe tbody tr th {\n",
       "        vertical-align: top;\n",
       "    }\n",
       "\n",
       "    .dataframe thead th {\n",
       "        text-align: right;\n",
       "    }\n",
       "</style>\n",
       "<table border=\"1\" class=\"dataframe\">\n",
       "  <thead>\n",
       "    <tr style=\"text-align: right;\">\n",
       "      <th></th>\n",
       "      <th>date</th>\n",
       "      <th>final.output.concentrate_ag</th>\n",
       "      <th>final.output.concentrate_pb</th>\n",
       "      <th>final.output.concentrate_sol</th>\n",
       "      <th>final.output.concentrate_au</th>\n",
       "      <th>final.output.recovery</th>\n",
       "      <th>final.output.tail_ag</th>\n",
       "      <th>final.output.tail_pb</th>\n",
       "      <th>final.output.tail_sol</th>\n",
       "      <th>final.output.tail_au</th>\n",
       "      <th>...</th>\n",
       "      <th>secondary_cleaner.state.floatbank4_a_air</th>\n",
       "      <th>secondary_cleaner.state.floatbank4_a_level</th>\n",
       "      <th>secondary_cleaner.state.floatbank4_b_air</th>\n",
       "      <th>secondary_cleaner.state.floatbank4_b_level</th>\n",
       "      <th>secondary_cleaner.state.floatbank5_a_air</th>\n",
       "      <th>secondary_cleaner.state.floatbank5_a_level</th>\n",
       "      <th>secondary_cleaner.state.floatbank5_b_air</th>\n",
       "      <th>secondary_cleaner.state.floatbank5_b_level</th>\n",
       "      <th>secondary_cleaner.state.floatbank6_a_air</th>\n",
       "      <th>secondary_cleaner.state.floatbank6_a_level</th>\n",
       "    </tr>\n",
       "  </thead>\n",
       "  <tbody>\n",
       "    <tr>\n",
       "      <th>0</th>\n",
       "      <td>2016-01-15 00:00:00</td>\n",
       "      <td>6.055403</td>\n",
       "      <td>9.889648</td>\n",
       "      <td>5.507324</td>\n",
       "      <td>42.192020</td>\n",
       "      <td>70.541216</td>\n",
       "      <td>10.411962</td>\n",
       "      <td>0.895447</td>\n",
       "      <td>16.904297</td>\n",
       "      <td>2.143149</td>\n",
       "      <td>...</td>\n",
       "      <td>14.016835</td>\n",
       "      <td>-502.488007</td>\n",
       "      <td>12.099931</td>\n",
       "      <td>-504.715942</td>\n",
       "      <td>9.925633</td>\n",
       "      <td>-498.310211</td>\n",
       "      <td>8.079666</td>\n",
       "      <td>-500.470978</td>\n",
       "      <td>14.151341</td>\n",
       "      <td>-605.841980</td>\n",
       "    </tr>\n",
       "    <tr>\n",
       "      <th>1</th>\n",
       "      <td>2016-01-15 01:00:00</td>\n",
       "      <td>6.029369</td>\n",
       "      <td>9.968944</td>\n",
       "      <td>5.257781</td>\n",
       "      <td>42.701629</td>\n",
       "      <td>69.266198</td>\n",
       "      <td>10.462676</td>\n",
       "      <td>0.927452</td>\n",
       "      <td>16.634514</td>\n",
       "      <td>2.224930</td>\n",
       "      <td>...</td>\n",
       "      <td>13.992281</td>\n",
       "      <td>-505.503262</td>\n",
       "      <td>11.950531</td>\n",
       "      <td>-501.331529</td>\n",
       "      <td>10.039245</td>\n",
       "      <td>-500.169983</td>\n",
       "      <td>7.984757</td>\n",
       "      <td>-500.582168</td>\n",
       "      <td>13.998353</td>\n",
       "      <td>-599.787184</td>\n",
       "    </tr>\n",
       "    <tr>\n",
       "      <th>2</th>\n",
       "      <td>2016-01-15 02:00:00</td>\n",
       "      <td>6.055926</td>\n",
       "      <td>10.213995</td>\n",
       "      <td>5.383759</td>\n",
       "      <td>42.657501</td>\n",
       "      <td>68.116445</td>\n",
       "      <td>10.507046</td>\n",
       "      <td>0.953716</td>\n",
       "      <td>16.208849</td>\n",
       "      <td>2.257889</td>\n",
       "      <td>...</td>\n",
       "      <td>14.015015</td>\n",
       "      <td>-502.520901</td>\n",
       "      <td>11.912783</td>\n",
       "      <td>-501.133383</td>\n",
       "      <td>10.070913</td>\n",
       "      <td>-500.129135</td>\n",
       "      <td>8.013877</td>\n",
       "      <td>-500.517572</td>\n",
       "      <td>14.028663</td>\n",
       "      <td>-601.427363</td>\n",
       "    </tr>\n",
       "    <tr>\n",
       "      <th>3</th>\n",
       "      <td>2016-01-15 03:00:00</td>\n",
       "      <td>6.047977</td>\n",
       "      <td>9.977019</td>\n",
       "      <td>4.858634</td>\n",
       "      <td>42.689819</td>\n",
       "      <td>68.347543</td>\n",
       "      <td>10.422762</td>\n",
       "      <td>0.883763</td>\n",
       "      <td>16.532835</td>\n",
       "      <td>2.146849</td>\n",
       "      <td>...</td>\n",
       "      <td>14.036510</td>\n",
       "      <td>-500.857308</td>\n",
       "      <td>11.999550</td>\n",
       "      <td>-501.193686</td>\n",
       "      <td>9.970366</td>\n",
       "      <td>-499.201640</td>\n",
       "      <td>7.977324</td>\n",
       "      <td>-500.255908</td>\n",
       "      <td>14.005551</td>\n",
       "      <td>-599.996129</td>\n",
       "    </tr>\n",
       "    <tr>\n",
       "      <th>4</th>\n",
       "      <td>2016-01-15 04:00:00</td>\n",
       "      <td>6.148599</td>\n",
       "      <td>10.142511</td>\n",
       "      <td>4.939416</td>\n",
       "      <td>42.774141</td>\n",
       "      <td>66.927016</td>\n",
       "      <td>10.360302</td>\n",
       "      <td>0.792826</td>\n",
       "      <td>16.525686</td>\n",
       "      <td>2.055292</td>\n",
       "      <td>...</td>\n",
       "      <td>14.027298</td>\n",
       "      <td>-499.838632</td>\n",
       "      <td>11.953070</td>\n",
       "      <td>-501.053894</td>\n",
       "      <td>9.925709</td>\n",
       "      <td>-501.686727</td>\n",
       "      <td>7.894242</td>\n",
       "      <td>-500.356035</td>\n",
       "      <td>13.996647</td>\n",
       "      <td>-601.496691</td>\n",
       "    </tr>\n",
       "  </tbody>\n",
       "</table>\n",
       "<p>5 rows × 87 columns</p>\n",
       "</div>"
      ],
      "text/plain": [
       "                  date  final.output.concentrate_ag  \\\n",
       "0  2016-01-15 00:00:00                     6.055403   \n",
       "1  2016-01-15 01:00:00                     6.029369   \n",
       "2  2016-01-15 02:00:00                     6.055926   \n",
       "3  2016-01-15 03:00:00                     6.047977   \n",
       "4  2016-01-15 04:00:00                     6.148599   \n",
       "\n",
       "   final.output.concentrate_pb  final.output.concentrate_sol  \\\n",
       "0                     9.889648                      5.507324   \n",
       "1                     9.968944                      5.257781   \n",
       "2                    10.213995                      5.383759   \n",
       "3                     9.977019                      4.858634   \n",
       "4                    10.142511                      4.939416   \n",
       "\n",
       "   final.output.concentrate_au  final.output.recovery  final.output.tail_ag  \\\n",
       "0                    42.192020              70.541216             10.411962   \n",
       "1                    42.701629              69.266198             10.462676   \n",
       "2                    42.657501              68.116445             10.507046   \n",
       "3                    42.689819              68.347543             10.422762   \n",
       "4                    42.774141              66.927016             10.360302   \n",
       "\n",
       "   final.output.tail_pb  final.output.tail_sol  final.output.tail_au  ...  \\\n",
       "0              0.895447              16.904297              2.143149  ...   \n",
       "1              0.927452              16.634514              2.224930  ...   \n",
       "2              0.953716              16.208849              2.257889  ...   \n",
       "3              0.883763              16.532835              2.146849  ...   \n",
       "4              0.792826              16.525686              2.055292  ...   \n",
       "\n",
       "   secondary_cleaner.state.floatbank4_a_air  \\\n",
       "0                                 14.016835   \n",
       "1                                 13.992281   \n",
       "2                                 14.015015   \n",
       "3                                 14.036510   \n",
       "4                                 14.027298   \n",
       "\n",
       "   secondary_cleaner.state.floatbank4_a_level  \\\n",
       "0                                 -502.488007   \n",
       "1                                 -505.503262   \n",
       "2                                 -502.520901   \n",
       "3                                 -500.857308   \n",
       "4                                 -499.838632   \n",
       "\n",
       "   secondary_cleaner.state.floatbank4_b_air  \\\n",
       "0                                 12.099931   \n",
       "1                                 11.950531   \n",
       "2                                 11.912783   \n",
       "3                                 11.999550   \n",
       "4                                 11.953070   \n",
       "\n",
       "   secondary_cleaner.state.floatbank4_b_level  \\\n",
       "0                                 -504.715942   \n",
       "1                                 -501.331529   \n",
       "2                                 -501.133383   \n",
       "3                                 -501.193686   \n",
       "4                                 -501.053894   \n",
       "\n",
       "   secondary_cleaner.state.floatbank5_a_air  \\\n",
       "0                                  9.925633   \n",
       "1                                 10.039245   \n",
       "2                                 10.070913   \n",
       "3                                  9.970366   \n",
       "4                                  9.925709   \n",
       "\n",
       "   secondary_cleaner.state.floatbank5_a_level  \\\n",
       "0                                 -498.310211   \n",
       "1                                 -500.169983   \n",
       "2                                 -500.129135   \n",
       "3                                 -499.201640   \n",
       "4                                 -501.686727   \n",
       "\n",
       "   secondary_cleaner.state.floatbank5_b_air  \\\n",
       "0                                  8.079666   \n",
       "1                                  7.984757   \n",
       "2                                  8.013877   \n",
       "3                                  7.977324   \n",
       "4                                  7.894242   \n",
       "\n",
       "   secondary_cleaner.state.floatbank5_b_level  \\\n",
       "0                                 -500.470978   \n",
       "1                                 -500.582168   \n",
       "2                                 -500.517572   \n",
       "3                                 -500.255908   \n",
       "4                                 -500.356035   \n",
       "\n",
       "   secondary_cleaner.state.floatbank6_a_air  \\\n",
       "0                                 14.151341   \n",
       "1                                 13.998353   \n",
       "2                                 14.028663   \n",
       "3                                 14.005551   \n",
       "4                                 13.996647   \n",
       "\n",
       "   secondary_cleaner.state.floatbank6_a_level  \n",
       "0                                 -605.841980  \n",
       "1                                 -599.787184  \n",
       "2                                 -601.427363  \n",
       "3                                 -599.996129  \n",
       "4                                 -601.496691  \n",
       "\n",
       "[5 rows x 87 columns]"
      ]
     },
     "metadata": {},
     "output_type": "display_data"
    },
    {
     "name": "stdout",
     "output_type": "stream",
     "text": [
      "<class 'pandas.core.frame.DataFrame'>\n",
      "RangeIndex: 19439 entries, 0 to 19438\n",
      "Data columns (total 87 columns):\n",
      " #   Column                                              Non-Null Count  Dtype  \n",
      "---  ------                                              --------------  -----  \n",
      " 0   date                                                19439 non-null  object \n",
      " 1   final.output.concentrate_ag                         19438 non-null  float64\n",
      " 2   final.output.concentrate_pb                         19438 non-null  float64\n",
      " 3   final.output.concentrate_sol                        19228 non-null  float64\n",
      " 4   final.output.concentrate_au                         19439 non-null  float64\n",
      " 5   final.output.recovery                               19439 non-null  float64\n",
      " 6   final.output.tail_ag                                19438 non-null  float64\n",
      " 7   final.output.tail_pb                                19338 non-null  float64\n",
      " 8   final.output.tail_sol                               19433 non-null  float64\n",
      " 9   final.output.tail_au                                19439 non-null  float64\n",
      " 10  primary_cleaner.input.sulfate                       19415 non-null  float64\n",
      " 11  primary_cleaner.input.depressant                    19402 non-null  float64\n",
      " 12  primary_cleaner.input.feed_size                     19439 non-null  float64\n",
      " 13  primary_cleaner.input.xanthate                      19335 non-null  float64\n",
      " 14  primary_cleaner.output.concentrate_ag               19439 non-null  float64\n",
      " 15  primary_cleaner.output.concentrate_pb               19323 non-null  float64\n",
      " 16  primary_cleaner.output.concentrate_sol              19069 non-null  float64\n",
      " 17  primary_cleaner.output.concentrate_au               19439 non-null  float64\n",
      " 18  primary_cleaner.output.tail_ag                      19435 non-null  float64\n",
      " 19  primary_cleaner.output.tail_pb                      19418 non-null  float64\n",
      " 20  primary_cleaner.output.tail_sol                     19377 non-null  float64\n",
      " 21  primary_cleaner.output.tail_au                      19439 non-null  float64\n",
      " 22  primary_cleaner.state.floatbank8_a_air              19435 non-null  float64\n",
      " 23  primary_cleaner.state.floatbank8_a_level            19438 non-null  float64\n",
      " 24  primary_cleaner.state.floatbank8_b_air              19435 non-null  float64\n",
      " 25  primary_cleaner.state.floatbank8_b_level            19438 non-null  float64\n",
      " 26  primary_cleaner.state.floatbank8_c_air              19437 non-null  float64\n",
      " 27  primary_cleaner.state.floatbank8_c_level            19438 non-null  float64\n",
      " 28  primary_cleaner.state.floatbank8_d_air              19436 non-null  float64\n",
      " 29  primary_cleaner.state.floatbank8_d_level            19438 non-null  float64\n",
      " 30  rougher.calculation.sulfate_to_au_concentrate       19437 non-null  float64\n",
      " 31  rougher.calculation.floatbank10_sulfate_to_au_feed  19437 non-null  float64\n",
      " 32  rougher.calculation.floatbank11_sulfate_to_au_feed  19437 non-null  float64\n",
      " 33  rougher.calculation.au_pb_ratio                     19439 non-null  float64\n",
      " 34  rougher.input.feed_ag                               19439 non-null  float64\n",
      " 35  rougher.input.feed_pb                               19339 non-null  float64\n",
      " 36  rougher.input.feed_rate                             19428 non-null  float64\n",
      " 37  rougher.input.feed_size                             19294 non-null  float64\n",
      " 38  rougher.input.feed_sol                              19340 non-null  float64\n",
      " 39  rougher.input.feed_au                               19439 non-null  float64\n",
      " 40  rougher.input.floatbank10_sulfate                   19405 non-null  float64\n",
      " 41  rougher.input.floatbank10_xanthate                  19431 non-null  float64\n",
      " 42  rougher.input.floatbank11_sulfate                   19395 non-null  float64\n",
      " 43  rougher.input.floatbank11_xanthate                  18986 non-null  float64\n",
      " 44  rougher.output.concentrate_ag                       19439 non-null  float64\n",
      " 45  rougher.output.concentrate_pb                       19439 non-null  float64\n",
      " 46  rougher.output.concentrate_sol                      19416 non-null  float64\n",
      " 47  rougher.output.concentrate_au                       19439 non-null  float64\n",
      " 48  rougher.output.recovery                             19439 non-null  float64\n",
      " 49  rougher.output.tail_ag                              19438 non-null  float64\n",
      " 50  rougher.output.tail_pb                              19439 non-null  float64\n",
      " 51  rougher.output.tail_sol                             19439 non-null  float64\n",
      " 52  rougher.output.tail_au                              19439 non-null  float64\n",
      " 53  rougher.state.floatbank10_a_air                     19438 non-null  float64\n",
      " 54  rougher.state.floatbank10_a_level                   19438 non-null  float64\n",
      " 55  rougher.state.floatbank10_b_air                     19438 non-null  float64\n",
      " 56  rougher.state.floatbank10_b_level                   19438 non-null  float64\n",
      " 57  rougher.state.floatbank10_c_air                     19438 non-null  float64\n",
      " 58  rougher.state.floatbank10_c_level                   19438 non-null  float64\n",
      " 59  rougher.state.floatbank10_d_air                     19439 non-null  float64\n",
      " 60  rougher.state.floatbank10_d_level                   19439 non-null  float64\n",
      " 61  rougher.state.floatbank10_e_air                     19003 non-null  float64\n",
      " 62  rougher.state.floatbank10_e_level                   19439 non-null  float64\n",
      " 63  rougher.state.floatbank10_f_air                     19439 non-null  float64\n",
      " 64  rougher.state.floatbank10_f_level                   19439 non-null  float64\n",
      " 65  secondary_cleaner.output.tail_ag                    19437 non-null  float64\n",
      " 66  secondary_cleaner.output.tail_pb                    19427 non-null  float64\n",
      " 67  secondary_cleaner.output.tail_sol                   17691 non-null  float64\n",
      " 68  secondary_cleaner.output.tail_au                    19439 non-null  float64\n",
      " 69  secondary_cleaner.state.floatbank2_a_air            19219 non-null  float64\n",
      " 70  secondary_cleaner.state.floatbank2_a_level          19438 non-null  float64\n",
      " 71  secondary_cleaner.state.floatbank2_b_air            19416 non-null  float64\n",
      " 72  secondary_cleaner.state.floatbank2_b_level          19438 non-null  float64\n",
      " 73  secondary_cleaner.state.floatbank3_a_air            19426 non-null  float64\n",
      " 74  secondary_cleaner.state.floatbank3_a_level          19438 non-null  float64\n",
      " 75  secondary_cleaner.state.floatbank3_b_air            19438 non-null  float64\n",
      " 76  secondary_cleaner.state.floatbank3_b_level          19438 non-null  float64\n",
      " 77  secondary_cleaner.state.floatbank4_a_air            19433 non-null  float64\n",
      " 78  secondary_cleaner.state.floatbank4_a_level          19438 non-null  float64\n",
      " 79  secondary_cleaner.state.floatbank4_b_air            19438 non-null  float64\n",
      " 80  secondary_cleaner.state.floatbank4_b_level          19438 non-null  float64\n",
      " 81  secondary_cleaner.state.floatbank5_a_air            19438 non-null  float64\n",
      " 82  secondary_cleaner.state.floatbank5_a_level          19438 non-null  float64\n",
      " 83  secondary_cleaner.state.floatbank5_b_air            19438 non-null  float64\n",
      " 84  secondary_cleaner.state.floatbank5_b_level          19438 non-null  float64\n",
      " 85  secondary_cleaner.state.floatbank6_a_air            19437 non-null  float64\n",
      " 86  secondary_cleaner.state.floatbank6_a_level          19438 non-null  float64\n",
      "dtypes: float64(86), object(1)\n",
      "memory usage: 12.9+ MB\n"
     ]
    }
   ],
   "source": [
    "# Полный датасет\n",
    "display(full.head())\n",
    "full.info()"
   ]
  },
  {
   "cell_type": "markdown",
   "metadata": {},
   "source": [
    "Выводы:\n",
    "\n",
    "- данные содержатся в трех файлах: обучающей выборке (gold_recovery_train_new.csv), тестовой выборке (gold_recovery_test_new.csv) и полном датасете (gold_recovery_full_new.csv).\n",
    "\n",
    "- исходные данные содержат много признаков (87 столбцов), которые относятся к разным этапам обработки сырья и химическим элементам, присутствующим в нем.\n",
    "\n",
    "- в данных имеется много пропущенных значений, которые необходимо обработать перед обучением модели.\n",
    "\n",
    "- тестовый датасет содержит меньше признаков, чем обучающий, и не включает целевые переменные. Это означает, что для оценки модели на тестовой выборке нам потребуется дополнительная информация из полного датасета.\n",
    "\n",
    "Следовательно, перед анализом данных и построением моделей нам нужно провести предобработку данных, чтобы обработать пропущенные значения и сделать соответствующие выборки согласованными друг с другом."
   ]
  },
  {
   "cell_type": "markdown",
   "metadata": {},
   "source": [
    "<div class=\"alert alert-success\">\n",
    "<h2> Комментарий ревьюера <a class=\"tocSkip\"> </h2>\n",
    "\n",
    "<b>Все отлично!👍</b> \n",
    "    \n",
    "Данные осмотрели."
   ]
  },
  {
   "cell_type": "markdown",
   "metadata": {},
   "source": [
    "### Проверка расчета эффективности обогащения "
   ]
  },
  {
   "cell_type": "markdown",
   "metadata": {},
   "source": [
    "Проверим, что эффективность обогащения рассчитана правильно. Вычислим её на обучающей выборке для признака rougher.output.recovery.\n",
    "\n",
    "Эффективность обогащения (recovery) рассчитывается по следующей формуле:\n",
    "\n",
    "Recovery = (C * (F - T)) / (F * (C - T)) * 100,\n",
    "\n",
    "где:\n",
    "\n",
    "- C - доля золота в концентрате после флотации (rougher.output.concentrate_au)\n",
    "- F - доля золота в сырье до флотации (rougher.input.feed_au)\n",
    "- T - доля золота в отвальных хвостах после флотации (rougher.output.tail_au)"
   ]
  },
  {
   "cell_type": "code",
   "execution_count": 6,
   "metadata": {},
   "outputs": [
    {
     "name": "stdout",
     "output_type": "stream",
     "text": [
      "Mean Absolute Error: 9.73512347450521e-15\n"
     ]
    }
   ],
   "source": [
    "# Функция для расчета recovery\n",
    "def calculate_recovery(c, f, t):\n",
    "    recovery = (c * (f - t)) / (f * (c - t)) * 100\n",
    "    return recovery\n",
    "\n",
    "# Расчет recovery на основе формулы\n",
    "calculated_recovery = calculate_recovery(train['rougher.output.concentrate_au'],\n",
    "                                          train['rougher.input.feed_au'],\n",
    "                                          train['rougher.output.tail_au'])\n",
    "\n",
    "# Удаление строк с пропущенными значениями\n",
    "calculated_recovery = calculated_recovery.dropna()\n",
    "train_recovery = train.loc[calculated_recovery.index, :]\n",
    "\n",
    "# Вычисление MAE между рассчитанным recovery и имеющимся значением\n",
    "mae = mean_absolute_error(train_recovery['rougher.output.recovery'], calculated_recovery)\n",
    "print(\"Mean Absolute Error:\", mae)"
   ]
  },
  {
   "cell_type": "markdown",
   "metadata": {},
   "source": [
    "Вычисленное значение средней абсолютной ошибки (Mean Absolute Error, MAE) составляет 9.73512347450521e-15, что очень близко к нулю. Это означает, что эффективность обогащения, представленная в датасете, рассчитана правильно. Разница между рассчитанными значениями и предоставленными данными практически отсутствует. Таким образом, мы можем использовать значения признака rougher.output.recovery, как есть, без дополнительных корректировок."
   ]
  },
  {
   "cell_type": "markdown",
   "metadata": {},
   "source": [
    "<div class=\"alert alert-success\">\n",
    "<h2> Комментарий ревьюера <a class=\"tocSkip\"> </h2>\n",
    "\n",
    "<b>Все отлично!👍:</b> Оценили `MAE` между исходным и расчётным значением эффективности обогащения и убедились, что эффективность обогащения рассчитана правильно - отлично!\n",
    "</div>"
   ]
  },
  {
   "cell_type": "markdown",
   "metadata": {},
   "source": [
    "### Анализ признаков, недоступных в тестовой выборке"
   ]
  },
  {
   "cell_type": "markdown",
   "metadata": {},
   "source": [
    "Для того чтобы определить признаки, недоступные в тестовой выборке, сравним столбцы обучающего и тестового наборов данных."
   ]
  },
  {
   "cell_type": "code",
   "execution_count": 7,
   "metadata": {},
   "outputs": [
    {
     "data": {
      "text/plain": [
       "['final.output.concentrate_ag',\n",
       " 'final.output.concentrate_pb',\n",
       " 'final.output.concentrate_sol',\n",
       " 'final.output.concentrate_au',\n",
       " 'final.output.recovery',\n",
       " 'final.output.tail_ag',\n",
       " 'final.output.tail_pb',\n",
       " 'final.output.tail_sol',\n",
       " 'final.output.tail_au',\n",
       " 'primary_cleaner.output.concentrate_ag',\n",
       " 'primary_cleaner.output.concentrate_pb',\n",
       " 'primary_cleaner.output.concentrate_sol',\n",
       " 'primary_cleaner.output.concentrate_au',\n",
       " 'primary_cleaner.output.tail_ag',\n",
       " 'primary_cleaner.output.tail_pb',\n",
       " 'primary_cleaner.output.tail_sol',\n",
       " 'primary_cleaner.output.tail_au',\n",
       " 'rougher.calculation.sulfate_to_au_concentrate',\n",
       " 'rougher.calculation.floatbank10_sulfate_to_au_feed',\n",
       " 'rougher.calculation.floatbank11_sulfate_to_au_feed',\n",
       " 'rougher.calculation.au_pb_ratio',\n",
       " 'rougher.output.concentrate_ag',\n",
       " 'rougher.output.concentrate_pb',\n",
       " 'rougher.output.concentrate_sol',\n",
       " 'rougher.output.concentrate_au',\n",
       " 'rougher.output.recovery',\n",
       " 'rougher.output.tail_ag',\n",
       " 'rougher.output.tail_pb',\n",
       " 'rougher.output.tail_sol',\n",
       " 'rougher.output.tail_au',\n",
       " 'secondary_cleaner.output.tail_ag',\n",
       " 'secondary_cleaner.output.tail_pb',\n",
       " 'secondary_cleaner.output.tail_sol',\n",
       " 'secondary_cleaner.output.tail_au']"
      ]
     },
     "execution_count": 7,
     "metadata": {},
     "output_type": "execute_result"
    }
   ],
   "source": [
    "train_columns = train.columns\n",
    "test_columns = test.columns\n",
    "\n",
    "missing_columns = []\n",
    "\n",
    "for column in train_columns:\n",
    "    if column not in test_columns:\n",
    "        missing_columns.append(column)\n",
    "        \n",
    "missing_columns"
   ]
  },
  {
   "cell_type": "markdown",
   "metadata": {},
   "source": [
    "Отсутствующие признаки в тестовой выборке связаны с параметрами выходных продуктов и расчетными данными на различных этапах процесса. Список отсутствующих признаков можно разделить на следующие типы:\n",
    "\n",
    "1. **Выходные параметры продуктов:**\n",
    "\n",
    "- Концентраты металлов (Ag, Pb, Au) и примесей (sol) на разных стадиях очистки (флотации, первичной  и вторичной) и финальной.\n",
    "- Отвальные хвосты (tail) металлов (Ag, Pb, Au) и примесей (sol) на разных стадиях очистки (флотации, первичной  и вторичной) и финальной.\n",
    "\n",
    "2. **Расчетные параметры:**\n",
    "\n",
    "- rougher.calculation.sulfate_to_au_concentrate\n",
    "- rougher.calculation.floatbank10_sulfate_to_au_feed\n",
    "- rougher.calculation.floatbank11_sulfate_to_au_feed\n",
    "- rougher.calculation.au_pb_ratio\n",
    "\n",
    "3. **Целевые признаки:**\n",
    "\n",
    "- final.output.recovery\n",
    "- rougher.output.recovery\n",
    "\n",
    "Отсутствие этих признаков в тестовой выборке объясняется тем, что они замеряются и/или рассчитываются после обогащения, и, следовательно, недоступны во время предсказания модели."
   ]
  },
  {
   "cell_type": "markdown",
   "metadata": {},
   "source": [
    "<div class=\"alert alert-success\">\n",
    "<h2> Комментарий ревьюера <a class=\"tocSkip\"> </h2>\n",
    "\n",
    "<b>Все отлично!👍:</b> Проанализировали разницу в признаках между выборками. Вывод верный: действительно, в тестовой выборке присутствуют только те параметры техпроцесса, которые мы можем получить непосредственно в ходе процесса или по его окончании.\n",
    "</div>"
   ]
  },
  {
   "cell_type": "markdown",
   "metadata": {},
   "source": [
    "### Предобработка данных"
   ]
  },
  {
   "cell_type": "markdown",
   "metadata": {},
   "source": [
    "Пропуски могут быть заполнены методом интерполяции, который позволяет восстановить пропущенные значения на основе соседних данных. В данном случае, это будет разумным подходом, так как поможет сохранить связи между данными и по условиям задания соседние по времени параметры часто похожи."
   ]
  },
  {
   "cell_type": "code",
   "execution_count": 8,
   "metadata": {},
   "outputs": [],
   "source": [
    "train.interpolate(inplace=True)\n",
    "test.interpolate(inplace=True)\n",
    "full.interpolate(inplace=True)"
   ]
  },
  {
   "cell_type": "markdown",
   "metadata": {},
   "source": [
    "<div class=\"alert alert-success\">\n",
    "<h2> Комментарий ревьюера <a class=\"tocSkip\"> </h2>\n",
    "\n",
    "<b>Все отлично!👍:</b> Обработали пропуски с помощью интерполяции, а также пояснили причину выбора такой стратегии - отлично!\n",
    "</div>"
   ]
  },
  {
   "cell_type": "markdown",
   "metadata": {},
   "source": [
    "### Вывод"
   ]
  },
  {
   "cell_type": "markdown",
   "metadata": {},
   "source": [
    "Мы ознакомились с обучающей, тестовой и полной выборками, проверили типы данных и количество пропущенных значений. Обнаружили, что в данных есть пропущенные значения, которые было необходимо обработать перед обучением модели. \n",
    "\n",
    "Рассчитали эффективность обогащения (recovery) на основе формулы для признака rougher.output.recovery и сравнили наши расчеты с предоставленными значениями. Полученное среднее абсолютное отклонение (MAE) было очень маленьким (9.73e-15), что говорит о правильности предоставленных расчетов эффективности обогащения.\n",
    "\n",
    "Проанализировали признаки, которые отсутствуют в тестовой выборке, и определили, что они относятся к типу \"output\" (выходные параметры) и \"calculation\" (расчетные параметры). Такие параметры не могут быть использованы в качестве входных данных для обучения модели, так как в реальных условиях они будут недоступны на момент прогнозирования. В дальнейшем эти столбцы нужно будет удалить в обучающей выборке.\n",
    "\n",
    "Мы заполнили пропущенные значения во всех датасета с использованием метода интерполяции. Это было сделано на основе предположения, что соседние по времени параметры часто похожи.\n",
    "\n",
    "Таким образом, мы успешно провели анализ данных и предобработку, подготовив данные для обучения модели машинного обучения."
   ]
  },
  {
   "cell_type": "markdown",
   "metadata": {},
   "source": [
    "<div class=\"alert alert-success\">\n",
    "<h2> Комментарий ревьюера <a class=\"tocSkip\"> </h2>\n",
    "\n",
    "<b>Все отлично!👍:</b> Отличный промежуточный вывод!"
   ]
  },
  {
   "cell_type": "markdown",
   "metadata": {},
   "source": [
    "## Анализ данных"
   ]
  },
  {
   "cell_type": "markdown",
   "metadata": {},
   "source": [
    "### Изменение концентрации металлов (Au, Ag, Pb) на различных этапах очистки"
   ]
  },
  {
   "cell_type": "markdown",
   "metadata": {},
   "source": [
    "Для анализа изменения концентрации металлов на различных этапах очистки, сначала сгруппируем столбцы, связанные с концентрацией металлов на каждом этапе, а затем построим графики.\n",
    "\n",
    "Столбцы, связанные с концентрацией металлов:\n",
    "\n",
    "1. rougher.input.feed - исходное сырье\n",
    "2. rougher.output.concentrate - черновой концентрат после флотации\n",
    "3. primary_cleaner.output.concentrate - концентрат после первичной очистки\n",
    "4. final.output.concentrate - финальный концентрат после вторичной очистки\n",
    "\n",
    "Код для построения графиков:"
   ]
  },
  {
   "cell_type": "code",
   "execution_count": 9,
   "metadata": {},
   "outputs": [
    {
     "data": {
      "image/png": "[encoded data removed]",
      "text/plain": [
       "<Figure size 1440x504 with 3 Axes>"
      ]
     },
     "metadata": {
      "needs_background": "light"
     },
     "output_type": "display_data"
    }
   ],
   "source": [
    "metals = ['au', 'ag', 'pb']\n",
    "stages = ['rougher.input.feed',\n",
    "          'rougher.output.concentrate',\n",
    "          'primary_cleaner.output.concentrate',\n",
    "          'final.output.concentrate']\n",
    "\n",
    "fig, ax = plt.subplots(1, 3, figsize=(20, 7))\n",
    "\n",
    "for i, metal in enumerate(metals):\n",
    "    for stage in stages:\n",
    "        column = f\"{stage}_{metal}\"\n",
    "        ax[i].hist(full[column], label=stage, alpha=0.7, bins=50)\n",
    "    ax[i].set_title(metal.upper())\n",
    "    ax[i].set_xlabel('Концентрация')\n",
    "    ax[i].set_ylabel('Кол-во результатов')\n",
    "    ax[i].legend()\n",
    "\n",
    "plt.tight_layout()\n",
    "plt.show()"
   ]
  },
  {
   "cell_type": "markdown",
   "metadata": {},
   "source": [
    "После построения графиков, можно сделать следующие выводы:\n",
    "\n",
    "1. Концентрация золота (Au) увеличивается после каждого этапа очистки. Значительное увеличение наблюдается после флотации, и продолжает расти после вторичной очистки. Это показывает, что процесс обработки работает правильно, увеличивая концентрацию золота на каждом этапе.\n",
    "\n",
    "2. Концентрация серебра (Ag) сначала увеличивается после флотации, но затем снижается после первичной и вторичной очистки. Это может быть связано с тем, что серебро удаляется вместе с примесями на этапах очистки.\n",
    "\n",
    "3. Концентрация свинца (Pb) увеличивается после флотации и немного увеличивается после первичной очистки, после чего остается примерно на одном уровне после вторичной очистки. Это может свидетельствовать о том, что процесс очистки свинца достигает предела эффективности после первичной очистки.\n",
    "\n",
    "Также на графиках можно заметить выбросы значений рядом с 0. Природа этого явления не совсем ясна и без понимания мы не можем избавиться от этих значений."
   ]
  },
  {
   "cell_type": "markdown",
   "metadata": {},
   "source": [
    "<div class=\"alert alert-success\">\n",
    "<h2> Комментарий ревьюера <a class=\"tocSkip\"> </h2>\n",
    "\n",
    "<b>Все отлично!👍:</b> Исследована концентрация металлов на разных стадиях обработки, проанализирована динамика концентрации в зависимости от этапа техпроцесса - отлично, тут всё верно.\n",
    "    \n",
    "Круто, что отмечены нулевые значения на графике концентрации - это действительно аномалия, подлежащая удалению.\n",
    "</div>"
   ]
  },
  {
   "cell_type": "markdown",
   "metadata": {},
   "source": [
    "###  Сравнение распределения размеров гранул сырья на обучающей и тестовой выборках"
   ]
  },
  {
   "cell_type": "markdown",
   "metadata": {},
   "source": [
    "Для сравнения распределений размеров гранул сырья на обучающей и тестовой выборках, построим гистограммы для столбцов 'rougher.input.feed_size' и 'primary_cleaner.input.feed_size' в обоих наборах данных.\n",
    "\n",
    "Код для построения гистограмм:"
   ]
  },
  {
   "cell_type": "code",
   "execution_count": 10,
   "metadata": {},
   "outputs": [
    {
     "data": {
      "image/png": "[encoded data removed]",
      "text/plain": [
       "<Figure size 720x360 with 1 Axes>"
      ]
     },
     "metadata": {
      "needs_background": "light"
     },
     "output_type": "display_data"
    }
   ],
   "source": [
    "fig, ax = plt.subplots(figsize=(10, 5))\n",
    "\n",
    "ax.hist(train['rougher.input.feed_size'], bins=100, alpha=0.7, label='Train', density=True)\n",
    "ax.hist(test['rougher.input.feed_size'], bins=100, alpha=0.7, label='Test', density=True)\n",
    "ax.set_title('Распределение размеров гранул сырья в стадии флотации')\n",
    "ax.set_xlabel('Размер гранул')\n",
    "ax.set_ylabel('Плотность')\n",
    "ax.set_xlim(0, 200)\n",
    "ax.legend()\n",
    "\n",
    "plt.show()"
   ]
  },
  {
   "cell_type": "code",
   "execution_count": 11,
   "metadata": {},
   "outputs": [
    {
     "data": {
      "image/png": "[encoded data removed]",
      "text/plain": [
       "<Figure size 720x360 with 1 Axes>"
      ]
     },
     "metadata": {
      "needs_background": "light"
     },
     "output_type": "display_data"
    }
   ],
   "source": [
    "fig, ax = plt.subplots(figsize=(10, 5))\n",
    "\n",
    "ax.hist(train['primary_cleaner.input.feed_size'], bins=100, alpha=0.7, label='Train', density=True)\n",
    "ax.hist(test['primary_cleaner.input.feed_size'], bins=100, alpha=0.7, label='Test', density=True)\n",
    "ax.set_title('Распределение размеров гранул сырья в стадии первичной очистки')\n",
    "ax.set_xlabel('Размер гранул')\n",
    "ax.set_ylabel('Плотность')\n",
    "ax.legend()\n",
    "\n",
    "plt.show()"
   ]
  },
  {
   "cell_type": "markdown",
   "metadata": {},
   "source": [
    "На основе построенных гистограмм можно сделать следующие выводы:\n",
    "\n",
    "1. Распределение размеров гранул сырья в стадии флотации ('rougher.input.feed_size') на обучающей и тестовой выборках схожи. Они имеют примерно одинаковые пики и ширину распределения, хотя в выборках наблюдается некоторая зашумленность.\n",
    "\n",
    "2. Распределение размеров гранул сырья в стадии первичной очистки ('primary_cleaner.input.feed_size') на обучающей и тестовой выборках также схожи, с незначительными различиями в высоте пиков.\n",
    "\n",
    "Таким образом, распределения размеров гранул сырья на обучающей и тестовой выборках не сильно отличаются друг от друга, и оценка модели должна быть достаточно точной."
   ]
  },
  {
   "cell_type": "markdown",
   "metadata": {},
   "source": [
    "<div class=\"alert alert-success\">\n",
    "<h2> Комментарий ревьюера <a class=\"tocSkip\"> </h2>\n",
    "\n",
    "<b>Все отлично!👍:</b> Сравнили размеры гранул сырья на обучающей и тестовой выборках для этапов `rougher.input.feed_size` и `primary_cleaner.input.feed_size` - отлично, распределения между выборками действительно схожи, следовательно модель будет корректно работать.\n",
    "    \n",
    "Здорово, что используешь гистограмму плотности для оценки распределения непрерывных переменных.\n",
    "</div>"
   ]
  },
  {
   "cell_type": "markdown",
   "metadata": {},
   "source": [
    "### Исследование суммарной концентрации всех веществ на разных стадиях: в сырье, в черновом и финальном концентратах"
   ]
  },
  {
   "cell_type": "markdown",
   "metadata": {},
   "source": [
    "Для анализа суммарной концентрации всех веществ на разных стадиях, сначала создадим функцию для вычисления суммарной концентрации на каждой стадии, а затем построим гистограммы для визуализации данных."
   ]
  },
  {
   "cell_type": "code",
   "execution_count": 12,
   "metadata": {},
   "outputs": [
    {
     "data": {
      "image/png": "[encoded data removed]",
      "text/plain": [
       "<Figure size 864x432 with 1 Axes>"
      ]
     },
     "metadata": {
      "needs_background": "light"
     },
     "output_type": "display_data"
    }
   ],
   "source": [
    "def calculate_total_concentration(data, stage, prefix='output'):\n",
    "    if prefix == \"input.feed\":\n",
    "        au = data[f'{stage}.input.feed_au']\n",
    "        ag = data[f'{stage}.input.feed_ag']\n",
    "        pb = data[f'{stage}.input.feed_pb']\n",
    "        sol = data[f'{stage}.input.feed_sol']\n",
    "    else:\n",
    "        au = data[f'{stage}.{prefix}.concentrate_au']\n",
    "        ag = data[f'{stage}.{prefix}.concentrate_ag']\n",
    "        pb = data[f'{stage}.{prefix}.concentrate_pb']\n",
    "        sol = data[f'{stage}.{prefix}.concentrate_sol']\n",
    "    return au + ag + pb + sol\n",
    "\n",
    "\n",
    "stages = ['rougher', 'primary_cleaner', 'final']\n",
    "total_concentrations = {}\n",
    "\n",
    "for stage in stages:\n",
    "    total_concentrations[stage] = calculate_total_concentration(train, stage)\n",
    "\n",
    "# Добавляем суммарную концентрацию на этапе rougher.input.feed_\n",
    "total_concentrations['rougher_input_feed'] = calculate_total_concentration(train, 'rougher', prefix='input.feed')\n",
    "\n",
    "colors = ['blue', 'orange', 'green', 'red']\n",
    "\n",
    "fig, ax = plt.subplots(figsize=(12, 6))\n",
    "\n",
    "for stage, color in zip(total_concentrations.keys(), colors):\n",
    "    sns.histplot(total_concentrations[stage], bins=100, kde=True, label=stage.capitalize(), alpha=0.7, color=color)\n",
    "\n",
    "ax.set_title('Суммарная концентрация веществ на разных стадиях')\n",
    "ax.set_xlabel('Концентрация')\n",
    "ax.set_ylabel('Плотность')\n",
    "ax.legend()\n",
    "\n",
    "plt.show()"
   ]
  },
  {
   "cell_type": "markdown",
   "metadata": {},
   "source": [
    "<div class=\"alert alert-block alert-danger\">\n",
    "<h2> Комментарий ревьюера <a class=\"tocSkip\"></h2>\n",
    "\n",
    "    \n",
    "<b>На доработку❌:</b>\n",
    "\n",
    "Суммарную концентрацию металлов также нужно исследовать на этапе `rougher.input.feed_`. "
   ]
  },
  {
   "cell_type": "markdown",
   "metadata": {},
   "source": [
    "<div class=\"alert alert-info\">\n",
    "<h2> Комментарий студента <a class=\"tocSkip\"> </h2>\n",
    "\n",
    "Этап `rougher.input.feed_` добавлен.\n",
    "</div>"
   ]
  },
  {
   "cell_type": "markdown",
   "metadata": {},
   "source": [
    "<div class=\"alert alert-success\">\n",
    "<h2> Комментарий ревьюера v.2 <a class=\"tocSkip\"> </h2>\n",
    "\n",
    "<b>Все отлично!👍:</b> Учтено."
   ]
  },
  {
   "cell_type": "markdown",
   "metadata": {},
   "source": [
    "Можно заметить последовательное сужение распределения на каждом этапе, что связано с фильтрацией руды. В процессе очистки постепенно удаляются примеси, и материал становится более однородным, что приводит к уменьшению стандартного отклонения. Распределение адекватно отражает технологический процесс.\n",
    "\n",
    "На графике обнаружены нулевые значения в суммарной концентрации металлов на разных этапах. Эти строки с нулевой концентрацией могут быть результатом аномалий или ошибок в данных и могут негативно повлиять на качество обучения модели. Исходя из этого, было принято решение удалить строки с нулевой концентрацией из датасетов."
   ]
  },
  {
   "cell_type": "markdown",
   "metadata": {},
   "source": [
    "<div class=\"alert alert-success\">\n",
    "<h2> Комментарий ревьюера <a class=\"tocSkip\"> </h2>\n",
    "\n",
    "<b>Все отлично!👍:</b> Исследована суммарная концентрация металлов на разных стадиях техпроцесса - отлично! Также отмечено наличие нулевых значений и необходимость их удаления - тут всё круто!\n",
    "</div>"
   ]
  },
  {
   "cell_type": "markdown",
   "metadata": {},
   "source": [
    "<div class=\"alert alert-block alert-danger\">\n",
    "<h2> Комментарий ревьюера <a class=\"tocSkip\"></h2>\n",
    "\n",
    "    \n",
    "<b>На доработку❌:</b>\n",
    "Стоит сделать вывод о динамике суммарной концентрации металлов."
   ]
  },
  {
   "cell_type": "markdown",
   "metadata": {},
   "source": [
    "<div class=\"alert alert-info\">\n",
    "<h2> Комментарий студента <a class=\"tocSkip\"> </h2>\n",
    "\n",
    "Вывод описан.\n",
    "</div>"
   ]
  },
  {
   "cell_type": "markdown",
   "metadata": {},
   "source": [
    "<div class=\"alert alert-success\">\n",
    "<h2> Комментарий ревьюера v.2 <a class=\"tocSkip\"> </h2>\n",
    "\n",
    "<b>Все отлично!👍:</b> Учтено."
   ]
  },
  {
   "cell_type": "code",
   "execution_count": 13,
   "metadata": {},
   "outputs": [],
   "source": [
    "# Устанавливаем дату в качестве индекса для всех датафреймов\n",
    "full.set_index('date', inplace=True)\n",
    "train.set_index('date', inplace=True)\n",
    "test.set_index('date', inplace=True)\n",
    "\n",
    "# Находим индексы строк с нулевой концентрацией веществ\n",
    "delete_rows = full[(\n",
    "    (full['final.output.concentrate_ag'] + \n",
    "     full['final.output.concentrate_pb'] +\n",
    "     full['final.output.concentrate_sol'] +\n",
    "     full['final.output.concentrate_au']) == 0.0) |\n",
    "    ((full['rougher.output.concentrate_ag'] +\n",
    "      full['rougher.output.concentrate_pb'] +\n",
    "      full['rougher.output.concentrate_sol'] +\n",
    "      full['rougher.output.concentrate_au']) == 0.0) |\n",
    "    ((full['rougher.input.feed_ag'] +\n",
    "      full['rougher.input.feed_pb'] +\n",
    "      full['rougher.input.feed_sol'] +\n",
    "      full['rougher.input.feed_au']) == 0.0) |\n",
    "    ((full['primary_cleaner.output.concentrate_ag'] +\n",
    "      full['primary_cleaner.output.concentrate_pb'] +\n",
    "      full['primary_cleaner.output.concentrate_sol'] +\n",
    "      full['primary_cleaner.output.concentrate_au']) == 0.0)\n",
    "].index\n",
    "\n",
    "# Удаляем строки с нулевой концентрацией во всех выборках\n",
    "full.drop(delete_rows, inplace=True)\n",
    "train.drop(delete_rows.intersection(train.index), inplace=True)\n",
    "test.drop(delete_rows.intersection(test.index), inplace=True)"
   ]
  },
  {
   "cell_type": "markdown",
   "metadata": {},
   "source": [
    "<div class=\"alert alert-block alert-danger\">\n",
    "<h2> Комментарий ревьюера <a class=\"tocSkip\"></h2>\n",
    "\n",
    "    \n",
    "<b>На доработку❌:</b>\n",
    "Для наблюдений в тестовой выборке нумерация индексов начинается с нуля и по возрастанию, а для полной выборки наблюдения, относящиеся к тестовой выборке, расположены ближе к концу таблицы, и нумерация индексов у них уже другая - значениями индексов от нуля и по возрастанию нумеруются наблюдения, относящиеся к тренировочной выборке. По итогу, делая удаление по стандартному индексу, удаляешь не те строки, которые нужны.\n",
    "    \n",
    "Чтобы идея с индексами работала, нужно сделать индексом дату."
   ]
  },
  {
   "cell_type": "markdown",
   "metadata": {},
   "source": [
    "<div class=\"alert alert-info\">\n",
    "<h2> Комментарий студента <a class=\"tocSkip\"> </h2>\n",
    "\n",
    "Спасибо за подробные комментарии. Ты прав, индексы в таблицах могут не соответствовать друг другу. Исправила.\n",
    "</div>"
   ]
  },
  {
   "cell_type": "markdown",
   "metadata": {},
   "source": [
    "<div class=\"alert alert-success\">\n",
    "<h2> Комментарий ревьюера v.2 <a class=\"tocSkip\"> </h2>\n",
    "\n",
    "<b>Все отлично!👍:</b> Учтено."
   ]
  },
  {
   "cell_type": "markdown",
   "metadata": {},
   "source": [
    "Проверим результат выполнения функции:"
   ]
  },
  {
   "cell_type": "code",
   "execution_count": 14,
   "metadata": {},
   "outputs": [
    {
     "name": "stdout",
     "output_type": "stream",
     "text": [
      "Строк с нулевыми значениями в 'train': [0, 0, 0, 0]\n",
      "Строк с нулевыми значениями в 'test': [0, None, None, None]\n",
      "Строк с нулевыми значениями в 'full': [0, 0, 0, 0]\n"
     ]
    }
   ],
   "source": [
    "def check_zero_concentration_stages(df):\n",
    "    stages = [\n",
    "        ['rougher.input.feed_ag', 'rougher.input.feed_pb', 'rougher.input.feed_sol', 'rougher.input.feed_au'],\n",
    "        ['rougher.output.concentrate_ag', 'rougher.output.concentrate_pb', 'rougher.output.concentrate_sol', 'rougher.output.concentrate_au'],\n",
    "        ['primary_cleaner.output.concentrate_ag', 'primary_cleaner.output.concentrate_pb', 'primary_cleaner.output.concentrate_sol', 'primary_cleaner.output.concentrate_au'],\n",
    "        ['final.output.concentrate_ag', 'final.output.concentrate_pb', 'final.output.concentrate_sol', 'final.output.concentrate_au']\n",
    "    ]\n",
    "    \n",
    "    stage_counts = []\n",
    "    for stage in stages:\n",
    "        available_columns = [col for col in stage if col in df.columns]\n",
    "        if not available_columns:\n",
    "            stage_counts.append(None)\n",
    "            continue\n",
    "        stage_df = df[available_columns]\n",
    "        zero_count = (stage_df.sum(axis=1) == 0).sum()\n",
    "        stage_counts.append(zero_count)\n",
    "    return stage_counts\n",
    "\n",
    "# Проверка удаления нулевых значений на каждой стадии\n",
    "stage_counts_train = check_zero_concentration_stages(train)\n",
    "stage_counts_test = check_zero_concentration_stages(test)\n",
    "stage_counts_full = check_zero_concentration_stages(full)\n",
    "\n",
    "print(\"Строк с нулевыми значениями в 'train':\", stage_counts_train)\n",
    "print(\"Строк с нулевыми значениями в 'test':\", stage_counts_test)\n",
    "print(\"Строк с нулевыми значениями в 'full':\", stage_counts_full)"
   ]
  },
  {
   "cell_type": "markdown",
   "metadata": {},
   "source": [
    "### Вывод"
   ]
  },
  {
   "cell_type": "markdown",
   "metadata": {},
   "source": [
    "Мы изучили изменение концентрации металлов на каждом этапе обработки. Выяснили, что концентрация золота увеличивается с каждым этапом очистки, концентрация серебра увеличивается после флотации, но уменьшается после 1-й и 2-й очистки. Процесс очистки от свинца достигает предела эффективности после первой очистки.\n",
    "\n",
    "Проанализировали распределения размеров гранул на обучающей и тестовой выборках, построили гистограммы и определили, что распределение размеров почти не отличается друг от друга и оценка модели должна быть достаточно точной.\n",
    "\n",
    "Удалили строки с нулевыми значениями концентрации металлов (Ar, Pb, Sol, Au) на стадиях 'final.output', 'rougher.output', 'rougher.input.feed' и 'primary_cleaner.output', так как они могут быть аномалиями или ошибками в данных, которые могут негативно повлиять на обучение и оценку моделей."
   ]
  },
  {
   "cell_type": "markdown",
   "metadata": {},
   "source": [
    "<div class=\"alert alert-success\">\n",
    "<h2> Комментарий ревьюера <a class=\"tocSkip\"> </h2>\n",
    "\n",
    "<b>Все отлично!👍:</b> Отличный промежуточный вывод!"
   ]
  },
  {
   "cell_type": "markdown",
   "metadata": {},
   "source": [
    "## Модель"
   ]
  },
  {
   "cell_type": "markdown",
   "metadata": {},
   "source": [
    "### Функция для вычисления итоговой sMAPE"
   ]
  },
  {
   "cell_type": "markdown",
   "metadata": {},
   "source": [
    "Напишем функцию для вычисления итоговой sMAPE (Symmetric Mean Absolute Percentage Error). Функция будет состоять из двух частей: вычисление sMAPE для чернового концентрата (sMAPE_rougher) и финального концентрата (sMAPE_final), и вычисление итоговой sMAPE."
   ]
  },
  {
   "cell_type": "code",
   "execution_count": 15,
   "metadata": {},
   "outputs": [],
   "source": [
    "def smape(y_true, y_pred):\n",
    "    y_true = np.array(y_true)\n",
    "    y_pred = np.array(y_pred)\n",
    "    smape_rougher = 100 * np.mean(np.abs(y_true[:, 0] - y_pred[:, 0]) / ((np.abs(y_true[:, 0]) + np.abs(y_pred[:, 0])) / 2))\n",
    "    smape_final = 100 * np.mean(np.abs(y_true[:, 1] - y_pred[:, 1]) / ((np.abs(y_true[:, 1]) + np.abs(y_pred[:, 1])) / 2))\n",
    "    return 0.25 * smape_rougher + 0.75 * smape_final"
   ]
  },
  {
   "cell_type": "markdown",
   "metadata": {},
   "source": [
    "<div class=\"alert alert-success\">\n",
    "<h2> Комментарий ревьюера <a class=\"tocSkip\"> </h2>\n",
    "\n",
    "<b>Все отлично!👍:</b> Есть функция для оценки `sMAPE` - супер!\n",
    "</div>"
   ]
  },
  {
   "cell_type": "markdown",
   "metadata": {},
   "source": [
    "Мы стремимся минимизировать sMAPE, потому что это показывает, насколько хорошо наша модель прогнозирует целевые переменные. sMAPE является метрикой ошибки, и чем меньше значение sMAPE, тем ближе предсказания модели к истинным значениям.\n",
    "\n",
    "В случае sMAPE, значения близкие к 0 указывают на идеальные предсказания, а значения, значительно больше 0, указывают на большие отклонения между предсказанными и истинными значениями. Таким образом, минимизация sMAPE помогает нам найти модель, которая лучше всего подходит для решения нашей задачи прогнозирования."
   ]
  },
  {
   "cell_type": "markdown",
   "metadata": {},
   "source": [
    "### Обучение и оценка качества модели"
   ]
  },
  {
   "cell_type": "markdown",
   "metadata": {},
   "source": [
    "Чтобы разделить обучающую выборку на параметры (features) и целевые переменные (target), сначала создадим список столбцов, присутствующих в тестовой выборке. Затем добавим в этот список столбцы с целевыми переменными 'rougher.output.recovery' и 'final.output.recovery'. Используя этот список, отбросим все столбцы, которых нет в тестовой выборке, из обучающей выборки."
   ]
  },
  {
   "cell_type": "code",
   "execution_count": 16,
   "metadata": {},
   "outputs": [],
   "source": [
    "# Создаем список столбцов, присутствующих в тестовой выборке\n",
    "test_columns = test.columns.tolist()\n",
    "\n",
    "# Добавляем столбцы с целевыми переменными\n",
    "test_columns.extend(['rougher.output.recovery', 'final.output.recovery'])\n",
    "\n",
    "# Оставляем в обучающей выборке только те столбцы, которые есть в списке test_columns\n",
    "train = train[test_columns]"
   ]
  },
  {
   "cell_type": "markdown",
   "metadata": {},
   "source": [
    "<div class=\"alert alert-success\">\n",
    "<h2> Комментарий ревьюера <a class=\"tocSkip\"> </h2>\n",
    "\n",
    "<b>Все отлично!👍:</b> Синхронизировали тренировочную и тестовую выборки по набору признаков - хорошо!\n",
    "</div>"
   ]
  },
  {
   "cell_type": "code",
   "execution_count": 17,
   "metadata": {},
   "outputs": [],
   "source": [
    "# Разделяем обучающую выборку на параметры (features) и целевые переменные (target)\n",
    "features_train = train.drop(['rougher.output.recovery', 'final.output.recovery'], axis=1)\n",
    "target_train = train[['rougher.output.recovery', 'final.output.recovery']]"
   ]
  },
  {
   "cell_type": "markdown",
   "metadata": {},
   "source": [
    "<div class=\"alert alert-success\">\n",
    "<h2> Комментарий ревьюера <a class=\"tocSkip\"> </h2>\n",
    "\n",
    "<b>Все отлично!👍:</b> Выделили признаки для обучения и целевые признаки - отлично!\n",
    "</div>"
   ]
  },
  {
   "cell_type": "markdown",
   "metadata": {},
   "source": [
    "Теперь у нас есть features_train и target_train для обучения модели."
   ]
  },
  {
   "cell_type": "markdown",
   "metadata": {},
   "source": [
    "Определим функцию, которая автоматизирует процесс обучения и оценки модели для разных типов моделей машинного обучения. Функция `train_and_evaluate` объединяет масштабирование и обучение модели в одном пайплайне, а также выполняет кросс-валидацию с помощью GridSearchCV для подбора оптимальных гиперпараметров. Затем функция возвращает обученную модель, лучшую оценку качества sMAPE и scaler, который мы будем использовать для масштабирования тестовых данных. \n",
    "\n",
    "Использование того же scaler для масштабирования тестовых данных важно, потому что он сохраняет параметры масштабирования, которые были вычислены на основе обучающих данных. Если мы создадим новый scaler, параметры масштабирования будут отличаться от тех, которые использовались для обучения модели. Это может привести к некорректным предсказаниям, так как модель обучалась на данных, масштабированных с использованием других параметров.\n",
    "\n",
    "Использование того же scaler обеспечивает согласованность масштабирования признаков между обучающими и тестовыми данными, что позволяет модели делать более точные предсказания на тестовых данных."
   ]
  },
  {
   "cell_type": "markdown",
   "metadata": {},
   "source": [
    "<div class=\"alert alert-success\">\n",
    "<h2> Комментарий ревьюера <a class=\"tocSkip\"> </h2>\n",
    "\n",
    "<b>Все отлично!👍:</b> Тут всё верно:)\n",
    "</div>"
   ]
  },
  {
   "cell_type": "code",
   "execution_count": 19,
   "metadata": {},
   "outputs": [],
   "source": [
    "def train_and_evaluate(model, params, X, y, cv=3):\n",
    "    scaler = StandardScaler()\n",
    "    X_scaled = scaler.fit_transform(X)\n",
    "    \n",
    "    pipeline = Pipeline([\n",
    "        ('model', model)\n",
    "    ])\n",
    "\n",
    "    grid = GridSearchCV(pipeline, {'model__' + key: value for key, value in params.items()},\n",
    "                        scoring=make_scorer(smape, greater_is_better=False), cv=cv, n_jobs=-1, verbose=10)\n",
    "    grid.fit(X_scaled, y)\n",
    "\n",
    "    best_model = grid.best_estimator_\n",
    "    best_score = -1 * grid.best_score_\n",
    "    \n",
    "    return scaler, best_model, best_score"
   ]
  },
  {
   "cell_type": "markdown",
   "metadata": {},
   "source": [
    "<div class=\"alert alert-success\">\n",
    "<h2> Комментарий ревьюера <a class=\"tocSkip\"> </h2>\n",
    "\n",
    "<b>Все отлично!👍:</b>\n",
    "\n",
    "При работе с `cross_val_score`, а также с `GridSearchCV` или `RandomizedSearchCV` есть несколько полезных действий, которые сделают нашу жизнь проще и лучше:)\n",
    "        \n",
    "1. Можно настроить параметр `n_jobs=-1`, чтобы для вычислений использовались все доступные ядра - это ускорит процесс.\n",
    "2. Можно настроить параметр `verbose=10`, чтобы инструмент взаимодействовал с логом и выдавал сообщения о прогрессе обучения - так мы будем понимать, что процесс идёт, а не что, например, у нас упало ядро, и процесс завис.\n",
    "3. Для кросс-валидации (параметр `cv`) вполне можно использовать и 3 фолда: мы немного потеряем в качестве, но процесс будет происходить гораздо быстрее. Для учебного проекта более чем достаточно:)"
   ]
  },
  {
   "cell_type": "markdown",
   "metadata": {},
   "source": [
    "<div class=\"alert alert-info\">\n",
    "<h2> Комментарий студента <a class=\"tocSkip\"> </h2>\n",
    "\n",
    "Функция `train_and_evaluate` обновлена.\n",
    "</div>"
   ]
  },
  {
   "cell_type": "markdown",
   "metadata": {},
   "source": [
    "<div class=\"alert alert-success\">\n",
    "<h2> Комментарий ревьюера v.2 <a class=\"tocSkip\"> </h2>\n",
    "\n",
    "<b>Все отлично!👍:</b> Супер!"
   ]
  },
  {
   "cell_type": "code",
   "execution_count": 20,
   "metadata": {
    "scrolled": true
   },
   "outputs": [
    {
     "name": "stdout",
     "output_type": "stream",
     "text": [
      "Fitting 3 folds for each of 1 candidates, totalling 3 fits\n",
      "[CV 1/3; 1/1] START ............................................................\n",
      "[CV 1/3; 1/1] END ........................................... total time=   0.0s\n",
      "[CV 2/3; 1/1] START ............................................................\n",
      "[CV 2/3; 1/1] END ........................................... total time=   0.5s\n",
      "[CV 3/3; 1/1] START ............................................................\n",
      "[CV 3/3; 1/1] END ........................................... total time=   0.3s\n",
      "Fitting 3 folds for each of 10 candidates, totalling 30 fits\n",
      "[CV 1/3; 1/10] START model__max_depth=2.........................................\n",
      "[CV 1/3; 1/10] END .......................model__max_depth=2; total time=   0.2s\n",
      "[CV 2/3; 1/10] START model__max_depth=2.........................................\n",
      "[CV 2/3; 1/10] END .......................model__max_depth=2; total time=   0.1s\n",
      "[CV 3/3; 1/10] START model__max_depth=2.........................................\n",
      "[CV 3/3; 1/10] END .......................model__max_depth=2; total time=   0.1s\n",
      "[CV 1/3; 2/10] START model__max_depth=3.........................................\n",
      "[CV 1/3; 2/10] END .......................model__max_depth=3; total time=   0.1s\n",
      "[CV 2/3; 2/10] START model__max_depth=3.........................................\n",
      "[CV 2/3; 2/10] END .......................model__max_depth=3; total time=   0.2s\n",
      "[CV 3/3; 2/10] START model__max_depth=3.........................................\n",
      "[CV 3/3; 2/10] END .......................model__max_depth=3; total time=   0.2s\n",
      "[CV 1/3; 3/10] START model__max_depth=4.........................................\n",
      "[CV 1/3; 3/10] END .......................model__max_depth=4; total time=   0.2s\n",
      "[CV 2/3; 3/10] START model__max_depth=4.........................................\n",
      "[CV 2/3; 3/10] END .......................model__max_depth=4; total time=   0.2s\n",
      "[CV 3/3; 3/10] START model__max_depth=4.........................................\n",
      "[CV 3/3; 3/10] END .......................model__max_depth=4; total time=   0.2s\n",
      "[CV 1/3; 4/10] START model__max_depth=5.........................................\n",
      "[CV 1/3; 4/10] END .......................model__max_depth=5; total time=   0.2s\n",
      "[CV 2/3; 4/10] START model__max_depth=5.........................................\n",
      "[CV 2/3; 4/10] END .......................model__max_depth=5; total time=   0.3s\n",
      "[CV 3/3; 4/10] START model__max_depth=5.........................................\n",
      "[CV 3/3; 4/10] END .......................model__max_depth=5; total time=   0.2s\n",
      "[CV 1/3; 5/10] START model__max_depth=6.........................................\n",
      "[CV 1/3; 5/10] END .......................model__max_depth=6; total time=   0.3s\n",
      "[CV 2/3; 5/10] START model__max_depth=6.........................................\n",
      "[CV 2/3; 5/10] END .......................model__max_depth=6; total time=   0.3s\n",
      "[CV 3/3; 5/10] START model__max_depth=6.........................................\n",
      "[CV 3/3; 5/10] END .......................model__max_depth=6; total time=   0.3s\n",
      "[CV 1/3; 6/10] START model__max_depth=7.........................................\n",
      "[CV 1/3; 6/10] END .......................model__max_depth=7; total time=   0.3s\n",
      "[CV 2/3; 6/10] START model__max_depth=7.........................................\n",
      "[CV 2/3; 6/10] END .......................model__max_depth=7; total time=   0.3s\n",
      "[CV 3/3; 6/10] START model__max_depth=7.........................................\n",
      "[CV 3/3; 6/10] END .......................model__max_depth=7; total time=   0.3s\n",
      "[CV 1/3; 7/10] START model__max_depth=8.........................................\n",
      "[CV 1/3; 7/10] END .......................model__max_depth=8; total time=   0.4s\n",
      "[CV 2/3; 7/10] START model__max_depth=8.........................................\n",
      "[CV 2/3; 7/10] END .......................model__max_depth=8; total time=   0.4s\n",
      "[CV 3/3; 7/10] START model__max_depth=8.........................................\n",
      "[CV 3/3; 7/10] END .......................model__max_depth=8; total time=   0.4s\n",
      "[CV 1/3; 8/10] START model__max_depth=9.........................................\n",
      "[CV 1/3; 8/10] END .......................model__max_depth=9; total time=   0.4s\n",
      "[CV 2/3; 8/10] START model__max_depth=9.........................................\n",
      "[CV 2/3; 8/10] END .......................model__max_depth=9; total time=   0.4s\n",
      "[CV 3/3; 8/10] START model__max_depth=9.........................................\n",
      "[CV 3/3; 8/10] END .......................model__max_depth=9; total time=   0.4s\n",
      "[CV 1/3; 9/10] START model__max_depth=10........................................\n",
      "[CV 1/3; 9/10] END ......................model__max_depth=10; total time=   0.4s\n",
      "[CV 2/3; 9/10] START model__max_depth=10........................................\n",
      "[CV 2/3; 9/10] END ......................model__max_depth=10; total time=   0.4s\n",
      "[CV 3/3; 9/10] START model__max_depth=10........................................\n",
      "[CV 3/3; 9/10] END ......................model__max_depth=10; total time=   0.4s\n",
      "[CV 1/3; 10/10] START model__max_depth=11.......................................\n",
      "[CV 1/3; 10/10] END .....................model__max_depth=11; total time=   0.5s\n",
      "[CV 2/3; 10/10] START model__max_depth=11.......................................\n",
      "[CV 2/3; 10/10] END .....................model__max_depth=11; total time=   0.5s\n",
      "[CV 3/3; 10/10] START model__max_depth=11.......................................\n",
      "[CV 3/3; 10/10] END .....................model__max_depth=11; total time=   0.5s\n",
      "Fitting 3 folds for each of 35 candidates, totalling 105 fits\n",
      "[CV 1/3; 1/35] START model__max_depth=3, model__n_estimators=10.................\n",
      "[CV 1/3; 1/35] END model__max_depth=3, model__n_estimators=10; total time=   0.9s\n",
      "[CV 2/3; 1/35] START model__max_depth=3, model__n_estimators=10.................\n",
      "[CV 2/3; 1/35] END model__max_depth=3, model__n_estimators=10; total time=   1.0s\n",
      "[CV 3/3; 1/35] START model__max_depth=3, model__n_estimators=10.................\n",
      "[CV 3/3; 1/35] END model__max_depth=3, model__n_estimators=10; total time=   0.9s\n",
      "[CV 1/3; 2/35] START model__max_depth=3, model__n_estimators=20.................\n",
      "[CV 1/3; 2/35] END model__max_depth=3, model__n_estimators=20; total time=   1.9s\n",
      "[CV 2/3; 2/35] START model__max_depth=3, model__n_estimators=20.................\n",
      "[CV 2/3; 2/35] END model__max_depth=3, model__n_estimators=20; total time=   1.9s\n",
      "[CV 3/3; 2/35] START model__max_depth=3, model__n_estimators=20.................\n",
      "[CV 3/3; 2/35] END model__max_depth=3, model__n_estimators=20; total time=   2.0s\n",
      "[CV 1/3; 3/35] START model__max_depth=3, model__n_estimators=30.................\n",
      "[CV 1/3; 3/35] END model__max_depth=3, model__n_estimators=30; total time=   2.9s\n",
      "[CV 2/3; 3/35] START model__max_depth=3, model__n_estimators=30.................\n",
      "[CV 2/3; 3/35] END model__max_depth=3, model__n_estimators=30; total time=   2.8s\n",
      "[CV 3/3; 3/35] START model__max_depth=3, model__n_estimators=30.................\n",
      "[CV 3/3; 3/35] END model__max_depth=3, model__n_estimators=30; total time=   2.9s\n",
      "[CV 1/3; 4/35] START model__max_depth=3, model__n_estimators=40.................\n",
      "[CV 1/3; 4/35] END model__max_depth=3, model__n_estimators=40; total time=   4.0s\n",
      "[CV 2/3; 4/35] START model__max_depth=3, model__n_estimators=40.................\n",
      "[CV 2/3; 4/35] END model__max_depth=3, model__n_estimators=40; total time=   3.9s\n",
      "[CV 3/3; 4/35] START model__max_depth=3, model__n_estimators=40.................\n",
      "[CV 3/3; 4/35] END model__max_depth=3, model__n_estimators=40; total time=   3.8s\n",
      "[CV 1/3; 5/35] START model__max_depth=3, model__n_estimators=50.................\n",
      "[CV 1/3; 5/35] END model__max_depth=3, model__n_estimators=50; total time=   4.6s\n",
      "[CV 2/3; 5/35] START model__max_depth=3, model__n_estimators=50.................\n",
      "[CV 2/3; 5/35] END model__max_depth=3, model__n_estimators=50; total time=   4.5s\n",
      "[CV 3/3; 5/35] START model__max_depth=3, model__n_estimators=50.................\n",
      "[CV 3/3; 5/35] END model__max_depth=3, model__n_estimators=50; total time=   4.6s\n",
      "[CV 1/3; 6/35] START model__max_depth=4, model__n_estimators=10.................\n",
      "[CV 1/3; 6/35] END model__max_depth=4, model__n_estimators=10; total time=   1.2s\n",
      "[CV 2/3; 6/35] START model__max_depth=4, model__n_estimators=10.................\n",
      "[CV 2/3; 6/35] END model__max_depth=4, model__n_estimators=10; total time=   1.2s\n",
      "[CV 3/3; 6/35] START model__max_depth=4, model__n_estimators=10.................\n",
      "[CV 3/3; 6/35] END model__max_depth=4, model__n_estimators=10; total time=   1.3s\n",
      "[CV 1/3; 7/35] START model__max_depth=4, model__n_estimators=20.................\n",
      "[CV 1/3; 7/35] END model__max_depth=4, model__n_estimators=20; total time=   2.6s\n",
      "[CV 2/3; 7/35] START model__max_depth=4, model__n_estimators=20.................\n",
      "[CV 2/3; 7/35] END model__max_depth=4, model__n_estimators=20; total time=   2.6s\n",
      "[CV 3/3; 7/35] START model__max_depth=4, model__n_estimators=20.................\n",
      "[CV 3/3; 7/35] END model__max_depth=4, model__n_estimators=20; total time=   2.6s\n",
      "[CV 1/3; 8/35] START model__max_depth=4, model__n_estimators=30.................\n",
      "[CV 1/3; 8/35] END model__max_depth=4, model__n_estimators=30; total time=   3.7s\n",
      "[CV 2/3; 8/35] START model__max_depth=4, model__n_estimators=30.................\n",
      "[CV 2/3; 8/35] END model__max_depth=4, model__n_estimators=30; total time=   3.5s\n",
      "[CV 3/3; 8/35] START model__max_depth=4, model__n_estimators=30.................\n",
      "[CV 3/3; 8/35] END model__max_depth=4, model__n_estimators=30; total time=   3.8s\n",
      "[CV 1/3; 9/35] START model__max_depth=4, model__n_estimators=40.................\n",
      "[CV 1/3; 9/35] END model__max_depth=4, model__n_estimators=40; total time=   4.9s\n",
      "[CV 2/3; 9/35] START model__max_depth=4, model__n_estimators=40.................\n",
      "[CV 2/3; 9/35] END model__max_depth=4, model__n_estimators=40; total time=   5.1s\n",
      "[CV 3/3; 9/35] START model__max_depth=4, model__n_estimators=40.................\n",
      "[CV 3/3; 9/35] END model__max_depth=4, model__n_estimators=40; total time=   5.1s\n",
      "[CV 1/3; 10/35] START model__max_depth=4, model__n_estimators=50................\n",
      "[CV 1/3; 10/35] END model__max_depth=4, model__n_estimators=50; total time=   6.0s\n",
      "[CV 2/3; 10/35] START model__max_depth=4, model__n_estimators=50................\n",
      "[CV 2/3; 10/35] END model__max_depth=4, model__n_estimators=50; total time=   6.1s\n",
      "[CV 3/3; 10/35] START model__max_depth=4, model__n_estimators=50................\n",
      "[CV 3/3; 10/35] END model__max_depth=4, model__n_estimators=50; total time=   6.0s\n",
      "[CV 1/3; 11/35] START model__max_depth=5, model__n_estimators=10................\n",
      "[CV 1/3; 11/35] END model__max_depth=5, model__n_estimators=10; total time=   1.5s\n",
      "[CV 2/3; 11/35] START model__max_depth=5, model__n_estimators=10................\n",
      "[CV 2/3; 11/35] END model__max_depth=5, model__n_estimators=10; total time=   1.5s\n",
      "[CV 3/3; 11/35] START model__max_depth=5, model__n_estimators=10................\n",
      "[CV 3/3; 11/35] END model__max_depth=5, model__n_estimators=10; total time=   1.5s\n",
      "[CV 1/3; 12/35] START model__max_depth=5, model__n_estimators=20................\n",
      "[CV 1/3; 12/35] END model__max_depth=5, model__n_estimators=20; total time=   2.9s\n",
      "[CV 2/3; 12/35] START model__max_depth=5, model__n_estimators=20................\n",
      "[CV 2/3; 12/35] END model__max_depth=5, model__n_estimators=20; total time=   2.9s\n",
      "[CV 3/3; 12/35] START model__max_depth=5, model__n_estimators=20................\n",
      "[CV 3/3; 12/35] END model__max_depth=5, model__n_estimators=20; total time=   2.9s\n",
      "[CV 1/3; 13/35] START model__max_depth=5, model__n_estimators=30................\n",
      "[CV 1/3; 13/35] END model__max_depth=5, model__n_estimators=30; total time=   4.4s\n",
      "[CV 2/3; 13/35] START model__max_depth=5, model__n_estimators=30................\n",
      "[CV 2/3; 13/35] END model__max_depth=5, model__n_estimators=30; total time=   4.4s\n",
      "[CV 3/3; 13/35] START model__max_depth=5, model__n_estimators=30................\n",
      "[CV 3/3; 13/35] END model__max_depth=5, model__n_estimators=30; total time=   4.6s\n",
      "[CV 1/3; 14/35] START model__max_depth=5, model__n_estimators=40................\n",
      "[CV 1/3; 14/35] END model__max_depth=5, model__n_estimators=40; total time=   6.2s\n",
      "[CV 2/3; 14/35] START model__max_depth=5, model__n_estimators=40................\n",
      "[CV 2/3; 14/35] END model__max_depth=5, model__n_estimators=40; total time=   6.0s\n",
      "[CV 3/3; 14/35] START model__max_depth=5, model__n_estimators=40................\n",
      "[CV 3/3; 14/35] END model__max_depth=5, model__n_estimators=40; total time=   6.2s\n",
      "[CV 1/3; 15/35] START model__max_depth=5, model__n_estimators=50................\n",
      "[CV 1/3; 15/35] END model__max_depth=5, model__n_estimators=50; total time=   7.3s\n",
      "[CV 2/3; 15/35] START model__max_depth=5, model__n_estimators=50................\n",
      "[CV 2/3; 15/35] END model__max_depth=5, model__n_estimators=50; total time=   7.2s\n",
      "[CV 3/3; 15/35] START model__max_depth=5, model__n_estimators=50................\n",
      "[CV 3/3; 15/35] END model__max_depth=5, model__n_estimators=50; total time=   7.3s\n",
      "[CV 1/3; 16/35] START model__max_depth=6, model__n_estimators=10................\n",
      "[CV 1/3; 16/35] END model__max_depth=6, model__n_estimators=10; total time=   1.7s\n",
      "[CV 2/3; 16/35] START model__max_depth=6, model__n_estimators=10................\n",
      "[CV 2/3; 16/35] END model__max_depth=6, model__n_estimators=10; total time=   1.7s\n",
      "[CV 3/3; 16/35] START model__max_depth=6, model__n_estimators=10................\n",
      "[CV 3/3; 16/35] END model__max_depth=6, model__n_estimators=10; total time=   1.8s\n",
      "[CV 1/3; 17/35] START model__max_depth=6, model__n_estimators=20................\n",
      "[CV 1/3; 17/35] END model__max_depth=6, model__n_estimators=20; total time=   3.7s\n",
      "[CV 2/3; 17/35] START model__max_depth=6, model__n_estimators=20................\n",
      "[CV 2/3; 17/35] END model__max_depth=6, model__n_estimators=20; total time=   3.5s\n",
      "[CV 3/3; 17/35] START model__max_depth=6, model__n_estimators=20................\n",
      "[CV 3/3; 17/35] END model__max_depth=6, model__n_estimators=20; total time=   3.4s\n",
      "[CV 1/3; 18/35] START model__max_depth=6, model__n_estimators=30................\n",
      "[CV 1/3; 18/35] END model__max_depth=6, model__n_estimators=30; total time=   5.2s\n",
      "[CV 2/3; 18/35] START model__max_depth=6, model__n_estimators=30................\n",
      "[CV 2/3; 18/35] END model__max_depth=6, model__n_estimators=30; total time=   5.3s\n",
      "[CV 3/3; 18/35] START model__max_depth=6, model__n_estimators=30................\n",
      "[CV 3/3; 18/35] END model__max_depth=6, model__n_estimators=30; total time=   5.3s\n",
      "[CV 1/3; 19/35] START model__max_depth=6, model__n_estimators=40................\n",
      "[CV 1/3; 19/35] END model__max_depth=6, model__n_estimators=40; total time=   7.0s\n",
      "[CV 2/3; 19/35] START model__max_depth=6, model__n_estimators=40................\n",
      "[CV 2/3; 19/35] END model__max_depth=6, model__n_estimators=40; total time=   6.7s\n",
      "[CV 3/3; 19/35] START model__max_depth=6, model__n_estimators=40................\n",
      "[CV 3/3; 19/35] END model__max_depth=6, model__n_estimators=40; total time=   6.8s\n",
      "[CV 1/3; 20/35] START model__max_depth=6, model__n_estimators=50................\n",
      "[CV 1/3; 20/35] END model__max_depth=6, model__n_estimators=50; total time=   8.5s\n",
      "[CV 2/3; 20/35] START model__max_depth=6, model__n_estimators=50................\n",
      "[CV 2/3; 20/35] END model__max_depth=6, model__n_estimators=50; total time=   9.5s\n",
      "[CV 3/3; 20/35] START model__max_depth=6, model__n_estimators=50................\n",
      "[CV 3/3; 20/35] END model__max_depth=6, model__n_estimators=50; total time=   8.6s\n",
      "[CV 1/3; 21/35] START model__max_depth=7, model__n_estimators=10................\n",
      "[CV 1/3; 21/35] END model__max_depth=7, model__n_estimators=10; total time=   2.0s\n",
      "[CV 2/3; 21/35] START model__max_depth=7, model__n_estimators=10................\n",
      "[CV 2/3; 21/35] END model__max_depth=7, model__n_estimators=10; total time=   2.1s\n",
      "[CV 3/3; 21/35] START model__max_depth=7, model__n_estimators=10................\n",
      "[CV 3/3; 21/35] END model__max_depth=7, model__n_estimators=10; total time=   2.0s\n",
      "[CV 1/3; 22/35] START model__max_depth=7, model__n_estimators=20................\n",
      "[CV 1/3; 22/35] END model__max_depth=7, model__n_estimators=20; total time=   4.0s\n",
      "[CV 2/3; 22/35] START model__max_depth=7, model__n_estimators=20................\n",
      "[CV 2/3; 22/35] END model__max_depth=7, model__n_estimators=20; total time=   4.0s\n",
      "[CV 3/3; 22/35] START model__max_depth=7, model__n_estimators=20................\n",
      "[CV 3/3; 22/35] END model__max_depth=7, model__n_estimators=20; total time=   4.1s\n",
      "[CV 1/3; 23/35] START model__max_depth=7, model__n_estimators=30................\n",
      "[CV 1/3; 23/35] END model__max_depth=7, model__n_estimators=30; total time=   5.9s\n",
      "[CV 2/3; 23/35] START model__max_depth=7, model__n_estimators=30................\n",
      "[CV 2/3; 23/35] END model__max_depth=7, model__n_estimators=30; total time=   5.7s\n",
      "[CV 3/3; 23/35] START model__max_depth=7, model__n_estimators=30................\n",
      "[CV 3/3; 23/35] END model__max_depth=7, model__n_estimators=30; total time=   5.7s\n",
      "[CV 1/3; 24/35] START model__max_depth=7, model__n_estimators=40................\n",
      "[CV 1/3; 24/35] END model__max_depth=7, model__n_estimators=40; total time=   7.7s\n",
      "[CV 2/3; 24/35] START model__max_depth=7, model__n_estimators=40................\n",
      "[CV 2/3; 24/35] END model__max_depth=7, model__n_estimators=40; total time=   7.7s\n",
      "[CV 3/3; 24/35] START model__max_depth=7, model__n_estimators=40................\n",
      "[CV 3/3; 24/35] END model__max_depth=7, model__n_estimators=40; total time=   7.8s\n",
      "[CV 1/3; 25/35] START model__max_depth=7, model__n_estimators=50................\n",
      "[CV 1/3; 25/35] END model__max_depth=7, model__n_estimators=50; total time=  10.5s\n",
      "[CV 2/3; 25/35] START model__max_depth=7, model__n_estimators=50................\n",
      "[CV 2/3; 25/35] END model__max_depth=7, model__n_estimators=50; total time=   9.8s\n",
      "[CV 3/3; 25/35] START model__max_depth=7, model__n_estimators=50................\n",
      "[CV 3/3; 25/35] END model__max_depth=7, model__n_estimators=50; total time=   9.8s\n",
      "[CV 1/3; 26/35] START model__max_depth=8, model__n_estimators=10................\n",
      "[CV 1/3; 26/35] END model__max_depth=8, model__n_estimators=10; total time=   2.1s\n",
      "[CV 2/3; 26/35] START model__max_depth=8, model__n_estimators=10................\n",
      "[CV 2/3; 26/35] END model__max_depth=8, model__n_estimators=10; total time=   2.1s\n",
      "[CV 3/3; 26/35] START model__max_depth=8, model__n_estimators=10................\n",
      "[CV 3/3; 26/35] END model__max_depth=8, model__n_estimators=10; total time=   2.2s\n",
      "[CV 1/3; 27/35] START model__max_depth=8, model__n_estimators=20................\n",
      "[CV 1/3; 27/35] END model__max_depth=8, model__n_estimators=20; total time=   4.5s\n",
      "[CV 2/3; 27/35] START model__max_depth=8, model__n_estimators=20................\n",
      "[CV 2/3; 27/35] END model__max_depth=8, model__n_estimators=20; total time=   4.3s\n",
      "[CV 3/3; 27/35] START model__max_depth=8, model__n_estimators=20................\n",
      "[CV 3/3; 27/35] END model__max_depth=8, model__n_estimators=20; total time=   4.3s\n",
      "[CV 1/3; 28/35] START model__max_depth=8, model__n_estimators=30................\n",
      "[CV 1/3; 28/35] END model__max_depth=8, model__n_estimators=30; total time=   6.6s\n",
      "[CV 2/3; 28/35] START model__max_depth=8, model__n_estimators=30................\n",
      "[CV 2/3; 28/35] END model__max_depth=8, model__n_estimators=30; total time=   6.7s\n",
      "[CV 3/3; 28/35] START model__max_depth=8, model__n_estimators=30................\n",
      "[CV 3/3; 28/35] END model__max_depth=8, model__n_estimators=30; total time=   7.1s\n",
      "[CV 1/3; 29/35] START model__max_depth=8, model__n_estimators=40................\n",
      "[CV 1/3; 29/35] END model__max_depth=8, model__n_estimators=40; total time=   9.2s\n",
      "[CV 2/3; 29/35] START model__max_depth=8, model__n_estimators=40................\n",
      "[CV 2/3; 29/35] END model__max_depth=8, model__n_estimators=40; total time=   8.8s\n",
      "[CV 3/3; 29/35] START model__max_depth=8, model__n_estimators=40................\n",
      "[CV 3/3; 29/35] END model__max_depth=8, model__n_estimators=40; total time=   8.7s\n",
      "[CV 1/3; 30/35] START model__max_depth=8, model__n_estimators=50................\n",
      "[CV 1/3; 30/35] END model__max_depth=8, model__n_estimators=50; total time=  11.1s\n",
      "[CV 2/3; 30/35] START model__max_depth=8, model__n_estimators=50................\n",
      "[CV 2/3; 30/35] END model__max_depth=8, model__n_estimators=50; total time=  10.8s\n",
      "[CV 3/3; 30/35] START model__max_depth=8, model__n_estimators=50................\n",
      "[CV 3/3; 30/35] END model__max_depth=8, model__n_estimators=50; total time=  11.7s\n",
      "[CV 1/3; 31/35] START model__max_depth=9, model__n_estimators=10................\n",
      "[CV 1/3; 31/35] END model__max_depth=9, model__n_estimators=10; total time=   2.5s\n",
      "[CV 2/3; 31/35] START model__max_depth=9, model__n_estimators=10................\n",
      "[CV 2/3; 31/35] END model__max_depth=9, model__n_estimators=10; total time=   2.6s\n",
      "[CV 3/3; 31/35] START model__max_depth=9, model__n_estimators=10................\n",
      "[CV 3/3; 31/35] END model__max_depth=9, model__n_estimators=10; total time=   2.6s\n",
      "[CV 1/3; 32/35] START model__max_depth=9, model__n_estimators=20................\n",
      "[CV 1/3; 32/35] END model__max_depth=9, model__n_estimators=20; total time=   5.1s\n",
      "[CV 2/3; 32/35] START model__max_depth=9, model__n_estimators=20................\n",
      "[CV 2/3; 32/35] END model__max_depth=9, model__n_estimators=20; total time=   4.8s\n",
      "[CV 3/3; 32/35] START model__max_depth=9, model__n_estimators=20................\n",
      "[CV 3/3; 32/35] END model__max_depth=9, model__n_estimators=20; total time=   4.9s\n",
      "[CV 1/3; 33/35] START model__max_depth=9, model__n_estimators=30................\n",
      "[CV 1/3; 33/35] END model__max_depth=9, model__n_estimators=30; total time=   7.2s\n",
      "[CV 2/3; 33/35] START model__max_depth=9, model__n_estimators=30................\n",
      "[CV 2/3; 33/35] END model__max_depth=9, model__n_estimators=30; total time=   7.1s\n",
      "[CV 3/3; 33/35] START model__max_depth=9, model__n_estimators=30................\n",
      "[CV 3/3; 33/35] END model__max_depth=9, model__n_estimators=30; total time=   7.2s\n",
      "[CV 1/3; 34/35] START model__max_depth=9, model__n_estimators=40................\n",
      "[CV 1/3; 34/35] END model__max_depth=9, model__n_estimators=40; total time=   9.8s\n",
      "[CV 2/3; 34/35] START model__max_depth=9, model__n_estimators=40................\n",
      "[CV 2/3; 34/35] END model__max_depth=9, model__n_estimators=40; total time=  10.1s\n",
      "[CV 3/3; 34/35] START model__max_depth=9, model__n_estimators=40................\n",
      "[CV 3/3; 34/35] END model__max_depth=9, model__n_estimators=40; total time=  10.2s\n",
      "[CV 1/3; 35/35] START model__max_depth=9, model__n_estimators=50................\n",
      "[CV 1/3; 35/35] END model__max_depth=9, model__n_estimators=50; total time=  11.8s\n",
      "[CV 2/3; 35/35] START model__max_depth=9, model__n_estimators=50................\n",
      "[CV 2/3; 35/35] END model__max_depth=9, model__n_estimators=50; total time=  11.6s\n",
      "[CV 3/3; 35/35] START model__max_depth=9, model__n_estimators=50................\n",
      "[CV 3/3; 35/35] END model__max_depth=9, model__n_estimators=50; total time=  12.0s\n",
      "Средняя оценка качества линейной регрессии: 12.649360186573432\n",
      "Средняя оценка качества дерева решений: 10.426057162999003\n",
      "Средняя оценка качества случайного леса: 10.014964748660423\n",
      "Лучшая модель: Pipeline(steps=[('model',\n",
      "                 RandomForestRegressor(max_depth=4, n_estimators=40,\n",
      "                                       random_state=12345))])\n",
      "Лучшая оценка качества: 10.014964748660423\n"
     ]
    }
   ],
   "source": [
    "# Линейная регрессия\n",
    "lr_scaler, lr, lr_score = train_and_evaluate(LinearRegression(), {}, features_train, target_train)\n",
    "#print(\"Средняя оценка качества линейной регрессии:\", lr_score)\n",
    "\n",
    "# Дерево решений\n",
    "tree_scaler, tree, tree_score = train_and_evaluate(DecisionTreeRegressor(random_state=12345), {\"max_depth\": range(2, 12)}, features_train, target_train)\n",
    "#print(\"Средняя оценка качества дерева решений:\", tree_score)\n",
    "\n",
    "# Случайный лес\n",
    "forest_params = {\n",
    "    \"n_estimators\": range(10, 51, 10),\n",
    "    \"max_depth\": range(3, 10),\n",
    "}\n",
    "\n",
    "forest_scaler, forest, forest_score = train_and_evaluate(RandomForestRegressor(random_state=12345), forest_params, features_train, target_train)\n",
    "#print(\"Средняя оценка качества случайного леса:\", forest_score)\n",
    "\n",
    "# Выбираем лучшую модель и ее scaler\n",
    "best_scaler = None\n",
    "best_model = None\n",
    "best_score = None\n",
    "\n",
    "for scaler, model, score in zip([lr_scaler, tree_scaler, forest_scaler], [lr, tree, forest], [lr_score, tree_score, forest_score]):\n",
    "    if best_score is None or score < best_score:\n",
    "        best_score = score\n",
    "        best_model = model\n",
    "        best_scaler = scaler\n",
    "\n",
    "print(\"Средняя оценка качества линейной регрессии:\", lr_score)\n",
    "print(\"Средняя оценка качества дерева решений:\", tree_score)\n",
    "print(\"Средняя оценка качества случайного леса:\", forest_score)\n",
    "        \n",
    "print(\"Лучшая модель:\", best_model)\n",
    "print(\"Лучшая оценка качества:\", best_score)"
   ]
  },
  {
   "cell_type": "markdown",
   "metadata": {},
   "source": [
    "<div class=\"alert alert-block alert-danger\">\n",
    "<h2> Комментарий ревьюера <a class=\"tocSkip\"></h2>\n",
    "\n",
    "    \n",
    "<b>На доработку❌:</b>\n",
    "В проекте отсутствует переменная `forest_params` - при попытке воспроизвести код он падает с ошибкой."
   ]
  },
  {
   "cell_type": "markdown",
   "metadata": {},
   "source": [
    "<div class=\"alert alert-info\">\n",
    "<h2> Комментарий студента <a class=\"tocSkip\"> </h2>\n",
    "\n",
    "Переделывала функцию несколько раз и упустила этот момент. Переменная `forest_params` определена.\n",
    "</div>"
   ]
  },
  {
   "cell_type": "markdown",
   "metadata": {},
   "source": [
    "<div class=\"alert alert-success\">\n",
    "<h2> Комментарий ревьюера v.2 <a class=\"tocSkip\"> </h2>\n",
    "\n",
    "<b>Все отлично!👍:</b> Учтено."
   ]
  },
  {
   "cell_type": "markdown",
   "metadata": {},
   "source": [
    "Результаты показали, что лучшей моделью является случайный лес (RandomForestRegressor) с гиперпараметрами max_depth=4 и n_estimators=40. Оценка качества этой модели, измеренная с помощью метрики sMAPE, составляет примерно 10.015.\n",
    "\n",
    "Сравнительно, линейная регрессия и дерево решений показали менее высокое качество прогнозов с оценками качества 12.650 и 10.426 соответственно.\n",
    "\n",
    "Теперь, когда мы выбрали лучшую модель, можно протестировать ее на тестовой выборке."
   ]
  },
  {
   "cell_type": "markdown",
   "metadata": {},
   "source": [
    "<div class=\"alert alert-success\">\n",
    "<h2> Комментарий ревьюера <a class=\"tocSkip\"> </h2>\n",
    "\n",
    "<b>Все отлично!👍:</b>\n",
    "\n",
    "Для нескольких моделей оптимизировали гиперпараметры, оценили модели на кросс-валидации и выбрали лучшую - отлично!"
   ]
  },
  {
   "cell_type": "markdown",
   "metadata": {},
   "source": [
    "### Проверка на тестовой выборке"
   ]
  },
  {
   "cell_type": "markdown",
   "metadata": {},
   "source": [
    "Добавим отсутствующие целевые признаки в тестовый набор данных из полного датасета, используя индекс (даты) в качестве ключей для слияния."
   ]
  },
  {
   "cell_type": "code",
   "execution_count": 21,
   "metadata": {},
   "outputs": [],
   "source": [
    "target_columns = ['rougher.output.recovery', 'final.output.recovery']\n",
    "test_data_merged = test.merge(full[target_columns], left_index=True, right_index=True, how='left')"
   ]
  },
  {
   "cell_type": "markdown",
   "metadata": {},
   "source": [
    "<div class=\"alert alert-success\">\n",
    "<h2> Комментарий ревьюера <a class=\"tocSkip\"> </h2>\n",
    "\n",
    "<b>Все отлично!👍:</b> В `test` добавили целевые признаки из `full`, используя дату как ключ при соединении - отлично!"
   ]
  },
  {
   "cell_type": "markdown",
   "metadata": {},
   "source": [
    "Убедимся, что нет пропущенных значений в объединенном тестовом датасете. Если есть пропуски, мы должны будем заполнить их или удалить соответствующие строки перед применением модели."
   ]
  },
  {
   "cell_type": "code",
   "execution_count": 22,
   "metadata": {
    "scrolled": true
   },
   "outputs": [
    {
     "data": {
      "text/plain": [
       "primary_cleaner.input.sulfate                 0\n",
       "primary_cleaner.input.depressant              0\n",
       "primary_cleaner.input.feed_size               0\n",
       "primary_cleaner.input.xanthate                0\n",
       "primary_cleaner.state.floatbank8_a_air        0\n",
       "primary_cleaner.state.floatbank8_a_level      0\n",
       "primary_cleaner.state.floatbank8_b_air        0\n",
       "primary_cleaner.state.floatbank8_b_level      0\n",
       "primary_cleaner.state.floatbank8_c_air        0\n",
       "primary_cleaner.state.floatbank8_c_level      0\n",
       "primary_cleaner.state.floatbank8_d_air        0\n",
       "primary_cleaner.state.floatbank8_d_level      0\n",
       "rougher.input.feed_ag                         0\n",
       "rougher.input.feed_pb                         0\n",
       "rougher.input.feed_rate                       0\n",
       "rougher.input.feed_size                       0\n",
       "rougher.input.feed_sol                        0\n",
       "rougher.input.feed_au                         0\n",
       "rougher.input.floatbank10_sulfate             0\n",
       "rougher.input.floatbank10_xanthate            0\n",
       "rougher.input.floatbank11_sulfate             0\n",
       "rougher.input.floatbank11_xanthate            0\n",
       "rougher.state.floatbank10_a_air               0\n",
       "rougher.state.floatbank10_a_level             0\n",
       "rougher.state.floatbank10_b_air               0\n",
       "rougher.state.floatbank10_b_level             0\n",
       "rougher.state.floatbank10_c_air               0\n",
       "rougher.state.floatbank10_c_level             0\n",
       "rougher.state.floatbank10_d_air               0\n",
       "rougher.state.floatbank10_d_level             0\n",
       "rougher.state.floatbank10_e_air               0\n",
       "rougher.state.floatbank10_e_level             0\n",
       "rougher.state.floatbank10_f_air               0\n",
       "rougher.state.floatbank10_f_level             0\n",
       "secondary_cleaner.state.floatbank2_a_air      0\n",
       "secondary_cleaner.state.floatbank2_a_level    0\n",
       "secondary_cleaner.state.floatbank2_b_air      0\n",
       "secondary_cleaner.state.floatbank2_b_level    0\n",
       "secondary_cleaner.state.floatbank3_a_air      0\n",
       "secondary_cleaner.state.floatbank3_a_level    0\n",
       "secondary_cleaner.state.floatbank3_b_air      0\n",
       "secondary_cleaner.state.floatbank3_b_level    0\n",
       "secondary_cleaner.state.floatbank4_a_air      0\n",
       "secondary_cleaner.state.floatbank4_a_level    0\n",
       "secondary_cleaner.state.floatbank4_b_air      0\n",
       "secondary_cleaner.state.floatbank4_b_level    0\n",
       "secondary_cleaner.state.floatbank5_a_air      0\n",
       "secondary_cleaner.state.floatbank5_a_level    0\n",
       "secondary_cleaner.state.floatbank5_b_air      0\n",
       "secondary_cleaner.state.floatbank5_b_level    0\n",
       "secondary_cleaner.state.floatbank6_a_air      0\n",
       "secondary_cleaner.state.floatbank6_a_level    0\n",
       "rougher.output.recovery                       0\n",
       "final.output.recovery                         0\n",
       "dtype: int64"
      ]
     },
     "execution_count": 22,
     "metadata": {},
     "output_type": "execute_result"
    }
   ],
   "source": [
    "test_data_merged.isnull().sum()"
   ]
  },
  {
   "cell_type": "markdown",
   "metadata": {},
   "source": [
    "Разделим объединенный тестовый датасет на признаки и целевые переменные."
   ]
  },
  {
   "cell_type": "code",
   "execution_count": 23,
   "metadata": {},
   "outputs": [],
   "source": [
    "test_features = test_data_merged.drop(['rougher.output.recovery', 'final.output.recovery'], axis=1)\n",
    "test_target = test_data_merged[['rougher.output.recovery', 'final.output.recovery']]"
   ]
  },
  {
   "cell_type": "markdown",
   "metadata": {},
   "source": [
    "Для использования обученной модели на тестовых данных и вычисления sMAPE, масштабируем данные."
   ]
  },
  {
   "cell_type": "code",
   "execution_count": 24,
   "metadata": {},
   "outputs": [],
   "source": [
    "test_features_scaled = best_scaler.transform(test_features)"
   ]
  },
  {
   "cell_type": "markdown",
   "metadata": {},
   "source": [
    "Используем обученную модель (best_model) для предсказания на масштабированных тестовых данных."
   ]
  },
  {
   "cell_type": "code",
   "execution_count": 25,
   "metadata": {},
   "outputs": [],
   "source": [
    "test_predictions = best_model.predict(test_features_scaled)"
   ]
  },
  {
   "cell_type": "markdown",
   "metadata": {},
   "source": [
    "Вычислим sMAPE между предсказаниями и истинными значениями тестовых целевых переменных."
   ]
  },
  {
   "cell_type": "code",
   "execution_count": 26,
   "metadata": {},
   "outputs": [
    {
     "name": "stdout",
     "output_type": "stream",
     "text": [
      "sMAPE на тестовых данных: 7.623876846707388\n"
     ]
    }
   ],
   "source": [
    "test_smape = smape(test_target.values, test_predictions)\n",
    "print(\"sMAPE на тестовых данных:\", test_smape)"
   ]
  },
  {
   "cell_type": "markdown",
   "metadata": {},
   "source": [
    "Полученное значение sMAPE на тестовых данных равно 7.623876846707388. Это означает, что в среднем предсказания модели отклоняются от истинных значений на 7.62%. Таким образом, наша модель демонстрирует хорошее качество предсказаний на тестовой выборке.\n",
    "\n",
    "Для проверки модели на адекватность можно сравнить её качество с качеством некоторой базовой (dummy) модели. Базовая модель – это очень простая модель, которая делает предсказания без использования информации о признаках.\n",
    "\n",
    "Ниже приведен код для создания базовой модели и вычисления sMAPE для её предсказаний:"
   ]
  },
  {
   "cell_type": "markdown",
   "metadata": {},
   "source": [
    "<div class=\"alert alert-success\">\n",
    "<h2> Комментарий ревьюера <a class=\"tocSkip\"> </h2>\n",
    "\n",
    "<b>Все отлично!👍:</b> Итоговую модель оценили на тестовой выборке - отличный результат!"
   ]
  },
  {
   "cell_type": "code",
   "execution_count": 27,
   "metadata": {},
   "outputs": [
    {
     "name": "stdout",
     "output_type": "stream",
     "text": [
      "sMAPE базовой модели: 7.77808938006563\n"
     ]
    }
   ],
   "source": [
    "# Создание базовой модели\n",
    "dummy_model = DummyRegressor(strategy='mean')\n",
    "dummy_model.fit(features_train, target_train)\n",
    "\n",
    "# Предсказания базовой модели\n",
    "dummy_predictions = dummy_model.predict(test_features)\n",
    "\n",
    "# Вычисление sMAPE для предсказаний базовой модели\n",
    "dummy_smape = smape(test_target, dummy_predictions)\n",
    "\n",
    "print(\"sMAPE базовой модели:\", dummy_smape)"
   ]
  },
  {
   "cell_type": "markdown",
   "metadata": {},
   "source": [
    "sMAPE нашей лучшей модели на тестовых данных составляет 7.6239, в то время как sMAPE базовой модели равен 7.7781. Наша модель показывает лучшие результаты, чем базовая модель, что свидетельствует о её адекватности."
   ]
  },
  {
   "cell_type": "markdown",
   "metadata": {},
   "source": [
    "<div class=\"alert alert-success\">\n",
    "<h2> Комментарий ревьюера <a class=\"tocSkip\"> </h2>\n",
    "\n",
    "<b>Все отлично!👍:</b> Есть сравнение с константной моделью - отлично, наша модель адекватна."
   ]
  },
  {
   "cell_type": "markdown",
   "metadata": {},
   "source": [
    "### Вывод"
   ]
  },
  {
   "cell_type": "markdown",
   "metadata": {},
   "source": [
    "В ходе данного исследования мы решали задачу предсказания коэффициента восстановления золота из руды на основе технологических данных. Главная метрика, на которую мы ориентировались, - sMAPE (симметричное среднее абсолютное процентное отклонение).\n",
    "\n",
    "В рамках проекта были выполнены следующие этапы:\n",
    "\n",
    "1. Проведен анализ и предобработка данных:\n",
    "- исследованы распределения признаков и обнаружены пропуски;\n",
    "- обработаны пропуски и выбросы в данных;\n",
    "- отобраны необходимые признаки для обучения моделей;\n",
    "- добавлены целевые признаки в тестовую выборку.\n",
    "2. Разработаны и оценены различные модели:\n",
    "- Линейная регрессия;\n",
    "- Дерево решений;\n",
    "- Случайный лес.\n",
    "3. Подобраны оптимальные гиперпараметры для каждой модели с использованием кросс-валидации и GridSearchCV.\n",
    "\n",
    "4. Оценено качество лучшей модели на тестовой выборке, sMAPE составило 7.6239.\n",
    "\n",
    "5. Проведена проверка адекватности лучшей модели путем сравнения с базовой моделью (медианным предсказателем). sMAPE базовой модели составило 7.7781, что свидетельствует об адекватности нашей лучшей модели.\n",
    "\n",
    "В результате исследования была построена модель, способная предсказывать коэффициент восстановления золота из руды с приемлемой точностью. Однако, существует возможность для дальнейшего улучшения модели, например, с помощью добавления новых признаков, применения других методов предобработки данных или использования других алгоритмов машинного обучения."
   ]
  },
  {
   "cell_type": "markdown",
   "metadata": {},
   "source": [
    "<div class=\"alert alert-success\">\n",
    "<h2> Комментарий ревьюера <a class=\"tocSkip\"> </h2>\n",
    "\n",
    "<b>Все отлично!👍:</b> Отличный итоговый вывод!"
   ]
  },
  {
   "cell_type": "markdown",
   "metadata": {},
   "source": [
    "<div style=\"border:solid Chocolate 2px; padding: 40px\">\n",
    "\n",
    "# Комментарий ревьюера: общий вывод по проекту.\n",
    "\n",
    "Ольга, проект получился на довольно хорошем уровне - отличная работа над проектом, молодец!\n",
    "\n",
    "Мне нравится твой аналитический подход к выполнению проекта, ты соблюдаешь структуру работы, выполняешь её последовательно - это очень хорошо! Шаги проекта выполнены по порядку согласно плану проекта, нет смысловых и структурных ям. Важно, что не забываешь про выводы.\n",
    "\n",
    "Работа с моделями также выполнена отлично: исследовано несколько алгоритмов, проведён подбор гиперпараметров с помощью `GridSearchCV`, выполнена промежуточная оценка моделей на кросс-валидации - молодец!\n",
    "    \n",
    "Над проектом ещё стоит поработать - есть рекомендации по дополнению некоторых твоих шагов проекта. Такие рекомендации я отметил жёлтыми комментариями. Будет здорово, если ты учтёшь их - так проект станет структурно и содержательно более совершенным.\n",
    "    \n",
    "Также в работе есть критические замечания. К этим замечаниям я оставил пояснительные комментарии красного цвета, в которых перечислил возможные варианты дальнейших действий. Уверен, ты быстро с этим управишься:)\n",
    "    \n",
    "Если о том, что нужно сделать в рамках комментариев, будут возникать вопросы - оставь их, пожалуйста, в комментариях, и я отвечу на них во время следующего ревью.\n",
    "    \n",
    "Также буду рад ответить на любые твои вопросы по проекту или на какие-либо другие, если они у тебя имеются - оставь их в комментариях, и я постараюсь ответить:)\n",
    "    \n",
    "Жду твой проект на повторном ревью. До встречи:)"
   ]
  },
  {
   "cell_type": "markdown",
   "metadata": {},
   "source": [
    "<div style=\"border:solid Chocolate 2px; padding: 40px\">\n",
    "\n",
    "# Комментарий ревьюера: общий вывод по проекту v.2.\n",
    "\n",
    "Ольга, все замечания учтены - проект принят!\n",
    "    \n",
    "Спасибо за хорошую работу над проектом, желаю успехов в дальнейшем обучении:)"
   ]
  }
 ],
 "metadata": {
  "ExecuteTimeLog": [
   {
    "duration": 1720,
    "start_time": "2023-04-09T09:52:00.902Z"
   },
   {
    "duration": 1360,
    "start_time": "2023-04-09T09:52:02.624Z"
   },
   {
    "duration": 83,
    "start_time": "2023-04-09T09:52:03.986Z"
   },
   {
    "duration": 102,
    "start_time": "2023-04-09T09:52:04.071Z"
   },
   {
    "duration": 133,
    "start_time": "2023-04-09T09:52:04.176Z"
   },
   {
    "duration": 30,
    "start_time": "2023-04-09T09:52:04.311Z"
   },
   {
    "duration": 5,
    "start_time": "2023-04-09T09:52:04.343Z"
   },
   {
    "duration": 114,
    "start_time": "2023-04-09T09:52:04.350Z"
   },
   {
    "duration": 1993,
    "start_time": "2023-04-09T09:52:04.466Z"
   },
   {
    "duration": 566,
    "start_time": "2023-04-09T09:52:06.462Z"
   },
   {
    "duration": 498,
    "start_time": "2023-04-09T09:52:07.031Z"
   },
   {
    "duration": 1895,
    "start_time": "2023-04-09T09:52:07.531Z"
   },
   {
    "duration": 1383,
    "start_time": "2023-04-09T09:52:09.428Z"
   },
   {
    "duration": 33,
    "start_time": "2023-04-09T09:52:10.814Z"
   },
   {
    "duration": 5,
    "start_time": "2023-04-09T09:52:10.849Z"
   },
   {
    "duration": 32,
    "start_time": "2023-04-09T09:52:10.857Z"
   },
   {
    "duration": 14,
    "start_time": "2023-04-09T09:52:10.891Z"
   },
   {
    "duration": 12,
    "start_time": "2023-04-09T09:52:10.907Z"
   },
   {
    "duration": 13,
    "start_time": "2023-04-09T09:52:10.922Z"
   },
   {
    "duration": 35705,
    "start_time": "2023-04-09T09:52:10.937Z"
   },
   {
    "duration": 0,
    "start_time": "2023-04-09T09:52:46.644Z"
   },
   {
    "duration": 0,
    "start_time": "2023-04-09T09:52:46.647Z"
   },
   {
    "duration": 0,
    "start_time": "2023-04-09T09:52:46.647Z"
   },
   {
    "duration": 0,
    "start_time": "2023-04-09T09:52:46.649Z"
   },
   {
    "duration": 0,
    "start_time": "2023-04-09T09:52:46.650Z"
   },
   {
    "duration": 0,
    "start_time": "2023-04-09T09:52:46.652Z"
   },
   {
    "duration": 0,
    "start_time": "2023-04-09T09:52:46.653Z"
   },
   {
    "duration": 1524,
    "start_time": "2023-04-09T10:13:48.152Z"
   },
   {
    "duration": 2281,
    "start_time": "2023-04-09T10:13:49.678Z"
   },
   {
    "duration": 59,
    "start_time": "2023-04-09T10:13:51.962Z"
   },
   {
    "duration": 40,
    "start_time": "2023-04-09T10:13:52.023Z"
   },
   {
    "duration": 47,
    "start_time": "2023-04-09T10:13:52.064Z"
   },
   {
    "duration": 36,
    "start_time": "2023-04-09T10:13:52.113Z"
   },
   {
    "duration": 6,
    "start_time": "2023-04-09T10:13:52.151Z"
   },
   {
    "duration": 103,
    "start_time": "2023-04-09T10:13:52.159Z"
   },
   {
    "duration": 1939,
    "start_time": "2023-04-09T10:13:52.264Z"
   },
   {
    "duration": 499,
    "start_time": "2023-04-09T10:13:54.206Z"
   },
   {
    "duration": 506,
    "start_time": "2023-04-09T10:13:54.707Z"
   },
   {
    "duration": 1622,
    "start_time": "2023-04-09T10:13:55.215Z"
   },
   {
    "duration": 1828,
    "start_time": "2023-04-09T10:13:56.841Z"
   },
   {
    "duration": 23,
    "start_time": "2023-04-09T10:13:58.670Z"
   },
   {
    "duration": 5,
    "start_time": "2023-04-09T10:13:58.694Z"
   },
   {
    "duration": 11,
    "start_time": "2023-04-09T10:13:58.700Z"
   },
   {
    "duration": 28,
    "start_time": "2023-04-09T10:13:58.713Z"
   },
   {
    "duration": 31,
    "start_time": "2023-04-09T10:13:58.744Z"
   },
   {
    "duration": 30,
    "start_time": "2023-04-09T10:13:58.778Z"
   },
   {
    "duration": 550109,
    "start_time": "2023-04-09T10:13:58.810Z"
   },
   {
    "duration": 27,
    "start_time": "2023-04-09T10:23:08.921Z"
   },
   {
    "duration": 10,
    "start_time": "2023-04-09T10:23:08.950Z"
   },
   {
    "duration": 7,
    "start_time": "2023-04-09T10:23:08.963Z"
   },
   {
    "duration": 41,
    "start_time": "2023-04-09T10:23:08.972Z"
   },
   {
    "duration": 35,
    "start_time": "2023-04-09T10:23:09.014Z"
   },
   {
    "duration": 19,
    "start_time": "2023-04-09T10:23:09.051Z"
   },
   {
    "duration": 45,
    "start_time": "2023-04-09T10:23:09.071Z"
   },
   {
    "duration": 2852,
    "start_time": "2023-04-09T10:23:09.119Z"
   },
   {
    "duration": 1253,
    "start_time": "2023-04-09T10:26:50.614Z"
   },
   {
    "duration": 1287,
    "start_time": "2023-04-09T10:31:08.713Z"
   },
   {
    "duration": 1608,
    "start_time": "2023-04-09T10:32:34.767Z"
   },
   {
    "duration": 731,
    "start_time": "2023-04-09T10:32:36.378Z"
   },
   {
    "duration": 69,
    "start_time": "2023-04-09T10:32:37.111Z"
   },
   {
    "duration": 38,
    "start_time": "2023-04-09T10:32:37.182Z"
   },
   {
    "duration": 59,
    "start_time": "2023-04-09T10:32:37.223Z"
   },
   {
    "duration": 17,
    "start_time": "2023-04-09T10:32:37.284Z"
   },
   {
    "duration": 12,
    "start_time": "2023-04-09T10:32:37.303Z"
   },
   {
    "duration": 107,
    "start_time": "2023-04-09T10:32:37.317Z"
   },
   {
    "duration": 1907,
    "start_time": "2023-04-09T10:32:37.426Z"
   },
   {
    "duration": 541,
    "start_time": "2023-04-09T10:32:39.335Z"
   },
   {
    "duration": 512,
    "start_time": "2023-04-09T10:32:39.879Z"
   },
   {
    "duration": 1303,
    "start_time": "2023-04-09T10:32:48.555Z"
   },
   {
    "duration": 14,
    "start_time": "2023-04-09T10:34:14.341Z"
   },
   {
    "duration": 1381,
    "start_time": "2023-04-09T10:35:44.204Z"
   },
   {
    "duration": 2056,
    "start_time": "2023-04-09T10:36:53.727Z"
   },
   {
    "duration": 42,
    "start_time": "2023-04-09T11:52:18.666Z"
   },
   {
    "duration": 1846,
    "start_time": "2023-04-09T11:52:37.163Z"
   },
   {
    "duration": 22,
    "start_time": "2023-04-09T11:52:53.610Z"
   },
   {
    "duration": 1552,
    "start_time": "2023-04-09T11:58:03.027Z"
   },
   {
    "duration": 705,
    "start_time": "2023-04-09T11:58:04.581Z"
   },
   {
    "duration": 57,
    "start_time": "2023-04-09T11:58:05.287Z"
   },
   {
    "duration": 36,
    "start_time": "2023-04-09T11:58:05.345Z"
   },
   {
    "duration": 68,
    "start_time": "2023-04-09T11:58:05.383Z"
   },
   {
    "duration": 16,
    "start_time": "2023-04-09T11:58:05.457Z"
   },
   {
    "duration": 5,
    "start_time": "2023-04-09T11:58:05.474Z"
   },
   {
    "duration": 105,
    "start_time": "2023-04-09T11:58:05.481Z"
   },
   {
    "duration": 2071,
    "start_time": "2023-04-09T11:58:05.588Z"
   },
   {
    "duration": 476,
    "start_time": "2023-04-09T11:58:07.661Z"
   },
   {
    "duration": 477,
    "start_time": "2023-04-09T11:58:08.140Z"
   },
   {
    "duration": 13,
    "start_time": "2023-04-09T11:58:08.619Z"
   },
   {
    "duration": 2000,
    "start_time": "2023-04-09T11:58:08.642Z"
   },
   {
    "duration": 44,
    "start_time": "2023-04-09T11:58:10.649Z"
   },
   {
    "duration": 37,
    "start_time": "2023-04-09T11:58:10.695Z"
   },
   {
    "duration": 27,
    "start_time": "2023-04-09T11:58:10.734Z"
   },
   {
    "duration": 37,
    "start_time": "2023-04-09T11:58:10.763Z"
   },
   {
    "duration": 24,
    "start_time": "2023-04-09T11:58:10.802Z"
   },
   {
    "duration": 154,
    "start_time": "2023-04-09T11:58:10.828Z"
   },
   {
    "duration": 0,
    "start_time": "2023-04-09T11:58:10.984Z"
   },
   {
    "duration": 0,
    "start_time": "2023-04-09T11:58:10.985Z"
   },
   {
    "duration": 0,
    "start_time": "2023-04-09T11:58:10.986Z"
   },
   {
    "duration": 0,
    "start_time": "2023-04-09T11:58:10.987Z"
   },
   {
    "duration": 0,
    "start_time": "2023-04-09T11:58:10.988Z"
   },
   {
    "duration": 0,
    "start_time": "2023-04-09T11:58:10.989Z"
   },
   {
    "duration": 0,
    "start_time": "2023-04-09T11:58:10.990Z"
   },
   {
    "duration": 0,
    "start_time": "2023-04-09T11:58:10.991Z"
   },
   {
    "duration": 0,
    "start_time": "2023-04-09T11:58:10.992Z"
   },
   {
    "duration": 5,
    "start_time": "2023-04-09T12:00:56.235Z"
   },
   {
    "duration": 557139,
    "start_time": "2023-04-09T12:01:00.327Z"
   },
   {
    "duration": 15,
    "start_time": "2023-04-09T12:10:53.081Z"
   },
   {
    "duration": 11,
    "start_time": "2023-04-09T12:11:55.983Z"
   },
   {
    "duration": 11,
    "start_time": "2023-04-09T12:12:05.864Z"
   },
   {
    "duration": 16,
    "start_time": "2023-04-09T12:12:10.903Z"
   },
   {
    "duration": 6,
    "start_time": "2023-04-09T12:12:49.093Z"
   },
   {
    "duration": 7,
    "start_time": "2023-04-09T12:12:54.857Z"
   },
   {
    "duration": 11,
    "start_time": "2023-04-09T12:12:57.409Z"
   },
   {
    "duration": 5,
    "start_time": "2023-04-09T12:12:59.905Z"
   },
   {
    "duration": 6,
    "start_time": "2023-04-09T12:13:06.394Z"
   },
   {
    "duration": 1575,
    "start_time": "2023-04-09T12:13:20.929Z"
   },
   {
    "duration": 695,
    "start_time": "2023-04-09T12:13:22.506Z"
   },
   {
    "duration": 56,
    "start_time": "2023-04-09T12:13:23.203Z"
   },
   {
    "duration": 31,
    "start_time": "2023-04-09T12:13:23.262Z"
   },
   {
    "duration": 62,
    "start_time": "2023-04-09T12:13:23.294Z"
   },
   {
    "duration": 15,
    "start_time": "2023-04-09T12:13:23.358Z"
   },
   {
    "duration": 5,
    "start_time": "2023-04-09T12:13:23.374Z"
   },
   {
    "duration": 99,
    "start_time": "2023-04-09T12:13:23.381Z"
   },
   {
    "duration": 1879,
    "start_time": "2023-04-09T12:13:23.482Z"
   },
   {
    "duration": 495,
    "start_time": "2023-04-09T12:13:25.364Z"
   },
   {
    "duration": 592,
    "start_time": "2023-04-09T12:13:25.861Z"
   },
   {
    "duration": 13,
    "start_time": "2023-04-09T12:13:26.455Z"
   },
   {
    "duration": 2027,
    "start_time": "2023-04-09T12:13:26.470Z"
   },
   {
    "duration": 50,
    "start_time": "2023-04-09T12:13:28.499Z"
   },
   {
    "duration": 25,
    "start_time": "2023-04-09T12:13:28.554Z"
   },
   {
    "duration": 5,
    "start_time": "2023-04-09T12:13:28.581Z"
   },
   {
    "duration": 9,
    "start_time": "2023-04-09T12:13:28.588Z"
   },
   {
    "duration": 10,
    "start_time": "2023-04-09T12:13:28.599Z"
   },
   {
    "duration": 5,
    "start_time": "2023-04-09T12:13:28.611Z"
   },
   {
    "duration": 5,
    "start_time": "2023-04-09T12:13:28.617Z"
   },
   {
    "duration": 37191,
    "start_time": "2023-04-09T12:13:28.624Z"
   },
   {
    "duration": 0,
    "start_time": "2023-04-09T12:14:05.819Z"
   },
   {
    "duration": 0,
    "start_time": "2023-04-09T12:14:05.820Z"
   },
   {
    "duration": 0,
    "start_time": "2023-04-09T12:14:05.822Z"
   },
   {
    "duration": 0,
    "start_time": "2023-04-09T12:14:05.824Z"
   },
   {
    "duration": 0,
    "start_time": "2023-04-09T12:14:05.825Z"
   },
   {
    "duration": 0,
    "start_time": "2023-04-09T12:14:05.826Z"
   },
   {
    "duration": 0,
    "start_time": "2023-04-09T12:14:05.827Z"
   },
   {
    "duration": 1696,
    "start_time": "2023-04-09T12:14:15.291Z"
   },
   {
    "duration": 721,
    "start_time": "2023-04-09T12:14:16.988Z"
   },
   {
    "duration": 50,
    "start_time": "2023-04-09T12:14:17.711Z"
   },
   {
    "duration": 35,
    "start_time": "2023-04-09T12:14:17.762Z"
   },
   {
    "duration": 62,
    "start_time": "2023-04-09T12:14:17.799Z"
   },
   {
    "duration": 18,
    "start_time": "2023-04-09T12:14:17.863Z"
   },
   {
    "duration": 18,
    "start_time": "2023-04-09T12:14:17.883Z"
   },
   {
    "duration": 106,
    "start_time": "2023-04-09T12:14:17.903Z"
   },
   {
    "duration": 1875,
    "start_time": "2023-04-09T12:14:18.012Z"
   },
   {
    "duration": 502,
    "start_time": "2023-04-09T12:14:19.889Z"
   },
   {
    "duration": 480,
    "start_time": "2023-04-09T12:14:20.393Z"
   },
   {
    "duration": 2042,
    "start_time": "2023-04-09T12:14:20.875Z"
   },
   {
    "duration": 51,
    "start_time": "2023-04-09T12:14:22.919Z"
   },
   {
    "duration": 33,
    "start_time": "2023-04-09T12:14:22.973Z"
   },
   {
    "duration": 16,
    "start_time": "2023-04-09T12:14:23.008Z"
   },
   {
    "duration": 13,
    "start_time": "2023-04-09T12:14:23.026Z"
   },
   {
    "duration": 35,
    "start_time": "2023-04-09T12:14:23.040Z"
   },
   {
    "duration": 15,
    "start_time": "2023-04-09T12:14:23.077Z"
   },
   {
    "duration": 8,
    "start_time": "2023-04-09T12:14:23.094Z"
   },
   {
    "duration": 561554,
    "start_time": "2023-04-09T12:14:23.103Z"
   },
   {
    "duration": 12,
    "start_time": "2023-04-09T12:23:44.659Z"
   },
   {
    "duration": 18,
    "start_time": "2023-04-09T12:23:44.674Z"
   },
   {
    "duration": 14,
    "start_time": "2023-04-09T12:23:44.694Z"
   },
   {
    "duration": 48,
    "start_time": "2023-04-09T12:23:44.710Z"
   },
   {
    "duration": 60,
    "start_time": "2023-04-09T12:23:44.760Z"
   },
   {
    "duration": 6,
    "start_time": "2023-04-09T12:23:44.823Z"
   },
   {
    "duration": 42,
    "start_time": "2023-04-09T12:23:44.831Z"
   }
  ],
  "kernelspec": {
   "display_name": "Python 3 (ipykernel)",
   "language": "python",
   "name": "python3"
  },
  "language_info": {
   "codemirror_mode": {
    "name": "ipython",
    "version": 3
   },
   "file_extension": ".py",
   "mimetype": "text/x-python",
   "name": "python",
   "nbconvert_exporter": "python",
   "pygments_lexer": "ipython3",
   "version": "3.9.5"
  },
  "toc": {
   "base_numbering": 1,
   "nav_menu": {},
   "number_sections": true,
   "sideBar": true,
   "skip_h1_title": true,
   "title_cell": "Содержание",
   "title_sidebar": "Contents",
   "toc_cell": true,
   "toc_position": {},
   "toc_section_display": true,
   "toc_window_display": true
  }
 },
 "nbformat": 4,
 "nbformat_minor": 2
}
