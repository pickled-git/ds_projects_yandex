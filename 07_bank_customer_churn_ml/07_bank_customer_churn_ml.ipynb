{
 "cells": [
  {
   "cell_type": "markdown",
   "metadata": {
    "toc": true
   },
   "source": [
    "<h1>Содержание<span class=\"tocSkip\"></span></h1>\n",
    "<div class=\"toc\"><ul class=\"toc-item\"><li><span><a href=\"#Подготовка-данных\" data-toc-modified-id=\"Подготовка-данных-1\"><span class=\"toc-item-num\">1&nbsp;&nbsp;</span>Подготовка данных</a></span></li><li><span><a href=\"#Исследование-задачи\" data-toc-modified-id=\"Исследование-задачи-2\"><span class=\"toc-item-num\">2&nbsp;&nbsp;</span>Исследование задачи</a></span><ul class=\"toc-item\"><li><span><a href=\"#Баланс-классов\" data-toc-modified-id=\"Баланс-классов-2.1\"><span class=\"toc-item-num\">2.1&nbsp;&nbsp;</span>Баланс классов</a></span></li><li><span><a href=\"#Деление-данных-на-выборки\" data-toc-modified-id=\"Деление-данных-на-выборки-2.2\"><span class=\"toc-item-num\">2.2&nbsp;&nbsp;</span>Деление данных на выборки</a></span></li><li><span><a href=\"#Обучение-модели\" data-toc-modified-id=\"Обучение-модели-2.3\"><span class=\"toc-item-num\">2.3&nbsp;&nbsp;</span>Обучение модели</a></span></li></ul></li><li><span><a href=\"#Борьба-с-дисбалансом\" data-toc-modified-id=\"Борьба-с-дисбалансом-3\"><span class=\"toc-item-num\">3&nbsp;&nbsp;</span>Борьба с дисбалансом</a></span><ul class=\"toc-item\"><li><span><a href=\"#Взвешивание-классов\" data-toc-modified-id=\"Взвешивание-классов-3.1\"><span class=\"toc-item-num\">3.1&nbsp;&nbsp;</span>Взвешивание классов</a></span></li><li><span><a href=\"#Увеличение-выборки\" data-toc-modified-id=\"Увеличение-выборки-3.2\"><span class=\"toc-item-num\">3.2&nbsp;&nbsp;</span>Увеличение выборки</a></span></li><li><span><a href=\"#Уменьшение-выборки\" data-toc-modified-id=\"Уменьшение-выборки-3.3\"><span class=\"toc-item-num\">3.3&nbsp;&nbsp;</span>Уменьшение выборки</a></span></li></ul></li><li><span><a href=\"#Тестирование-модели\" data-toc-modified-id=\"Тестирование-модели-4\"><span class=\"toc-item-num\">4&nbsp;&nbsp;</span>Тестирование модели</a></span><ul class=\"toc-item\"><li><span><a href=\"#Вывод\" data-toc-modified-id=\"Вывод-4.1\"><span class=\"toc-item-num\">4.1&nbsp;&nbsp;</span>Вывод</a></span></li></ul></li><li><span><a href=\"#Чек-лист-готовности-проекта\" data-toc-modified-id=\"Чек-лист-готовности-проекта-5\"><span class=\"toc-item-num\">5&nbsp;&nbsp;</span>Чек-лист готовности проекта</a></span></li></ul></div>"
   ]
  },
  {
   "cell_type": "markdown",
   "metadata": {},
   "source": [
    "# Отток клиентов"
   ]
  },
  {
   "cell_type": "markdown",
   "metadata": {},
   "source": [
    "Из «Бета-Банка» стали уходить клиенты. Каждый месяц. Немного, но заметно. Банковские маркетологи посчитали: сохранять текущих клиентов дешевле, чем привлекать новых.\n",
    "\n",
    "Нужно спрогнозировать, уйдёт клиент из банка в ближайшее время или нет. Вам предоставлены исторические данные о поведении клиентов и расторжении договоров с банком. \n",
    "\n",
    "Постройте модель с предельно большим значением *F1*-меры. Чтобы сдать проект успешно, нужно довести метрику до 0.59. Проверьте *F1*-меру на тестовой выборке самостоятельно.\n",
    "\n",
    "Дополнительно измеряйте *AUC-ROC*, сравнивайте её значение с *F1*-мерой.\n",
    "\n",
    "Источник данных: [https://www.kaggle.com/barelydedicated/bank-customer-churn-modeling](https://www.kaggle.com/barelydedicated/bank-customer-churn-modeling)"
   ]
  },
  {
   "cell_type": "markdown",
   "metadata": {},
   "source": [
    "## Подготовка данных"
   ]
  },
  {
   "cell_type": "markdown",
   "metadata": {},
   "source": [
    "Импортируем необходимые библиотеки и загружаем данные:"
   ]
  },
  {
   "cell_type": "code",
   "execution_count": 1,
   "metadata": {},
   "outputs": [],
   "source": [
    "import pandas as pd\n",
    "import numpy as np\n",
    "import seaborn as sns\n",
    "import matplotlib.pyplot as plt\n",
    "from sklearn.utils import shuffle\n",
    "from sklearn.model_selection import train_test_split\n",
    "from sklearn.preprocessing import StandardScaler\n",
    "from sklearn.tree import DecisionTreeClassifier\n",
    "from sklearn.ensemble import RandomForestClassifier\n",
    "from sklearn.linear_model import LogisticRegression\n",
    "from sklearn.metrics import f1_score, confusion_matrix, roc_auc_score, roc_curve\n",
    "import warnings\n",
    "\n",
    "warnings.filterwarnings(\"ignore\")"
   ]
  },
  {
   "cell_type": "code",
   "execution_count": 2,
   "metadata": {},
   "outputs": [],
   "source": [
    "data = pd.read_csv('/datasets/Churn.csv')"
   ]
  },
  {
   "cell_type": "markdown",
   "metadata": {},
   "source": [
    "Посмотрим на первые строки и общую информацию о данных:"
   ]
  },
  {
   "cell_type": "code",
   "execution_count": 3,
   "metadata": {},
   "outputs": [
    {
     "data": {
      "text/html": [
       "<div>\n",
       "<style scoped>\n",
       "    .dataframe tbody tr th:only-of-type {\n",
       "        vertical-align: middle;\n",
       "    }\n",
       "\n",
       "    .dataframe tbody tr th {\n",
       "        vertical-align: top;\n",
       "    }\n",
       "\n",
       "    .dataframe thead th {\n",
       "        text-align: right;\n",
       "    }\n",
       "</style>\n",
       "<table border=\"1\" class=\"dataframe\">\n",
       "  <thead>\n",
       "    <tr style=\"text-align: right;\">\n",
       "      <th></th>\n",
       "      <th>RowNumber</th>\n",
       "      <th>CustomerId</th>\n",
       "      <th>Surname</th>\n",
       "      <th>CreditScore</th>\n",
       "      <th>Geography</th>\n",
       "      <th>Gender</th>\n",
       "      <th>Age</th>\n",
       "      <th>Tenure</th>\n",
       "      <th>Balance</th>\n",
       "      <th>NumOfProducts</th>\n",
       "      <th>HasCrCard</th>\n",
       "      <th>IsActiveMember</th>\n",
       "      <th>EstimatedSalary</th>\n",
       "      <th>Exited</th>\n",
       "    </tr>\n",
       "  </thead>\n",
       "  <tbody>\n",
       "    <tr>\n",
       "      <th>0</th>\n",
       "      <td>1</td>\n",
       "      <td>15634602</td>\n",
       "      <td>Hargrave</td>\n",
       "      <td>619</td>\n",
       "      <td>France</td>\n",
       "      <td>Female</td>\n",
       "      <td>42</td>\n",
       "      <td>2.0</td>\n",
       "      <td>0.00</td>\n",
       "      <td>1</td>\n",
       "      <td>1</td>\n",
       "      <td>1</td>\n",
       "      <td>101348.88</td>\n",
       "      <td>1</td>\n",
       "    </tr>\n",
       "    <tr>\n",
       "      <th>1</th>\n",
       "      <td>2</td>\n",
       "      <td>15647311</td>\n",
       "      <td>Hill</td>\n",
       "      <td>608</td>\n",
       "      <td>Spain</td>\n",
       "      <td>Female</td>\n",
       "      <td>41</td>\n",
       "      <td>1.0</td>\n",
       "      <td>83807.86</td>\n",
       "      <td>1</td>\n",
       "      <td>0</td>\n",
       "      <td>1</td>\n",
       "      <td>112542.58</td>\n",
       "      <td>0</td>\n",
       "    </tr>\n",
       "    <tr>\n",
       "      <th>2</th>\n",
       "      <td>3</td>\n",
       "      <td>15619304</td>\n",
       "      <td>Onio</td>\n",
       "      <td>502</td>\n",
       "      <td>France</td>\n",
       "      <td>Female</td>\n",
       "      <td>42</td>\n",
       "      <td>8.0</td>\n",
       "      <td>159660.80</td>\n",
       "      <td>3</td>\n",
       "      <td>1</td>\n",
       "      <td>0</td>\n",
       "      <td>113931.57</td>\n",
       "      <td>1</td>\n",
       "    </tr>\n",
       "    <tr>\n",
       "      <th>3</th>\n",
       "      <td>4</td>\n",
       "      <td>15701354</td>\n",
       "      <td>Boni</td>\n",
       "      <td>699</td>\n",
       "      <td>France</td>\n",
       "      <td>Female</td>\n",
       "      <td>39</td>\n",
       "      <td>1.0</td>\n",
       "      <td>0.00</td>\n",
       "      <td>2</td>\n",
       "      <td>0</td>\n",
       "      <td>0</td>\n",
       "      <td>93826.63</td>\n",
       "      <td>0</td>\n",
       "    </tr>\n",
       "    <tr>\n",
       "      <th>4</th>\n",
       "      <td>5</td>\n",
       "      <td>15737888</td>\n",
       "      <td>Mitchell</td>\n",
       "      <td>850</td>\n",
       "      <td>Spain</td>\n",
       "      <td>Female</td>\n",
       "      <td>43</td>\n",
       "      <td>2.0</td>\n",
       "      <td>125510.82</td>\n",
       "      <td>1</td>\n",
       "      <td>1</td>\n",
       "      <td>1</td>\n",
       "      <td>79084.10</td>\n",
       "      <td>0</td>\n",
       "    </tr>\n",
       "  </tbody>\n",
       "</table>\n",
       "</div>"
      ],
      "text/plain": [
       "   RowNumber  CustomerId   Surname  CreditScore Geography  Gender  Age  \\\n",
       "0          1    15634602  Hargrave          619    France  Female   42   \n",
       "1          2    15647311      Hill          608     Spain  Female   41   \n",
       "2          3    15619304      Onio          502    France  Female   42   \n",
       "3          4    15701354      Boni          699    France  Female   39   \n",
       "4          5    15737888  Mitchell          850     Spain  Female   43   \n",
       "\n",
       "   Tenure    Balance  NumOfProducts  HasCrCard  IsActiveMember  \\\n",
       "0     2.0       0.00              1          1               1   \n",
       "1     1.0   83807.86              1          0               1   \n",
       "2     8.0  159660.80              3          1               0   \n",
       "3     1.0       0.00              2          0               0   \n",
       "4     2.0  125510.82              1          1               1   \n",
       "\n",
       "   EstimatedSalary  Exited  \n",
       "0        101348.88       1  \n",
       "1        112542.58       0  \n",
       "2        113931.57       1  \n",
       "3         93826.63       0  \n",
       "4         79084.10       0  "
      ]
     },
     "metadata": {},
     "output_type": "display_data"
    },
    {
     "name": "stdout",
     "output_type": "stream",
     "text": [
      "<class 'pandas.core.frame.DataFrame'>\n",
      "RangeIndex: 10000 entries, 0 to 9999\n",
      "Data columns (total 14 columns):\n",
      " #   Column           Non-Null Count  Dtype  \n",
      "---  ------           --------------  -----  \n",
      " 0   RowNumber        10000 non-null  int64  \n",
      " 1   CustomerId       10000 non-null  int64  \n",
      " 2   Surname          10000 non-null  object \n",
      " 3   CreditScore      10000 non-null  int64  \n",
      " 4   Geography        10000 non-null  object \n",
      " 5   Gender           10000 non-null  object \n",
      " 6   Age              10000 non-null  int64  \n",
      " 7   Tenure           9091 non-null   float64\n",
      " 8   Balance          10000 non-null  float64\n",
      " 9   NumOfProducts    10000 non-null  int64  \n",
      " 10  HasCrCard        10000 non-null  int64  \n",
      " 11  IsActiveMember   10000 non-null  int64  \n",
      " 12  EstimatedSalary  10000 non-null  float64\n",
      " 13  Exited           10000 non-null  int64  \n",
      "dtypes: float64(3), int64(8), object(3)\n",
      "memory usage: 1.1+ MB\n"
     ]
    }
   ],
   "source": [
    "display(data.head())\n",
    "data.info()"
   ]
  },
  {
   "cell_type": "code",
   "execution_count": 4,
   "metadata": {},
   "outputs": [
    {
     "data": {
      "image/png": "[encoded data removed]",
      "text/plain": [
       "<Figure size 720x720 with 12 Axes>"
      ]
     },
     "metadata": {
      "needs_background": "light"
     },
     "output_type": "display_data"
    }
   ],
   "source": [
    "data.hist(figsize=(10, 10));"
   ]
  },
  {
   "cell_type": "markdown",
   "metadata": {},
   "source": [
    "<div class=\"alert alert-success\">\n",
    "<h2> Комментарий ревьюера <a class=\"tocSkip\"> </h2>\n",
    " \n",
    "👍  Отлично. Если добавить знак `;` к строке с выводом графика, то уберем служебную информацию.\n",
    "    \n",
    "`data.hist(figsize=(10, 10));`    \n",
    "\n",
    "</div>  \n",
    " "
   ]
  },
  {
   "cell_type": "markdown",
   "metadata": {},
   "source": [
    "Конечная цель проекта - спрогнозировать уйдет клиент из банка в ближайшее время или нет. При этом столбцы `RowNumber`, `CustomerId` и `Surname` содержат уникальные идентификаторы клиентов и персональные данные, которые не несут никакой информации для прогнозирования целевого признака. Поэтому для дальнейшего анализа можно удалить эти столбцы из датасета."
   ]
  },
  {
   "cell_type": "code",
   "execution_count": 5,
   "metadata": {},
   "outputs": [],
   "source": [
    "data_copy = data.copy()\n",
    "data_copy = data_copy.drop(['RowNumber', 'CustomerId', 'Surname'], axis=1)"
   ]
  },
  {
   "cell_type": "markdown",
   "metadata": {},
   "source": [
    "<div class=\"alert alert-success\">\n",
    "<h2> Комментарий ревьюера <a class=\"tocSkip\"> </h2>\n",
    "\n",
    "👍 Всё верно  \n",
    "</div>  \n",
    "\n",
    "    "
   ]
  },
  {
   "cell_type": "markdown",
   "metadata": {},
   "source": [
    "Посмотрим на количество уникальных значений в категориальных признаках `Geography` и `Gender`:"
   ]
  },
  {
   "cell_type": "code",
   "execution_count": 6,
   "metadata": {},
   "outputs": [
    {
     "name": "stdout",
     "output_type": "stream",
     "text": [
      "France     5014\n",
      "Germany    2509\n",
      "Spain      2477\n",
      "Name: Geography, dtype: int64\n",
      "Male      5457\n",
      "Female    4543\n",
      "Name: Gender, dtype: int64\n"
     ]
    }
   ],
   "source": [
    "print(data_copy['Geography'].value_counts())\n",
    "print(data_copy['Gender'].value_counts())"
   ]
  },
  {
   "cell_type": "markdown",
   "metadata": {},
   "source": [
    "Преобразуем категориальные признаки в числовые при помощи техники One-Hot Encoding:"
   ]
  },
  {
   "cell_type": "code",
   "execution_count": 7,
   "metadata": {},
   "outputs": [],
   "source": [
    "data_copy = pd.get_dummies(data_copy, columns=['Geography', 'Gender'], drop_first=True)"
   ]
  },
  {
   "cell_type": "markdown",
   "metadata": {},
   "source": [
    "<div class=\"alert alert-success\">\n",
    "<h2> Комментарий ревьюера <a class=\"tocSkip\"> </h2>\n",
    "\n",
    "👍 Согласен. В дамми-ловушку не попались.\n",
    "</div>\n"
   ]
  },
  {
   "cell_type": "markdown",
   "metadata": {},
   "source": [
    "<div class=\"alert alert-warning\">\n",
    "<h2> Комментарий ревьюера <a class=\"tocSkip\"> </h2>\n",
    "    \n",
    "<b>Некоторые замечания и рекомендации💡:</b> \n",
    "\n",
    "В тренажере давался пример использования прямого кодирования с помощью get_dummies, однако это далеко не самый оптимальный вариант. Он подходит для анализа данных, но в машинном обучении может служить причиной ошибок при обучении моделей.\n",
    "    \n",
    "Можно использовать класс <a href=\"https://scikit-learn.org/stable/modules/generated/sklearn.preprocessing.OneHotEncoder.html\">OHE из sklearn</a>. Он точно понадобится в будущих проектах, можно потренироваться сейчас. \n",
    "\n",
    "Практикум подготовил инструкцию, как использовать OHE: https://colab.research.google.com/drive/1_gAMXcQKoCShB_l8FNtYEejMnosm9mvt?usp=sharing \n",
    "\n",
    "А теперь замечания «под звездочкой»:\n",
    "\n",
    "Есть загвоздка, что нам нужно будет одновременно использовать параметры drop='first' и handle_unknown='ignore’.  в OHE, а на платформе такое сочетание может выдавать ошибку (в части случаев). Если ошибка появляется, необходимо загрузить нужную версию сайкит-лерна. Для этого:\n",
    "\n",
    "1. В отдельной строке в самом начале проекта запускаем такую команду:\n",
    " `!pip install scikit-learn==1.1.3`\n",
    "     \n",
    "2. Находим в меню юпитера кнопку `Kernel`, нажимаем и выбираем Restart&Run all \n",
    "\n",
    "\n",
    "И сразу уточню, что OHE мы используем уже после разделения выборок на обучающую, валидационную и тестовую. Обучаем на трейне, применяем ко всем. Кодируем после разбиения по аналогии с масштабированием. Посмотреть поподробнее также можно здесь <a href=\"https://stackoverflow.com/questions/55525195/do-i-have-to-do-one-hot-encoding-separately-for-train-and-test-dataset\">можно здесь</a> .\n",
    "      \n",
    "</div> "
   ]
  },
  {
   "cell_type": "markdown",
   "metadata": {},
   "source": [
    "## Исследование задачи"
   ]
  },
  {
   "cell_type": "markdown",
   "metadata": {},
   "source": [
    "Для выполнения задачи нужно выполнить следующие шаги:\n",
    "\n",
    "1. Исследовать баланс классов в целевой переменной `Exited`.\n",
    "\n",
    "2. Разбить данные на обучающую, валидационную и тестовую выборки в пропорции 60/20/20.\n",
    "\n",
    "3. Обучить модель без учета дисбаланса классов, используя стандартные гиперпараметры и метрики качества.\n",
    "\n",
    "4. Проанализировать метрики качества модели и сделать выводы о ее эффективности для задачи классификации несбалансированных данных."
   ]
  },
  {
   "cell_type": "markdown",
   "metadata": {},
   "source": [
    "### Баланс классов"
   ]
  },
  {
   "cell_type": "markdown",
   "metadata": {},
   "source": [
    "Для исследования баланса классов выясним количество объектов в каждом классе целевой переменной Exited."
   ]
  },
  {
   "cell_type": "code",
   "execution_count": 8,
   "metadata": {},
   "outputs": [
    {
     "name": "stdout",
     "output_type": "stream",
     "text": [
      "0    7963\n",
      "1    2037\n",
      "Name: Exited, dtype: int64\n"
     ]
    }
   ],
   "source": [
    "class_counts = data_copy['Exited'].value_counts()\n",
    "print(class_counts)"
   ]
  },
  {
   "cell_type": "code",
   "execution_count": 9,
   "metadata": {},
   "outputs": [
    {
     "data": {
      "image/png": "[encoded data removed]",
      "text/plain": [
       "<Figure size 432x288 with 1 Axes>"
      ]
     },
     "metadata": {
      "needs_background": "light"
     },
     "output_type": "display_data"
    }
   ],
   "source": [
    "class_counts.plot(kind='bar', grid=True, color='plum', edgecolor='purple')\n",
    "plt.title('Распределение классов')\n",
    "plt.xlabel('Факт ухода клиента')\n",
    "plt.ylabel('Кол-во')\n",
    "plt.show()"
   ]
  },
  {
   "cell_type": "markdown",
   "metadata": {},
   "source": [
    "На графике виден значительный разрыв между количеством объектов в классах, что говорит об их дисбалансе."
   ]
  },
  {
   "cell_type": "markdown",
   "metadata": {},
   "source": [
    "<div class=\"alert alert-success\">\n",
    "<h2> Комментарий ревьюера <a class=\"tocSkip\"> </h2>\n",
    "\n",
    "👍 Дисбаланс исследовали. Да, он достаточно сильный, чтобы негативно повлиять на качество моделей.\n",
    "</div>\n"
   ]
  },
  {
   "cell_type": "markdown",
   "metadata": {},
   "source": [
    "### Деление данных на выборки"
   ]
  },
  {
   "cell_type": "markdown",
   "metadata": {},
   "source": [
    "Столбец `Tenure` указывает, сколько лет клиент уже является клиентом банка. Отсутствие данных в этом столбце может быть связано с тем, что человек только что стал клиентом, или что банк не собирал эту информацию. В данном случае, поскольку пропуски составляют около 10% от всех значений в столбце `Tenure`, мы можем заполнить их медианным значением. Если мы не заполним пропуски, то при обучении модели возникнет ошибка, так как многие алгоритмы машинного обучения не могут работать с пропущенными значениями.\n",
    "\n",
    "Используем медиану для заполнения пропусков в выборке."
   ]
  },
  {
   "cell_type": "code",
   "execution_count": 10,
   "metadata": {},
   "outputs": [],
   "source": [
    "median_tenure = data_copy['Tenure'].median()\n",
    "data_copy['Tenure'] = data_copy['Tenure'].fillna(median_tenure)"
   ]
  },
  {
   "cell_type": "markdown",
   "metadata": {},
   "source": [
    "Для того, чтобы построить модель для классификации пользователей и подбора подходящего тарифа, разделим исходные данные на обучающую, валидационную и тестовую выборки в пропорции 60/20/20."
   ]
  },
  {
   "cell_type": "code",
   "execution_count": 11,
   "metadata": {},
   "outputs": [],
   "source": [
    "features = data_copy.drop('Exited', axis=1)\n",
    "target = data_copy['Exited']\n",
    "\n",
    "features_train, features_valid_test, target_train, target_valid_test = train_test_split(features, target, test_size=0.4, random_state=12345)\n",
    "features_valid, features_test, target_valid, target_test = train_test_split(features_valid_test, target_valid_test, test_size=0.5, random_state=12345)"
   ]
  },
  {
   "cell_type": "markdown",
   "metadata": {},
   "source": [
    "<div class=\"alert alert-success\">\n",
    "<h2> Комментарий ревьюера <a class=\"tocSkip\"> </h2>\n",
    "\n",
    "👍 С разбиением на выборки согласен. \n",
    "</div>\n"
   ]
  },
  {
   "cell_type": "markdown",
   "metadata": {},
   "source": [
    "\n",
    "<div class=\"alert alert-block alert-danger\">\n",
    "<h2><s> Комментарий ревьюера <a class=\"tocSkip\"></h2>\n",
    "  \n",
    "<b>На доработку🤔:</b>\n",
    " \n",
    "Здесь абсолютно верный подход, но рекомендую перенести это действие выше - до разбирения на выборки. Тогда все можно будет сделать в две строки.\n",
    "\n",
    "</div>\n",
    "\n"
   ]
  },
  {
   "cell_type": "markdown",
   "metadata": {},
   "source": [
    "<div class=\"alert alert-info\">\n",
    "Читала комментарии однокурсников о том, что медиана должна быть именно из обучающей выборки, чтобы не допустить \"утечки данных\", поэтому и заполнила пропуски после разбиения на выборки. Исправила согласно вашему замечанию."
   ]
  },
  {
   "cell_type": "markdown",
   "metadata": {},
   "source": [
    "<div class=\"alert alert-success\">\n",
    "<h2> Комментарий ревьюера #2 <a class=\"tocSkip\"> </h2>\n",
    "\n",
    "👍 Есть варианты, когда пропуски предпочтительнее заполнять после разделения - например, если заполняем с помощью алгоритмов типа симпоимпутера или knnimputer. Там мы также обучаемся на тренировочной выборке и применяем импутер ко всем выборкам. Если используем агрегирующие функции, то тут сложно представить, что мы выигрываем от заполнения после разделения. Насколько я могу судить, почти всегда в таких случаях заполняют до разделения на выборки.\n",
    "    \n",
    "Но вообще соглашусь, что, наверное, стоило это отметить желтым комментарием, потому что большой ошибки в том, чтобы заполнить после разделения, нет. Как уже сказал, если заполняем до разделения, код получается компактнее.\n",
    "</div>"
   ]
  },
  {
   "cell_type": "markdown",
   "metadata": {},
   "source": [
    "Численные признаки, такие как `CreditScore`, `Age`, `Tenure`, `Balance` и `EstimatedSalary`, имеют разные масштабы и величины. Чтобы не исказить результаты моделирования, требуется масштабировать эти признаки с помощью StandardScaler."
   ]
  },
  {
   "cell_type": "code",
   "execution_count": 12,
   "metadata": {},
   "outputs": [],
   "source": [
    "scaler = StandardScaler()\n",
    "\n",
    "numeric = ['CreditScore', 'Age', 'Tenure', 'Balance', 'NumOfProducts', 'EstimatedSalary']\n",
    "\n",
    "features_train = scaler.fit_transform(features_train)\n",
    "features_valid = scaler.transform(features_valid)\n",
    "features_test = scaler.transform(features_test)"
   ]
  },
  {
   "cell_type": "markdown",
   "metadata": {},
   "source": [
    "<div class=\"alert alert-success\">\n",
    "<h2> Комментарий ревьюера <a class=\"tocSkip\"> </h2>\n",
    "\n",
    "👍 Здесь все корректно.\n",
    "</div> \n",
    "\n"
   ]
  },
  {
   "cell_type": "markdown",
   "metadata": {},
   "source": [
    "### Обучение модели"
   ]
  },
  {
   "cell_type": "markdown",
   "metadata": {},
   "source": [
    "Определим наилучшее значение метрики F1 для каждой модели: решающего дерева, случайного леса и логистической регрессии. Метрика F1 является гармоническим средним между точностью и полнотой, и показывает, как хорошо модель распознает положительный класс относительно всех классов."
   ]
  },
  {
   "cell_type": "code",
   "execution_count": 13,
   "metadata": {},
   "outputs": [
    {
     "name": "stdout",
     "output_type": "stream",
     "text": [
      "\n",
      "Best F1 Score: 0.5696969696969697, Best max_depth: 6\n"
     ]
    }
   ],
   "source": [
    "# обучим решающее дерево с разной глубиной и выберем лучшую глубину с помощью метрики F1 на валидационной выборке\n",
    "\n",
    "f1_list = []\n",
    "\n",
    "for depth in range(1, 16):\n",
    "    tree_model = DecisionTreeClassifier(random_state=12345, max_depth=depth)\n",
    "    tree_model.fit(features_train, target_train)\n",
    "    tree_predictions = tree_model.predict(features_valid)\n",
    "    f1 = f1_score(target_valid, tree_predictions)\n",
    "    f1_list.append(f1)\n",
    "    \n",
    "best_max_depth = f1_list.index(max(f1_list)) + 1\n",
    "        \n",
    "print(f\"\\nBest F1 Score: {max(f1_list)}, Best max_depth: {best_max_depth}\")"
   ]
  },
  {
   "cell_type": "markdown",
   "metadata": {},
   "source": [
    "<div class=\"alert alert-success\">\n",
    "<h2> Комментарий ревьюера <a class=\"tocSkip\"> </h2>\n",
    "\n",
    "👍 Согласен\n",
    "</div> \n"
   ]
  },
  {
   "cell_type": "markdown",
   "metadata": {},
   "source": [
    "Значение метрики F1 находится в диапазоне от 0 до 1, где 1 соответствует идеальному значению, когда модель всегда предсказывает правильный класс. Значение F1 = 0 означает, что модель не способна предсказывать правильные классы.\n",
    "\n",
    "Исходя из полученных результатов, можно сделать вывод, что наибольшее значение метрики F1 достигается при глубине дерева равной 6."
   ]
  },
  {
   "cell_type": "code",
   "execution_count": 14,
   "metadata": {},
   "outputs": [
    {
     "name": "stdout",
     "output_type": "stream",
     "text": [
      "F1 Score: 0.5696969696969697\n",
      "Confusion Matrix:\n",
      "[[1528   54]\n",
      " [ 230  188]]\n",
      "Площадь ROC-кривой: 0.8164631712023421\n"
     ]
    }
   ],
   "source": [
    "# обучаем модель с лучшими параметрами\n",
    "best_tree_model = DecisionTreeClassifier(random_state=12345, max_depth=best_max_depth)\n",
    "best_tree_model.fit(features_train, target_train)\n",
    "\n",
    "# делаем предсказания на валидационной выборке\n",
    "tree_predictions = best_tree_model.predict(features_valid)\n",
    "\n",
    "# вычисляем метрику F1 на валидационной выборке\n",
    "f1_tree = f1_score(target_valid, tree_predictions)\n",
    "\n",
    "probabilities = best_tree_model.predict_proba(features_valid)\n",
    "probabilities_one = probabilities[:, 1]\n",
    "\n",
    "# выводим метрику F1, roc auc и матрицу ошибок\n",
    "print(f\"F1 Score: {f1_tree}\")\n",
    "print(f\"Confusion Matrix:\\n{confusion_matrix(target_valid, tree_predictions)}\")\n",
    "print('Площадь ROC-кривой:', roc_auc_score(target_valid, probabilities_one))"
   ]
  },
  {
   "cell_type": "markdown",
   "metadata": {},
   "source": [
    "<div class=\"alert alert-block alert-danger\">\n",
    "<h2><s> Комментарий ревьюера <a class=\"tocSkip\"></h2>\n",
    "  \n",
    "<b>На доработку🤔:</b>\n",
    " \n",
    "Мы не имеем права трогать тестовую выборку до тестирования. На тестировании уже смотрим ранее подобранную лучшую модель. Иначе мы будем в той или иной мере подбирать лучшие параметры на тестовой выборке, а о том, как модель будет работать с реальными данными судить не сможем.\n",
    "\n",
    "</div>"
   ]
  },
  {
   "cell_type": "markdown",
   "metadata": {},
   "source": [
    "<div class=\"alert alert-info\">\n",
    "Исправлено на валидационную."
   ]
  },
  {
   "cell_type": "markdown",
   "metadata": {},
   "source": [
    "На валидационной выборке модель имеет значительное количество ложных срабатываний на лояльных клиентах, но значение roc_auc достаточно высоко."
   ]
  },
  {
   "cell_type": "code",
   "execution_count": 15,
   "metadata": {},
   "outputs": [
    {
     "name": "stdout",
     "output_type": "stream",
     "text": [
      "Best F1 Score: 0.5896656534954408, Best max_depth: 12, Best n_estimators: 90\n"
     ]
    }
   ],
   "source": [
    "# обучим случайный лес с разными значениями max_depth и n_estimators\n",
    "# и выберем лучшие значения с помощью метрики F1 на валидационной выборке\n",
    "\n",
    "f1_best = 0\n",
    "best_depth = 0\n",
    "best_est = 0\n",
    "\n",
    "for depth in range(1, 13):\n",
    "    for est in range(10, 101, 10):\n",
    "        rf_model = RandomForestClassifier(random_state=12345, n_estimators=est, max_depth=depth)\n",
    "        rf_model.fit(features_train, target_train)\n",
    "        rf_predictions = rf_model.predict(features_valid)\n",
    "        f1 = f1_score(target_valid, rf_predictions)\n",
    "        if f1 > f1_best:\n",
    "            f1_best = f1\n",
    "            best_depth = depth\n",
    "            best_est = est\n",
    "            \n",
    "print(f\"Best F1 Score: {f1_best}, Best max_depth: {best_depth}, Best n_estimators: {best_est}\")"
   ]
  },
  {
   "cell_type": "markdown",
   "metadata": {},
   "source": [
    "<div class=\"alert alert-success\">\n",
    "<h2> Комментарий ревьюера <a class=\"tocSkip\"> </h2>\n",
    "\n",
    "👍 Согласен, все корректно.\n",
    "</div> "
   ]
  },
  {
   "cell_type": "markdown",
   "metadata": {},
   "source": [
    "Полученный результат показывает, что модель случайного леса с глубиной деревьев равной 12 и количеством деревьев (оценщиков) равным 90 дает наилучшую F1-оценку на валидационной выборке."
   ]
  },
  {
   "cell_type": "code",
   "execution_count": 16,
   "metadata": {},
   "outputs": [
    {
     "name": "stdout",
     "output_type": "stream",
     "text": [
      "F1 Score: 0.5896656534954408\n",
      "Confusion Matrix:\n",
      "[[1536   46]\n",
      " [ 224  194]]\n",
      "Площадь ROC-кривой: 0.8483976433440803\n"
     ]
    }
   ],
   "source": [
    "rf_model = RandomForestClassifier(random_state=12345, n_estimators=best_est, max_depth=best_depth)\n",
    "rf_model.fit(features_train, target_train)\n",
    "\n",
    "rf_predictions = rf_model.predict(features_valid)\n",
    "f1_forest = f1_score(target_valid, rf_predictions)\n",
    "\n",
    "probabilities = rf_model.predict_proba(features_valid)\n",
    "probabilities_one = probabilities[:, 1]\n",
    "\n",
    "print(f\"F1 Score: {f1_forest}\")\n",
    "print(f\"Confusion Matrix:\\n{confusion_matrix(target_valid, rf_predictions)}\")\n",
    "print('Площадь ROC-кривой:', roc_auc_score(target_valid, probabilities_one))"
   ]
  },
  {
   "cell_type": "markdown",
   "metadata": {},
   "source": [
    "<div class=\"alert alert-warning\">\n",
    "<h2> Комментарий ревьюера <a class=\"tocSkip\"> </h2>\n",
    "    \n",
    "<b>Некоторые замечания и рекомендации💡:</b> \n",
    "\n",
    "Проверку на тестовой выборке нужно будет убрать.\n",
    "       \n",
    "</div>\n"
   ]
  },
  {
   "cell_type": "markdown",
   "metadata": {},
   "source": [
    "<div class=\"alert alert-info\">\n",
    "Исправлено на валидационную."
   ]
  },
  {
   "cell_type": "markdown",
   "metadata": {},
   "source": [
    "После обучения модели случайного леса на данных, учитывая дисбаланс классов, мы получили результат на валидационной выборке с F1 0.59 и значение roc_auc 0.85. Невысокое значение метрики F1 объяснимо тем, что модель была обучена без учета дисбаланса. Мы также видим наличие ложно-положительных и ложно-отрицательных ответов в confusion matrix, что говорит о несовершенстве модели и необходимости дальнейшего улучшения."
   ]
  },
  {
   "cell_type": "code",
   "execution_count": 17,
   "metadata": {},
   "outputs": [
    {
     "name": "stdout",
     "output_type": "stream",
     "text": [
      "Best F1 Score: 0.33389544688026984, Best C: 5, Best Solver: newton-cg\n"
     ]
    }
   ],
   "source": [
    "# обучим модель логистической регрессии с разными значениями параметров С и solver\n",
    "# и выберем лучшие значения с помощью метрики F1 на валидационной выборке\n",
    "\n",
    "f1_best = 0\n",
    "best_C = 0\n",
    "best_solver = ''\n",
    "\n",
    "for c in [0.1, 0.5, 1, 5, 10, 30, 100]:\n",
    "    for solver in ['newton-cg', 'lbfgs', 'liblinear', 'sag', 'saga']:\n",
    "        lr_model = LogisticRegression(random_state=12345, C=c, solver=solver)\n",
    "        lr_model.fit(features_train, target_train)\n",
    "        lr_predictions = lr_model.predict(features_valid)\n",
    "        f1 = f1_score(target_valid, lr_predictions)\n",
    "        if f1 > f1_best:\n",
    "            f1_best = f1\n",
    "            best_C = c\n",
    "            best_solver = solver\n",
    "            \n",
    "print(f\"Best F1 Score: {f1_best}, Best C: {best_C}, Best Solver: {best_solver}\")"
   ]
  },
  {
   "cell_type": "markdown",
   "metadata": {},
   "source": [
    "Исходя из полученных результатов, лучшее значение F1-меры, равное 0.334, было достигнуто при параметрах C=5 и solver='newton-cg'."
   ]
  },
  {
   "cell_type": "code",
   "execution_count": 18,
   "metadata": {},
   "outputs": [
    {
     "name": "stdout",
     "output_type": "stream",
     "text": [
      "F1 Score: 0.33389544688026984\n",
      "Confusion Matrix:\n",
      "[[1506   76]\n",
      " [ 319   99]]\n",
      "Площадь ROC-кривой: 0.758610625517938\n"
     ]
    }
   ],
   "source": [
    "lr_model = LogisticRegression(random_state=12345, C=best_C, solver=best_solver)\n",
    "lr_model.fit(features_train, target_train)\n",
    "\n",
    "lr_predictions = lr_model.predict(features_valid)\n",
    "f1_regress = f1_score(target_valid, lr_predictions)\n",
    "\n",
    "probabilities = lr_model.predict_proba(features_valid)\n",
    "probabilities_one = probabilities[:, 1]\n",
    "\n",
    "print(f\"F1 Score: {f1_regress}\")\n",
    "print(f\"Confusion Matrix:\\n{confusion_matrix(target_valid, lr_predictions)}\")\n",
    "print('Площадь ROC-кривой:', roc_auc_score(target_valid, probabilities_one))"
   ]
  },
  {
   "cell_type": "markdown",
   "metadata": {},
   "source": [
    "<div class=\"alert alert-block alert-danger\">\n",
    "<h2><s> Комментарий ревьюера <a class=\"tocSkip\"></h2>\n",
    "  \n",
    "<b>На доработку🤔:</b>\n",
    "    \n",
    "По проекту мы должны рассчитать также и roc_auc.\n",
    " \n",
    "roc_auc нужно считать по вероятностям классов. \n",
    "    \n",
    "`probabilities = model.predict_proba(features)\n",
    "probabilities_one = probabilities[:, 1]\n",
    "print('Площадь ROC-кривой:', roc_auc_score(target, probabilities_one))`\n",
    "\n",
    "</div>\n"
   ]
  },
  {
   "cell_type": "markdown",
   "metadata": {},
   "source": [
    "<div class=\"alert alert-info\">\n",
    "roc_auc рассчитан для каждой модели."
   ]
  },
  {
   "cell_type": "markdown",
   "metadata": {},
   "source": [
    "Модель логистической регрессии с наилучшими гиперпараметрами показала F1-меру равную 0.334 на валидационной выборке. Это значительно хуже, чем результаты, полученные с помощью моделей случайного леса и дерева решений. При этом стоит обратить внимание на матрицу ошибок: мы видим, что модель склонна к ложным отрицаниям (False Negatives), то есть ошибочно относит положительные ответы к отрицательному классу. Это может свидетельствовать о необходимости улучшения баланса классов. Значение roc_auc у модели логистической регрессии тоже ниже, чем у других."
   ]
  },
  {
   "cell_type": "markdown",
   "metadata": {},
   "source": [
    "Мы рассмотрели 3 модели машинного обучения - дерево решений, случайный лес и логистическую регрессию - для решения задачи прогнозирования оттока клиентов из банка. Лучшие результаты были получены с помощью дерева решений с максимальной глубиной 6. Эта модель на тестовой выборке показала F1-меру 0.534, значение roc_auc 0.85 и матрицу ошибок, где 1522 истинно-отрицательных и 174 ложно-отрицательных предсказаний, что является наилучшим результатом по сравнению с другими моделями. Однако, в целом, все модели показали достаточно низкий уровень предсказательной способности. Причиной этого может быть дисбаланс классов в целевом признаке."
   ]
  },
  {
   "cell_type": "markdown",
   "metadata": {},
   "source": [
    "<div class=\"alert alert-success\">\n",
    "<h2> Комментарий ревьюера <a class=\"tocSkip\"> </h2>\n",
    " \n",
    "👍 Отличный вывод и хорошая интерпретация матрицы ошибок.\n",
    "</div>  \n",
    " "
   ]
  },
  {
   "cell_type": "markdown",
   "metadata": {},
   "source": [
    "## Борьба с дисбалансом"
   ]
  },
  {
   "cell_type": "markdown",
   "metadata": {},
   "source": [
    "Для улучшения качества модели следует учесть дисбаланс классов. В нашем случае классы несбалансированы: объектов класса 1 меньше, чем объектов класса 0. Это может привести к тому, что модель будет предсказывать чаще класс 0, потому что его объектов больше. Чтобы избежать такой ситуации, попробуем использовать различные техники балансировки классов на следующих моделях: решающее дерево, случайный лес и логистической регрессии. После обучения мы сравним их по метрике F1-score и выберем лучшую модель."
   ]
  },
  {
   "cell_type": "markdown",
   "metadata": {},
   "source": [
    "Для учета дисбаланса классов можно использовать несколько методов:\n",
    "\n",
    "- изменение порога классификации\n",
    "- взвешивание классов\n",
    "- увеличение выборки минорного класса (upsampling)\n",
    "- уменьшение выборки мажорного класса (downsampling)\n",
    "- комбинация методов up- и downsampling (balanced subsampling)"
   ]
  },
  {
   "cell_type": "markdown",
   "metadata": {},
   "source": [
    "### Взвешивание классов"
   ]
  },
  {
   "cell_type": "code",
   "execution_count": 19,
   "metadata": {},
   "outputs": [
    {
     "name": "stdout",
     "output_type": "stream",
     "text": [
      "\n",
      "Best F1 Score: 0.5963791267305644, Best max_depth: 5\n"
     ]
    }
   ],
   "source": [
    "# взвешивание классов у дерева решений\n",
    "f1_list = []\n",
    "\n",
    "for depth in range(1, 16):\n",
    "    tree_model = DecisionTreeClassifier(random_state=12345, max_depth=depth, class_weight='balanced')\n",
    "    tree_model.fit(features_train, target_train)\n",
    "    tree_predictions = tree_model.predict(features_valid)\n",
    "    f1 = f1_score(target_valid, tree_predictions)\n",
    "    f1_list.append(f1)\n",
    "    \n",
    "best_max_depth = f1_list.index(max(f1_list)) + 1\n",
    "        \n",
    "print(f\"\\nBest F1 Score: {max(f1_list)}, Best max_depth: {best_max_depth}\")"
   ]
  },
  {
   "cell_type": "code",
   "execution_count": 20,
   "metadata": {},
   "outputs": [
    {
     "name": "stdout",
     "output_type": "stream",
     "text": [
      "Best F1 Score: 0.6298850574712643, Best max_depth: 9, Best n_estimators: 90\n"
     ]
    }
   ],
   "source": [
    "# взвешивание классов случайный лес\n",
    "\n",
    "f1_best = 0\n",
    "best_depth = 0\n",
    "best_est = 0\n",
    "\n",
    "for depth in range(1, 13):\n",
    "    for est in range(10, 101, 10):\n",
    "        rf_model = RandomForestClassifier(random_state=12345, n_estimators=est, max_depth=depth, class_weight='balanced')\n",
    "        rf_model.fit(features_train, target_train)\n",
    "        rf_predictions = rf_model.predict(features_valid)\n",
    "        f1 = f1_score(target_valid, rf_predictions)\n",
    "        if f1 > f1_best:\n",
    "            f1_best = f1\n",
    "            best_depth = depth\n",
    "            best_est = est\n",
    "            \n",
    "print(f\"Best F1 Score: {f1_best}, Best max_depth: {best_depth}, Best n_estimators: {best_est}\")"
   ]
  },
  {
   "cell_type": "code",
   "execution_count": 21,
   "metadata": {},
   "outputs": [
    {
     "name": "stdout",
     "output_type": "stream",
     "text": [
      "Best F1 Score: 0.4897260273972603, Best C: 0.1, Best Solver: newton-cg\n"
     ]
    }
   ],
   "source": [
    "# взвешивание классов модель логистической регрессии\n",
    "\n",
    "f1_best = 0\n",
    "best_C = 0\n",
    "best_solver = ''\n",
    "\n",
    "for c in [0.1, 0.5, 1, 5, 10, 30, 100]:\n",
    "    for solver in ['newton-cg', 'lbfgs', 'liblinear', 'sag', 'saga']:\n",
    "        lr_model = LogisticRegression(random_state=12345, C=c, solver=solver, class_weight='balanced')\n",
    "        lr_model.fit(features_train, target_train)\n",
    "        lr_predictions = lr_model.predict(features_valid)\n",
    "        f1 = f1_score(target_valid, lr_predictions)\n",
    "        if f1 > f1_best:\n",
    "            f1_best = f1\n",
    "            best_C = c\n",
    "            best_solver = solver\n",
    "            \n",
    "print(f\"Best F1 Score: {f1_best}, Best C: {best_C}, Best Solver: {best_solver}\")"
   ]
  },
  {
   "cell_type": "markdown",
   "metadata": {},
   "source": [
    "### Увеличение выборки"
   ]
  },
  {
   "cell_type": "code",
   "execution_count": 22,
   "metadata": {},
   "outputs": [],
   "source": [
    "# функция для увеличения выборки\n",
    "def upsample(features, target, repeat):\n",
    "    features_zeros = features[target == 0]\n",
    "    features_ones = features[target == 1]\n",
    "    target_zeros = target[target == 0]\n",
    "    target_ones = target[target == 1]\n",
    "\n",
    "    features_upsampled = pd.concat([features_zeros] + [features_ones] * repeat)\n",
    "    target_upsampled = pd.concat([target_zeros] + [target_ones] * repeat)\n",
    "    \n",
    "    features_upsampled, target_upsampled = shuffle(\n",
    "        features_upsampled, target_upsampled, random_state=12345)\n",
    "    \n",
    "    return features_upsampled, target_upsampled\n",
    "\n",
    "features_train_df = pd.DataFrame(features_train, columns=features.columns)\n",
    "target_train_series = pd.Series(target_train).reset_index(drop=True)\n",
    "features_upsampled, target_upsampled = upsample(features_train_df, target_train_series, 4)"
   ]
  },
  {
   "cell_type": "markdown",
   "metadata": {},
   "source": [
    "<div class=\"alert alert-block alert-danger\" style=\"border-radius: 15px; box-shadow: 4px 4px 4px; border: 1px solid \">\n",
    "<h2><s> Комментарий ревьюера #2 <a class=\"tocSkip\"></h2>\n",
    "  \n",
    "<b>На доработку🤔:</b>\n",
    " \n",
    "Мы используем апсемплинг и даунсемплинг как два разных метода. Поэтому в каждом случае нужно довести баланс классов до 1:1. У нас дисбаланс 1:4, соответственно, здесь нужно будет умножить не на 2, а на 4 (подать такой коэффициент в функцию).\n",
    "    \n",
    "\n",
    "</div>\n"
   ]
  },
  {
   "cell_type": "markdown",
   "metadata": {},
   "source": [
    "<div class=\"alert alert-info\">\n",
    "Спасибо за разъяснение. Сначала так и сделала, а потом попробовала коэффициент 2, который дал значение f1 чуть выше и оставила его ) Исправила."
   ]
  },
  {
   "cell_type": "markdown",
   "metadata": {},
   "source": [
    "<div class=\"alert alert-success\">\n",
    "<h2> Комментарий ревьюера #3 <a class=\"tocSkip\"> </h2>\n",
    "\n",
    "👍 Здесь дело может быть в тщательности подбора гиперпараметров и в случайности. Иногда бывает, что качество ухудшается, но если модель работает с данными хорошо и гиперпараметры мы подбираем максимально тщательно, то идеальный баланс будет стремиться к 1:1. Ну и аналитически нам важно попеременно показывать модели то один класс, то другой, тогда она будет лучшим образом отделять один от другого.\n",
    "</div>\n",
    " "
   ]
  },
  {
   "cell_type": "markdown",
   "metadata": {},
   "source": [
    " <div class=\"alert alert-success\">\n",
    "<h2> Комментарий ревьюера #2 <a class=\"tocSkip\"> </h2>\n",
    "\n",
    "👍 Отлично, что используешь рукописную функцию, но здесь можно все оптимизировать, используя <a href=\"https://imbalanced-learn.org/stable/references/generated/imblearn.over_sampling.SMOTE.html\">SMOTE</a> для увеличения выборки и <a href=\"https://imbalanced-learn.org/stable/references/generated/imblearn.under_sampling.RandomUnderSampler.html\">RandomUnderSampler</a>  для уменьшения. \n",
    "    \n",
    "Апсемплинг делается очень просто:\n",
    "    \n",
    "`oversample = SMOTE(random_state=RANDOM_STATE)`\n",
    "\n",
    "`features_train_up, target_train_up = oversample.fit_resample(features_train_enc, target_train)`\n",
    "    \n",
    "*предварительно импотрировав `from imblearn.over_sampling import SMOTE`\n",
    "\n",
    "**Чтобы импортировать imblearn его сначала требуется проинсталлировать. через `!pip install imblearn`\n",
    "    \n",
    "</div>\n",
    "\n"
   ]
  },
  {
   "cell_type": "markdown",
   "metadata": {},
   "source": [
    "<div class=\"alert alert-info\">\n",
    "Так я сначала и пыталась сделать, но Юпитер постоянно выдавал ошибки, не хотел устанавливать imblearn. Я с этим надолго зависла, поэтому сделала как было описано в тренажере."
   ]
  },
  {
   "cell_type": "code",
   "execution_count": 23,
   "metadata": {},
   "outputs": [
    {
     "name": "stdout",
     "output_type": "stream",
     "text": [
      "\n",
      "Best F1 Score: 0.5963791267305644, Best max_depth: 5\n"
     ]
    }
   ],
   "source": [
    "# upsampling дерево решений\n",
    "\n",
    "f1_list = []\n",
    "\n",
    "for depth in range(1, 16):\n",
    "    tree_model = DecisionTreeClassifier(random_state=12345, max_depth=depth)\n",
    "    tree_model.fit(features_upsampled, target_upsampled)\n",
    "    predicted_valid = tree_model.predict(features_valid)\n",
    "    f1 = f1_score(target_valid, predicted_valid)\n",
    "    f1_list.append(f1)\n",
    "    \n",
    "best_max_depth = f1_list.index(max(f1_list)) + 1\n",
    "        \n",
    "print(f\"\\nBest F1 Score: {max(f1_list)}, Best max_depth: {best_max_depth}\")"
   ]
  },
  {
   "cell_type": "code",
   "execution_count": 24,
   "metadata": {},
   "outputs": [
    {
     "name": "stdout",
     "output_type": "stream",
     "text": [
      "Best F1 Score: 0.6291179596174282, Best max_depth: 9, Best n_estimators: 70\n"
     ]
    }
   ],
   "source": [
    "# upsampling случайный лес\n",
    "\n",
    "f1_best = 0\n",
    "best_depth = 0\n",
    "best_est = 0\n",
    "\n",
    "for depth in range(1, 13):\n",
    "    for est in range(10, 101, 10):\n",
    "        rf_model = RandomForestClassifier(random_state=12345, n_estimators=est, max_depth=depth)\n",
    "        rf_model.fit(features_upsampled, target_upsampled)\n",
    "        rf_predictions = rf_model.predict(features_valid)\n",
    "        f1 = f1_score(target_valid, rf_predictions)\n",
    "        if f1 > f1_best:\n",
    "            f1_best = f1\n",
    "            best_depth = depth\n",
    "            best_est = est\n",
    "            \n",
    "print(f\"Best F1 Score: {f1_best}, Best max_depth: {best_depth}, Best n_estimators: {best_est}\")"
   ]
  },
  {
   "cell_type": "code",
   "execution_count": 25,
   "metadata": {},
   "outputs": [
    {
     "name": "stdout",
     "output_type": "stream",
     "text": [
      "Best F1 Score: 0.4888507718696398, Best C: 0.1, Best Solver: newton-cg\n"
     ]
    }
   ],
   "source": [
    "# upsampling модель логистической регрессии\n",
    "\n",
    "f1_best = 0\n",
    "best_C = 0\n",
    "best_solver = ''\n",
    "\n",
    "for c in [0.1, 0.5, 1, 5, 10, 30, 100]:\n",
    "    for solver in ['newton-cg', 'lbfgs', 'liblinear', 'sag', 'saga']:\n",
    "        lr_model = LogisticRegression(random_state=12345, C=c, solver=solver)\n",
    "        lr_model.fit(features_upsampled, target_upsampled)\n",
    "        lr_predictions = lr_model.predict(features_valid)\n",
    "        f1 = f1_score(target_valid, lr_predictions)\n",
    "        if f1 > f1_best:\n",
    "            f1_best = f1\n",
    "            best_C = c\n",
    "            best_solver = solver\n",
    "            \n",
    "print(f\"Best F1 Score: {f1_best}, Best C: {best_C}, Best Solver: {best_solver}\")"
   ]
  },
  {
   "cell_type": "markdown",
   "metadata": {},
   "source": [
    "### Уменьшение выборки"
   ]
  },
  {
   "cell_type": "code",
   "execution_count": 26,
   "metadata": {},
   "outputs": [],
   "source": [
    "# функция для уменьшения выборки\n",
    "def downsample(features, target, fraction):\n",
    "    features_zeros = features[target == 0]\n",
    "    features_ones = features[target == 1]\n",
    "    target_zeros = target[target == 0]\n",
    "    target_ones = target[target == 1]\n",
    "\n",
    "    features_downsampled = pd.concat(\n",
    "        [features_zeros.sample(frac=fraction, random_state=12345)] + [features_ones])\n",
    "    target_downsampled = pd.concat(\n",
    "        [target_zeros.sample(frac=fraction, random_state=12345)] + [target_ones])\n",
    "    \n",
    "    features_downsampled, target_downsampled = shuffle(\n",
    "        features_downsampled, target_downsampled, random_state=12345)\n",
    "    \n",
    "    return features_downsampled, target_downsampled\n",
    "\n",
    "features_downsampled, target_downsampled = downsample(features_train_df, target_train_series, 0.25)"
   ]
  },
  {
   "cell_type": "code",
   "execution_count": 27,
   "metadata": {},
   "outputs": [
    {
     "name": "stdout",
     "output_type": "stream",
     "text": [
      "\n",
      "Best F1 Score: 0.5943204868154158, Best max_depth: 5\n"
     ]
    }
   ],
   "source": [
    "# downsampling дерево решений\n",
    "f1_list = []\n",
    "\n",
    "for depth in range(1, 16):\n",
    "    tree_model = DecisionTreeClassifier(random_state=12345, max_depth=depth)\n",
    "    tree_model.fit(features_downsampled, target_downsampled)\n",
    "    predicted_valid = tree_model.predict(features_valid)\n",
    "    f1 = f1_score(target_valid, predicted_valid)\n",
    "    f1_list.append(f1)\n",
    "    \n",
    "best_max_depth = f1_list.index(max(f1_list)) + 1\n",
    "        \n",
    "print(f\"\\nBest F1 Score: {max(f1_list)}, Best max_depth: {best_max_depth}\")"
   ]
  },
  {
   "cell_type": "code",
   "execution_count": 28,
   "metadata": {},
   "outputs": [
    {
     "name": "stdout",
     "output_type": "stream",
     "text": [
      "Best F1 Score: 0.6092184368737475, Best max_depth: 4, Best n_estimators: 10\n"
     ]
    }
   ],
   "source": [
    "# downsampling случайный лес\n",
    "\n",
    "f1_best = 0\n",
    "best_depth = 0\n",
    "best_est = 0\n",
    "\n",
    "for depth in range(1, 13):\n",
    "    for est in range(10, 101, 10):\n",
    "        rf_model = RandomForestClassifier(random_state=12345, n_estimators=est, max_depth=depth)\n",
    "        rf_model.fit(features_downsampled, target_downsampled)\n",
    "        rf_predictions = rf_model.predict(features_valid)\n",
    "        f1 = f1_score(target_valid, rf_predictions)\n",
    "        if f1 > f1_best:\n",
    "            f1_best = f1\n",
    "            best_depth = depth\n",
    "            best_est = est\n",
    "            \n",
    "print(f\"Best F1 Score: {f1_best}, Best max_depth: {best_depth}, Best n_estimators: {best_est}\")"
   ]
  },
  {
   "cell_type": "code",
   "execution_count": 29,
   "metadata": {},
   "outputs": [
    {
     "name": "stdout",
     "output_type": "stream",
     "text": [
      "Best F1 Score: 0.4875536480686695, Best C: 0.1, Best Solver: liblinear\n"
     ]
    }
   ],
   "source": [
    "# downsampling модель логистической регрессии\n",
    "\n",
    "f1_best = 0\n",
    "best_C = 0\n",
    "best_solver = ''\n",
    "\n",
    "for c in [0.1, 0.5, 1, 5, 10, 30, 100]:\n",
    "    for solver in ['newton-cg', 'lbfgs', 'liblinear', 'sag', 'saga']:\n",
    "        lr_model = LogisticRegression(random_state=12345, C=c, solver=solver)\n",
    "        lr_model.fit(features_downsampled, target_downsampled)\n",
    "        lr_predictions = lr_model.predict(features_valid)\n",
    "        f1 = f1_score(target_valid, lr_predictions)\n",
    "        if f1 > f1_best:\n",
    "            f1_best = f1\n",
    "            best_C = c\n",
    "            best_solver = solver\n",
    "            \n",
    "print(f\"Best F1 Score: {f1_best}, Best C: {best_C}, Best Solver: {best_solver}\")"
   ]
  },
  {
   "cell_type": "markdown",
   "metadata": {},
   "source": [
    "<div class=\"alert alert-block alert-danger\">\n",
    "<h2><s> Комментарий ревьюера <a class=\"tocSkip\"></h2>\n",
    "  \n",
    "<b>На доработку🤔:</b>\n",
    " \n",
    "Здесь изменились вводные  - теперь используем class_weight='balanced'. Необходимо заново обучать модели и заново находить лучшие гиперпараметры при пороге в 0.5. И уже затем можно подбирать порог.\n",
    "    \n",
    "В принципе, подбор порога − вещь полезная. Однако если мы здесь работаем над качеством модели, то рекомендую максимизировать f1 при пороге в 0.5. Вплоть до тестирования. Изменяя порог мы неминуемо будем терять либо в precision, либо в recall (либо чаще будем допускать ложноположительные, либо ложноотрицательные значения (ошибки первого и второго ряда). На данном этапе мы не знаем, что для нас важнее.\n",
    "    \n",
    "Вполне возможно, что подбирать порог стоит уже получив информацию от маркетологов, чем мы можем пожертвовать в задаче (долей выявленных клиентов или тем обстоятельством, что придется раздавать бонусы тем клиентам, которые и так лояльны).\n",
    "\n",
    "</div>"
   ]
  },
  {
   "cell_type": "markdown",
   "metadata": {},
   "source": [
    " \n",
    "<div class=\"alert alert-warning\">\n",
    "<h2> Комментарий ревьюера <a class=\"tocSkip\"> </h2>\n",
    "    \n",
    "<b>Некоторые замечания и рекомендации💡:</b> \n",
    "\n",
    "Здесь также нужно будет подобрать гиперпараметры.\n",
    "       \n",
    "</div>\n",
    "\n"
   ]
  },
  {
   "cell_type": "markdown",
   "metadata": {},
   "source": [
    "<div class=\"alert alert-info\">\n",
    "Убрала подбор порогов, перебрала параметры."
   ]
  },
  {
   "cell_type": "markdown",
   "metadata": {},
   "source": [
    "Значение метрики F1 стало существенно выше, чем до балансировки классов. Лучшая модель - случайный лес с апскейлингом, с глубиной деревьев равной 9 и количеством деревьев (оценщиков) равным 70.\n",
    "\n",
    "Чтобы выявить, как сильно наши модели отличаются от случайной, посчитаем площадь под ROC-кривой — AUC-ROC и построим ROC-кривую."
   ]
  },
  {
   "cell_type": "code",
   "execution_count": 30,
   "metadata": {},
   "outputs": [
    {
     "data": {
      "image/png": "[encoded data removed]",
      "text/plain": [
       "<Figure size 432x288 with 1 Axes>"
      ]
     },
     "metadata": {
      "needs_background": "light"
     },
     "output_type": "display_data"
    }
   ],
   "source": [
    "# получаем вероятности класса 1 для валидационной выборки для всех моделей\n",
    "probabilities_lr = lr_model.predict_proba(features_valid)[:, 1]\n",
    "probabilities_dt = tree_model.predict_proba(features_valid)[:, 1]\n",
    "probabilities_rf = rf_model.predict_proba(features_valid)[:, 1]\n",
    "\n",
    "# вычисляем значения false positive rate, true positive rate и пороги для всех моделей\n",
    "fpr_lr, tpr_lr, thresholds_lr = roc_curve(target_valid, probabilities_lr)\n",
    "fpr_dt, tpr_dt, thresholds_dt = roc_curve(target_valid, probabilities_dt)\n",
    "fpr_rf, tpr_rf, thresholds_rf = roc_curve(target_valid, probabilities_rf)\n",
    "\n",
    "# вычисляем значения AUC-ROC для всех моделей\n",
    "auc_lr = roc_auc_score(target_valid, probabilities_lr)\n",
    "auc_dt = roc_auc_score(target_valid, probabilities_dt)\n",
    "auc_rf = roc_auc_score(target_valid, probabilities_rf)\n",
    "\n",
    "# строим ROC-кривые для всех моделей\n",
    "plt.figure()\n",
    "plt.plot(fpr_lr, tpr_lr, label=f'Логистическая регрессия (AUC-ROC = {auc_lr:.3f})')\n",
    "plt.plot(fpr_dt, tpr_dt, label=f'Дерево решений (AUC-ROC = {auc_dt:.3f})')\n",
    "plt.plot(fpr_rf, tpr_rf, label=f'Случайный лес (AUC-ROC = {auc_rf:.3f})')\n",
    "plt.plot([0, 1], [0, 1], linestyle='--', color='gray')\n",
    "plt.xlim([0, 1])\n",
    "plt.ylim([0, 1])\n",
    "plt.xlabel('False Positive Rate')\n",
    "plt.ylabel('True Positive Rate')\n",
    "plt.title('ROC-кривая')\n",
    "plt.legend()\n",
    "plt.show()"
   ]
  },
  {
   "cell_type": "markdown",
   "metadata": {},
   "source": [
    "<div class=\"alert alert-success\">\n",
    "<h2> Комментарий ревьюера <a class=\"tocSkip\"> </h2>\n",
    "\n",
    "👍 Отлично\n",
    "</div>\n"
   ]
  },
  {
   "cell_type": "markdown",
   "metadata": {},
   "source": [
    "Исходя из результатов, полученных при обучении трех моделей (дерево решений, случайный лес, логистическая регрессия), лучшей оказалась модель случайного леса с наилучшим значением метрики F1 равной 0.629 и AUC-ROC равной 0.846.\n",
    "\n",
    "В ходе исследования была изучена метрика AUC-ROC, которая позволяет оценить качество бинарной классификации. AUC-ROC представляет собой площадь под кривой ROC (Receiver Operating Characteristic), которая показывает зависимость между долей верных положительных классификаций (True Positive Rate) и долей ложных положительных классификаций (False Positive Rate) при изменении порога классификации.\n",
    "\n",
    "В целом, исследование показало, что при работе с дисбалансом классов необходимо использовать специальные методы, например class_weight увеличение выборки, чтобы достичь наилучшего результата модели."
   ]
  },
  {
   "cell_type": "markdown",
   "metadata": {},
   "source": [
    "<div class=\"alert alert-block alert-danger\">\n",
    "<h2><s> Комментарий ревьюера <a class=\"tocSkip\"></h2>\n",
    "  \n",
    "<b>На доработку🤔:</b>\n",
    " \n",
    "По проекту нам важно попробовать минимум две техники борьбы с дисбалансом классов. Подбор порога можно назвать таковой техникой условно. Предлагаю попробовать также апсемплинг (можно взять и даунсемплинг). Посмотреть с ним все модели, подобрать заново гиперпараметры.\n",
    "\n",
    "</div>\n"
   ]
  },
  {
   "cell_type": "markdown",
   "metadata": {},
   "source": [
    "<div class=\"alert alert-info\">\n",
    "Апсемплинг и даунсемплинг с перебором параметров добавлен."
   ]
  },
  {
   "cell_type": "markdown",
   "metadata": {},
   "source": [
    "<div class=\"alert alert-success\">\n",
    "<h2> Комментарий ревьюера #2 <a class=\"tocSkip\"> </h2>\n",
    "\n",
    "👍 Теперь все отлично с полнотой исследования.\n",
    "</div>\n",
    "\n"
   ]
  },
  {
   "cell_type": "markdown",
   "metadata": {},
   "source": [
    "<div class=\"alert alert-warning\">\n",
    "<h2> Комментарий ревьюера <a class=\"tocSkip\"> </h2>\n",
    "    \n",
    "<b>Некоторые замечания и рекомендации💡:</b> \n",
    " \n",
    "Здесь важно указать гиперпараметры и метод борьбы с дисбалансом, которые мы используем для выбранной модели в тестировании. Ниже мы определяем их через переменные, поэтому сложно будет искать их по всему проекту.\n",
    "\n",
    "</div>\n",
    "\n"
   ]
  },
  {
   "cell_type": "markdown",
   "metadata": {},
   "source": [
    "## Тестирование модели"
   ]
  },
  {
   "cell_type": "markdown",
   "metadata": {},
   "source": [
    "Построим модель с оптимальными значениями, выявленными в предыдущих пунктах исследования и проверим её на тестовой выборке. "
   ]
  },
  {
   "cell_type": "code",
   "execution_count": 31,
   "metadata": {},
   "outputs": [
    {
     "data": {
      "image/png": "[encoded data removed]",
      "text/plain": [
       "<Figure size 432x288 with 1 Axes>"
      ]
     },
     "metadata": {
      "needs_background": "light"
     },
     "output_type": "display_data"
    },
    {
     "name": "stdout",
     "output_type": "stream",
     "text": [
      "F1 Score: 0.6077003121748179\n",
      "AUC-ROC Score: 0.7671574689950545\n"
     ]
    }
   ],
   "source": [
    "rf_model = RandomForestClassifier(random_state=12345, n_estimators=70, max_depth=9)\n",
    "rf_model.fit(features_upsampled, target_upsampled)\n",
    "\n",
    "rf_predictions = rf_model.predict(features_test)\n",
    "\n",
    "f1 = f1_score(target_test, rf_predictions)\n",
    "roc_auc = roc_auc_score(target_test, rf_predictions)\n",
    "\n",
    "# вычисляем значения FPR, TPR и порогов для построения ROC-кривой\n",
    "fpr, tpr, thresholds = roc_curve(target_test, rf_predictions)\n",
    "\n",
    "# выводим график ROC-кривой\n",
    "plt.plot(fpr, tpr)\n",
    "plt.plot([0, 1], [0, 1], linestyle='--')\n",
    "plt.xlim([0, 1])\n",
    "plt.ylim([0, 1])\n",
    "plt.xlabel('False Positive Rate')\n",
    "plt.ylabel('True Positive Rate')\n",
    "plt.title('ROC curve')\n",
    "plt.show()\n",
    "\n",
    "print(f\"F1 Score: {f1}\")\n",
    "print(f\"AUC-ROC Score: {roc_auc}\")"
   ]
  },
  {
   "cell_type": "code",
   "execution_count": 32,
   "metadata": {},
   "outputs": [
    {
     "data": {
      "text/plain": [
       "Text(0.5, 1.0, 'Confusion matrix')"
      ]
     },
     "execution_count": 32,
     "metadata": {},
     "output_type": "execute_result"
    },
    {
     "data": {
      "image/png": "[encoded data removed]",
      "text/plain": [
       "<Figure size 432x288 with 2 Axes>"
      ]
     },
     "metadata": {
      "needs_background": "light"
     },
     "output_type": "display_data"
    }
   ],
   "source": [
    "sns.heatmap(confusion_matrix(target_test, rf_predictions),annot=True,fmt='3.0f',cmap=\"summer\")\n",
    "plt.title('Confusion matrix')"
   ]
  },
  {
   "cell_type": "markdown",
   "metadata": {},
   "source": [
    "<div class=\"alert alert-success\">\n",
    "<h2> Комментарий ревьюера <a class=\"tocSkip\"> </h2>\n",
    " \n",
    "👍 Цветовая палитра \"summer\" выглядит оптимистично, как и результаты нашей модели.\n",
    "</div>  \n",
    " "
   ]
  },
  {
   "cell_type": "markdown",
   "metadata": {},
   "source": [
    "### Вывод\n",
    "\n",
    "Проверка на тестовой выборке показала хорошие результаты - F1-меру равную 0.608 и AUC-ROC 0.767. \n",
    "\n",
    "Таким образом, мы можем заключить, что для прогнозирования оттока клиентов из банка, наилучшей моделью является модель случайного леса. В дальнейшем, для повышения точности модели, можно было бы провести работу по дополнительной предобработке данных, а также рассмотреть возможность использования других алгоритмов машинного обучения."
   ]
  },
  {
   "cell_type": "markdown",
   "metadata": {},
   "source": [
    "<div class=\"alert alert-warning\">\n",
    "<h2> Комментарий ревьюера <a class=\"tocSkip\"> </h2>\n",
    "    \n",
    "<b>Некоторые замечания и рекомендации💡:</b> \n",
    "\n",
    "Я бы добавил сравнение по f1-мере с константной моделью, также можно посмотреть recall и прокомментировать, какую долю клиентов на отток модель верно детектирует.\n",
    "       \n",
    "</div>\n"
   ]
  },
  {
   "cell_type": "markdown",
   "metadata": {},
   "source": [
    "<div class=\"alert alert-warning\">\n",
    "<h2> Комментарий ревьюера <a class=\"tocSkip\"> </h2>\n",
    "    \n",
    "<b>Некоторые замечания и рекомендации💡:</b> \n",
    "\n",
    "Здесь в дамми-модели я бы предсказал везде «1». Условно говоря, если предсказываем ноль, моделируем ситуацию, когда акцию с бонусами для удержания клиентов решили не проводить. Если предсказываем единицу − решили раздать бонусы вообще всем клиентам. Если в дамми-модели предсказываем по единице, можно подсчитать F1, она не будет зануляться.\n",
    "    \n",
    "`dummy_model = DummyClassifier(strategy='constant', constant=1)\n",
    "dummy_model.fit(features_train, target_train)\n",
    "f1_score(dummy_model.predict(features_test), target_test)`\n",
    "    \n",
    "Импорт: from sklearn.dummy import DummyClassifier\n",
    "\n",
    "       \n",
    "</div>\n"
   ]
  },
  {
   "cell_type": "markdown",
   "metadata": {},
   "source": [
    "<div style=\"border:solid Chocolate 2px; padding: 40px\">\n",
    "\n",
    "**Общий вывод по проекту**\n",
    "    \n",
    "Спасибо за твой проект! Есть несколько важных моментов, которые необходимо улучшить. Их ты найдешь в разноцветных комментариях.\n",
    "    \n",
    "**Отмечу положительные моменты проекта🚀**\n",
    "    \n",
    "* Хорошая структура проекта. Выбор моделей, порядок исследования.\n",
    "* Есть пояснения к шагам, код с высокой читаемостью. \n",
    "* Логичность решений.\n",
    "* Хороший результат на тестовой выборке.\n",
    "    \n",
    "**На что стоит обратить внимание🤔**\n",
    "    \n",
    "* Необходимо изменить подход к заполнению пропусков. Заполняем до разделения на выборки.\n",
    "* Гиперпараметры моделеям подбираем в каждом случае применения методики борьбы с дисбалансом и в исследовании моделей без учета дисбаланса.\n",
    "* У всех моделей важно измерить ROC_AUC.\n",
    "* Важно попробовать минимум две техники борьбы с дисбалансом классов.\n",
    "* Эти и остальные замечания я также написал по ходу проекта.\n",
    "    \n",
    "**Желаю удачи и жду твой проект на повторное ревью!**😉\n",
    "    \n",
    "    \n",
    "</div>"
   ]
  },
  {
   "cell_type": "markdown",
   "metadata": {},
   "source": [
    "<div style=\"border:solid Chocolate 2px; padding: 40px\">\n",
    "\n",
    "**Комментарий ко второй проверке**\n",
    "\n",
    "Спасибо за качественную доработку. Практически все верно. Однако еще кое-что осталось.\n",
    "    \n",
    "* В апсемплинге нужно подобрать верный коэффициент. Можно попробовать использовать SMOTE.\n",
    "\n",
    "**Желаю удачи и жду твой проект на повторное ревью!**😉\n",
    "</div>\n"
   ]
  },
  {
   "cell_type": "markdown",
   "metadata": {},
   "source": [
    "<div style=\"border:solid Chocolate 2px; padding: 40px\">\n",
    "\n",
    "**Комментарий к финальной проверке**\n",
    "\n",
    "Спасибо за доработку. Критичных комментариев нет. \n",
    "\n",
    "Желаю удачи в дальнейшей учебе!\n",
    "\n",
    "</div>\n",
    "\n"
   ]
  },
  {
   "cell_type": "markdown",
   "metadata": {},
   "source": [
    "## Чек-лист готовности проекта"
   ]
  },
  {
   "cell_type": "markdown",
   "metadata": {},
   "source": [
    "Поставьте 'x' в выполненных пунктах. Далее нажмите Shift+Enter."
   ]
  },
  {
   "cell_type": "markdown",
   "metadata": {},
   "source": [
    "- [x]  Jupyter Notebook открыт\n",
    "- [x]  Весь код выполняется без ошибок\n",
    "- [x]  Ячейки с кодом расположены в порядке исполнения\n",
    "- [x]  Выполнен шаг 1: данные подготовлены\n",
    "- [x]  Выполнен шаг 2: задача исследована\n",
    "    - [x]  Исследован баланс классов\n",
    "    - [x]  Изучены модели без учёта дисбаланса\n",
    "    - [x]  Написаны выводы по результатам исследования\n",
    "- [x]  Выполнен шаг 3: учтён дисбаланс\n",
    "    - [x]  Применено несколько способов борьбы с дисбалансом\n",
    "    - [x]  Написаны выводы по результатам исследования\n",
    "- [x]  Выполнен шаг 4: проведено тестирование\n",
    "- [x]  Удалось достичь *F1*-меры не менее 0.59\n",
    "- [x]  Исследована метрика *AUC-ROC*"
   ]
  }
 ],
 "metadata": {
  "ExecuteTimeLog": [
   {
    "duration": 1539,
    "start_time": "2023-03-23T18:30:57.343Z"
   },
   {
    "duration": 150,
    "start_time": "2023-03-23T18:30:58.883Z"
   },
   {
    "duration": 0,
    "start_time": "2023-03-23T18:30:59.035Z"
   },
   {
    "duration": 0,
    "start_time": "2023-03-23T18:30:59.037Z"
   },
   {
    "duration": 0,
    "start_time": "2023-03-23T18:30:59.038Z"
   },
   {
    "duration": 0,
    "start_time": "2023-03-23T18:30:59.039Z"
   },
   {
    "duration": 0,
    "start_time": "2023-03-23T18:30:59.040Z"
   },
   {
    "duration": 0,
    "start_time": "2023-03-23T18:30:59.041Z"
   },
   {
    "duration": 0,
    "start_time": "2023-03-23T18:30:59.042Z"
   },
   {
    "duration": 0,
    "start_time": "2023-03-23T18:30:59.050Z"
   },
   {
    "duration": 0,
    "start_time": "2023-03-23T18:30:59.050Z"
   },
   {
    "duration": 0,
    "start_time": "2023-03-23T18:30:59.051Z"
   },
   {
    "duration": 0,
    "start_time": "2023-03-23T18:30:59.052Z"
   },
   {
    "duration": 0,
    "start_time": "2023-03-23T18:30:59.052Z"
   },
   {
    "duration": 0,
    "start_time": "2023-03-23T18:30:59.053Z"
   },
   {
    "duration": 0,
    "start_time": "2023-03-23T18:30:59.054Z"
   },
   {
    "duration": 1,
    "start_time": "2023-03-23T18:30:59.055Z"
   },
   {
    "duration": 0,
    "start_time": "2023-03-23T18:30:59.057Z"
   },
   {
    "duration": 0,
    "start_time": "2023-03-23T18:30:59.058Z"
   },
   {
    "duration": 0,
    "start_time": "2023-03-23T18:30:59.059Z"
   },
   {
    "duration": 0,
    "start_time": "2023-03-23T18:30:59.061Z"
   },
   {
    "duration": 0,
    "start_time": "2023-03-23T18:30:59.062Z"
   },
   {
    "duration": 0,
    "start_time": "2023-03-23T18:30:59.063Z"
   },
   {
    "duration": 0,
    "start_time": "2023-03-23T18:30:59.064Z"
   },
   {
    "duration": 0,
    "start_time": "2023-03-23T18:30:59.064Z"
   },
   {
    "duration": 4,
    "start_time": "2023-03-23T18:34:02.322Z"
   },
   {
    "duration": 170,
    "start_time": "2023-03-23T18:34:02.328Z"
   },
   {
    "duration": 37,
    "start_time": "2023-03-23T18:34:02.499Z"
   },
   {
    "duration": 1100,
    "start_time": "2023-03-23T18:34:02.539Z"
   },
   {
    "duration": 8,
    "start_time": "2023-03-23T18:34:03.640Z"
   },
   {
    "duration": 49,
    "start_time": "2023-03-23T18:34:03.649Z"
   },
   {
    "duration": 23,
    "start_time": "2023-03-23T18:34:03.699Z"
   },
   {
    "duration": 11,
    "start_time": "2023-03-23T18:34:03.723Z"
   },
   {
    "duration": 127,
    "start_time": "2023-03-23T18:34:03.736Z"
   },
   {
    "duration": 15,
    "start_time": "2023-03-23T18:34:03.865Z"
   },
   {
    "duration": 13,
    "start_time": "2023-03-23T18:34:03.881Z"
   },
   {
    "duration": 13,
    "start_time": "2023-03-23T18:34:03.895Z"
   },
   {
    "duration": 326,
    "start_time": "2023-03-23T18:34:03.910Z"
   },
   {
    "duration": 34,
    "start_time": "2023-03-23T18:34:04.237Z"
   },
   {
    "duration": 31770,
    "start_time": "2023-03-23T18:34:04.272Z"
   },
   {
    "duration": 635,
    "start_time": "2023-03-23T18:34:36.044Z"
   },
   {
    "duration": 6702,
    "start_time": "2023-03-23T18:34:36.680Z"
   },
   {
    "duration": 465,
    "start_time": "2023-03-23T18:34:43.413Z"
   },
   {
    "duration": 7,
    "start_time": "2023-03-23T18:34:43.894Z"
   },
   {
    "duration": 253,
    "start_time": "2023-03-23T18:34:43.906Z"
   },
   {
    "duration": 907,
    "start_time": "2023-03-23T18:34:44.165Z"
   },
   {
    "duration": 1058,
    "start_time": "2023-03-23T18:34:45.080Z"
   },
   {
    "duration": 450,
    "start_time": "2023-03-23T18:34:46.140Z"
   },
   {
    "duration": 877,
    "start_time": "2023-03-23T18:34:46.592Z"
   },
   {
    "duration": 266,
    "start_time": "2023-03-23T18:34:47.471Z"
   },
   {
    "duration": 1623,
    "start_time": "2023-03-23T18:36:04.018Z"
   },
   {
    "duration": 0,
    "start_time": "2023-03-23T18:36:05.644Z"
   },
   {
    "duration": 0,
    "start_time": "2023-03-23T18:36:05.645Z"
   },
   {
    "duration": 0,
    "start_time": "2023-03-23T18:36:05.647Z"
   },
   {
    "duration": 0,
    "start_time": "2023-03-23T18:36:05.656Z"
   },
   {
    "duration": 0,
    "start_time": "2023-03-23T18:36:05.657Z"
   },
   {
    "duration": 0,
    "start_time": "2023-03-23T18:36:05.659Z"
   },
   {
    "duration": 0,
    "start_time": "2023-03-23T18:36:05.660Z"
   },
   {
    "duration": 0,
    "start_time": "2023-03-23T18:36:05.661Z"
   },
   {
    "duration": 0,
    "start_time": "2023-03-23T18:36:05.662Z"
   },
   {
    "duration": 0,
    "start_time": "2023-03-23T18:36:05.664Z"
   },
   {
    "duration": 0,
    "start_time": "2023-03-23T18:36:05.665Z"
   },
   {
    "duration": 0,
    "start_time": "2023-03-23T18:36:05.666Z"
   },
   {
    "duration": 0,
    "start_time": "2023-03-23T18:36:05.667Z"
   },
   {
    "duration": 0,
    "start_time": "2023-03-23T18:36:05.668Z"
   },
   {
    "duration": 0,
    "start_time": "2023-03-23T18:36:05.669Z"
   },
   {
    "duration": 0,
    "start_time": "2023-03-23T18:36:05.671Z"
   },
   {
    "duration": 0,
    "start_time": "2023-03-23T18:36:05.672Z"
   },
   {
    "duration": 0,
    "start_time": "2023-03-23T18:36:05.673Z"
   },
   {
    "duration": 0,
    "start_time": "2023-03-23T18:36:05.674Z"
   },
   {
    "duration": 0,
    "start_time": "2023-03-23T18:36:05.675Z"
   },
   {
    "duration": 0,
    "start_time": "2023-03-23T18:36:05.676Z"
   },
   {
    "duration": 0,
    "start_time": "2023-03-23T18:36:05.677Z"
   },
   {
    "duration": 0,
    "start_time": "2023-03-23T18:36:05.678Z"
   },
   {
    "duration": 0,
    "start_time": "2023-03-23T18:36:05.680Z"
   },
   {
    "duration": 1717,
    "start_time": "2023-03-23T18:36:53.520Z"
   },
   {
    "duration": 78,
    "start_time": "2023-03-23T18:36:55.242Z"
   },
   {
    "duration": 45,
    "start_time": "2023-03-23T18:36:55.323Z"
   },
   {
    "duration": 1239,
    "start_time": "2023-03-23T18:36:55.370Z"
   },
   {
    "duration": 6,
    "start_time": "2023-03-23T18:36:56.611Z"
   },
   {
    "duration": 83,
    "start_time": "2023-03-23T18:36:56.618Z"
   },
   {
    "duration": 11,
    "start_time": "2023-03-23T18:36:56.702Z"
   },
   {
    "duration": 5,
    "start_time": "2023-03-23T18:36:56.715Z"
   },
   {
    "duration": 202,
    "start_time": "2023-03-23T18:36:56.722Z"
   },
   {
    "duration": 13,
    "start_time": "2023-03-23T18:36:56.927Z"
   },
   {
    "duration": 16,
    "start_time": "2023-03-23T18:36:56.941Z"
   },
   {
    "duration": 60,
    "start_time": "2023-03-23T18:36:56.959Z"
   },
   {
    "duration": 361,
    "start_time": "2023-03-23T18:36:57.021Z"
   },
   {
    "duration": 25,
    "start_time": "2023-03-23T18:36:57.385Z"
   },
   {
    "duration": 32322,
    "start_time": "2023-03-23T18:36:57.412Z"
   },
   {
    "duration": 657,
    "start_time": "2023-03-23T18:37:29.735Z"
   },
   {
    "duration": 6971,
    "start_time": "2023-03-23T18:37:30.393Z"
   },
   {
    "duration": 605,
    "start_time": "2023-03-23T18:37:37.369Z"
   },
   {
    "duration": 14,
    "start_time": "2023-03-23T18:37:37.978Z"
   },
   {
    "duration": 218,
    "start_time": "2023-03-23T18:37:37.994Z"
   },
   {
    "duration": 725,
    "start_time": "2023-03-23T18:37:38.213Z"
   },
   {
    "duration": 724,
    "start_time": "2023-03-23T18:37:38.940Z"
   },
   {
    "duration": 399,
    "start_time": "2023-03-23T18:37:39.682Z"
   },
   {
    "duration": 722,
    "start_time": "2023-03-23T18:37:40.084Z"
   },
   {
    "duration": 244,
    "start_time": "2023-03-23T18:37:40.808Z"
   },
   {
    "duration": 44,
    "start_time": "2023-03-24T13:31:00.885Z"
   },
   {
    "duration": 2759,
    "start_time": "2023-03-24T13:31:08.893Z"
   },
   {
    "duration": 392,
    "start_time": "2023-03-24T13:31:11.654Z"
   },
   {
    "duration": 29,
    "start_time": "2023-03-24T13:31:12.048Z"
   },
   {
    "duration": 1308,
    "start_time": "2023-03-24T13:31:12.078Z"
   },
   {
    "duration": 5,
    "start_time": "2023-03-24T13:31:13.389Z"
   },
   {
    "duration": 9,
    "start_time": "2023-03-24T13:31:13.396Z"
   },
   {
    "duration": 12,
    "start_time": "2023-03-24T13:31:13.406Z"
   },
   {
    "duration": 5,
    "start_time": "2023-03-24T13:31:13.420Z"
   },
   {
    "duration": 155,
    "start_time": "2023-03-24T13:31:13.426Z"
   },
   {
    "duration": 11,
    "start_time": "2023-03-24T13:31:13.583Z"
   },
   {
    "duration": 7,
    "start_time": "2023-03-24T13:31:13.596Z"
   },
   {
    "duration": 13,
    "start_time": "2023-03-24T13:31:13.604Z"
   },
   {
    "duration": 285,
    "start_time": "2023-03-24T13:31:13.619Z"
   },
   {
    "duration": 20,
    "start_time": "2023-03-24T13:31:13.906Z"
   },
   {
    "duration": 26720,
    "start_time": "2023-03-24T13:31:13.928Z"
   },
   {
    "duration": 539,
    "start_time": "2023-03-24T13:31:40.650Z"
   },
   {
    "duration": 6600,
    "start_time": "2023-03-24T13:31:41.190Z"
   },
   {
    "duration": 486,
    "start_time": "2023-03-24T13:31:47.799Z"
   },
   {
    "duration": 6,
    "start_time": "2023-03-24T13:31:48.368Z"
   },
   {
    "duration": 116,
    "start_time": "2023-03-24T13:31:48.376Z"
   },
   {
    "duration": 593,
    "start_time": "2023-03-24T13:31:48.493Z"
   },
   {
    "duration": 862,
    "start_time": "2023-03-24T13:31:49.089Z"
   },
   {
    "duration": 372,
    "start_time": "2023-03-24T13:31:49.953Z"
   },
   {
    "duration": 617,
    "start_time": "2023-03-24T13:31:50.327Z"
   },
   {
    "duration": 305,
    "start_time": "2023-03-24T13:31:50.945Z"
   },
   {
    "duration": 2468,
    "start_time": "2023-03-24T13:41:40.582Z"
   },
   {
    "duration": 50,
    "start_time": "2023-03-24T13:41:43.052Z"
   },
   {
    "duration": 24,
    "start_time": "2023-03-24T13:41:43.104Z"
   },
   {
    "duration": 1097,
    "start_time": "2023-03-24T13:41:43.130Z"
   },
   {
    "duration": 5,
    "start_time": "2023-03-24T13:41:44.230Z"
   },
   {
    "duration": 6,
    "start_time": "2023-03-24T13:41:44.236Z"
   },
   {
    "duration": 10,
    "start_time": "2023-03-24T13:41:44.244Z"
   },
   {
    "duration": 4,
    "start_time": "2023-03-24T13:41:44.255Z"
   },
   {
    "duration": 125,
    "start_time": "2023-03-24T13:41:44.260Z"
   },
   {
    "duration": 5,
    "start_time": "2023-03-24T13:41:44.387Z"
   },
   {
    "duration": 13,
    "start_time": "2023-03-24T13:41:44.394Z"
   },
   {
    "duration": 2,
    "start_time": "2023-03-24T13:41:44.409Z"
   },
   {
    "duration": 13,
    "start_time": "2023-03-24T13:41:44.413Z"
   },
   {
    "duration": 281,
    "start_time": "2023-03-24T13:41:44.429Z"
   },
   {
    "duration": 22,
    "start_time": "2023-03-24T13:41:44.711Z"
   },
   {
    "duration": 26098,
    "start_time": "2023-03-24T13:41:44.735Z"
   },
   {
    "duration": 579,
    "start_time": "2023-03-24T13:42:10.835Z"
   },
   {
    "duration": 6566,
    "start_time": "2023-03-24T13:42:11.416Z"
   },
   {
    "duration": 783,
    "start_time": "2023-03-24T13:42:17.986Z"
   },
   {
    "duration": 15,
    "start_time": "2023-03-24T13:42:18.773Z"
   },
   {
    "duration": 210,
    "start_time": "2023-03-24T13:42:18.793Z"
   },
   {
    "duration": 734,
    "start_time": "2023-03-24T13:42:19.005Z"
   },
   {
    "duration": 608,
    "start_time": "2023-03-24T13:42:19.740Z"
   },
   {
    "duration": 361,
    "start_time": "2023-03-24T13:42:20.350Z"
   },
   {
    "duration": 628,
    "start_time": "2023-03-24T13:42:20.713Z"
   },
   {
    "duration": 274,
    "start_time": "2023-03-24T13:42:21.343Z"
   },
   {
    "duration": 23,
    "start_time": "2023-03-24T13:53:27.983Z"
   },
   {
    "duration": 1884,
    "start_time": "2023-03-24T14:06:31.152Z"
   },
   {
    "duration": 266,
    "start_time": "2023-03-24T14:06:33.038Z"
   },
   {
    "duration": 23,
    "start_time": "2023-03-24T14:06:33.305Z"
   },
   {
    "duration": 1006,
    "start_time": "2023-03-24T14:06:33.330Z"
   },
   {
    "duration": 5,
    "start_time": "2023-03-24T14:06:34.337Z"
   },
   {
    "duration": 13,
    "start_time": "2023-03-24T14:06:34.343Z"
   },
   {
    "duration": 17,
    "start_time": "2023-03-24T14:06:34.357Z"
   },
   {
    "duration": 5,
    "start_time": "2023-03-24T14:06:34.375Z"
   },
   {
    "duration": 116,
    "start_time": "2023-03-24T14:06:34.381Z"
   },
   {
    "duration": 4,
    "start_time": "2023-03-24T14:06:34.499Z"
   },
   {
    "duration": 10,
    "start_time": "2023-03-24T14:06:34.504Z"
   },
   {
    "duration": 2,
    "start_time": "2023-03-24T14:06:34.515Z"
   },
   {
    "duration": 14,
    "start_time": "2023-03-24T14:06:34.519Z"
   },
   {
    "duration": 241,
    "start_time": "2023-03-24T14:06:34.534Z"
   },
   {
    "duration": 26,
    "start_time": "2023-03-24T14:06:43.902Z"
   },
   {
    "duration": 102,
    "start_time": "2023-03-24T14:15:36.666Z"
   },
   {
    "duration": 24970,
    "start_time": "2023-03-24T14:15:43.391Z"
   },
   {
    "duration": 518,
    "start_time": "2023-03-24T14:16:23.486Z"
   },
   {
    "duration": 1568,
    "start_time": "2023-03-24T17:28:23.712Z"
   },
   {
    "duration": 173,
    "start_time": "2023-03-24T17:28:25.282Z"
   },
   {
    "duration": 27,
    "start_time": "2023-03-24T17:28:25.457Z"
   },
   {
    "duration": 1164,
    "start_time": "2023-03-24T17:28:25.486Z"
   },
   {
    "duration": 6,
    "start_time": "2023-03-24T17:28:26.652Z"
   },
   {
    "duration": 14,
    "start_time": "2023-03-24T17:28:26.660Z"
   },
   {
    "duration": 13,
    "start_time": "2023-03-24T17:28:26.676Z"
   },
   {
    "duration": 7,
    "start_time": "2023-03-24T17:28:26.691Z"
   },
   {
    "duration": 152,
    "start_time": "2023-03-24T17:28:26.724Z"
   },
   {
    "duration": 5,
    "start_time": "2023-03-24T17:28:26.879Z"
   },
   {
    "duration": 12,
    "start_time": "2023-03-24T17:28:26.886Z"
   },
   {
    "duration": 6,
    "start_time": "2023-03-24T17:28:26.900Z"
   },
   {
    "duration": 14,
    "start_time": "2023-03-24T17:28:26.924Z"
   },
   {
    "duration": 281,
    "start_time": "2023-03-24T17:28:26.940Z"
   },
   {
    "duration": 25,
    "start_time": "2023-03-24T17:28:27.224Z"
   },
   {
    "duration": 29249,
    "start_time": "2023-03-24T17:28:27.251Z"
   },
   {
    "duration": 634,
    "start_time": "2023-03-24T17:28:56.502Z"
   },
   {
    "duration": 5796,
    "start_time": "2023-03-24T17:28:57.137Z"
   },
   {
    "duration": 299,
    "start_time": "2023-03-24T17:29:02.935Z"
   },
   {
    "duration": 5,
    "start_time": "2023-03-24T17:29:03.325Z"
   },
   {
    "duration": 216,
    "start_time": "2023-03-24T17:29:03.332Z"
   },
   {
    "duration": 664,
    "start_time": "2023-03-24T17:29:03.550Z"
   },
   {
    "duration": 489,
    "start_time": "2023-03-24T17:29:04.216Z"
   },
   {
    "duration": 414,
    "start_time": "2023-03-24T17:29:04.706Z"
   },
   {
    "duration": 677,
    "start_time": "2023-03-24T17:29:05.123Z"
   },
   {
    "duration": 278,
    "start_time": "2023-03-24T17:29:05.802Z"
   },
   {
    "duration": 4,
    "start_time": "2023-03-24T18:02:56.256Z"
   },
   {
    "duration": 41,
    "start_time": "2023-03-24T18:02:56.262Z"
   },
   {
    "duration": 22,
    "start_time": "2023-03-24T18:02:56.304Z"
   },
   {
    "duration": 1131,
    "start_time": "2023-03-24T18:02:56.328Z"
   },
   {
    "duration": 6,
    "start_time": "2023-03-24T18:02:57.461Z"
   },
   {
    "duration": 21,
    "start_time": "2023-03-24T18:02:57.468Z"
   },
   {
    "duration": 14,
    "start_time": "2023-03-24T18:02:57.491Z"
   },
   {
    "duration": 5,
    "start_time": "2023-03-24T18:02:57.507Z"
   },
   {
    "duration": 266,
    "start_time": "2023-03-24T18:02:57.513Z"
   },
   {
    "duration": 5,
    "start_time": "2023-03-24T18:02:57.781Z"
   },
   {
    "duration": 10,
    "start_time": "2023-03-24T18:02:57.787Z"
   },
   {
    "duration": 30,
    "start_time": "2023-03-24T18:02:57.799Z"
   },
   {
    "duration": 273,
    "start_time": "2023-03-24T18:02:57.831Z"
   },
   {
    "duration": 33,
    "start_time": "2023-03-24T18:02:58.106Z"
   },
   {
    "duration": 29351,
    "start_time": "2023-03-24T18:02:58.141Z"
   },
   {
    "duration": 606,
    "start_time": "2023-03-24T18:03:27.494Z"
   },
   {
    "duration": 6534,
    "start_time": "2023-03-24T18:03:28.102Z"
   },
   {
    "duration": 391,
    "start_time": "2023-03-24T18:03:34.639Z"
   },
   {
    "duration": 339,
    "start_time": "2023-03-24T18:03:50.176Z"
   },
   {
    "duration": 113,
    "start_time": "2023-03-24T18:45:24.838Z"
   },
   {
    "duration": 12,
    "start_time": "2023-03-24T18:46:12.976Z"
   },
   {
    "duration": 74,
    "start_time": "2023-03-24T18:46:43.807Z"
   },
   {
    "duration": 45,
    "start_time": "2023-03-24T18:46:56.437Z"
   },
   {
    "duration": 22,
    "start_time": "2023-03-24T18:47:30.647Z"
   },
   {
    "duration": 8337,
    "start_time": "2023-03-24T18:48:34.011Z"
   },
   {
    "duration": 2478,
    "start_time": "2023-03-24T18:49:54.092Z"
   },
   {
    "duration": 52,
    "start_time": "2023-03-25T13:00:45.891Z"
   },
   {
    "duration": 1578,
    "start_time": "2023-03-25T13:01:25.497Z"
   },
   {
    "duration": 163,
    "start_time": "2023-03-25T13:01:27.077Z"
   },
   {
    "duration": 33,
    "start_time": "2023-03-25T13:01:27.241Z"
   },
   {
    "duration": 1200,
    "start_time": "2023-03-25T13:01:27.277Z"
   },
   {
    "duration": 6,
    "start_time": "2023-03-25T13:01:28.478Z"
   },
   {
    "duration": 15,
    "start_time": "2023-03-25T13:01:28.486Z"
   },
   {
    "duration": 22,
    "start_time": "2023-03-25T13:01:28.502Z"
   },
   {
    "duration": 4,
    "start_time": "2023-03-25T13:01:28.526Z"
   },
   {
    "duration": 133,
    "start_time": "2023-03-25T13:01:28.532Z"
   },
   {
    "duration": 5,
    "start_time": "2023-03-25T13:01:28.674Z"
   },
   {
    "duration": 9,
    "start_time": "2023-03-25T13:01:28.681Z"
   },
   {
    "duration": 12,
    "start_time": "2023-03-25T13:01:28.692Z"
   },
   {
    "duration": 283,
    "start_time": "2023-03-25T13:01:28.705Z"
   },
   {
    "duration": 26,
    "start_time": "2023-03-25T13:01:28.990Z"
   },
   {
    "duration": 29352,
    "start_time": "2023-03-25T13:01:29.018Z"
   },
   {
    "duration": 632,
    "start_time": "2023-03-25T13:01:58.376Z"
   },
   {
    "duration": 5769,
    "start_time": "2023-03-25T13:01:59.010Z"
   },
   {
    "duration": 503,
    "start_time": "2023-03-25T13:02:04.781Z"
   },
   {
    "duration": 292,
    "start_time": "2023-03-25T13:02:05.376Z"
   },
   {
    "duration": 132,
    "start_time": "2023-03-25T13:02:19.580Z"
   },
   {
    "duration": 21,
    "start_time": "2023-03-25T13:05:40.078Z"
   },
   {
    "duration": 24,
    "start_time": "2023-03-25T13:07:53.582Z"
   },
   {
    "duration": 23,
    "start_time": "2023-03-25T13:08:49.107Z"
   },
   {
    "duration": 6,
    "start_time": "2023-03-25T13:09:24.036Z"
   },
   {
    "duration": 34,
    "start_time": "2023-03-25T13:09:35.968Z"
   },
   {
    "duration": 38,
    "start_time": "2023-03-25T13:15:01.311Z"
   },
   {
    "duration": 44,
    "start_time": "2023-03-25T13:15:45.779Z"
   },
   {
    "duration": 18,
    "start_time": "2023-03-25T13:19:19.997Z"
   },
   {
    "duration": 22,
    "start_time": "2023-03-25T13:19:34.092Z"
   },
   {
    "duration": 24,
    "start_time": "2023-03-25T13:19:56.149Z"
   },
   {
    "duration": 402,
    "start_time": "2023-03-25T13:29:22.589Z"
   },
   {
    "duration": 408,
    "start_time": "2023-03-25T13:29:56.588Z"
   },
   {
    "duration": 290,
    "start_time": "2023-03-25T13:30:29.803Z"
   },
   {
    "duration": 386,
    "start_time": "2023-03-25T13:45:31.328Z"
   },
   {
    "duration": 20,
    "start_time": "2023-03-25T13:45:48.260Z"
   },
   {
    "duration": 687,
    "start_time": "2023-03-25T13:46:19.040Z"
   },
   {
    "duration": 330,
    "start_time": "2023-03-25T13:46:33.430Z"
   },
   {
    "duration": 427,
    "start_time": "2023-03-25T13:47:05.667Z"
   },
   {
    "duration": 367,
    "start_time": "2023-03-25T13:47:26.120Z"
   },
   {
    "duration": 340,
    "start_time": "2023-03-25T13:47:45.816Z"
   },
   {
    "duration": 378,
    "start_time": "2023-03-25T13:48:34.327Z"
   },
   {
    "duration": 338,
    "start_time": "2023-03-25T13:49:00.828Z"
   },
   {
    "duration": 25,
    "start_time": "2023-03-25T13:56:04.331Z"
   },
   {
    "duration": 23,
    "start_time": "2023-03-25T13:56:16.839Z"
   },
   {
    "duration": 26,
    "start_time": "2023-03-25T13:56:25.235Z"
   },
   {
    "duration": 31,
    "start_time": "2023-03-25T13:56:29.946Z"
   },
   {
    "duration": 24,
    "start_time": "2023-03-25T13:56:36.139Z"
   },
   {
    "duration": 19,
    "start_time": "2023-03-25T13:56:41.712Z"
   },
   {
    "duration": 25,
    "start_time": "2023-03-25T13:56:48.356Z"
   },
   {
    "duration": 20,
    "start_time": "2023-03-25T13:57:07.232Z"
   },
   {
    "duration": 19,
    "start_time": "2023-03-25T13:57:16.870Z"
   },
   {
    "duration": 18,
    "start_time": "2023-03-25T13:57:21.503Z"
   },
   {
    "duration": 156,
    "start_time": "2023-03-25T13:58:40.489Z"
   },
   {
    "duration": 155,
    "start_time": "2023-03-25T13:58:56.971Z"
   },
   {
    "duration": 213,
    "start_time": "2023-03-25T13:59:04.227Z"
   },
   {
    "duration": 151,
    "start_time": "2023-03-25T13:59:13.211Z"
   },
   {
    "duration": 10,
    "start_time": "2023-03-25T14:00:28.012Z"
   },
   {
    "duration": 6,
    "start_time": "2023-03-25T14:00:34.428Z"
   },
   {
    "duration": 124,
    "start_time": "2023-03-25T14:00:38.564Z"
   },
   {
    "duration": 122,
    "start_time": "2023-03-25T14:01:18.854Z"
   },
   {
    "duration": 130,
    "start_time": "2023-03-25T14:01:43.501Z"
   },
   {
    "duration": 121,
    "start_time": "2023-03-25T14:02:36.812Z"
   },
   {
    "duration": 680,
    "start_time": "2023-03-25T14:09:31.589Z"
   },
   {
    "duration": 29513,
    "start_time": "2023-03-25T14:19:12.648Z"
   },
   {
    "duration": 7983,
    "start_time": "2023-03-25T14:20:58.099Z"
   },
   {
    "duration": 341,
    "start_time": "2023-03-25T14:22:40.983Z"
   },
   {
    "duration": 314,
    "start_time": "2023-03-25T14:22:50.998Z"
   },
   {
    "duration": 33005,
    "start_time": "2023-03-25T14:24:01.299Z"
   },
   {
    "duration": 6185,
    "start_time": "2023-03-25T14:26:20.500Z"
   },
   {
    "duration": 12,
    "start_time": "2023-03-25T14:28:08.602Z"
   },
   {
    "duration": 144,
    "start_time": "2023-03-25T14:28:19.059Z"
   },
   {
    "duration": 18215,
    "start_time": "2023-03-25T14:29:43.455Z"
   },
   {
    "duration": 4434,
    "start_time": "2023-03-25T14:30:25.145Z"
   },
   {
    "duration": 366,
    "start_time": "2023-03-25T14:33:01.448Z"
   },
   {
    "duration": 498,
    "start_time": "2023-03-25T16:02:21.314Z"
   },
   {
    "duration": 479,
    "start_time": "2023-03-25T16:03:47.001Z"
   },
   {
    "duration": 685,
    "start_time": "2023-03-25T16:03:53.945Z"
   },
   {
    "duration": 14,
    "start_time": "2023-03-25T16:04:13.686Z"
   },
   {
    "duration": 299,
    "start_time": "2023-03-25T16:04:23.959Z"
   },
   {
    "duration": 578,
    "start_time": "2023-03-25T16:06:19.381Z"
   },
   {
    "duration": 573,
    "start_time": "2023-03-25T16:07:11.484Z"
   },
   {
    "duration": 371,
    "start_time": "2023-03-25T16:07:24.370Z"
   },
   {
    "duration": 1432,
    "start_time": "2023-03-25T16:09:07.858Z"
   },
   {
    "duration": 41,
    "start_time": "2023-03-25T16:09:09.293Z"
   },
   {
    "duration": 29,
    "start_time": "2023-03-25T16:09:09.336Z"
   },
   {
    "duration": 1220,
    "start_time": "2023-03-25T16:09:09.366Z"
   },
   {
    "duration": 5,
    "start_time": "2023-03-25T16:09:10.589Z"
   },
   {
    "duration": 8,
    "start_time": "2023-03-25T16:09:10.596Z"
   },
   {
    "duration": 11,
    "start_time": "2023-03-25T16:09:10.605Z"
   },
   {
    "duration": 4,
    "start_time": "2023-03-25T16:09:10.618Z"
   },
   {
    "duration": 153,
    "start_time": "2023-03-25T16:09:10.624Z"
   },
   {
    "duration": 5,
    "start_time": "2023-03-25T16:09:10.779Z"
   },
   {
    "duration": 10,
    "start_time": "2023-03-25T16:09:10.786Z"
   },
   {
    "duration": 13,
    "start_time": "2023-03-25T16:09:10.798Z"
   },
   {
    "duration": 295,
    "start_time": "2023-03-25T16:09:10.813Z"
   },
   {
    "duration": 24,
    "start_time": "2023-03-25T16:09:11.111Z"
   },
   {
    "duration": 30734,
    "start_time": "2023-03-25T16:09:11.137Z"
   },
   {
    "duration": 622,
    "start_time": "2023-03-25T16:09:41.873Z"
   },
   {
    "duration": 6291,
    "start_time": "2023-03-25T16:09:42.497Z"
   },
   {
    "duration": 386,
    "start_time": "2023-03-25T16:09:48.790Z"
   },
   {
    "duration": 381,
    "start_time": "2023-03-25T16:09:49.177Z"
   },
   {
    "duration": 29665,
    "start_time": "2023-03-25T16:09:49.560Z"
   },
   {
    "duration": 6260,
    "start_time": "2023-03-25T16:10:19.227Z"
   },
   {
    "duration": 93,
    "start_time": "2023-03-25T16:10:25.489Z"
   },
   {
    "duration": 419,
    "start_time": "2023-03-25T16:10:25.584Z"
   },
   {
    "duration": 32487,
    "start_time": "2023-03-25T16:10:26.004Z"
   },
   {
    "duration": 6195,
    "start_time": "2023-03-25T16:10:58.492Z"
   },
   {
    "duration": 93,
    "start_time": "2023-03-25T16:11:04.689Z"
   },
   {
    "duration": 242,
    "start_time": "2023-03-25T16:11:04.784Z"
   },
   {
    "duration": 18102,
    "start_time": "2023-03-25T16:11:05.028Z"
   },
   {
    "duration": 4343,
    "start_time": "2023-03-25T16:11:23.132Z"
   },
   {
    "duration": 387,
    "start_time": "2023-03-25T16:11:27.477Z"
   },
   {
    "duration": 0,
    "start_time": "2023-03-25T16:11:27.866Z"
   },
   {
    "duration": 0,
    "start_time": "2023-03-25T16:11:27.875Z"
   },
   {
    "duration": 395,
    "start_time": "2023-03-25T16:12:52.482Z"
   },
   {
    "duration": 595,
    "start_time": "2023-03-25T16:13:03.737Z"
   },
   {
    "duration": 236,
    "start_time": "2023-03-25T16:13:09.912Z"
   },
   {
    "duration": 1861,
    "start_time": "2023-03-26T08:35:04.378Z"
   },
   {
    "duration": 190,
    "start_time": "2023-03-26T08:35:06.242Z"
   },
   {
    "duration": 26,
    "start_time": "2023-03-26T08:35:06.434Z"
   },
   {
    "duration": 1337,
    "start_time": "2023-03-26T08:35:06.465Z"
   },
   {
    "duration": 5,
    "start_time": "2023-03-26T08:35:07.805Z"
   },
   {
    "duration": 6,
    "start_time": "2023-03-26T08:35:07.812Z"
   },
   {
    "duration": 10,
    "start_time": "2023-03-26T08:35:07.820Z"
   },
   {
    "duration": 4,
    "start_time": "2023-03-26T08:35:07.831Z"
   },
   {
    "duration": 169,
    "start_time": "2023-03-26T08:35:07.836Z"
   },
   {
    "duration": 5,
    "start_time": "2023-03-26T08:35:08.008Z"
   },
   {
    "duration": 12,
    "start_time": "2023-03-26T08:35:08.014Z"
   },
   {
    "duration": 19,
    "start_time": "2023-03-26T08:35:08.027Z"
   },
   {
    "duration": 306,
    "start_time": "2023-03-26T08:35:08.048Z"
   },
   {
    "duration": 32,
    "start_time": "2023-03-26T08:35:08.356Z"
   },
   {
    "duration": 32016,
    "start_time": "2023-03-26T08:35:08.391Z"
   },
   {
    "duration": 680,
    "start_time": "2023-03-26T08:35:40.409Z"
   },
   {
    "duration": 9875,
    "start_time": "2023-03-26T08:35:41.090Z"
   },
   {
    "duration": 817,
    "start_time": "2023-03-26T08:35:50.971Z"
   },
   {
    "duration": 391,
    "start_time": "2023-03-26T08:35:51.790Z"
   },
   {
    "duration": 32669,
    "start_time": "2023-03-26T08:35:52.183Z"
   },
   {
    "duration": 11232,
    "start_time": "2023-03-26T08:36:24.854Z"
   },
   {
    "duration": 86,
    "start_time": "2023-03-26T08:36:36.089Z"
   },
   {
    "duration": 478,
    "start_time": "2023-03-26T08:36:36.178Z"
   },
   {
    "duration": 43733,
    "start_time": "2023-03-26T08:36:36.657Z"
   },
   {
    "duration": 12374,
    "start_time": "2023-03-26T08:37:20.393Z"
   },
   {
    "duration": 101,
    "start_time": "2023-03-26T08:37:32.776Z"
   },
   {
    "duration": 167,
    "start_time": "2023-03-26T08:37:32.882Z"
   },
   {
    "duration": 19615,
    "start_time": "2023-03-26T08:37:33.052Z"
   },
   {
    "duration": 9925,
    "start_time": "2023-03-26T08:37:52.670Z"
   },
   {
    "duration": 485,
    "start_time": "2023-03-26T08:38:02.682Z"
   },
   {
    "duration": 820,
    "start_time": "2023-03-26T08:38:03.172Z"
   },
   {
    "duration": 314,
    "start_time": "2023-03-26T08:38:03.995Z"
   },
   {
    "duration": 682,
    "start_time": "2023-03-26T08:39:23.125Z"
   },
   {
    "duration": 263,
    "start_time": "2023-03-26T08:39:29.982Z"
   },
   {
    "duration": 1604,
    "start_time": "2023-03-26T08:40:26.443Z"
   },
   {
    "duration": 74,
    "start_time": "2023-03-26T08:40:28.049Z"
   },
   {
    "duration": 46,
    "start_time": "2023-03-26T08:40:28.124Z"
   },
   {
    "duration": 1376,
    "start_time": "2023-03-26T08:40:28.180Z"
   },
   {
    "duration": 10,
    "start_time": "2023-03-26T08:40:29.558Z"
   },
   {
    "duration": 18,
    "start_time": "2023-03-26T08:40:29.572Z"
   },
   {
    "duration": 10,
    "start_time": "2023-03-26T08:40:29.597Z"
   },
   {
    "duration": 5,
    "start_time": "2023-03-26T08:40:29.609Z"
   },
   {
    "duration": 170,
    "start_time": "2023-03-26T08:40:29.616Z"
   },
   {
    "duration": 8,
    "start_time": "2023-03-26T08:40:29.789Z"
   },
   {
    "duration": 20,
    "start_time": "2023-03-26T08:40:29.798Z"
   },
   {
    "duration": 15,
    "start_time": "2023-03-26T08:40:29.819Z"
   },
   {
    "duration": 342,
    "start_time": "2023-03-26T08:40:29.836Z"
   },
   {
    "duration": 32,
    "start_time": "2023-03-26T08:40:30.180Z"
   },
   {
    "duration": 34286,
    "start_time": "2023-03-26T08:40:30.214Z"
   },
   {
    "duration": 741,
    "start_time": "2023-03-26T08:41:04.503Z"
   },
   {
    "duration": 11238,
    "start_time": "2023-03-26T08:41:05.246Z"
   },
   {
    "duration": 1382,
    "start_time": "2023-03-26T08:41:16.486Z"
   },
   {
    "duration": 346,
    "start_time": "2023-03-26T08:41:17.875Z"
   },
   {
    "duration": 35422,
    "start_time": "2023-03-26T08:41:18.223Z"
   },
   {
    "duration": 12759,
    "start_time": "2023-03-26T08:41:53.646Z"
   },
   {
    "duration": 108,
    "start_time": "2023-03-26T08:42:06.463Z"
   },
   {
    "duration": 443,
    "start_time": "2023-03-26T08:42:06.573Z"
   },
   {
    "duration": 46176,
    "start_time": "2023-03-26T08:42:07.018Z"
   },
   {
    "duration": 14626,
    "start_time": "2023-03-26T08:42:53.199Z"
   },
   {
    "duration": 26,
    "start_time": "2023-03-26T08:43:07.862Z"
   },
   {
    "duration": 257,
    "start_time": "2023-03-26T08:43:07.899Z"
   },
   {
    "duration": 20938,
    "start_time": "2023-03-26T08:43:08.159Z"
   },
   {
    "duration": 11382,
    "start_time": "2023-03-26T08:43:29.100Z"
   },
   {
    "duration": 459,
    "start_time": "2023-03-26T08:43:40.499Z"
   },
   {
    "duration": 750,
    "start_time": "2023-03-26T08:43:40.960Z"
   },
   {
    "duration": 262,
    "start_time": "2023-03-26T08:43:41.713Z"
   }
  ],
  "kernelspec": {
   "display_name": "Python 3 (ipykernel)",
   "language": "python",
   "name": "python3"
  },
  "language_info": {
   "codemirror_mode": {
    "name": "ipython",
    "version": 3
   },
   "file_extension": ".py",
   "mimetype": "text/x-python",
   "name": "python",
   "nbconvert_exporter": "python",
   "pygments_lexer": "ipython3",
   "version": "3.9.5"
  },
  "toc": {
   "base_numbering": 1,
   "nav_menu": {},
   "number_sections": true,
   "sideBar": true,
   "skip_h1_title": true,
   "title_cell": "Содержание",
   "title_sidebar": "Contents",
   "toc_cell": true,
   "toc_position": {},
   "toc_section_display": true,
   "toc_window_display": false
  }
 },
 "nbformat": 4,
 "nbformat_minor": 2
}
